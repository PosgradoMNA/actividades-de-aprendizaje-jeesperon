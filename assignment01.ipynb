{
  "nbformat": 4,
  "nbformat_minor": 0,
  "metadata": {
    "colab": {
      "name": "assignment01.ipynb",
      "provenance": [],
      "toc_visible": true,
      "include_colab_link": true
    },
    "kernelspec": {
      "name": "python3",
      "display_name": "Python 3"
    },
    "language_info": {
      "name": "python"
    }
  },
  "cells": [
    {
      "cell_type": "markdown",
      "metadata": {
        "id": "view-in-github",
        "colab_type": "text"
      },
      "source": [
        "<a href=\"https://colab.research.google.com/github/PosgradoMNA/actividades-de-aprendizaje-jeesperon/blob/main/assignment01.ipynb\" target=\"_parent\"><img src=\"https://colab.research.google.com/assets/colab-badge.svg\" alt=\"Open In Colab\"/></a>"
      ]
    },
    {
      "cell_type": "markdown",
      "source": [
        "# ***Module 1 - Python Basics ***"
      ],
      "metadata": {
        "id": "zOR2vAB-M19Y"
      }
    },
    {
      "cell_type": "markdown",
      "source": [
        "## **First Program**"
      ],
      "metadata": {
        "id": "Q5UqfdY0Omn1"
      }
    },
    {
      "cell_type": "code",
      "execution_count": 12,
      "metadata": {
        "id": "LzUSMM79NR9P",
        "outputId": "0e526bec-1d43-48b0-830d-5686cbbdc045",
        "colab": {
          "base_uri": "https://localhost:8080/"
        }
      },
      "outputs": [
        {
          "output_type": "stream",
          "name": "stdout",
          "text": [
            "assignment01 for GitJobish03 and edited in git, and 18\n",
            "hola mundo\n"
          ]
        }
      ],
      "source": [
        "print('assignment01 for GitJobish03 and edited in git, and 18')\n",
        "print(\"hola mundo\")"
      ]
    },
    {
      "cell_type": "markdown",
      "source": [
        "La función print() permite mostrar el resultado de una operación"
      ],
      "metadata": {
        "id": "2kN-HOIfNdRc"
      }
    },
    {
      "cell_type": "code",
      "source": [
        "print(\"Hola Mundo\")"
      ],
      "metadata": {
        "colab": {
          "base_uri": "https://localhost:8080/"
        },
        "id": "R87rWATxNLID",
        "outputId": "b246981a-0fbc-4c8f-e2dc-5d79aa908a2f"
      },
      "execution_count": 13,
      "outputs": [
        {
          "output_type": "stream",
          "name": "stdout",
          "text": [
            "Hola Mundo\n"
          ]
        }
      ]
    },
    {
      "cell_type": "markdown",
      "source": [
        "Cuando usamos el comando \\n entre dos caracteres entrecomillados, hace un salto de línea"
      ],
      "metadata": {
        "id": "wmN7xZpaN7lf"
      }
    },
    {
      "cell_type": "code",
      "source": [
        "print(\"Hello\\nWorld\")"
      ],
      "metadata": {
        "id": "mxM_WppZPMFx",
        "colab": {
          "base_uri": "https://localhost:8080/"
        },
        "outputId": "56d07745-5dda-4f37-ce41-e6182ddc3628"
      },
      "execution_count": 14,
      "outputs": [
        {
          "output_type": "stream",
          "name": "stdout",
          "text": [
            "Hello\n",
            "World\n"
          ]
        }
      ]
    },
    {
      "cell_type": "markdown",
      "source": [
        "Los comentarios se guardan con el símbolo # al principio de la oración"
      ],
      "metadata": {
        "id": "Gvmao5iwOMKd"
      }
    },
    {
      "cell_type": "code",
      "source": [
        "#Los comentarios se guardan de esta manera"
      ],
      "metadata": {
        "id": "3oyHZ0PpN5N3"
      },
      "execution_count": 15,
      "outputs": []
    },
    {
      "cell_type": "markdown",
      "source": [
        "## **Types**"
      ],
      "metadata": {
        "id": "vyESKfJZTij2"
      }
    },
    {
      "cell_type": "markdown",
      "source": [
        "Se pueden encontrar los tipos de datos con la función `type`."
      ],
      "metadata": {
        "id": "CiX8J7WzToGl"
      }
    },
    {
      "cell_type": "code",
      "source": [
        "type(\"Hello World\")"
      ],
      "metadata": {
        "id": "zcLVq9leT4-G",
        "outputId": "a33aee52-f1e2-47ed-dd3c-2ce9539b32e6",
        "colab": {
          "base_uri": "https://localhost:8080/"
        }
      },
      "execution_count": 9,
      "outputs": [
        {
          "output_type": "execute_result",
          "data": {
            "text/plain": [
              "str"
            ]
          },
          "metadata": {},
          "execution_count": 9
        }
      ]
    },
    {
      "cell_type": "markdown",
      "source": [
        "Type Casting\n",
        "Find the type of the following using the <code>type</code> command"
      ],
      "metadata": {
        "id": "ZyKa0TuGDjOJ"
      }
    },
    {
      "cell_type": "code",
      "source": [
        "type(\"1.1\")"
      ],
      "metadata": {
        "id": "y_TY0JSnDlTZ",
        "outputId": "b3d9ff0e-350a-4d25-aa00-8c4bb11ad2a2",
        "colab": {
          "base_uri": "https://localhost:8080/"
        }
      },
      "execution_count": 10,
      "outputs": [
        {
          "output_type": "execute_result",
          "data": {
            "text/plain": [
              "str"
            ]
          },
          "metadata": {},
          "execution_count": 10
        }
      ]
    },
    {
      "cell_type": "markdown",
      "source": [
        "<h3>Is a number always a number?\n",
        "</h3>\n",
        "Cast the following to an <code>int</code> and then to a <code>bool</code>:"
      ],
      "metadata": {
        "id": "HXhV_qHzDwxE"
      }
    },
    {
      "cell_type": "code",
      "source": [
        "print(int(\"1\"))\n",
        "print(bool(\"1\"))\n",
        "\n",
        "print(bool(\"1\"))"
      ],
      "metadata": {
        "id": "CE4THlC4D-EK",
        "outputId": "f927daaf-afa8-4e0d-cad3-7d0753b69d6a",
        "colab": {
          "base_uri": "https://localhost:8080/"
        }
      },
      "execution_count": 11,
      "outputs": [
        {
          "output_type": "stream",
          "name": "stdout",
          "text": [
            "1\n",
            "True\n",
            "True\n"
          ]
        }
      ]
    },
    {
      "cell_type": "markdown",
      "source": [
        "## **Types**"
      ],
      "metadata": {
        "id": "GcooeyS6EEWo"
      }
    }
  ]
}