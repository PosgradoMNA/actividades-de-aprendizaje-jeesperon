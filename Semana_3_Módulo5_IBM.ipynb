{
  "nbformat": 4,
  "nbformat_minor": 0,
  "metadata": {
    "colab": {
      "provenance": [],
      "authorship_tag": "ABX9TyOl9Ump2hxOpHZlqsXZrRvk",
      "include_colab_link": true
    },
    "kernelspec": {
      "name": "python3",
      "display_name": "Python 3"
    },
    "language_info": {
      "name": "python"
    }
  },
  "cells": [
    {
      "cell_type": "markdown",
      "metadata": {
        "id": "view-in-github",
        "colab_type": "text"
      },
      "source": [
        "<a href=\"https://colab.research.google.com/github/PosgradoMNA/actividades-de-aprendizaje-jeesperon/blob/main/Semana_3_M%C3%B3dulo5_IBM.ipynb\" target=\"_parent\"><img src=\"https://colab.research.google.com/assets/colab-badge.svg\" alt=\"Open In Colab\"/></a>"
      ]
    },
    {
      "cell_type": "markdown",
      "source": [
        "# Módulo 5 IBM"
      ],
      "metadata": {
        "id": "uDyVRZPrKn1a"
      }
    },
    {
      "cell_type": "markdown",
      "source": [
        " ## 1D Numpy in Python"
      ],
      "metadata": {
        "id": "Dy2a6pndKtWR"
      }
    },
    {
      "cell_type": "code",
      "execution_count": 1,
      "metadata": {
        "colab": {
          "base_uri": "https://localhost:8080/"
        },
        "id": "-gAgejdEKgSE",
        "outputId": "28a84b01-1b89-4c90-ef57-c13a82906370"
      },
      "outputs": [
        {
          "output_type": "stream",
          "name": "stdout",
          "text": [
            "a[0]: 0\n",
            "a[1]: 1\n",
            "a[2]: two\n",
            "a[3]: 3\n",
            "a[4]: 4\n"
          ]
        }
      ],
      "source": [
        "# Create a python list\n",
        "\n",
        "a = [\"0\", 1, \"two\", \"3\", 4]\n",
        "# Print each element\n",
        "\n",
        "print(\"a[0]:\", a[0]) #se accede a los datos de una lista con el uso de corchetes y el index de la posición.\n",
        "print(\"a[1]:\", a[1])\n",
        "print(\"a[2]:\", a[2])\n",
        "print(\"a[3]:\", a[3])\n",
        "print(\"a[4]:\", a[4])"
      ]
    },
    {
      "cell_type": "markdown",
      "source": [
        "Numpy: NumPy is a Python library used for working with arrays, linear algebra, fourier transform, and matrices.A numpy array is similar to a list. NumPy stands for Numerical Python and it is an open source project.The array object in NumPy is called **ndarray**, it provides a lot of supporting functions that make working with ndarray very easy.\n",
        "\n",
        "Arrays are very frequently used in data science, where speed and resources are very important.\n",
        "\n",
        "NumPy is usually imported under the np alias.\n",
        "\n",
        "It's usually fixed in size and each element is of the same type. We can cast a list to a numpy array by first importing `numpy`:"
      ],
      "metadata": {
        "id": "I0EDv_auLoJx"
      }
    },
    {
      "cell_type": "code",
      "source": [
        "# import numpy library\n",
        "\n",
        "import numpy as np\n",
        "a = np.array([0, 1, 2, 3, 4]) #creating a numpy array\n",
        "# Print each element\n",
        "\n",
        "print(\"a[0]:\", a[0]) #accedemos a la información de las listas del mismo modo que el ejemplo de lista simple\n",
        "print(\"a[1]:\", a[1])\n",
        "print(\"a[2]:\", a[2])\n",
        "print(\"a[3]:\", a[3])\n",
        "print(\"a[4]:\", a[4])"
      ],
      "metadata": {
        "colab": {
          "base_uri": "https://localhost:8080/"
        },
        "id": "d8Ot9BBrK-wH",
        "outputId": "4530c44d-dc7c-4d7e-ee30-42f088b3e291"
      },
      "execution_count": 2,
      "outputs": [
        {
          "output_type": "stream",
          "name": "stdout",
          "text": [
            "a[0]: 0\n",
            "a[1]: 1\n",
            "a[2]: 2\n",
            "a[3]: 3\n",
            "a[4]: 4\n"
          ]
        }
      ]
    },
    {
      "cell_type": "markdown",
      "source": [
        "###Revisando la versión de numpy"
      ],
      "metadata": {
        "id": "nzwopYXQMi9t"
      }
    },
    {
      "cell_type": "code",
      "source": [
        "print(np.__version__)"
      ],
      "metadata": {
        "colab": {
          "base_uri": "https://localhost:8080/"
        },
        "id": "JPnDdDF-LvcF",
        "outputId": "9a3eacb2-37fc-45bb-a954-f25798587b3f"
      },
      "execution_count": 3,
      "outputs": [
        {
          "output_type": "stream",
          "name": "stdout",
          "text": [
            "1.21.6\n"
          ]
        }
      ]
    },
    {
      "cell_type": "markdown",
      "source": [
        "###Validando los tipos de datos dentro de un arreglo"
      ],
      "metadata": {
        "id": "EIhZ0N07M3_p"
      }
    },
    {
      "cell_type": "code",
      "source": [
        "# Check the type of the array\n",
        "\n",
        "print(type(a))\n",
        "print(a.dtype)\n",
        "b = np.array([3.1, 11.02, 6.2, 213.2, 5.2])\n",
        "\n",
        "# Enter your code here\n",
        "b.dtype"
      ],
      "metadata": {
        "colab": {
          "base_uri": "https://localhost:8080/"
        },
        "id": "Ho6duvfvMlJC",
        "outputId": "9ae987b7-542a-4ad9-ac10-3afffaccbaec"
      },
      "execution_count": 4,
      "outputs": [
        {
          "output_type": "stream",
          "name": "stdout",
          "text": [
            "<class 'numpy.ndarray'>\n",
            "int64\n"
          ]
        },
        {
          "output_type": "execute_result",
          "data": {
            "text/plain": [
              "dtype('float64')"
            ]
          },
          "metadata": {},
          "execution_count": 4
        }
      ]
    },
    {
      "cell_type": "markdown",
      "source": [
        "###Modificar los valores en un arreglo en Numpy"
      ],
      "metadata": {
        "id": "PxYFfAfjNVEK"
      }
    },
    {
      "cell_type": "code",
      "source": [
        "# Create numpy array\n",
        "\n",
        "c = np.array([20, 1, 2, 3, 4])\n",
        "c"
      ],
      "metadata": {
        "colab": {
          "base_uri": "https://localhost:8080/"
        },
        "id": "B7AwdrDZM6ro",
        "outputId": "6e59b182-eb75-4af6-9097-ead948fc5ed1"
      },
      "execution_count": 5,
      "outputs": [
        {
          "output_type": "execute_result",
          "data": {
            "text/plain": [
              "array([20,  1,  2,  3,  4])"
            ]
          },
          "metadata": {},
          "execution_count": 5
        }
      ]
    },
    {
      "cell_type": "code",
      "source": [
        "# Assign the first element to 100\n",
        "\n",
        "c[0] = 100*3\n",
        "c\n",
        "# Assign the 5th element to 0\n",
        "\n",
        "c[4] = 90\n",
        "c"
      ],
      "metadata": {
        "colab": {
          "base_uri": "https://localhost:8080/"
        },
        "id": "Wcp2kGXhNXS8",
        "outputId": "a48bd3e5-9913-4dc4-c998-fe9e1a90ffb1"
      },
      "execution_count": 6,
      "outputs": [
        {
          "output_type": "execute_result",
          "data": {
            "text/plain": [
              "array([300,   1,   2,   3,  90])"
            ]
          },
          "metadata": {},
          "execution_count": 6
        }
      ]
    },
    {
      "cell_type": "markdown",
      "source": [
        "Try it yourself\n",
        "\n",
        "Assign the value 20 for the second element in the given array.\n"
      ],
      "metadata": {
        "id": "J6Ozdg4PO2xL"
      }
    },
    {
      "cell_type": "code",
      "source": [
        "a = np.array([10, 2, 30, 40,50])\n",
        "\n",
        "# Enter your code here\n",
        "a[1]=20\n",
        "a"
      ],
      "metadata": {
        "colab": {
          "base_uri": "https://localhost:8080/"
        },
        "id": "S1UTe-MaOf1k",
        "outputId": "8347efc7-7693-4566-d9fc-f171f4d2f0ab"
      },
      "execution_count": 7,
      "outputs": [
        {
          "output_type": "execute_result",
          "data": {
            "text/plain": [
              "array([10, 20, 30, 40, 50])"
            ]
          },
          "metadata": {},
          "execution_count": 7
        }
      ]
    },
    {
      "cell_type": "markdown",
      "source": [
        "### Slicing in NumPy"
      ],
      "metadata": {
        "id": "vlX1zj4wPFqI"
      }
    },
    {
      "cell_type": "markdown",
      "source": [
        "Like lists, we can slice the numpy array. Slicing in python means taking the elements from the given index to another given index.\n",
        "\n",
        "We pass slice like this: \\[start:end].\n",
        "\n",
        "We can select the elements from 1 to 3 and assign it to a new numpy array <code>d</code> as follows:\n"
      ],
      "metadata": {
        "id": "7Fxw5TxoPYtt"
      }
    },
    {
      "cell_type": "code",
      "source": [
        "# Slicing the numpy array\n",
        "\n",
        "d = c[1:4]\n",
        "d"
      ],
      "metadata": {
        "colab": {
          "base_uri": "https://localhost:8080/"
        },
        "id": "pNpWKRwrO6IK",
        "outputId": "7b449ae0-fc3c-4422-9146-c7069236e7db"
      },
      "execution_count": 8,
      "outputs": [
        {
          "output_type": "execute_result",
          "data": {
            "text/plain": [
              "array([1, 2, 3])"
            ]
          },
          "metadata": {},
          "execution_count": 8
        }
      ]
    },
    {
      "cell_type": "markdown",
      "source": [
        "We can assign the corresponding indexes to new values as follows:"
      ],
      "metadata": {
        "id": "kqYNwu1_PWF-"
      }
    },
    {
      "cell_type": "code",
      "source": [
        "# Set the fourth element and fifth element to 300 and 400\n",
        "\n",
        "c[3:5] = 300, 400\n",
        "c"
      ],
      "metadata": {
        "colab": {
          "base_uri": "https://localhost:8080/"
        },
        "id": "vQ8kyoAiPJKp",
        "outputId": "4c0a6ee2-988b-42e8-9a0c-cce7f40575ff"
      },
      "execution_count": 9,
      "outputs": [
        {
          "output_type": "execute_result",
          "data": {
            "text/plain": [
              "array([300,   1,   2, 300, 400])"
            ]
          },
          "metadata": {},
          "execution_count": 9
        }
      ]
    },
    {
      "cell_type": "markdown",
      "source": [
        "We can also define the steps in slicing, like this: \\[start\\:end:step]."
      ],
      "metadata": {
        "id": "uDSJeD9fPhq6"
      }
    },
    {
      "cell_type": "code",
      "source": [
        "arr = np.array([1, 2, 3, 4, 5, 6, 7])\n",
        "\n",
        "print(arr[1:5:2]) #se considera un paso de 2\n",
        "print(arr[:4]) #trae todos los valores hasta el index 4\n",
        "print(arr[4:]) #trae todos los valores a partir del index 4\n",
        "print(arr[1:5:]) #trae los valores del index 1 al 4 y con un paso de 1 (por defecto al no enunciar un paso)"
      ],
      "metadata": {
        "colab": {
          "base_uri": "https://localhost:8080/"
        },
        "id": "nU66IoqLPUdC",
        "outputId": "59bed851-93ef-4355-b5a9-9c2d60d5ce74"
      },
      "execution_count": 10,
      "outputs": [
        {
          "output_type": "stream",
          "name": "stdout",
          "text": [
            "[2 4]\n",
            "[1 2 3 4]\n",
            "[5 6 7]\n",
            "[2 3 4 5]\n"
          ]
        }
      ]
    },
    {
      "cell_type": "markdown",
      "source": [
        "Print the even elements in the given array."
      ],
      "metadata": {
        "id": "5-2IHLRlRJcx"
      }
    },
    {
      "cell_type": "code",
      "source": [
        "arr = np.array([1, 2, 3, 4, 5, 6, 7, 8])\n",
        "\n",
        "print(arr[1:8:2])\n",
        "# Enter your code here"
      ],
      "metadata": {
        "colab": {
          "base_uri": "https://localhost:8080/"
        },
        "id": "Vw7R3RooRK1Z",
        "outputId": "1b95642c-87dc-462e-9801-3d40360dab07"
      },
      "execution_count": 11,
      "outputs": [
        {
          "output_type": "stream",
          "name": "stdout",
          "text": [
            "[2 4 6 8]\n"
          ]
        }
      ]
    },
    {
      "cell_type": "code",
      "source": [
        "# Create the index list\n",
        "\n",
        "select = [0, 2, 3, 4] #a partir de una lista de index\n",
        "d = c[select] #se pueden seleccionar estos elementos usando una variable que las guarde\n",
        "d"
      ],
      "metadata": {
        "colab": {
          "base_uri": "https://localhost:8080/"
        },
        "id": "u5HQ8uWCPjPX",
        "outputId": "646ee1fb-7216-4e62-fb32-28f33e698f47"
      },
      "execution_count": 12,
      "outputs": [
        {
          "output_type": "execute_result",
          "data": {
            "text/plain": [
              "array([300,   2, 300, 400])"
            ]
          },
          "metadata": {},
          "execution_count": 12
        }
      ]
    },
    {
      "cell_type": "code",
      "source": [
        "# Assign the specified elements to new value, a esos mismos elementos que se sabe están dentro de la variable de los índices\n",
        "\n",
        "c[select] = 100000\n",
        "c"
      ],
      "metadata": {
        "colab": {
          "base_uri": "https://localhost:8080/"
        },
        "id": "csOHUit4SAMH",
        "outputId": "b661cac2-e3e7-4384-9b9d-c60592fd25fe"
      },
      "execution_count": 13,
      "outputs": [
        {
          "output_type": "execute_result",
          "data": {
            "text/plain": [
              "array([100000,      1, 100000, 100000, 100000])"
            ]
          },
          "metadata": {},
          "execution_count": 13
        }
      ]
    },
    {
      "cell_type": "markdown",
      "source": [
        "### Algunos atributos básicos: tamaño, dimensiones y medidas"
      ],
      "metadata": {
        "id": "43gugQ8XSnq8"
      }
    },
    {
      "cell_type": "code",
      "source": [
        "b = np.array([10, 20, 30, 40, 50, 60, 70])\n",
        "print(b.size) #número de elementos que hay en el arreglo\n",
        "print(b.ndim) #número de las dimensiaones del arreglo\n",
        "print(b.shape) #tamaño del arreglo en todas las dimensiones\n"
      ],
      "metadata": {
        "colab": {
          "base_uri": "https://localhost:8080/"
        },
        "id": "zIY5o8PNSOlt",
        "outputId": "1adf549b-e3d8-4a0f-c8cb-26f5e4d38fd4"
      },
      "execution_count": 14,
      "outputs": [
        {
          "output_type": "stream",
          "name": "stdout",
          "text": [
            "7\n",
            "1\n",
            "(7,)\n"
          ]
        }
      ]
    },
    {
      "cell_type": "code",
      "source": [
        "alist = [1,2,4,5,6,7]\n",
        "alist[0]=3\n",
        "alist"
      ],
      "metadata": {
        "colab": {
          "base_uri": "https://localhost:8080/"
        },
        "id": "iB3dSaLMSyJD",
        "outputId": "440c785c-99ad-41f6-c238-cf76cc0994ee"
      },
      "execution_count": 15,
      "outputs": [
        {
          "output_type": "execute_result",
          "data": {
            "text/plain": [
              "[3, 2, 4, 5, 6, 7]"
            ]
          },
          "metadata": {},
          "execution_count": 15
        }
      ]
    },
    {
      "cell_type": "markdown",
      "source": [
        "### Funciones Estadísticas y Operaciones entre arreglos"
      ],
      "metadata": {
        "id": "Oo07lP08RoLT"
      }
    },
    {
      "cell_type": "code",
      "source": [
        "# Create a numpy array\n",
        "\n",
        "a = np.array([10, 20, 30, 40])\n",
        "print(a.mean())\n",
        "print(a.std())\n",
        "b = np.array([-1, 2, 3, 4, 5])\n",
        "print(b.max())\n",
        "print(b.min())"
      ],
      "metadata": {
        "colab": {
          "base_uri": "https://localhost:8080/"
        },
        "id": "4_SYeO2yRTtV",
        "outputId": "22a36e08-890e-4891-d63d-b50bab24bacf"
      },
      "execution_count": 16,
      "outputs": [
        {
          "output_type": "stream",
          "name": "stdout",
          "text": [
            "25.0\n",
            "11.180339887498949\n",
            "5\n",
            "-1\n"
          ]
        }
      ]
    },
    {
      "cell_type": "code",
      "source": [
        "c = np.array([-10, 201, 43, 94, 502])\n",
        "MaxMin = c.min() + c.max()\n",
        "MaxMin\n",
        "# Enter your code here"
      ],
      "metadata": {
        "colab": {
          "base_uri": "https://localhost:8080/"
        },
        "id": "cOlUDozhR7Ox",
        "outputId": "2e6fda23-a6fc-4012-ccc4-5e9b4aa4813b"
      },
      "execution_count": 17,
      "outputs": [
        {
          "output_type": "execute_result",
          "data": {
            "text/plain": [
              "492"
            ]
          },
          "metadata": {},
          "execution_count": 17
        }
      ]
    },
    {
      "cell_type": "markdown",
      "source": [
        "Suma de arreglos"
      ],
      "metadata": {
        "id": "mtu4j9TmS1kf"
      }
    },
    {
      "cell_type": "code",
      "source": [
        "u = np.array([12, 13])\n",
        "v = np.array([3, 2])\n",
        "z = np.add(u, v)\n",
        "z"
      ],
      "metadata": {
        "colab": {
          "base_uri": "https://localhost:8080/"
        },
        "id": "VJnyy1SFSiGG",
        "outputId": "cc9350b9-cd0d-42dc-d36d-b997b77c9425"
      },
      "execution_count": 18,
      "outputs": [
        {
          "output_type": "execute_result",
          "data": {
            "text/plain": [
              "array([15, 15])"
            ]
          },
          "metadata": {},
          "execution_count": 18
        }
      ]
    },
    {
      "cell_type": "code",
      "source": [
        "arr1 = np.array([10, 11, 12, 13, 14, 15])\n",
        "arr2 = np.array([20, 21, 22, 23, 24, 25])\n",
        "sumatoria = np.add(arr1,arr2)\n",
        "sumatoria"
      ],
      "metadata": {
        "colab": {
          "base_uri": "https://localhost:8080/"
        },
        "id": "z8njJnXDS0l5",
        "outputId": "8eb60397-e22f-46c9-cc01-47a20bee450c"
      },
      "execution_count": 19,
      "outputs": [
        {
          "output_type": "execute_result",
          "data": {
            "text/plain": [
              "array([30, 32, 34, 36, 38, 40])"
            ]
          },
          "metadata": {},
          "execution_count": 19
        }
      ]
    },
    {
      "cell_type": "markdown",
      "source": [
        "Resta entre arreglos"
      ],
      "metadata": {
        "id": "11UA_oPjTcTT"
      }
    },
    {
      "cell_type": "code",
      "source": [
        "a = np.array([10, 20, 30])\n",
        "b = np.array([5, 10, 15])\n",
        "c = np.subtract(a, b) #al primer elemento le extraes el segundo\n",
        "c"
      ],
      "metadata": {
        "colab": {
          "base_uri": "https://localhost:8080/"
        },
        "id": "VETQVpsmTWaD",
        "outputId": "e502de04-10dc-40e4-cb8d-840814ba1d12"
      },
      "execution_count": 20,
      "outputs": [
        {
          "output_type": "execute_result",
          "data": {
            "text/plain": [
              "array([ 5, 10, 15])"
            ]
          },
          "metadata": {},
          "execution_count": 20
        }
      ]
    },
    {
      "cell_type": "code",
      "source": [
        "arr1 = np.array([10, 20, 30, 40, 50, 60])\n",
        "arr2 = np.array([20, 21, 22, 23, 24, 25])\n",
        "resta = np.subtract(arr1,arr2)\n",
        "resta\n",
        "# Enter your code her"
      ],
      "metadata": {
        "colab": {
          "base_uri": "https://localhost:8080/"
        },
        "id": "M88dxEnUTbOU",
        "outputId": "a2377642-6bcc-4863-e315-e6a01bd6e1af"
      },
      "execution_count": 21,
      "outputs": [
        {
          "output_type": "execute_result",
          "data": {
            "text/plain": [
              "array([-10,  -1,   8,  17,  26,  35])"
            ]
          },
          "metadata": {},
          "execution_count": 21
        }
      ]
    },
    {
      "cell_type": "code",
      "source": [
        "x = np.array([2, 2])\n",
        "y = np.array([2, 1])\n",
        "z = np.multiply(x, y)\n",
        "z"
      ],
      "metadata": {
        "colab": {
          "base_uri": "https://localhost:8080/"
        },
        "id": "m3MfVdXkTwbg",
        "outputId": "a7fe6201-b198-46b8-d71e-02740aa33868"
      },
      "execution_count": 22,
      "outputs": [
        {
          "output_type": "execute_result",
          "data": {
            "text/plain": [
              "array([4, 2])"
            ]
          },
          "metadata": {},
          "execution_count": 22
        }
      ]
    },
    {
      "cell_type": "code",
      "source": [
        "arr1 = np.array([10, 20, 30, 40, 50, 60])\n",
        "arr2 = np.array([2, 1, 2, 3, 4, 5])\n",
        "\n",
        "mult = np.multiply(arr1,arr2)\n",
        "mult\n",
        "# Enter your code here"
      ],
      "metadata": {
        "colab": {
          "base_uri": "https://localhost:8080/"
        },
        "id": "lAh84amST8Zz",
        "outputId": "dd02de56-54c4-4cad-df73-ecd3d50756f7"
      },
      "execution_count": 23,
      "outputs": [
        {
          "output_type": "execute_result",
          "data": {
            "text/plain": [
              "array([ 20,  20,  60, 120, 200, 300])"
            ]
          },
          "metadata": {},
          "execution_count": 23
        }
      ]
    },
    {
      "cell_type": "code",
      "source": [
        "a = np.array([10, 20, 30])\n",
        "b = np.array([2, 10, 5]) #considera que el primer elemento es dividido entre el segundo\n",
        "c = np.divide(a, b)\n",
        "c"
      ],
      "metadata": {
        "colab": {
          "base_uri": "https://localhost:8080/"
        },
        "id": "BFuA8RDlUFYh",
        "outputId": "b5c812d4-e22a-41f3-8bd8-a23da27e2470"
      },
      "execution_count": 24,
      "outputs": [
        {
          "output_type": "execute_result",
          "data": {
            "text/plain": [
              "array([5., 2., 6.])"
            ]
          },
          "metadata": {},
          "execution_count": 24
        }
      ]
    },
    {
      "cell_type": "code",
      "source": [
        "arr1 = np.array([10, 20, 30, 40, 50, 60])\n",
        "arr2 = np.array([3, 5, 10, 8, 2, 33])\n",
        "\n",
        "div = np.divide(arr1,arr2)\n",
        "div\n",
        "# Enter your code here"
      ],
      "metadata": {
        "colab": {
          "base_uri": "https://localhost:8080/"
        },
        "id": "gG4QBw-cUOeR",
        "outputId": "df2965f8-00f5-4164-95c1-34ef4f177d9e"
      },
      "execution_count": 25,
      "outputs": [
        {
          "output_type": "execute_result",
          "data": {
            "text/plain": [
              "array([ 3.33333333,  4.        ,  3.        ,  5.        , 25.        ,\n",
              "        1.81818182])"
            ]
          },
          "metadata": {},
          "execution_count": 25
        }
      ]
    },
    {
      "cell_type": "markdown",
      "source": [
        "Producto Cruz"
      ],
      "metadata": {
        "id": "kUQdFwRRUpHM"
      }
    },
    {
      "cell_type": "code",
      "source": [
        "X = np.array([1, 2, 3])\n",
        "Y = np.array([3, 2, 4])\n",
        "np.dot(X, Y)"
      ],
      "metadata": {
        "colab": {
          "base_uri": "https://localhost:8080/"
        },
        "id": "Jdyk75qEUac7",
        "outputId": "9c8dd60b-ffbb-46ea-a337-9e35b9bc3420"
      },
      "execution_count": 26,
      "outputs": [
        {
          "output_type": "execute_result",
          "data": {
            "text/plain": [
              "19"
            ]
          },
          "metadata": {},
          "execution_count": 26
        }
      ]
    },
    {
      "cell_type": "markdown",
      "source": [
        "<img src =\"https://cf-courses-data.s3.us.cloud-object-storage.appdomain.cloud/IBMDeveloperSkillsNetwork-PY0101EN-SkillsNetwork/labs/Module%205/images/dot1.png\"/>\n"
      ],
      "metadata": {
        "id": "Fgq5N8uwUw-P"
      }
    },
    {
      "cell_type": "code",
      "source": [
        "arr1 = np.array([3, 5])\n",
        "arr2 = np.array([2, 4])\n",
        "\n",
        "pt = np.dot(arr1,arr2)\n",
        "pt\n",
        "# Enter your code here\n"
      ],
      "metadata": {
        "colab": {
          "base_uri": "https://localhost:8080/"
        },
        "id": "2U0a76lRUuvf",
        "outputId": "66038b5d-3ec4-4ecf-c8c6-31d7d9815d6f"
      },
      "execution_count": 27,
      "outputs": [
        {
          "output_type": "execute_result",
          "data": {
            "text/plain": [
              "26"
            ]
          },
          "metadata": {},
          "execution_count": 27
        }
      ]
    },
    {
      "cell_type": "code",
      "source": [
        "u = np.array([1, 2, 3, -1]) \n",
        "u + 1 #se suma el +1 a cada elemento del arreglo"
      ],
      "metadata": {
        "colab": {
          "base_uri": "https://localhost:8080/"
        },
        "id": "ykWiAgMzVL_u",
        "outputId": "5dd682e4-27f8-4ef2-e79d-4f52938def0e"
      },
      "execution_count": 28,
      "outputs": [
        {
          "output_type": "execute_result",
          "data": {
            "text/plain": [
              "array([2, 3, 4, 0])"
            ]
          },
          "metadata": {},
          "execution_count": 28
        }
      ]
    },
    {
      "cell_type": "code",
      "source": [
        "arr = np.array([1, 2, 3, -1]) \n",
        "arr + 5\n",
        "# Enter your code here"
      ],
      "metadata": {
        "colab": {
          "base_uri": "https://localhost:8080/"
        },
        "id": "o-BAmVx6VTDk",
        "outputId": "ef044474-cffc-4776-f3b7-38d5482e7f34"
      },
      "execution_count": 29,
      "outputs": [
        {
          "output_type": "execute_result",
          "data": {
            "text/plain": [
              "array([6, 7, 8, 4])"
            ]
          },
          "metadata": {},
          "execution_count": 29
        }
      ]
    },
    {
      "cell_type": "markdown",
      "source": [
        "### Funciones matemáticas"
      ],
      "metadata": {
        "id": "pH7X2IHCVeo6"
      }
    },
    {
      "cell_type": "code",
      "source": [
        "# The value of pi\n",
        "\n",
        "np.pi"
      ],
      "metadata": {
        "colab": {
          "base_uri": "https://localhost:8080/"
        },
        "id": "IHGkyqPsVa22",
        "outputId": "a027a9cb-1d7f-465d-cf5b-a0ce6973a55f"
      },
      "execution_count": 30,
      "outputs": [
        {
          "output_type": "execute_result",
          "data": {
            "text/plain": [
              "3.141592653589793"
            ]
          },
          "metadata": {},
          "execution_count": 30
        }
      ]
    },
    {
      "cell_type": "code",
      "source": [
        "# Create the numpy array in radians\n",
        "\n",
        "x = np.array([0, np.pi/2 , np.pi])"
      ],
      "metadata": {
        "id": "1ff9Ja3iVgvn"
      },
      "execution_count": 31,
      "outputs": []
    },
    {
      "cell_type": "code",
      "source": [
        "# Calculate the sin of each elements\n",
        "\n",
        "y = np.sin(x)\n",
        "y"
      ],
      "metadata": {
        "colab": {
          "base_uri": "https://localhost:8080/"
        },
        "id": "CPrDWT5fVii-",
        "outputId": "cf7664e0-ecff-42cd-93bc-b388fe388ee7"
      },
      "execution_count": 32,
      "outputs": [
        {
          "output_type": "execute_result",
          "data": {
            "text/plain": [
              "array([0.0000000e+00, 1.0000000e+00, 1.2246468e-16])"
            ]
          },
          "metadata": {},
          "execution_count": 32
        }
      ]
    },
    {
      "cell_type": "code",
      "source": [],
      "metadata": {
        "id": "RrES8e7AVlJV"
      },
      "execution_count": 32,
      "outputs": []
    },
    {
      "cell_type": "markdown",
      "source": [
        "### Linspace"
      ],
      "metadata": {
        "id": "dFIvkpUbWKI6"
      }
    },
    {
      "cell_type": "markdown",
      "source": [
        "A useful function for plotting mathematical functions is linspace. Linspace returns evenly spaced numbers over a specified interval.\n",
        "\n",
        "numpy.linspace(start, stop, num = int value)\n",
        "\n",
        "start : start of interval range\n",
        "\n",
        "stop : end of interval range\n",
        "\n",
        "num : Number of samples to generate.\n"
      ],
      "metadata": {
        "id": "Or9Kg9t-WOOP"
      }
    },
    {
      "cell_type": "code",
      "source": [
        "# Makeup a numpy array within [-2, 2] and 5 elements\n",
        "\n",
        "np.linspace(-100, 100, 5) "
      ],
      "metadata": {
        "colab": {
          "base_uri": "https://localhost:8080/"
        },
        "id": "CBMuepx8WMC5",
        "outputId": "4d6899ba-29a3-4927-a6bc-d80e452b48bc"
      },
      "execution_count": 33,
      "outputs": [
        {
          "output_type": "execute_result",
          "data": {
            "text/plain": [
              "array([-100.,  -50.,    0.,   50.,  100.])"
            ]
          },
          "metadata": {},
          "execution_count": 33
        }
      ]
    },
    {
      "cell_type": "code",
      "source": [
        "# Make a numpy array within [-2, 2] and 9 elements\n",
        "\n",
        "np.linspace(-2, 2, num=9)"
      ],
      "metadata": {
        "colab": {
          "base_uri": "https://localhost:8080/"
        },
        "id": "PGWsYuxVWP-R",
        "outputId": "9742a096-2926-4a6f-d8dc-45c74e2f743a"
      },
      "execution_count": 34,
      "outputs": [
        {
          "output_type": "execute_result",
          "data": {
            "text/plain": [
              "array([-2. , -1.5, -1. , -0.5,  0. ,  0.5,  1. ,  1.5,  2. ])"
            ]
          },
          "metadata": {},
          "execution_count": 34
        }
      ]
    },
    {
      "cell_type": "code",
      "source": [
        "# Enter your code here\n",
        "six = np.linspace(5,4,6)\n",
        "six"
      ],
      "metadata": {
        "colab": {
          "base_uri": "https://localhost:8080/"
        },
        "id": "ECWsRXOSWrys",
        "outputId": "84bd495e-7145-47cd-e0a5-a7f54c03693f"
      },
      "execution_count": 35,
      "outputs": [
        {
          "output_type": "execute_result",
          "data": {
            "text/plain": [
              "array([5. , 4.8, 4.6, 4.4, 4.2, 4. ])"
            ]
          },
          "metadata": {},
          "execution_count": 35
        }
      ]
    },
    {
      "cell_type": "code",
      "source": [
        "# Make a numpy array within [0, 2π] and 100 elements \n",
        "import matplotlib.pyplot as plt\n",
        "x = np.linspace(0, 2*np.pi, num=100)\n",
        "y = np.sin(x)\n",
        "plt.plot(x, y)"
      ],
      "metadata": {
        "colab": {
          "base_uri": "https://localhost:8080/",
          "height": 106
        },
        "id": "26T1IBr0XEAH",
        "outputId": "1ea2bd94-9eb4-468c-d5d6-c399c5698fdc"
      },
      "execution_count": 36,
      "outputs": [
        {
          "output_type": "execute_result",
          "data": {
            "text/plain": [
              "[<matplotlib.lines.Line2D at 0x7f6fd316a110>]"
            ]
          },
          "metadata": {},
          "execution_count": 36
        },
        {
          "output_type": "display_data",
          "data": {
            "text/plain": [
              "<Figure size 432x288 with 1 Axes>"
            ],
            "image/png": "[encoded data removed]"
          },
          "metadata": {
            "needs_background": "light"
          }
        }
      ]
    },
    {
      "cell_type": "markdown",
      "source": [
        "### Quiz on Numpy"
      ],
      "metadata": {
        "id": "y244wvhiXwbn"
      }
    },
    {
      "cell_type": "markdown",
      "source": [
        "Implement the following vector subtraction in numpy: u-v"
      ],
      "metadata": {
        "id": "nYkdxhb_X5GK"
      }
    },
    {
      "cell_type": "code",
      "source": [
        "# Write your code below and press Shift+Enter to execute\n",
        "\n",
        "u = np.array([1, 0])\n",
        "v = np.array([0, 1])\n",
        "w = np.subtract(u,v)\n",
        "w"
      ],
      "metadata": {
        "colab": {
          "base_uri": "https://localhost:8080/"
        },
        "id": "c4uSXCM-XNWt",
        "outputId": "75584a17-101e-43a7-edfe-25de45c8fa93"
      },
      "execution_count": 37,
      "outputs": [
        {
          "output_type": "execute_result",
          "data": {
            "text/plain": [
              "array([ 1, -1])"
            ]
          },
          "metadata": {},
          "execution_count": 37
        }
      ]
    },
    {
      "cell_type": "markdown",
      "source": [
        "Multiply the numpy array z with -2:"
      ],
      "metadata": {
        "id": "gHq-HjAYX62p"
      }
    },
    {
      "cell_type": "code",
      "source": [
        "# Write your code below and press Shift+Enter to execute\n",
        "\n",
        "z = np.array([2, 4])\n",
        "z*-2"
      ],
      "metadata": {
        "colab": {
          "base_uri": "https://localhost:8080/"
        },
        "id": "XZ4EcjdmXy-6",
        "outputId": "10e3635a-ea11-4ef2-ccc6-a0f675aa1d93"
      },
      "execution_count": 38,
      "outputs": [
        {
          "output_type": "execute_result",
          "data": {
            "text/plain": [
              "array([-4, -8])"
            ]
          },
          "metadata": {},
          "execution_count": 38
        }
      ]
    },
    {
      "cell_type": "markdown",
      "source": [
        "Consider the list <code>\\[1, 2, 3, 4, 5]</code> and <code>\\[1, 0, 1, 0, 1]</code>. Cast both lists to a numpy array then multiply them together:"
      ],
      "metadata": {
        "id": "jDNLnPE2YdWx"
      }
    },
    {
      "cell_type": "code",
      "source": [
        "# Write your code below and press Shift+Enter to execute\n",
        "arr1 = np.array([1, 2, 3, 4, 5])\n",
        "arr2 = np.array([1,0,1,0,1])\n",
        "arr3 = np.multiply(arr1,arr2)\n",
        "arr3"
      ],
      "metadata": {
        "colab": {
          "base_uri": "https://localhost:8080/"
        },
        "id": "ih9ZxRFWYbCu",
        "outputId": "8185d4fa-c78a-497d-cb89-3010c207c4cc"
      },
      "execution_count": 39,
      "outputs": [
        {
          "output_type": "execute_result",
          "data": {
            "text/plain": [
              "array([1, 0, 3, 0, 5])"
            ]
          },
          "metadata": {},
          "execution_count": 39
        }
      ]
    },
    {
      "cell_type": "code",
      "source": [
        "# Import the libraries\n",
        "\n",
        "import time \n",
        "import sys\n",
        "import numpy as np \n",
        "\n",
        "import matplotlib.pyplot as plt\n",
        "%matplotlib inline  \n",
        "\n",
        "def Plotvec2(a,b):\n",
        "    ax = plt.axes()# to generate the full window axes\n",
        "    ax.arrow(0, 0, *a, head_width=0.05, color ='r', head_length=0.1)#Add an arrow to the  a Axes with arrow head width 0.05, color red and arrow head length 0.1\n",
        "    plt.text(*(a + 0.1), 'a')\n",
        "    ax.arrow(0, 0, *b, head_width=0.05, color ='b', head_length=0.1)#Add an arrow to the  b Axes with arrow head width 0.05, color blue and arrow head length 0.1\n",
        "    plt.text(*(b + 0.1), 'b')\n",
        "    plt.ylim(-2, 2)#set the ylim to bottom(-2), top(2)\n",
        "    plt.xlim(-2, 2)#set the xlim to left(-2), right(2)\n",
        "    \n",
        "    "
      ],
      "metadata": {
        "id": "FzxC1DMcYbq0"
      },
      "execution_count": 40,
      "outputs": []
    },
    {
      "cell_type": "code",
      "source": [
        "# Write your code below and press Shift+Enter to execute\n",
        "a = np.array([-1,1])\n",
        "b = np.array([1,1])\n",
        "Plotvec2(a,b)\n",
        "np.dot(a,b)"
      ],
      "metadata": {
        "colab": {
          "base_uri": "https://localhost:8080/",
          "height": 72
        },
        "id": "DNAr-hmVaDUL",
        "outputId": "12225893-ec19-4ce8-aba5-9384693db185"
      },
      "execution_count": 41,
      "outputs": [
        {
          "output_type": "execute_result",
          "data": {
            "text/plain": [
              "0"
            ]
          },
          "metadata": {},
          "execution_count": 41
        },
        {
          "output_type": "display_data",
          "data": {
            "text/plain": [
              "<Figure size 432x288 with 1 Axes>"
            ],
            "image/png": "[encoded data removed]"
          },
          "metadata": {
            "needs_background": "light"
          }
        }
      ]
    },
    {
      "cell_type": "code",
      "source": [
        "# Write your code below and press Shift+Enter to execute\n",
        "a = np.array([1,0])\n",
        "b = np.array([0,1])\n",
        "Plotvec2(a,b)\n",
        "np.dot(a,b)"
      ],
      "metadata": {
        "colab": {
          "base_uri": "https://localhost:8080/",
          "height": 72
        },
        "id": "Hor0WZrBaEuj",
        "outputId": "ee7856f1-430b-4f31-c85a-a656ccc2bd58"
      },
      "execution_count": 42,
      "outputs": [
        {
          "output_type": "execute_result",
          "data": {
            "text/plain": [
              "0"
            ]
          },
          "metadata": {},
          "execution_count": 42
        },
        {
          "output_type": "display_data",
          "data": {
            "text/plain": [
              "<Figure size 432x288 with 1 Axes>"
            ],
            "image/png": "[encoded data removed]"
          },
          "metadata": {
            "needs_background": "light"
          }
        }
      ]
    },
    {
      "cell_type": "code",
      "source": [
        "# Write your code below and press Shift+Enter to execute\n",
        "a = np.array([1,1])\n",
        "b = np.array([0,1])\n",
        "Plotvec2(a,b)\n",
        "np.dot(a,b)"
      ],
      "metadata": {
        "colab": {
          "base_uri": "https://localhost:8080/",
          "height": 72
        },
        "id": "iFVvFXdfaGBf",
        "outputId": "dc8cdb19-6700-48a2-e6f6-c6f689245166"
      },
      "execution_count": 43,
      "outputs": [
        {
          "output_type": "execute_result",
          "data": {
            "text/plain": [
              "1"
            ]
          },
          "metadata": {},
          "execution_count": 43
        },
        {
          "output_type": "display_data",
          "data": {
            "text/plain": [
              "<Figure size 432x288 with 1 Axes>"
            ],
            "image/png": "[encoded data removed]"
          },
          "metadata": {
            "needs_background": "light"
          }
        }
      ]
    },
    {
      "cell_type": "markdown",
      "source": [
        "Convert the list <code>\\[1, 2, 3]</code> and <code>\\[8, 9, 10]</code> to numpy arrays <code>arr1</code> and <code>arr2</code>. Then perform <code>Addition</code> , <code>Subtraction</code> , <code>Multiplication</code> , <code>Division</code> and <code>Dot Operation</code> on the <code>arr1</code> and <code>arr2</code>."
      ],
      "metadata": {
        "id": "bDet8-XMa_0G"
      }
    },
    {
      "cell_type": "code",
      "source": [
        "# Write your code below and press Shift+Enter to execute\n",
        "arr1 = np.array([1,2,3])\n",
        "arr2 = np.array([8,9,10])\n",
        "print('Addition: ', arr1 + arr2)\n",
        "print('Subtraction: ', arr1 - arr2)\n",
        "print('multiplication: ', arr1 * arr2)\n",
        "print('Division: ', arr1 / arr2)\n",
        "print('Dot Operation: ', np.dot(arr1,arr2))"
      ],
      "metadata": {
        "colab": {
          "base_uri": "https://localhost:8080/"
        },
        "id": "EqcrlQ6HaHYa",
        "outputId": "48e37072-b9b8-4725-fffa-8983455ed39e"
      },
      "execution_count": 44,
      "outputs": [
        {
          "output_type": "stream",
          "name": "stdout",
          "text": [
            "Addition:  [ 9 11 13]\n",
            "Subtraction:  [-7 -7 -7]\n",
            "multiplication:  [ 8 18 30]\n",
            "Division:  [0.125      0.22222222 0.3       ]\n",
            "Dot Operation:  56\n"
          ]
        }
      ]
    },
    {
      "cell_type": "markdown",
      "source": [
        "Convert the list <code>\\[1, 2, 3, 4, 5]</code> and <code>\\[6, 7, 8, 9, 10]</code> to numpy arrays <code>arr1</code> and <code>arr2</code>. Then find the even and odd numbers from <code>arr1</code> and <code>arr2</code>."
      ],
      "metadata": {
        "id": "UjJZ-OecbD4d"
      }
    },
    {
      "cell_type": "code",
      "source": [
        "arr1 = np.array([1,2,3,4,5])\n",
        "arr2 = np.array([6,7,8,9,10])\n",
        "print('Even numbers from array1: ', arr1[1::2])\n",
        "print('Odd numbers from array1: ', arr1[0::2])\n",
        "print('Even numbers from array2: ', arr2[0::2])\n",
        "print('Odd numbers from array2: ', arr2[1::2])"
      ],
      "metadata": {
        "colab": {
          "base_uri": "https://localhost:8080/"
        },
        "id": "q78RHzgxbAna",
        "outputId": "92ac55ec-5fcc-4b6b-83be-f81eb53350ff"
      },
      "execution_count": 45,
      "outputs": [
        {
          "output_type": "stream",
          "name": "stdout",
          "text": [
            "Even numbers from array1:  [2 4]\n",
            "Odd numbers from array1:  [1 3 5]\n",
            "Even numbers from array2:  [ 6  8 10]\n",
            "Odd numbers from array2:  [7 9]\n"
          ]
        }
      ]
    },
    {
      "cell_type": "code",
      "source": [],
      "metadata": {
        "id": "jjVw_Oe7b5AZ"
      },
      "execution_count": 45,
      "outputs": []
    },
    {
      "cell_type": "markdown",
      "source": [
        "## 2D Numpy in Python"
      ],
      "metadata": {
        "id": "unvxfxModF4R"
      }
    },
    {
      "cell_type": "code",
      "source": [
        "# Import the libraries\n",
        "\n",
        "import numpy as np \n",
        "import matplotlib.pyplot as plt"
      ],
      "metadata": {
        "id": "1C9t7gF4dGzu"
      },
      "execution_count": 63,
      "outputs": []
    },
    {
      "cell_type": "code",
      "source": [
        "# Create a list\n",
        "\n",
        "a = [[11, 12, 13], [21, 22, 23], [31, 32, 33]]\n",
        "A = np.array(a)\n",
        "print('Este es el arreglo A: ', A, '\\n')\n",
        "print('Esta es la cantidad de dimensiones en A: ', A.ndim)\n",
        "print('Este es el tamaño de A en sus dimensiones: ', A.shape)\n",
        "print('Este es el tamaño de elementos en A: ', A.size)"
      ],
      "metadata": {
        "colab": {
          "base_uri": "https://localhost:8080/"
        },
        "id": "9OUaEIDldMCo",
        "outputId": "f7ed1913-ad1d-4ade-d519-0ac151fe222a"
      },
      "execution_count": 64,
      "outputs": [
        {
          "output_type": "stream",
          "name": "stdout",
          "text": [
            "Este es el arreglo A:  [[11 12 13]\n",
            " [21 22 23]\n",
            " [31 32 33]] \n",
            "\n",
            "Esta es la cantidad de dimensiones en A:  2\n",
            "Este es el tamaño de A en sus dimensiones:  (3, 3)\n",
            "Este es el tamaño de elementos en A:  9\n"
          ]
        }
      ]
    },
    {
      "cell_type": "code",
      "source": [
        "# Access the element on the second row and third column\n",
        "\n",
        "A[1, 2]"
      ],
      "metadata": {
        "colab": {
          "base_uri": "https://localhost:8080/"
        },
        "id": "wl9pUvr7dPyA",
        "outputId": "725bf1ea-79ac-497f-ad28-d29c7f02a60f"
      },
      "execution_count": 65,
      "outputs": [
        {
          "output_type": "execute_result",
          "data": {
            "text/plain": [
              "23"
            ]
          },
          "metadata": {},
          "execution_count": 65
        }
      ]
    },
    {
      "cell_type": "code",
      "source": [
        "# Access the element on the second row and third column\n",
        "\n",
        "A[1][2]"
      ],
      "metadata": {
        "colab": {
          "base_uri": "https://localhost:8080/"
        },
        "id": "s6oFSHkze2on",
        "outputId": "061b0775-12bc-4405-fbee-2e23650aff1b"
      },
      "execution_count": 66,
      "outputs": [
        {
          "output_type": "execute_result",
          "data": {
            "text/plain": [
              "23"
            ]
          },
          "metadata": {},
          "execution_count": 66
        }
      ]
    },
    {
      "cell_type": "code",
      "source": [
        "# Access the element on the first row and first and second columns\n",
        "\n",
        "A[0,0:2]"
      ],
      "metadata": {
        "colab": {
          "base_uri": "https://localhost:8080/"
        },
        "id": "5gxFfUu0e5xG",
        "outputId": "d37213c5-5e09-4cdc-b063-5b3e2226ffd6"
      },
      "execution_count": 67,
      "outputs": [
        {
          "output_type": "execute_result",
          "data": {
            "text/plain": [
              "array([11, 12])"
            ]
          },
          "metadata": {},
          "execution_count": 67
        }
      ]
    },
    {
      "cell_type": "code",
      "source": [
        "# Access the element on the first and second rows and third column\n",
        "\n",
        "A[0:2, 2]"
      ],
      "metadata": {
        "colab": {
          "base_uri": "https://localhost:8080/"
        },
        "id": "LICo3SFwfXXJ",
        "outputId": "9ea4facd-6b55-4fde-8ce3-2403495b5d8e"
      },
      "execution_count": 68,
      "outputs": [
        {
          "output_type": "execute_result",
          "data": {
            "text/plain": [
              "array([13, 23])"
            ]
          },
          "metadata": {},
          "execution_count": 68
        }
      ]
    },
    {
      "cell_type": "code",
      "source": [
        "X = np.array([[1, 0], [0, 1]]) \n",
        "Y = np.array([[2, 1], [1, 2]]) \n",
        "Z = X + Y\n",
        "Z"
      ],
      "metadata": {
        "colab": {
          "base_uri": "https://localhost:8080/"
        },
        "id": "jOhgerOAfeJp",
        "outputId": "a2e61d54-b8c2-490e-bb7d-ce534922ddee"
      },
      "execution_count": 69,
      "outputs": [
        {
          "output_type": "execute_result",
          "data": {
            "text/plain": [
              "array([[3, 1],\n",
              "       [1, 3]])"
            ]
          },
          "metadata": {},
          "execution_count": 69
        }
      ]
    },
    {
      "cell_type": "code",
      "source": [
        "Y = np.array([[2, 1], [1, 2]]) \n",
        "Z = 2 * Y\n",
        "Z"
      ],
      "metadata": {
        "colab": {
          "base_uri": "https://localhost:8080/"
        },
        "id": "BECkvzJVgNg2",
        "outputId": "0efd8078-c165-46fc-c3db-ba2e5e97fa6e"
      },
      "execution_count": 70,
      "outputs": [
        {
          "output_type": "execute_result",
          "data": {
            "text/plain": [
              "array([[4, 2],\n",
              "       [2, 4]])"
            ]
          },
          "metadata": {},
          "execution_count": 70
        }
      ]
    },
    {
      "cell_type": "code",
      "source": [
        "Y = np.array([[2, 1], [1, 2]]) \n",
        "X = np.array([[1, 0], [0, 1]]) \n",
        "Z = X * Y\n",
        "Z"
      ],
      "metadata": {
        "colab": {
          "base_uri": "https://localhost:8080/"
        },
        "id": "qiTtgSHkgRVF",
        "outputId": "e17c1db3-7c9b-40b4-b0c7-8982a725ca6f"
      },
      "execution_count": 71,
      "outputs": [
        {
          "output_type": "execute_result",
          "data": {
            "text/plain": [
              "array([[2, 0],\n",
              "       [0, 2]])"
            ]
          },
          "metadata": {},
          "execution_count": 71
        }
      ]
    },
    {
      "cell_type": "code",
      "source": [
        "A = np.array([[0, 1, 1], [1, 0, 1]])\n",
        "print(A, '\\n')\n",
        "B = np.array([[1, 1], [1, 1], [-1, 1]])\n",
        "print(B, '\\n')\n",
        "Z = np.dot(A,B)\n",
        "Z"
      ],
      "metadata": {
        "colab": {
          "base_uri": "https://localhost:8080/"
        },
        "id": "dME0r4UjgWbv",
        "outputId": "2b91f157-1600-4668-9078-d3d23f0cd2cd"
      },
      "execution_count": 72,
      "outputs": [
        {
          "output_type": "stream",
          "name": "stdout",
          "text": [
            "[[0 1 1]\n",
            " [1 0 1]] \n",
            "\n",
            "[[ 1  1]\n",
            " [ 1  1]\n",
            " [-1  1]] \n",
            "\n"
          ]
        },
        {
          "output_type": "execute_result",
          "data": {
            "text/plain": [
              "array([[0, 2],\n",
              "       [0, 2]])"
            ]
          },
          "metadata": {},
          "execution_count": 72
        }
      ]
    },
    {
      "cell_type": "code",
      "source": [
        "# Create a matrix C\n",
        "\n",
        "C = np.array([[1,1],[2,2],[3,3]])\n",
        "# Get the transposed of C\n",
        "print(C, '\\n')\n",
        "C.T"
      ],
      "metadata": {
        "colab": {
          "base_uri": "https://localhost:8080/"
        },
        "id": "KciFjjSlgbe-",
        "outputId": "665dd199-4de8-483a-9555-7fdc196bcb51"
      },
      "execution_count": 73,
      "outputs": [
        {
          "output_type": "stream",
          "name": "stdout",
          "text": [
            "[[1 1]\n",
            " [2 2]\n",
            " [3 3]] \n",
            "\n"
          ]
        },
        {
          "output_type": "execute_result",
          "data": {
            "text/plain": [
              "array([[1, 2, 3],\n",
              "       [1, 2, 3]])"
            ]
          },
          "metadata": {},
          "execution_count": 73
        }
      ]
    },
    {
      "cell_type": "markdown",
      "source": [
        "### Quiz On 2D Numpy"
      ],
      "metadata": {
        "id": "O2W3eEoShMnQ"
      }
    },
    {
      "cell_type": "markdown",
      "source": [
        "Consider the following list <code>a</code>, convert it to Numpy Array."
      ],
      "metadata": {
        "id": "7zpMf3jwhQsB"
      }
    },
    {
      "cell_type": "code",
      "source": [
        "# Write your code below and press Shift+Enter to execute\n",
        "\n",
        "a = [[1, 2, 3, 4], [5, 6, 7, 8], [9, 10, 11, 12]]\n",
        "arr1 = np.array(a)\n",
        "arr1"
      ],
      "metadata": {
        "colab": {
          "base_uri": "https://localhost:8080/"
        },
        "id": "85FSkVvig08I",
        "outputId": "5419f081-5764-4dcb-ed5a-defa0abafd83"
      },
      "execution_count": 74,
      "outputs": [
        {
          "output_type": "execute_result",
          "data": {
            "text/plain": [
              "array([[ 1,  2,  3,  4],\n",
              "       [ 5,  6,  7,  8],\n",
              "       [ 9, 10, 11, 12]])"
            ]
          },
          "metadata": {},
          "execution_count": 74
        }
      ]
    },
    {
      "cell_type": "markdown",
      "source": [
        "Calculate the numpy array size."
      ],
      "metadata": {
        "id": "H2Sw_6QVhZds"
      }
    },
    {
      "cell_type": "code",
      "source": [
        "# Write your code below and press Shift+Enter to execute\n",
        "arr1.size"
      ],
      "metadata": {
        "colab": {
          "base_uri": "https://localhost:8080/"
        },
        "id": "NZMaNC3WhXdR",
        "outputId": "f00b0f8f-751c-4d17-c706-26e6a285c077"
      },
      "execution_count": 75,
      "outputs": [
        {
          "output_type": "execute_result",
          "data": {
            "text/plain": [
              "12"
            ]
          },
          "metadata": {},
          "execution_count": 75
        }
      ]
    },
    {
      "cell_type": "markdown",
      "source": [
        "Access the element on the first row and first and second columns."
      ],
      "metadata": {
        "id": "z0ljPEdzhczU"
      }
    },
    {
      "cell_type": "code",
      "source": [
        "arr1[0,1]"
      ],
      "metadata": {
        "colab": {
          "base_uri": "https://localhost:8080/"
        },
        "id": "Qvnon7vchX36",
        "outputId": "003e888f-681c-4ee9-cd0f-8bd34ca418d6"
      },
      "execution_count": 76,
      "outputs": [
        {
          "output_type": "execute_result",
          "data": {
            "text/plain": [
              "2"
            ]
          },
          "metadata": {},
          "execution_count": 76
        }
      ]
    },
    {
      "cell_type": "markdown",
      "source": [
        "Perform matrix multiplication with the numpy arrays A and B."
      ],
      "metadata": {
        "id": "KNB0YBXphqhZ"
      }
    },
    {
      "cell_type": "code",
      "source": [
        "# Write your code below and press Shift+Enter to execute\n",
        "\n",
        "B = np.array([[0, 1], [1, 0], [1, 1], [-1, 0]])\n",
        "np.dot(arr1,B)"
      ],
      "metadata": {
        "colab": {
          "base_uri": "https://localhost:8080/"
        },
        "id": "ZxNAyRQ6hjUf",
        "outputId": "d4af8136-bef7-4979-82e7-e7a81579fb38"
      },
      "execution_count": 77,
      "outputs": [
        {
          "output_type": "execute_result",
          "data": {
            "text/plain": [
              "array([[ 1,  4],\n",
              "       [ 5, 12],\n",
              "       [ 9, 20]])"
            ]
          },
          "metadata": {},
          "execution_count": 77
        }
      ]
    }
  ]
}