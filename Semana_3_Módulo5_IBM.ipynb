{
  "nbformat": 4,
  "nbformat_minor": 0,
  "metadata": {
    "colab": {
      "provenance": [],
      "authorship_tag": "ABX9TyPX4qTrOml6hUY/UnecS2TE",
      "include_colab_link": true
    },
    "kernelspec": {
      "name": "python3",
      "display_name": "Python 3"
    },
    "language_info": {
      "name": "python"
    }
  },
  "cells": [
    {
      "cell_type": "markdown",
      "metadata": {
        "id": "view-in-github",
        "colab_type": "text"
      },
      "source": [
        "<a href=\"https://colab.research.google.com/github/PosgradoMNA/actividades-de-aprendizaje-jeesperon/blob/main/Semana_3_M%C3%B3dulo5_IBM.ipynb\" target=\"_parent\"><img src=\"https://colab.research.google.com/assets/colab-badge.svg\" alt=\"Open In Colab\"/></a>"
      ]
    },
    {
      "cell_type": "markdown",
      "source": [
        "# Módulo 5 IBM"
      ],
      "metadata": {
        "id": "uDyVRZPrKn1a"
      }
    },
    {
      "cell_type": "markdown",
      "source": [
        " ## 1D Numpy in Python"
      ],
      "metadata": {
        "id": "Dy2a6pndKtWR"
      }
    },
    {
      "cell_type": "code",
      "execution_count": null,
      "metadata": {
        "colab": {
          "base_uri": "https://localhost:8080/"
        },
        "id": "-gAgejdEKgSE",
        "outputId": "28a84b01-1b89-4c90-ef57-c13a82906370"
      },
      "outputs": [
        {
          "output_type": "stream",
          "name": "stdout",
          "text": [
            "a[0]: 0\n",
            "a[1]: 1\n",
            "a[2]: two\n",
            "a[3]: 3\n",
            "a[4]: 4\n"
          ]
        }
      ],
      "source": [
        "# Create a python list\n",
        "\n",
        "a = [\"0\", 1, \"two\", \"3\", 4]\n",
        "# Print each element\n",
        "\n",
        "print(\"a[0]:\", a[0]) #se accede a los datos de una lista con el uso de corchetes y el index de la posición.\n",
        "print(\"a[1]:\", a[1])\n",
        "print(\"a[2]:\", a[2])\n",
        "print(\"a[3]:\", a[3])\n",
        "print(\"a[4]:\", a[4])"
      ]
    },
    {
      "cell_type": "markdown",
      "source": [
        "Numpy: NumPy is a Python library used for working with arrays, linear algebra, fourier transform, and matrices.A numpy array is similar to a list. NumPy stands for Numerical Python and it is an open source project.The array object in NumPy is called **ndarray**, it provides a lot of supporting functions that make working with ndarray very easy.\n",
        "\n",
        "Arrays are very frequently used in data science, where speed and resources are very important.\n",
        "\n",
        "NumPy is usually imported under the np alias.\n",
        "\n",
        "It's usually fixed in size and each element is of the same type. We can cast a list to a numpy array by first importing `numpy`:"
      ],
      "metadata": {
        "id": "I0EDv_auLoJx"
      }
    },
    {
      "cell_type": "code",
      "source": [
        "# import numpy library\n",
        "\n",
        "import numpy as np\n",
        "a = np.array([0, 1, 2, 3, 4]) #creating a numpy array\n",
        "# Print each element\n",
        "\n",
        "print(\"a[0]:\", a[0]) #accedemos a la información de las listas del mismo modo que el ejemplo de lista simple\n",
        "print(\"a[1]:\", a[1])\n",
        "print(\"a[2]:\", a[2])\n",
        "print(\"a[3]:\", a[3])\n",
        "print(\"a[4]:\", a[4])"
      ],
      "metadata": {
        "colab": {
          "base_uri": "https://localhost:8080/"
        },
        "id": "d8Ot9BBrK-wH",
        "outputId": "4530c44d-dc7c-4d7e-ee30-42f088b3e291"
      },
      "execution_count": null,
      "outputs": [
        {
          "output_type": "stream",
          "name": "stdout",
          "text": [
            "a[0]: 0\n",
            "a[1]: 1\n",
            "a[2]: 2\n",
            "a[3]: 3\n",
            "a[4]: 4\n"
          ]
        }
      ]
    },
    {
      "cell_type": "markdown",
      "source": [
        "###Revisando la versión de numpy"
      ],
      "metadata": {
        "id": "nzwopYXQMi9t"
      }
    },
    {
      "cell_type": "code",
      "source": [
        "print(np.__version__)"
      ],
      "metadata": {
        "colab": {
          "base_uri": "https://localhost:8080/"
        },
        "id": "JPnDdDF-LvcF",
        "outputId": "9a3eacb2-37fc-45bb-a954-f25798587b3f"
      },
      "execution_count": null,
      "outputs": [
        {
          "output_type": "stream",
          "name": "stdout",
          "text": [
            "1.21.6\n"
          ]
        }
      ]
    },
    {
      "cell_type": "markdown",
      "source": [
        "###Validando los tipos de datos dentro de un arreglo"
      ],
      "metadata": {
        "id": "EIhZ0N07M3_p"
      }
    },
    {
      "cell_type": "code",
      "source": [
        "# Check the type of the array\n",
        "\n",
        "print(type(a))\n",
        "print(a.dtype)\n",
        "b = np.array([3.1, 11.02, 6.2, 213.2, 5.2])\n",
        "\n",
        "# Enter your code here\n",
        "b.dtype"
      ],
      "metadata": {
        "colab": {
          "base_uri": "https://localhost:8080/"
        },
        "id": "Ho6duvfvMlJC",
        "outputId": "9ae987b7-542a-4ad9-ac10-3afffaccbaec"
      },
      "execution_count": null,
      "outputs": [
        {
          "output_type": "stream",
          "name": "stdout",
          "text": [
            "<class 'numpy.ndarray'>\n",
            "int64\n"
          ]
        },
        {
          "output_type": "execute_result",
          "data": {
            "text/plain": [
              "dtype('float64')"
            ]
          },
          "metadata": {},
          "execution_count": 4
        }
      ]
    },
    {
      "cell_type": "markdown",
      "source": [
        "###Modificar los valores en un arreglo en Numpy"
      ],
      "metadata": {
        "id": "PxYFfAfjNVEK"
      }
    },
    {
      "cell_type": "code",
      "source": [
        "# Create numpy array\n",
        "\n",
        "c = np.array([20, 1, 2, 3, 4])\n",
        "c"
      ],
      "metadata": {
        "colab": {
          "base_uri": "https://localhost:8080/"
        },
        "id": "B7AwdrDZM6ro",
        "outputId": "6e59b182-eb75-4af6-9097-ead948fc5ed1"
      },
      "execution_count": null,
      "outputs": [
        {
          "output_type": "execute_result",
          "data": {
            "text/plain": [
              "array([20,  1,  2,  3,  4])"
            ]
          },
          "metadata": {},
          "execution_count": 5
        }
      ]
    },
    {
      "cell_type": "code",
      "source": [
        "# Assign the first element to 100\n",
        "\n",
        "c[0] = 100*3\n",
        "c\n",
        "# Assign the 5th element to 0\n",
        "\n",
        "c[4] = 90\n",
        "c"
      ],
      "metadata": {
        "colab": {
          "base_uri": "https://localhost:8080/"
        },
        "id": "Wcp2kGXhNXS8",
        "outputId": "a48bd3e5-9913-4dc4-c998-fe9e1a90ffb1"
      },
      "execution_count": null,
      "outputs": [
        {
          "output_type": "execute_result",
          "data": {
            "text/plain": [
              "array([300,   1,   2,   3,  90])"
            ]
          },
          "metadata": {},
          "execution_count": 6
        }
      ]
    },
    {
      "cell_type": "markdown",
      "source": [
        "Try it yourself\n",
        "\n",
        "Assign the value 20 for the second element in the given array.\n"
      ],
      "metadata": {
        "id": "J6Ozdg4PO2xL"
      }
    },
    {
      "cell_type": "code",
      "source": [
        "a = np.array([10, 2, 30, 40,50])\n",
        "\n",
        "# Enter your code here\n",
        "a[1]=20\n",
        "a"
      ],
      "metadata": {
        "colab": {
          "base_uri": "https://localhost:8080/"
        },
        "id": "S1UTe-MaOf1k",
        "outputId": "8347efc7-7693-4566-d9fc-f171f4d2f0ab"
      },
      "execution_count": null,
      "outputs": [
        {
          "output_type": "execute_result",
          "data": {
            "text/plain": [
              "array([10, 20, 30, 40, 50])"
            ]
          },
          "metadata": {},
          "execution_count": 7
        }
      ]
    },
    {
      "cell_type": "markdown",
      "source": [
        "### Slicing in NumPy"
      ],
      "metadata": {
        "id": "vlX1zj4wPFqI"
      }
    },
    {
      "cell_type": "markdown",
      "source": [
        "Like lists, we can slice the numpy array. Slicing in python means taking the elements from the given index to another given index.\n",
        "\n",
        "We pass slice like this: \\[start:end].\n",
        "\n",
        "We can select the elements from 1 to 3 and assign it to a new numpy array <code>d</code> as follows:\n"
      ],
      "metadata": {
        "id": "7Fxw5TxoPYtt"
      }
    },
    {
      "cell_type": "code",
      "source": [
        "# Slicing the numpy array\n",
        "\n",
        "d = c[1:4]\n",
        "d"
      ],
      "metadata": {
        "colab": {
          "base_uri": "https://localhost:8080/"
        },
        "id": "pNpWKRwrO6IK",
        "outputId": "7b449ae0-fc3c-4422-9146-c7069236e7db"
      },
      "execution_count": null,
      "outputs": [
        {
          "output_type": "execute_result",
          "data": {
            "text/plain": [
              "array([1, 2, 3])"
            ]
          },
          "metadata": {},
          "execution_count": 8
        }
      ]
    },
    {
      "cell_type": "markdown",
      "source": [
        "We can assign the corresponding indexes to new values as follows:"
      ],
      "metadata": {
        "id": "kqYNwu1_PWF-"
      }
    },
    {
      "cell_type": "code",
      "source": [
        "# Set the fourth element and fifth element to 300 and 400\n",
        "\n",
        "c[3:5] = 300, 400\n",
        "c"
      ],
      "metadata": {
        "colab": {
          "base_uri": "https://localhost:8080/"
        },
        "id": "vQ8kyoAiPJKp",
        "outputId": "4c0a6ee2-988b-42e8-9a0c-cce7f40575ff"
      },
      "execution_count": null,
      "outputs": [
        {
          "output_type": "execute_result",
          "data": {
            "text/plain": [
              "array([300,   1,   2, 300, 400])"
            ]
          },
          "metadata": {},
          "execution_count": 9
        }
      ]
    },
    {
      "cell_type": "markdown",
      "source": [
        "We can also define the steps in slicing, like this: \\[start\\:end:step]."
      ],
      "metadata": {
        "id": "uDSJeD9fPhq6"
      }
    },
    {
      "cell_type": "code",
      "source": [
        "arr = np.array([1, 2, 3, 4, 5, 6, 7])\n",
        "\n",
        "print(arr[1:5:2]) #se considera un paso de 2\n",
        "print(arr[:4]) #trae todos los valores hasta el index 4\n",
        "print(arr[4:]) #trae todos los valores a partir del index 4\n",
        "print(arr[1:5:]) #trae los valores del index 1 al 4 y con un paso de 1 (por defecto al no enunciar un paso)"
      ],
      "metadata": {
        "colab": {
          "base_uri": "https://localhost:8080/"
        },
        "id": "nU66IoqLPUdC",
        "outputId": "59bed851-93ef-4355-b5a9-9c2d60d5ce74"
      },
      "execution_count": null,
      "outputs": [
        {
          "output_type": "stream",
          "name": "stdout",
          "text": [
            "[2 4]\n",
            "[1 2 3 4]\n",
            "[5 6 7]\n",
            "[2 3 4 5]\n"
          ]
        }
      ]
    },
    {
      "cell_type": "markdown",
      "source": [
        "Print the even elements in the given array."
      ],
      "metadata": {
        "id": "5-2IHLRlRJcx"
      }
    },
    {
      "cell_type": "code",
      "source": [
        "arr = np.array([1, 2, 3, 4, 5, 6, 7, 8])\n",
        "\n",
        "print(arr[1:8:2])\n",
        "# Enter your code here"
      ],
      "metadata": {
        "colab": {
          "base_uri": "https://localhost:8080/"
        },
        "id": "Vw7R3RooRK1Z",
        "outputId": "1b95642c-87dc-462e-9801-3d40360dab07"
      },
      "execution_count": null,
      "outputs": [
        {
          "output_type": "stream",
          "name": "stdout",
          "text": [
            "[2 4 6 8]\n"
          ]
        }
      ]
    },
    {
      "cell_type": "code",
      "source": [
        "# Create the index list\n",
        "\n",
        "select = [0, 2, 3, 4] #a partir de una lista de index\n",
        "d = c[select] #se pueden seleccionar estos elementos usando una variable que las guarde\n",
        "d"
      ],
      "metadata": {
        "colab": {
          "base_uri": "https://localhost:8080/"
        },
        "id": "u5HQ8uWCPjPX",
        "outputId": "646ee1fb-7216-4e62-fb32-28f33e698f47"
      },
      "execution_count": null,
      "outputs": [
        {
          "output_type": "execute_result",
          "data": {
            "text/plain": [
              "array([300,   2, 300, 400])"
            ]
          },
          "metadata": {},
          "execution_count": 12
        }
      ]
    },
    {
      "cell_type": "code",
      "source": [
        "# Assign the specified elements to new value, a esos mismos elementos que se sabe están dentro de la variable de los índices\n",
        "\n",
        "c[select] = 100000\n",
        "c"
      ],
      "metadata": {
        "colab": {
          "base_uri": "https://localhost:8080/"
        },
        "id": "csOHUit4SAMH",
        "outputId": "b661cac2-e3e7-4384-9b9d-c60592fd25fe"
      },
      "execution_count": null,
      "outputs": [
        {
          "output_type": "execute_result",
          "data": {
            "text/plain": [
              "array([100000,      1, 100000, 100000, 100000])"
            ]
          },
          "metadata": {},
          "execution_count": 13
        }
      ]
    },
    {
      "cell_type": "markdown",
      "source": [
        "### Algunos atributos básicos: tamaño, dimensiones y medidas"
      ],
      "metadata": {
        "id": "43gugQ8XSnq8"
      }
    },
    {
      "cell_type": "code",
      "source": [
        "b = np.array([10, 20, 30, 40, 50, 60, 70])\n",
        "print(b.size) #número de elementos que hay en el arreglo\n",
        "print(b.ndim) #número de las dimensiaones del arreglo\n",
        "print(b.shape) #tamaño del arreglo en todas las dimensiones\n"
      ],
      "metadata": {
        "colab": {
          "base_uri": "https://localhost:8080/"
        },
        "id": "zIY5o8PNSOlt",
        "outputId": "1adf549b-e3d8-4a0f-c8cb-26f5e4d38fd4"
      },
      "execution_count": null,
      "outputs": [
        {
          "output_type": "stream",
          "name": "stdout",
          "text": [
            "7\n",
            "1\n",
            "(7,)\n"
          ]
        }
      ]
    },
    {
      "cell_type": "code",
      "source": [
        "alist = [1,2,4,5,6,7]\n",
        "alist[0]=3\n",
        "alist"
      ],
      "metadata": {
        "colab": {
          "base_uri": "https://localhost:8080/"
        },
        "id": "iB3dSaLMSyJD",
        "outputId": "440c785c-99ad-41f6-c238-cf76cc0994ee"
      },
      "execution_count": null,
      "outputs": [
        {
          "output_type": "execute_result",
          "data": {
            "text/plain": [
              "[3, 2, 4, 5, 6, 7]"
            ]
          },
          "metadata": {},
          "execution_count": 15
        }
      ]
    },
    {
      "cell_type": "markdown",
      "source": [
        "### Funciones Estadísticas y Operaciones entre arreglos"
      ],
      "metadata": {
        "id": "Oo07lP08RoLT"
      }
    },
    {
      "cell_type": "code",
      "source": [
        "# Create a numpy array\n",
        "\n",
        "a = np.array([10, 20, 30, 40])\n",
        "print(a.mean())\n",
        "print(a.std())\n",
        "b = np.array([-1, 2, 3, 4, 5])\n",
        "print(b.max())\n",
        "print(b.min())"
      ],
      "metadata": {
        "colab": {
          "base_uri": "https://localhost:8080/"
        },
        "id": "4_SYeO2yRTtV",
        "outputId": "22a36e08-890e-4891-d63d-b50bab24bacf"
      },
      "execution_count": null,
      "outputs": [
        {
          "output_type": "stream",
          "name": "stdout",
          "text": [
            "25.0\n",
            "11.180339887498949\n",
            "5\n",
            "-1\n"
          ]
        }
      ]
    },
    {
      "cell_type": "code",
      "source": [
        "c = np.array([-10, 201, 43, 94, 502])\n",
        "MaxMin = c.min() + c.max()\n",
        "MaxMin\n",
        "# Enter your code here"
      ],
      "metadata": {
        "colab": {
          "base_uri": "https://localhost:8080/"
        },
        "id": "cOlUDozhR7Ox",
        "outputId": "2e6fda23-a6fc-4012-ccc4-5e9b4aa4813b"
      },
      "execution_count": null,
      "outputs": [
        {
          "output_type": "execute_result",
          "data": {
            "text/plain": [
              "492"
            ]
          },
          "metadata": {},
          "execution_count": 17
        }
      ]
    },
    {
      "cell_type": "markdown",
      "source": [
        "Suma de arreglos"
      ],
      "metadata": {
        "id": "mtu4j9TmS1kf"
      }
    },
    {
      "cell_type": "code",
      "source": [
        "u = np.array([12, 13])\n",
        "v = np.array([3, 2])\n",
        "z = np.add(u, v)\n",
        "z"
      ],
      "metadata": {
        "colab": {
          "base_uri": "https://localhost:8080/"
        },
        "id": "VJnyy1SFSiGG",
        "outputId": "cc9350b9-cd0d-42dc-d36d-b997b77c9425"
      },
      "execution_count": null,
      "outputs": [
        {
          "output_type": "execute_result",
          "data": {
            "text/plain": [
              "array([15, 15])"
            ]
          },
          "metadata": {},
          "execution_count": 18
        }
      ]
    },
    {
      "cell_type": "code",
      "source": [
        "arr1 = np.array([10, 11, 12, 13, 14, 15])\n",
        "arr2 = np.array([20, 21, 22, 23, 24, 25])\n",
        "sumatoria = np.add(arr1,arr2)\n",
        "sumatoria"
      ],
      "metadata": {
        "colab": {
          "base_uri": "https://localhost:8080/"
        },
        "id": "z8njJnXDS0l5",
        "outputId": "8eb60397-e22f-46c9-cc01-47a20bee450c"
      },
      "execution_count": null,
      "outputs": [
        {
          "output_type": "execute_result",
          "data": {
            "text/plain": [
              "array([30, 32, 34, 36, 38, 40])"
            ]
          },
          "metadata": {},
          "execution_count": 19
        }
      ]
    },
    {
      "cell_type": "markdown",
      "source": [
        "Resta entre arreglos"
      ],
      "metadata": {
        "id": "11UA_oPjTcTT"
      }
    },
    {
      "cell_type": "code",
      "source": [
        "a = np.array([10, 20, 30])\n",
        "b = np.array([5, 10, 15])\n",
        "c = np.subtract(a, b) #al primer elemento le extraes el segundo\n",
        "c"
      ],
      "metadata": {
        "colab": {
          "base_uri": "https://localhost:8080/"
        },
        "id": "VETQVpsmTWaD",
        "outputId": "e502de04-10dc-40e4-cb8d-840814ba1d12"
      },
      "execution_count": null,
      "outputs": [
        {
          "output_type": "execute_result",
          "data": {
            "text/plain": [
              "array([ 5, 10, 15])"
            ]
          },
          "metadata": {},
          "execution_count": 20
        }
      ]
    },
    {
      "cell_type": "code",
      "source": [
        "arr1 = np.array([10, 20, 30, 40, 50, 60])\n",
        "arr2 = np.array([20, 21, 22, 23, 24, 25])\n",
        "resta = np.subtract(arr1,arr2)\n",
        "resta\n",
        "# Enter your code her"
      ],
      "metadata": {
        "colab": {
          "base_uri": "https://localhost:8080/"
        },
        "id": "M88dxEnUTbOU",
        "outputId": "a2377642-6bcc-4863-e315-e6a01bd6e1af"
      },
      "execution_count": null,
      "outputs": [
        {
          "output_type": "execute_result",
          "data": {
            "text/plain": [
              "array([-10,  -1,   8,  17,  26,  35])"
            ]
          },
          "metadata": {},
          "execution_count": 21
        }
      ]
    },
    {
      "cell_type": "code",
      "source": [
        "x = np.array([2, 2])\n",
        "y = np.array([2, 1])\n",
        "z = np.multiply(x, y)\n",
        "z"
      ],
      "metadata": {
        "colab": {
          "base_uri": "https://localhost:8080/"
        },
        "id": "m3MfVdXkTwbg",
        "outputId": "a7fe6201-b198-46b8-d71e-02740aa33868"
      },
      "execution_count": null,
      "outputs": [
        {
          "output_type": "execute_result",
          "data": {
            "text/plain": [
              "array([4, 2])"
            ]
          },
          "metadata": {},
          "execution_count": 22
        }
      ]
    },
    {
      "cell_type": "code",
      "source": [
        "arr1 = np.array([10, 20, 30, 40, 50, 60])\n",
        "arr2 = np.array([2, 1, 2, 3, 4, 5])\n",
        "\n",
        "mult = np.multiply(arr1,arr2)\n",
        "mult\n",
        "# Enter your code here"
      ],
      "metadata": {
        "colab": {
          "base_uri": "https://localhost:8080/"
        },
        "id": "lAh84amST8Zz",
        "outputId": "dd02de56-54c4-4cad-df73-ecd3d50756f7"
      },
      "execution_count": null,
      "outputs": [
        {
          "output_type": "execute_result",
          "data": {
            "text/plain": [
              "array([ 20,  20,  60, 120, 200, 300])"
            ]
          },
          "metadata": {},
          "execution_count": 23
        }
      ]
    },
    {
      "cell_type": "code",
      "source": [
        "a = np.array([10, 20, 30])\n",
        "b = np.array([2, 10, 5]) #considera que el primer elemento es dividido entre el segundo\n",
        "c = np.divide(a, b)\n",
        "c"
      ],
      "metadata": {
        "colab": {
          "base_uri": "https://localhost:8080/"
        },
        "id": "BFuA8RDlUFYh",
        "outputId": "b5c812d4-e22a-41f3-8bd8-a23da27e2470"
      },
      "execution_count": null,
      "outputs": [
        {
          "output_type": "execute_result",
          "data": {
            "text/plain": [
              "array([5., 2., 6.])"
            ]
          },
          "metadata": {},
          "execution_count": 24
        }
      ]
    },
    {
      "cell_type": "code",
      "source": [
        "arr1 = np.array([10, 20, 30, 40, 50, 60])\n",
        "arr2 = np.array([3, 5, 10, 8, 2, 33])\n",
        "\n",
        "div = np.divide(arr1,arr2)\n",
        "div\n",
        "# Enter your code here"
      ],
      "metadata": {
        "colab": {
          "base_uri": "https://localhost:8080/"
        },
        "id": "gG4QBw-cUOeR",
        "outputId": "df2965f8-00f5-4164-95c1-34ef4f177d9e"
      },
      "execution_count": null,
      "outputs": [
        {
          "output_type": "execute_result",
          "data": {
            "text/plain": [
              "array([ 3.33333333,  4.        ,  3.        ,  5.        , 25.        ,\n",
              "        1.81818182])"
            ]
          },
          "metadata": {},
          "execution_count": 25
        }
      ]
    },
    {
      "cell_type": "markdown",
      "source": [
        "Producto Cruz"
      ],
      "metadata": {
        "id": "kUQdFwRRUpHM"
      }
    },
    {
      "cell_type": "code",
      "source": [
        "X = np.array([1, 2, 3])\n",
        "Y = np.array([3, 2, 4])\n",
        "np.dot(X, Y)"
      ],
      "metadata": {
        "colab": {
          "base_uri": "https://localhost:8080/"
        },
        "id": "Jdyk75qEUac7",
        "outputId": "9c8dd60b-ffbb-46ea-a337-9e35b9bc3420"
      },
      "execution_count": null,
      "outputs": [
        {
          "output_type": "execute_result",
          "data": {
            "text/plain": [
              "19"
            ]
          },
          "metadata": {},
          "execution_count": 26
        }
      ]
    },
    {
      "cell_type": "markdown",
      "source": [
        "<img src =\"https://cf-courses-data.s3.us.cloud-object-storage.appdomain.cloud/IBMDeveloperSkillsNetwork-PY0101EN-SkillsNetwork/labs/Module%205/images/dot1.png\"/>\n"
      ],
      "metadata": {
        "id": "Fgq5N8uwUw-P"
      }
    },
    {
      "cell_type": "code",
      "source": [
        "arr1 = np.array([3, 5])\n",
        "arr2 = np.array([2, 4])\n",
        "\n",
        "pt = np.dot(arr1,arr2)\n",
        "pt\n",
        "# Enter your code here\n"
      ],
      "metadata": {
        "colab": {
          "base_uri": "https://localhost:8080/"
        },
        "id": "2U0a76lRUuvf",
        "outputId": "66038b5d-3ec4-4ecf-c8c6-31d7d9815d6f"
      },
      "execution_count": null,
      "outputs": [
        {
          "output_type": "execute_result",
          "data": {
            "text/plain": [
              "26"
            ]
          },
          "metadata": {},
          "execution_count": 27
        }
      ]
    },
    {
      "cell_type": "code",
      "source": [
        "u = np.array([1, 2, 3, -1]) \n",
        "u + 1 #se suma el +1 a cada elemento del arreglo"
      ],
      "metadata": {
        "colab": {
          "base_uri": "https://localhost:8080/"
        },
        "id": "ykWiAgMzVL_u",
        "outputId": "5dd682e4-27f8-4ef2-e79d-4f52938def0e"
      },
      "execution_count": null,
      "outputs": [
        {
          "output_type": "execute_result",
          "data": {
            "text/plain": [
              "array([2, 3, 4, 0])"
            ]
          },
          "metadata": {},
          "execution_count": 28
        }
      ]
    },
    {
      "cell_type": "code",
      "source": [
        "arr = np.array([1, 2, 3, -1]) \n",
        "arr + 5\n",
        "# Enter your code here"
      ],
      "metadata": {
        "colab": {
          "base_uri": "https://localhost:8080/"
        },
        "id": "o-BAmVx6VTDk",
        "outputId": "ef044474-cffc-4776-f3b7-38d5482e7f34"
      },
      "execution_count": null,
      "outputs": [
        {
          "output_type": "execute_result",
          "data": {
            "text/plain": [
              "array([6, 7, 8, 4])"
            ]
          },
          "metadata": {},
          "execution_count": 29
        }
      ]
    },
    {
      "cell_type": "markdown",
      "source": [
        "### Funciones matemáticas"
      ],
      "metadata": {
        "id": "pH7X2IHCVeo6"
      }
    },
    {
      "cell_type": "code",
      "source": [
        "# The value of pi\n",
        "\n",
        "np.pi"
      ],
      "metadata": {
        "colab": {
          "base_uri": "https://localhost:8080/"
        },
        "id": "IHGkyqPsVa22",
        "outputId": "a027a9cb-1d7f-465d-cf5b-a0ce6973a55f"
      },
      "execution_count": null,
      "outputs": [
        {
          "output_type": "execute_result",
          "data": {
            "text/plain": [
              "3.141592653589793"
            ]
          },
          "metadata": {},
          "execution_count": 30
        }
      ]
    },
    {
      "cell_type": "code",
      "source": [
        "# Create the numpy array in radians\n",
        "\n",
        "x = np.array([0, np.pi/2 , np.pi])"
      ],
      "metadata": {
        "id": "1ff9Ja3iVgvn"
      },
      "execution_count": null,
      "outputs": []
    },
    {
      "cell_type": "code",
      "source": [
        "# Calculate the sin of each elements\n",
        "\n",
        "y = np.sin(x)\n",
        "y"
      ],
      "metadata": {
        "colab": {
          "base_uri": "https://localhost:8080/"
        },
        "id": "CPrDWT5fVii-",
        "outputId": "cf7664e0-ecff-42cd-93bc-b388fe388ee7"
      },
      "execution_count": null,
      "outputs": [
        {
          "output_type": "execute_result",
          "data": {
            "text/plain": [
              "array([0.0000000e+00, 1.0000000e+00, 1.2246468e-16])"
            ]
          },
          "metadata": {},
          "execution_count": 32
        }
      ]
    },
    {
      "cell_type": "code",
      "source": [],
      "metadata": {
        "id": "RrES8e7AVlJV"
      },
      "execution_count": null,
      "outputs": []
    },
    {
      "cell_type": "markdown",
      "source": [
        "### Linspace"
      ],
      "metadata": {
        "id": "dFIvkpUbWKI6"
      }
    },
    {
      "cell_type": "markdown",
      "source": [
        "A useful function for plotting mathematical functions is linspace. Linspace returns evenly spaced numbers over a specified interval.\n",
        "\n",
        "numpy.linspace(start, stop, num = int value)\n",
        "\n",
        "start : start of interval range\n",
        "\n",
        "stop : end of interval range\n",
        "\n",
        "num : Number of samples to generate.\n"
      ],
      "metadata": {
        "id": "Or9Kg9t-WOOP"
      }
    },
    {
      "cell_type": "code",
      "source": [
        "# Makeup a numpy array within [-2, 2] and 5 elements\n",
        "\n",
        "np.linspace(-100, 100, 5) "
      ],
      "metadata": {
        "colab": {
          "base_uri": "https://localhost:8080/"
        },
        "id": "CBMuepx8WMC5",
        "outputId": "4d6899ba-29a3-4927-a6bc-d80e452b48bc"
      },
      "execution_count": null,
      "outputs": [
        {
          "output_type": "execute_result",
          "data": {
            "text/plain": [
              "array([-100.,  -50.,    0.,   50.,  100.])"
            ]
          },
          "metadata": {},
          "execution_count": 33
        }
      ]
    },
    {
      "cell_type": "code",
      "source": [
        "# Make a numpy array within [-2, 2] and 9 elements\n",
        "\n",
        "np.linspace(-2, 2, num=9)"
      ],
      "metadata": {
        "colab": {
          "base_uri": "https://localhost:8080/"
        },
        "id": "PGWsYuxVWP-R",
        "outputId": "9742a096-2926-4a6f-d8dc-45c74e2f743a"
      },
      "execution_count": null,
      "outputs": [
        {
          "output_type": "execute_result",
          "data": {
            "text/plain": [
              "array([-2. , -1.5, -1. , -0.5,  0. ,  0.5,  1. ,  1.5,  2. ])"
            ]
          },
          "metadata": {},
          "execution_count": 34
        }
      ]
    },
    {
      "cell_type": "code",
      "source": [
        "# Enter your code here\n",
        "six = np.linspace(5,4,6)\n",
        "six"
      ],
      "metadata": {
        "colab": {
          "base_uri": "https://localhost:8080/"
        },
        "id": "ECWsRXOSWrys",
        "outputId": "84bd495e-7145-47cd-e0a5-a7f54c03693f"
      },
      "execution_count": null,
      "outputs": [
        {
          "output_type": "execute_result",
          "data": {
            "text/plain": [
              "array([5. , 4.8, 4.6, 4.4, 4.2, 4. ])"
            ]
          },
          "metadata": {},
          "execution_count": 35
        }
      ]
    },
    {
      "cell_type": "code",
      "source": [
        "# Make a numpy array within [0, 2π] and 100 elements \n",
        "import matplotlib.pyplot as plt\n",
        "x = np.linspace(0, 2*np.pi, num=100)\n",
        "y = np.sin(x)\n",
        "plt.plot(x, y)"
      ],
      "metadata": {
        "colab": {
          "base_uri": "https://localhost:8080/",
          "height": 106
        },
        "id": "26T1IBr0XEAH",
        "outputId": "1ea2bd94-9eb4-468c-d5d6-c399c5698fdc"
      },
      "execution_count": null,
      "outputs": [
        {
          "output_type": "execute_result",
          "data": {
            "text/plain": [
              "[<matplotlib.lines.Line2D at 0x7f6fd316a110>]"
            ]
          },
          "metadata": {},
          "execution_count": 36
        },
        {
          "output_type": "display_data",
          "data": {
            "text/plain": [
              "<Figure size 432x288 with 1 Axes>"
            ],
            "image/png": "[encoded data removed]"
          },
          "metadata": {
            "needs_background": "light"
          }
        }
      ]
    },
    {
      "cell_type": "markdown",
      "source": [
        "### Quiz on Numpy"
      ],
      "metadata": {
        "id": "y244wvhiXwbn"
      }
    },
    {
      "cell_type": "markdown",
      "source": [
        "Implement the following vector subtraction in numpy: u-v"
      ],
      "metadata": {
        "id": "nYkdxhb_X5GK"
      }
    },
    {
      "cell_type": "code",
      "source": [
        "# Write your code below and press Shift+Enter to execute\n",
        "\n",
        "u = np.array([1, 0])\n",
        "v = np.array([0, 1])\n",
        "w = np.subtract(u,v)\n",
        "w"
      ],
      "metadata": {
        "colab": {
          "base_uri": "https://localhost:8080/"
        },
        "id": "c4uSXCM-XNWt",
        "outputId": "75584a17-101e-43a7-edfe-25de45c8fa93"
      },
      "execution_count": null,
      "outputs": [
        {
          "output_type": "execute_result",
          "data": {
            "text/plain": [
              "array([ 1, -1])"
            ]
          },
          "metadata": {},
          "execution_count": 37
        }
      ]
    },
    {
      "cell_type": "markdown",
      "source": [
        "Multiply the numpy array z with -2:"
      ],
      "metadata": {
        "id": "gHq-HjAYX62p"
      }
    },
    {
      "cell_type": "code",
      "source": [
        "# Write your code below and press Shift+Enter to execute\n",
        "\n",
        "z = np.array([2, 4])\n",
        "z*-2"
      ],
      "metadata": {
        "colab": {
          "base_uri": "https://localhost:8080/"
        },
        "id": "XZ4EcjdmXy-6",
        "outputId": "10e3635a-ea11-4ef2-ccc6-a0f675aa1d93"
      },
      "execution_count": null,
      "outputs": [
        {
          "output_type": "execute_result",
          "data": {
            "text/plain": [
              "array([-4, -8])"
            ]
          },
          "metadata": {},
          "execution_count": 38
        }
      ]
    },
    {
      "cell_type": "markdown",
      "source": [
        "Consider the list <code>\\[1, 2, 3, 4, 5]</code> and <code>\\[1, 0, 1, 0, 1]</code>. Cast both lists to a numpy array then multiply them together:"
      ],
      "metadata": {
        "id": "jDNLnPE2YdWx"
      }
    },
    {
      "cell_type": "code",
      "source": [
        "# Write your code below and press Shift+Enter to execute\n",
        "arr1 = np.array([1, 2, 3, 4, 5])\n",
        "arr2 = np.array([1,0,1,0,1])\n",
        "arr3 = np.multiply(arr1,arr2)\n",
        "arr3"
      ],
      "metadata": {
        "colab": {
          "base_uri": "https://localhost:8080/"
        },
        "id": "ih9ZxRFWYbCu",
        "outputId": "8185d4fa-c78a-497d-cb89-3010c207c4cc"
      },
      "execution_count": null,
      "outputs": [
        {
          "output_type": "execute_result",
          "data": {
            "text/plain": [
              "array([1, 0, 3, 0, 5])"
            ]
          },
          "metadata": {},
          "execution_count": 39
        }
      ]
    },
    {
      "cell_type": "code",
      "source": [
        "# Import the libraries\n",
        "\n",
        "import time \n",
        "import sys\n",
        "import numpy as np \n",
        "\n",
        "import matplotlib.pyplot as plt\n",
        "%matplotlib inline  \n",
        "\n",
        "def Plotvec2(a,b):\n",
        "    ax = plt.axes()# to generate the full window axes\n",
        "    ax.arrow(0, 0, *a, head_width=0.05, color ='r', head_length=0.1)#Add an arrow to the  a Axes with arrow head width 0.05, color red and arrow head length 0.1\n",
        "    plt.text(*(a + 0.1), 'a')\n",
        "    ax.arrow(0, 0, *b, head_width=0.05, color ='b', head_length=0.1)#Add an arrow to the  b Axes with arrow head width 0.05, color blue and arrow head length 0.1\n",
        "    plt.text(*(b + 0.1), 'b')\n",
        "    plt.ylim(-2, 2)#set the ylim to bottom(-2), top(2)\n",
        "    plt.xlim(-2, 2)#set the xlim to left(-2), right(2)\n",
        "    \n",
        "    "
      ],
      "metadata": {
        "id": "FzxC1DMcYbq0"
      },
      "execution_count": null,
      "outputs": []
    },
    {
      "cell_type": "code",
      "source": [
        "# Write your code below and press Shift+Enter to execute\n",
        "a = np.array([-1,1])\n",
        "b = np.array([1,1])\n",
        "Plotvec2(a,b)\n",
        "np.dot(a,b)"
      ],
      "metadata": {
        "colab": {
          "base_uri": "https://localhost:8080/",
          "height": 72
        },
        "id": "DNAr-hmVaDUL",
        "outputId": "12225893-ec19-4ce8-aba5-9384693db185"
      },
      "execution_count": null,
      "outputs": [
        {
          "output_type": "execute_result",
          "data": {
            "text/plain": [
              "0"
            ]
          },
          "metadata": {},
          "execution_count": 41
        },
        {
          "output_type": "display_data",
          "data": {
            "text/plain": [
              "<Figure size 432x288 with 1 Axes>"
            ],
            "image/png": "[encoded data removed]"
          },
          "metadata": {
            "needs_background": "light"
          }
        }
      ]
    },
    {
      "cell_type": "code",
      "source": [
        "# Write your code below and press Shift+Enter to execute\n",
        "a = np.array([1,0])\n",
        "b = np.array([0,1])\n",
        "Plotvec2(a,b)\n",
        "np.dot(a,b)"
      ],
      "metadata": {
        "colab": {
          "base_uri": "https://localhost:8080/",
          "height": 72
        },
        "id": "Hor0WZrBaEuj",
        "outputId": "ee7856f1-430b-4f31-c85a-a656ccc2bd58"
      },
      "execution_count": null,
      "outputs": [
        {
          "output_type": "execute_result",
          "data": {
            "text/plain": [
              "0"
            ]
          },
          "metadata": {},
          "execution_count": 42
        },
        {
          "output_type": "display_data",
          "data": {
            "text/plain": [
              "<Figure size 432x288 with 1 Axes>"
            ],
            "image/png": "[encoded data removed]"
          },
          "metadata": {
            "needs_background": "light"
          }
        }
      ]
    },
    {
      "cell_type": "code",
      "source": [
        "# Write your code below and press Shift+Enter to execute\n",
        "a = np.array([1,1])\n",
        "b = np.array([0,1])\n",
        "Plotvec2(a,b)\n",
        "np.dot(a,b)"
      ],
      "metadata": {
        "colab": {
          "base_uri": "https://localhost:8080/",
          "height": 72
        },
        "id": "iFVvFXdfaGBf",
        "outputId": "dc8cdb19-6700-48a2-e6f6-c6f689245166"
      },
      "execution_count": null,
      "outputs": [
        {
          "output_type": "execute_result",
          "data": {
            "text/plain": [
              "1"
            ]
          },
          "metadata": {},
          "execution_count": 43
        },
        {
          "output_type": "display_data",
          "data": {
            "text/plain": [
              "<Figure size 432x288 with 1 Axes>"
            ],
            "image/png": "[encoded data removed]"
          },
          "metadata": {
            "needs_background": "light"
          }
        }
      ]
    },
    {
      "cell_type": "markdown",
      "source": [
        "Convert the list <code>\\[1, 2, 3]</code> and <code>\\[8, 9, 10]</code> to numpy arrays <code>arr1</code> and <code>arr2</code>. Then perform <code>Addition</code> , <code>Subtraction</code> , <code>Multiplication</code> , <code>Division</code> and <code>Dot Operation</code> on the <code>arr1</code> and <code>arr2</code>."
      ],
      "metadata": {
        "id": "bDet8-XMa_0G"
      }
    },
    {
      "cell_type": "code",
      "source": [
        "# Write your code below and press Shift+Enter to execute\n",
        "arr1 = np.array([1,2,3])\n",
        "arr2 = np.array([8,9,10])\n",
        "print('Addition: ', arr1 + arr2)\n",
        "print('Subtraction: ', arr1 - arr2)\n",
        "print('multiplication: ', arr1 * arr2)\n",
        "print('Division: ', arr1 / arr2)\n",
        "print('Dot Operation: ', np.dot(arr1,arr2))"
      ],
      "metadata": {
        "colab": {
          "base_uri": "https://localhost:8080/"
        },
        "id": "EqcrlQ6HaHYa",
        "outputId": "48e37072-b9b8-4725-fffa-8983455ed39e"
      },
      "execution_count": null,
      "outputs": [
        {
          "output_type": "stream",
          "name": "stdout",
          "text": [
            "Addition:  [ 9 11 13]\n",
            "Subtraction:  [-7 -7 -7]\n",
            "multiplication:  [ 8 18 30]\n",
            "Division:  [0.125      0.22222222 0.3       ]\n",
            "Dot Operation:  56\n"
          ]
        }
      ]
    },
    {
      "cell_type": "markdown",
      "source": [
        "Convert the list <code>\\[1, 2, 3, 4, 5]</code> and <code>\\[6, 7, 8, 9, 10]</code> to numpy arrays <code>arr1</code> and <code>arr2</code>. Then find the even and odd numbers from <code>arr1</code> and <code>arr2</code>."
      ],
      "metadata": {
        "id": "UjJZ-OecbD4d"
      }
    },
    {
      "cell_type": "code",
      "source": [
        "arr1 = np.array([1,2,3,4,5])\n",
        "arr2 = np.array([6,7,8,9,10])\n",
        "print('Even numbers from array1: ', arr1[1::2])\n",
        "print('Odd numbers from array1: ', arr1[0::2])\n",
        "print('Even numbers from array2: ', arr2[0::2])\n",
        "print('Odd numbers from array2: ', arr2[1::2])"
      ],
      "metadata": {
        "colab": {
          "base_uri": "https://localhost:8080/"
        },
        "id": "q78RHzgxbAna",
        "outputId": "92ac55ec-5fcc-4b6b-83be-f81eb53350ff"
      },
      "execution_count": null,
      "outputs": [
        {
          "output_type": "stream",
          "name": "stdout",
          "text": [
            "Even numbers from array1:  [2 4]\n",
            "Odd numbers from array1:  [1 3 5]\n",
            "Even numbers from array2:  [ 6  8 10]\n",
            "Odd numbers from array2:  [7 9]\n"
          ]
        }
      ]
    },
    {
      "cell_type": "code",
      "source": [],
      "metadata": {
        "id": "jjVw_Oe7b5AZ"
      },
      "execution_count": null,
      "outputs": []
    },
    {
      "cell_type": "markdown",
      "source": [
        "## 2D Numpy in Python"
      ],
      "metadata": {
        "id": "unvxfxModF4R"
      }
    },
    {
      "cell_type": "code",
      "source": [
        "# Import the libraries\n",
        "\n",
        "import numpy as np \n",
        "import matplotlib.pyplot as plt"
      ],
      "metadata": {
        "id": "1C9t7gF4dGzu"
      },
      "execution_count": null,
      "outputs": []
    },
    {
      "cell_type": "code",
      "source": [
        "# Create a list\n",
        "\n",
        "a = [[11, 12, 13], [21, 22, 23], [31, 32, 33]]\n",
        "A = np.array(a)\n",
        "print('Este es el arreglo A: ', A, '\\n')\n",
        "print('Esta es la cantidad de dimensiones en A: ', A.ndim)\n",
        "print('Este es el tamaño de A en sus dimensiones: ', A.shape)\n",
        "print('Este es el tamaño de elementos en A: ', A.size)"
      ],
      "metadata": {
        "colab": {
          "base_uri": "https://localhost:8080/"
        },
        "id": "9OUaEIDldMCo",
        "outputId": "f7ed1913-ad1d-4ade-d519-0ac151fe222a"
      },
      "execution_count": null,
      "outputs": [
        {
          "output_type": "stream",
          "name": "stdout",
          "text": [
            "Este es el arreglo A:  [[11 12 13]\n",
            " [21 22 23]\n",
            " [31 32 33]] \n",
            "\n",
            "Esta es la cantidad de dimensiones en A:  2\n",
            "Este es el tamaño de A en sus dimensiones:  (3, 3)\n",
            "Este es el tamaño de elementos en A:  9\n"
          ]
        }
      ]
    },
    {
      "cell_type": "code",
      "source": [
        "# Access the element on the second row and third column\n",
        "\n",
        "A[1, 2]"
      ],
      "metadata": {
        "colab": {
          "base_uri": "https://localhost:8080/"
        },
        "id": "wl9pUvr7dPyA",
        "outputId": "725bf1ea-79ac-497f-ad28-d29c7f02a60f"
      },
      "execution_count": null,
      "outputs": [
        {
          "output_type": "execute_result",
          "data": {
            "text/plain": [
              "23"
            ]
          },
          "metadata": {},
          "execution_count": 65
        }
      ]
    },
    {
      "cell_type": "code",
      "source": [
        "# Access the element on the second row and third column\n",
        "\n",
        "A[1][2]"
      ],
      "metadata": {
        "colab": {
          "base_uri": "https://localhost:8080/"
        },
        "id": "s6oFSHkze2on",
        "outputId": "061b0775-12bc-4405-fbee-2e23650aff1b"
      },
      "execution_count": null,
      "outputs": [
        {
          "output_type": "execute_result",
          "data": {
            "text/plain": [
              "23"
            ]
          },
          "metadata": {},
          "execution_count": 66
        }
      ]
    },
    {
      "cell_type": "code",
      "source": [
        "# Access the element on the first row and first and second columns\n",
        "\n",
        "A[0,0:2]"
      ],
      "metadata": {
        "colab": {
          "base_uri": "https://localhost:8080/"
        },
        "id": "5gxFfUu0e5xG",
        "outputId": "d37213c5-5e09-4cdc-b063-5b3e2226ffd6"
      },
      "execution_count": null,
      "outputs": [
        {
          "output_type": "execute_result",
          "data": {
            "text/plain": [
              "array([11, 12])"
            ]
          },
          "metadata": {},
          "execution_count": 67
        }
      ]
    },
    {
      "cell_type": "code",
      "source": [
        "# Access the element on the first and second rows and third column\n",
        "\n",
        "A[0:2, 2]"
      ],
      "metadata": {
        "colab": {
          "base_uri": "https://localhost:8080/"
        },
        "id": "LICo3SFwfXXJ",
        "outputId": "9ea4facd-6b55-4fde-8ce3-2403495b5d8e"
      },
      "execution_count": null,
      "outputs": [
        {
          "output_type": "execute_result",
          "data": {
            "text/plain": [
              "array([13, 23])"
            ]
          },
          "metadata": {},
          "execution_count": 68
        }
      ]
    },
    {
      "cell_type": "code",
      "source": [
        "X = np.array([[1, 0], [0, 1]]) \n",
        "Y = np.array([[2, 1], [1, 2]]) \n",
        "Z = X + Y\n",
        "Z"
      ],
      "metadata": {
        "colab": {
          "base_uri": "https://localhost:8080/"
        },
        "id": "jOhgerOAfeJp",
        "outputId": "a2e61d54-b8c2-490e-bb7d-ce534922ddee"
      },
      "execution_count": null,
      "outputs": [
        {
          "output_type": "execute_result",
          "data": {
            "text/plain": [
              "array([[3, 1],\n",
              "       [1, 3]])"
            ]
          },
          "metadata": {},
          "execution_count": 69
        }
      ]
    },
    {
      "cell_type": "code",
      "source": [
        "Y = np.array([[2, 1], [1, 2]]) \n",
        "Z = 2 * Y\n",
        "Z"
      ],
      "metadata": {
        "colab": {
          "base_uri": "https://localhost:8080/"
        },
        "id": "BECkvzJVgNg2",
        "outputId": "0efd8078-c165-46fc-c3db-ba2e5e97fa6e"
      },
      "execution_count": null,
      "outputs": [
        {
          "output_type": "execute_result",
          "data": {
            "text/plain": [
              "array([[4, 2],\n",
              "       [2, 4]])"
            ]
          },
          "metadata": {},
          "execution_count": 70
        }
      ]
    },
    {
      "cell_type": "code",
      "source": [
        "Y = np.array([[2, 1], [1, 2]]) \n",
        "X = np.array([[1, 0], [0, 1]]) \n",
        "Z = X * Y\n",
        "Z"
      ],
      "metadata": {
        "colab": {
          "base_uri": "https://localhost:8080/"
        },
        "id": "qiTtgSHkgRVF",
        "outputId": "e17c1db3-7c9b-40b4-b0c7-8982a725ca6f"
      },
      "execution_count": null,
      "outputs": [
        {
          "output_type": "execute_result",
          "data": {
            "text/plain": [
              "array([[2, 0],\n",
              "       [0, 2]])"
            ]
          },
          "metadata": {},
          "execution_count": 71
        }
      ]
    },
    {
      "cell_type": "code",
      "source": [
        "A = np.array([[0, 1, 1], [1, 0, 1]])\n",
        "print(A, '\\n')\n",
        "B = np.array([[1, 1], [1, 1], [-1, 1]])\n",
        "print(B, '\\n')\n",
        "Z = np.dot(A,B)\n",
        "Z"
      ],
      "metadata": {
        "colab": {
          "base_uri": "https://localhost:8080/"
        },
        "id": "dME0r4UjgWbv",
        "outputId": "2b91f157-1600-4668-9078-d3d23f0cd2cd"
      },
      "execution_count": null,
      "outputs": [
        {
          "output_type": "stream",
          "name": "stdout",
          "text": [
            "[[0 1 1]\n",
            " [1 0 1]] \n",
            "\n",
            "[[ 1  1]\n",
            " [ 1  1]\n",
            " [-1  1]] \n",
            "\n"
          ]
        },
        {
          "output_type": "execute_result",
          "data": {
            "text/plain": [
              "array([[0, 2],\n",
              "       [0, 2]])"
            ]
          },
          "metadata": {},
          "execution_count": 72
        }
      ]
    },
    {
      "cell_type": "code",
      "source": [
        "# Create a matrix C\n",
        "\n",
        "C = np.array([[1,1],[2,2],[3,3]])\n",
        "# Get the transposed of C\n",
        "print(C, '\\n')\n",
        "C.T"
      ],
      "metadata": {
        "colab": {
          "base_uri": "https://localhost:8080/"
        },
        "id": "KciFjjSlgbe-",
        "outputId": "665dd199-4de8-483a-9555-7fdc196bcb51"
      },
      "execution_count": null,
      "outputs": [
        {
          "output_type": "stream",
          "name": "stdout",
          "text": [
            "[[1 1]\n",
            " [2 2]\n",
            " [3 3]] \n",
            "\n"
          ]
        },
        {
          "output_type": "execute_result",
          "data": {
            "text/plain": [
              "array([[1, 2, 3],\n",
              "       [1, 2, 3]])"
            ]
          },
          "metadata": {},
          "execution_count": 73
        }
      ]
    },
    {
      "cell_type": "markdown",
      "source": [
        "### Quiz On 2D Numpy"
      ],
      "metadata": {
        "id": "O2W3eEoShMnQ"
      }
    },
    {
      "cell_type": "markdown",
      "source": [
        "Consider the following list <code>a</code>, convert it to Numpy Array."
      ],
      "metadata": {
        "id": "7zpMf3jwhQsB"
      }
    },
    {
      "cell_type": "code",
      "source": [
        "# Write your code below and press Shift+Enter to execute\n",
        "\n",
        "a = [[1, 2, 3, 4], [5, 6, 7, 8], [9, 10, 11, 12]]\n",
        "arr1 = np.array(a)\n",
        "arr1"
      ],
      "metadata": {
        "colab": {
          "base_uri": "https://localhost:8080/"
        },
        "id": "85FSkVvig08I",
        "outputId": "5419f081-5764-4dcb-ed5a-defa0abafd83"
      },
      "execution_count": null,
      "outputs": [
        {
          "output_type": "execute_result",
          "data": {
            "text/plain": [
              "array([[ 1,  2,  3,  4],\n",
              "       [ 5,  6,  7,  8],\n",
              "       [ 9, 10, 11, 12]])"
            ]
          },
          "metadata": {},
          "execution_count": 74
        }
      ]
    },
    {
      "cell_type": "markdown",
      "source": [
        "Calculate the numpy array size."
      ],
      "metadata": {
        "id": "H2Sw_6QVhZds"
      }
    },
    {
      "cell_type": "code",
      "source": [
        "# Write your code below and press Shift+Enter to execute\n",
        "arr1.size"
      ],
      "metadata": {
        "colab": {
          "base_uri": "https://localhost:8080/"
        },
        "id": "NZMaNC3WhXdR",
        "outputId": "f00b0f8f-751c-4d17-c706-26e6a285c077"
      },
      "execution_count": null,
      "outputs": [
        {
          "output_type": "execute_result",
          "data": {
            "text/plain": [
              "12"
            ]
          },
          "metadata": {},
          "execution_count": 75
        }
      ]
    },
    {
      "cell_type": "markdown",
      "source": [
        "Access the element on the first row and first and second columns."
      ],
      "metadata": {
        "id": "z0ljPEdzhczU"
      }
    },
    {
      "cell_type": "code",
      "source": [
        "arr1[0,1]"
      ],
      "metadata": {
        "colab": {
          "base_uri": "https://localhost:8080/"
        },
        "id": "Qvnon7vchX36",
        "outputId": "003e888f-681c-4ee9-cd0f-8bd34ca418d6"
      },
      "execution_count": null,
      "outputs": [
        {
          "output_type": "execute_result",
          "data": {
            "text/plain": [
              "2"
            ]
          },
          "metadata": {},
          "execution_count": 76
        }
      ]
    },
    {
      "cell_type": "markdown",
      "source": [
        "Perform matrix multiplication with the numpy arrays A and B."
      ],
      "metadata": {
        "id": "KNB0YBXphqhZ"
      }
    },
    {
      "cell_type": "code",
      "source": [
        "# Write your code below and press Shift+Enter to execute\n",
        "\n",
        "B = np.array([[0, 1], [1, 0], [1, 1], [-1, 0]])\n",
        "np.dot(arr1,B)"
      ],
      "metadata": {
        "colab": {
          "base_uri": "https://localhost:8080/"
        },
        "id": "ZxNAyRQ6hjUf",
        "outputId": "d4af8136-bef7-4979-82e7-e7a81579fb38"
      },
      "execution_count": null,
      "outputs": [
        {
          "output_type": "execute_result",
          "data": {
            "text/plain": [
              "array([[ 1,  4],\n",
              "       [ 5, 12],\n",
              "       [ 9, 20]])"
            ]
          },
          "metadata": {},
          "execution_count": 77
        }
      ]
    },
    {
      "cell_type": "markdown",
      "source": [
        "## HTTP and requests"
      ],
      "metadata": {
        "id": "-TllbgdFoSzJ"
      }
    },
    {
      "cell_type": "markdown",
      "source": [
        "Requests is a Python Library that allows you to send <code>HTTP/1.1</code> requests easily. We can import the library as follows:"
      ],
      "metadata": {
        "id": "XZnn8-QPtRmQ"
      }
    },
    {
      "cell_type": "code",
      "source": [
        "import requests\n",
        "import os \n",
        "from PIL import Image\n",
        "from IPython.display import IFrame"
      ],
      "metadata": {
        "id": "ZJnivTk-oVhV"
      },
      "execution_count": 81,
      "outputs": []
    },
    {
      "cell_type": "markdown",
      "source": [
        "You can make a <code>GET</code> request via the method <code>get</code> to [www.ibm.com](http://www.ibm.com/?utm_medium=Exinfluencer&utm_source=Exinfluencer&utm_content=000026UJ&utm_term=10006555&utm_id=NA-SkillsNetwork-Channel-SkillsNetworkCoursesIBMDeveloperSkillsNetworkPY0101ENSkillsNetwork19487395-2022-01-01):\n"
      ],
      "metadata": {
        "id": "CFI9WXx4tUyD"
      }
    },
    {
      "cell_type": "code",
      "source": [
        "url='https://www.ibm.com/'\n",
        "r=requests.get(url)"
      ],
      "metadata": {
        "id": "LcDRy61DsceV"
      },
      "execution_count": 82,
      "outputs": []
    },
    {
      "cell_type": "markdown",
      "source": [
        "We have the response object r, this has information about the request, like the status of the request. We can view the status code using the attribute status_code."
      ],
      "metadata": {
        "id": "3A-Q-SZitXec"
      }
    },
    {
      "cell_type": "code",
      "source": [
        "r.status_code"
      ],
      "metadata": {
        "colab": {
          "base_uri": "https://localhost:8080/"
        },
        "id": "RiT8J5GOsdmb",
        "outputId": "1df4c976-bc75-4ced-b59e-c3937b4b03c8"
      },
      "execution_count": 83,
      "outputs": [
        {
          "output_type": "execute_result",
          "data": {
            "text/plain": [
              "200"
            ]
          },
          "metadata": {},
          "execution_count": 83
        }
      ]
    },
    {
      "cell_type": "code",
      "source": [
        "print(r.request.headers)"
      ],
      "metadata": {
        "colab": {
          "base_uri": "https://localhost:8080/"
        },
        "id": "o4JzOgX2seyz",
        "outputId": "a9205fcc-b1b4-4950-c359-5706f983e6f4"
      },
      "execution_count": 84,
      "outputs": [
        {
          "output_type": "stream",
          "name": "stdout",
          "text": [
            "{'User-Agent': 'python-requests/2.23.0', 'Accept-Encoding': 'gzip, deflate', 'Accept': '*/*', 'Connection': 'keep-alive', 'Cookie': '_abck=DE414F5D451C62D43C69061CF8AD9073~-1~YAAQyhwhFyP3PN+DAQAAXOCx4QgbEBsilYWhbrA62kn2lhz8DCekgkG963zm0XMvt+22G22W+b3i0jU0fh6NGn9Z6nNJpM2hh4mKvjANnQKPhQcVdqPboU8VLLoiEn+lOW9jCqKAz57VV1ToqIjJdB8u3aXISY2/KvhFLF9vT+4yhn9kTXVGlLoU6RtThc3knLPBUM1sVc7xAO/vNVNGVbOkhoDP4HKzicuJk7MbF+34HTkvF8x1WNToTVrucNVgiJXDC4qdj1DWHWeQbPpzWOM++R1L13FO7Te+Vp8E6ivmvFRe420WKn8eu+6ZDMZLlUtqp+IpHb+FhLtWc3tS8uJqWPQEjOcb+lA5gX+iMKln4DPWYrk=~-1~-1~-1; bm_sz=E71F324FB73A34439088F9588291ACBE~YAAQyhwhFyT3PN+DAQAAXeCx4RE7o+AeyaDjvGJUgsgLfKyUmLI2uF6na4K62C2e6awNTpWgcW9Q2XsFhGKMIl3StGWM1AM7/72Hbn8PAAOfgrODx6ifjDzJ1vwykaVK9wVXhMRpr6E9hvzMhFu+D2mH+4ENUj4VxoPc0jnWaC9CduUePJcs3h+JInAsyjeZ0xvswY8Pqf74W3uMwaddn1lWyidy7SlyicVZmCaRuOJsQ6dN6PrczVJz7Et6/eZKoa0wbAiIPDZlrzYMHVtXjMuI8SiwmXh46suKGbksTbQ=~3556149~3682866'}\n"
          ]
        }
      ]
    },
    {
      "cell_type": "markdown",
      "source": [
        "You can view the request body, in the following line, as there is no body for a get request we get a <code>None</code>:\n"
      ],
      "metadata": {
        "id": "UFOBXDw0tcJc"
      }
    },
    {
      "cell_type": "code",
      "source": [
        "print(\"request body:\", r.request.body)"
      ],
      "metadata": {
        "colab": {
          "base_uri": "https://localhost:8080/"
        },
        "id": "qPRpiYVbsgHM",
        "outputId": "ed9e0c1d-91e7-4391-9494-2b8e0b081725"
      },
      "execution_count": 85,
      "outputs": [
        {
          "output_type": "stream",
          "name": "stdout",
          "text": [
            "request body: None\n"
          ]
        }
      ]
    },
    {
      "cell_type": "markdown",
      "source": [
        "You can view the <code>HTTP</code> response header using the attribute <code>headers</code>. This returns a python dictionary of <code>HTTP</code> response headers.\n"
      ],
      "metadata": {
        "id": "0vKon0VTtfAz"
      }
    },
    {
      "cell_type": "code",
      "source": [
        "header=r.headers\n",
        "print(r.headers)"
      ],
      "metadata": {
        "colab": {
          "base_uri": "https://localhost:8080/"
        },
        "id": "dtr-_gVdsj-b",
        "outputId": "88befe49-1814-4062-f10a-163b9e725d69"
      },
      "execution_count": 86,
      "outputs": [
        {
          "output_type": "stream",
          "name": "stdout",
          "text": [
            "{'Server': 'Apache', 'Last-Modified': 'Wed, 12 Oct 2022 16:25:55 GMT', 'ETag': '\"14d6e-5ead8d8dc4838-gzip\"', 'Accept-Ranges': 'bytes', 'Content-Encoding': 'gzip', 'Content-Type': 'text/html', 'Cache-Control': 'max-age=3600', 'Expires': 'Sun, 16 Oct 2022 17:47:54 GMT', 'X-Akamai-Transformed': '9 17719 0 pmb=mTOE,2', 'Date': 'Sun, 16 Oct 2022 16:47:54 GMT', 'Content-Length': '17898', 'Connection': 'keep-alive', 'Vary': 'Accept-Encoding', 'x-content-type-options': 'nosniff', 'X-XSS-Protection': '1; mode=block', 'Content-Security-Policy': 'upgrade-insecure-requests', 'Strict-Transport-Security': 'max-age=31536000'}\n"
          ]
        }
      ]
    },
    {
      "cell_type": "code",
      "source": [
        "header['date']"
      ],
      "metadata": {
        "colab": {
          "base_uri": "https://localhost:8080/",
          "height": 35
        },
        "id": "pKqqFO9xslG7",
        "outputId": "3d3d57f7-8332-4497-85ed-d1b3ac60d369"
      },
      "execution_count": 87,
      "outputs": [
        {
          "output_type": "execute_result",
          "data": {
            "text/plain": [
              "'Sun, 16 Oct 2022 16:47:54 GMT'"
            ],
            "application/vnd.google.colaboratory.intrinsic+json": {
              "type": "string"
            }
          },
          "metadata": {},
          "execution_count": 87
        }
      ]
    },
    {
      "cell_type": "code",
      "source": [
        "header['Content-Type']"
      ],
      "metadata": {
        "colab": {
          "base_uri": "https://localhost:8080/",
          "height": 35
        },
        "id": "8ehEqUtPsmHf",
        "outputId": "267f6b32-2991-445f-96c3-1fc087e00c61"
      },
      "execution_count": 88,
      "outputs": [
        {
          "output_type": "execute_result",
          "data": {
            "text/plain": [
              "'text/html'"
            ],
            "application/vnd.google.colaboratory.intrinsic+json": {
              "type": "string"
            }
          },
          "metadata": {},
          "execution_count": 88
        }
      ]
    },
    {
      "cell_type": "code",
      "source": [
        " r.encoding"
      ],
      "metadata": {
        "colab": {
          "base_uri": "https://localhost:8080/",
          "height": 35
        },
        "id": "wSQcDKBIsnYk",
        "outputId": "6b8d99b7-f309-4e49-b5b4-a06142d4c0c9"
      },
      "execution_count": 89,
      "outputs": [
        {
          "output_type": "execute_result",
          "data": {
            "text/plain": [
              "'ISO-8859-1'"
            ],
            "application/vnd.google.colaboratory.intrinsic+json": {
              "type": "string"
            }
          },
          "metadata": {},
          "execution_count": 89
        }
      ]
    },
    {
      "cell_type": "markdown",
      "source": [
        "As the <code>Content-Type</code> is <code>text/html</code> we can use the attribute <code>text</code> to display the <code>HTML</code> in the body. We can review the first 100 characters:\n"
      ],
      "metadata": {
        "id": "a9cOb2LFtm-v"
      }
    },
    {
      "cell_type": "code",
      "source": [
        "r.text[0:100]"
      ],
      "metadata": {
        "colab": {
          "base_uri": "https://localhost:8080/",
          "height": 35
        },
        "id": "cRQk13Ugsocb",
        "outputId": "98fd9dbb-621a-4dbf-f0eb-4d0754a5cd0c"
      },
      "execution_count": 90,
      "outputs": [
        {
          "output_type": "execute_result",
          "data": {
            "text/plain": [
              "'<!DOCTYPE html><html lang=\"en-US\"><head><meta name=\"viewport\" content=\"width=device-width\"/><meta ch'"
            ],
            "application/vnd.google.colaboratory.intrinsic+json": {
              "type": "string"
            }
          },
          "metadata": {},
          "execution_count": 90
        }
      ]
    },
    {
      "cell_type": "markdown",
      "source": [
        "You can load other types of data for non-text requests, like images. Consider the URL of the following image"
      ],
      "metadata": {
        "id": "yOzXD60QtrKB"
      }
    },
    {
      "cell_type": "code",
      "source": [
        "# Use single quotation marks for defining string\n",
        "url='https://cf-courses-data.s3.us.cloud-object-storage.appdomain.cloud/IBMDeveloperSkillsNetwork-PY0101EN-SkillsNetwork/IDSNlogo.png'"
      ],
      "metadata": {
        "id": "Y3zvD_zaspmP"
      },
      "execution_count": 91,
      "outputs": []
    },
    {
      "cell_type": "code",
      "source": [
        "r=requests.get(url)"
      ],
      "metadata": {
        "id": "e8L1fXDvsrSO"
      },
      "execution_count": 92,
      "outputs": []
    },
    {
      "cell_type": "code",
      "source": [
        "print(r.headers)"
      ],
      "metadata": {
        "colab": {
          "base_uri": "https://localhost:8080/"
        },
        "id": "pPWHj0WQssej",
        "outputId": "48169550-7167-40c8-db4d-1e2afb1c97c6"
      },
      "execution_count": 93,
      "outputs": [
        {
          "output_type": "stream",
          "name": "stdout",
          "text": [
            "{'Date': 'Sun, 16 Oct 2022 16:48:55 GMT', 'X-Clv-Request-Id': 'bb899ad7-efde-4d03-ac7c-8c3b3ea97dac', 'Server': 'Cleversafe', 'X-Clv-S3-Version': '2.5', 'Accept-Ranges': 'bytes', 'x-amz-request-id': 'bb899ad7-efde-4d03-ac7c-8c3b3ea97dac', 'Cache-Control': 'max-age=0,public', 'ETag': '\"a831e767d02efd21b904ec485ac0c769\"', 'Content-Type': 'image/png', 'Last-Modified': 'Wed, 12 Oct 2022 22:35:36 GMT', 'Content-Length': '21590'}\n"
          ]
        }
      ]
    },
    {
      "cell_type": "code",
      "source": [
        "r.headers['Content-Type']"
      ],
      "metadata": {
        "colab": {
          "base_uri": "https://localhost:8080/",
          "height": 35
        },
        "id": "6Z1SJQ2_stkl",
        "outputId": "0b935315-e1f6-485d-b942-82085d3c8c30"
      },
      "execution_count": 94,
      "outputs": [
        {
          "output_type": "execute_result",
          "data": {
            "text/plain": [
              "'image/png'"
            ],
            "application/vnd.google.colaboratory.intrinsic+json": {
              "type": "string"
            }
          },
          "metadata": {},
          "execution_count": 94
        }
      ]
    },
    {
      "cell_type": "markdown",
      "source": [
        "An image is a response object that contains the image as a bytes-like object. As a result, we must save it using a file object. First, we specify the file path and name\n"
      ],
      "metadata": {
        "id": "JnXrrZIUtvZr"
      }
    },
    {
      "cell_type": "code",
      "source": [
        "path=os.path.join(os.getcwd(),'image.png')\n",
        "path"
      ],
      "metadata": {
        "colab": {
          "base_uri": "https://localhost:8080/",
          "height": 35
        },
        "id": "fg-RxHotsu8D",
        "outputId": "bd0544fc-08a3-4d82-9b32-5dc98cf893dd"
      },
      "execution_count": 95,
      "outputs": [
        {
          "output_type": "execute_result",
          "data": {
            "text/plain": [
              "'/content/image.png'"
            ],
            "application/vnd.google.colaboratory.intrinsic+json": {
              "type": "string"
            }
          },
          "metadata": {},
          "execution_count": 95
        }
      ]
    },
    {
      "cell_type": "markdown",
      "source": [
        "We save the file, in order to access the body of the response we use the attribute <code>content</code> then save it using the <code>open</code> function and write <code>method</code>:"
      ],
      "metadata": {
        "id": "pNS-WvyIty0P"
      }
    },
    {
      "cell_type": "code",
      "source": [
        "with open(path,'wb') as f:\n",
        "    f.write(r.content)"
      ],
      "metadata": {
        "id": "3_ZbY_7Hsv7e"
      },
      "execution_count": 96,
      "outputs": []
    },
    {
      "cell_type": "code",
      "source": [
        "Image.open(path)  "
      ],
      "metadata": {
        "colab": {
          "base_uri": "https://localhost:8080/",
          "height": 817
        },
        "id": "AFJSNMAysxEw",
        "outputId": "946171d2-0a44-48c1-ba9a-6dee73514204"
      },
      "execution_count": 97,
      "outputs": [
        {
          "output_type": "execute_result",
          "data": {
            "text/plain": [
              "<PIL.PngImagePlugin.PngImageFile image mode=P size=800x800 at 0x7F6FD18EB890>"
            ],
            "image/png": "[encoded data removed]"
          },
          "metadata": {},
          "execution_count": 97
        }
      ]
    },
    {
      "cell_type": "markdown",
      "source": [
        "In the previous section, we used the <code>wget</code> function to retrieve content from the web server as shown below.  Write the python code to perform the same task. The code should be the same as the one used to download the image, but the file name should be <code>'Example1.txt'</code>."
      ],
      "metadata": {
        "id": "668UOhUBt2RY"
      }
    },
    {
      "cell_type": "markdown",
      "source": [
        "<code>!wget -O /resources/data/Example1.txt <https://cf-courses-data.s3.us.cloud-object-storage.appdomain.cloud/IBMDeveloperSkillsNetwork-PY0101EN-SkillsNetwork/labs/Module%205/data/Example1.txt></code>"
      ],
      "metadata": {
        "id": "GIUFftE8t4I_"
      }
    },
    {
      "cell_type": "code",
      "source": [
        "url='https://cf-courses-data.s3.us.cloud-object-storage.appdomain.cloud/IBMDeveloperSkillsNetwork-PY0101EN-SkillsNetwork/labs/Module%205/data/Example1.txt'\n",
        "path=os.path.join(os.getcwd(),'example1.txt')\n",
        "r=requests.get(url)\n",
        "with open(path,'wb') as f:\n",
        "    f.write(r.content)"
      ],
      "metadata": {
        "id": "s_PIkGOwsx86"
      },
      "execution_count": 98,
      "outputs": []
    },
    {
      "cell_type": "markdown",
      "source": [
        "You can use the GET method to modify the results of your query, for example retrieving data from an API. We send a GET request to the server. Like before we have the Base URL, in the Route we append /get, this indicates we would like to preform a GET request. This is demonstrated in the following table:"
      ],
      "metadata": {
        "id": "WxTzva1Wt8bD"
      }
    },
    {
      "cell_type": "markdown",
      "source": [
        "The Base URL is for http://httpbin.org/ is a simple HTTP Request & Response Service. The URL in Python is given by:"
      ],
      "metadata": {
        "id": "J8sRbV5xt_V7"
      }
    },
    {
      "cell_type": "code",
      "source": [
        "url_get='http://httpbin.org/get'"
      ],
      "metadata": {
        "id": "8VCnvTQ2szmz"
      },
      "execution_count": 99,
      "outputs": []
    },
    {
      "cell_type": "markdown",
      "source": [
        "A query string is a part of a uniform resource locator (URL), this sends other information to the web server. The start of the query is a ?, followed by a series of parameter and value pairs, as shown in the table below. The first parameter name is name and the value is Joseph. The second parameter name is ID and the Value is 123. Each pair, parameter, and value is separated by an equals sign, =. The series of pairs is separated by the ampersand &."
      ],
      "metadata": {
        "id": "fykS5IQyuB9z"
      }
    },
    {
      "cell_type": "markdown",
      "source": [
        "To create a Query string, add a dictionary. The keys are the parameter names and the values are the value of the Query string.\n"
      ],
      "metadata": {
        "id": "GXkBOmgtuDsj"
      }
    },
    {
      "cell_type": "code",
      "source": [
        "payload={\"name\":\"Joseph\",\"ID\":\"123\"}"
      ],
      "metadata": {
        "id": "yUnkJ5Rts1F6"
      },
      "execution_count": 100,
      "outputs": []
    },
    {
      "cell_type": "code",
      "source": [
        "r=requests.get(url_get,params=payload)"
      ],
      "metadata": {
        "id": "Wm-Db50os2V8"
      },
      "execution_count": 101,
      "outputs": []
    },
    {
      "cell_type": "markdown",
      "source": [
        "Then passing the dictionary payload to the params parameter of the  get() function:"
      ],
      "metadata": {
        "id": "2_TipHnyuG4z"
      }
    },
    {
      "cell_type": "code",
      "source": [
        "r.url"
      ],
      "metadata": {
        "colab": {
          "base_uri": "https://localhost:8080/",
          "height": 35
        },
        "id": "A9W8yq0as3gt",
        "outputId": "8ad45813-a571-4936-94d2-3660cc5a9823"
      },
      "execution_count": 102,
      "outputs": [
        {
          "output_type": "execute_result",
          "data": {
            "text/plain": [
              "'http://httpbin.org/get?name=Joseph&ID=123'"
            ],
            "application/vnd.google.colaboratory.intrinsic+json": {
              "type": "string"
            }
          },
          "metadata": {},
          "execution_count": 102
        }
      ]
    },
    {
      "cell_type": "markdown",
      "source": [
        "We can print out the URL and see the name and values"
      ],
      "metadata": {
        "id": "71_DNd2-uKnf"
      }
    },
    {
      "cell_type": "code",
      "source": [
        "print(\"request body:\", r.request.body)"
      ],
      "metadata": {
        "colab": {
          "base_uri": "https://localhost:8080/"
        },
        "id": "lUWiz53is4UI",
        "outputId": "d5daf445-8ad3-4313-be3a-e85b22f78cc8"
      },
      "execution_count": 103,
      "outputs": [
        {
          "output_type": "stream",
          "name": "stdout",
          "text": [
            "request body: None\n"
          ]
        }
      ]
    },
    {
      "cell_type": "code",
      "source": [
        "print(r.status_code)"
      ],
      "metadata": {
        "colab": {
          "base_uri": "https://localhost:8080/"
        },
        "id": "uliZxa9ps5WE",
        "outputId": "80f044b2-d8a4-4059-fc51-a645af204bda"
      },
      "execution_count": 104,
      "outputs": [
        {
          "output_type": "stream",
          "name": "stdout",
          "text": [
            "200\n"
          ]
        }
      ]
    },
    {
      "cell_type": "markdown",
      "source": [
        "We can view the response as text:\n"
      ],
      "metadata": {
        "id": "-uEXqVm4uOjA"
      }
    },
    {
      "cell_type": "code",
      "source": [
        "print(r.text)"
      ],
      "metadata": {
        "colab": {
          "base_uri": "https://localhost:8080/"
        },
        "id": "jV66QYX8s60A",
        "outputId": "85e86a09-d3e3-4e4b-8de0-ff29686fa372"
      },
      "execution_count": 105,
      "outputs": [
        {
          "output_type": "stream",
          "name": "stdout",
          "text": [
            "{\n",
            "  \"args\": {\n",
            "    \"ID\": \"123\", \n",
            "    \"name\": \"Joseph\"\n",
            "  }, \n",
            "  \"headers\": {\n",
            "    \"Accept\": \"*/*\", \n",
            "    \"Accept-Encoding\": \"gzip, deflate\", \n",
            "    \"Host\": \"httpbin.org\", \n",
            "    \"User-Agent\": \"python-requests/2.23.0\", \n",
            "    \"X-Amzn-Trace-Id\": \"Root=1-634c3624-3a0f95f24ee6f768796a1e86\"\n",
            "  }, \n",
            "  \"origin\": \"35.192.55.162\", \n",
            "  \"url\": \"http://httpbin.org/get?name=Joseph&ID=123\"\n",
            "}\n",
            "\n"
          ]
        }
      ]
    },
    {
      "cell_type": "code",
      "source": [
        "r.headers['Content-Type']"
      ],
      "metadata": {
        "colab": {
          "base_uri": "https://localhost:8080/",
          "height": 35
        },
        "id": "iGAJNsURs8Vi",
        "outputId": "5836bc0d-b800-40d4-f052-2ed161bbd4fb"
      },
      "execution_count": 106,
      "outputs": [
        {
          "output_type": "execute_result",
          "data": {
            "text/plain": [
              "'application/json'"
            ],
            "application/vnd.google.colaboratory.intrinsic+json": {
              "type": "string"
            }
          },
          "metadata": {},
          "execution_count": 106
        }
      ]
    },
    {
      "cell_type": "markdown",
      "source": [
        "As the content <code>'Content-Type'</code> is in the <code>JSON</code> format we can use the method <code>json()</code>, it returns a Python <code>dict</code>:\n"
      ],
      "metadata": {
        "id": "obqEZmp4uSX_"
      }
    },
    {
      "cell_type": "code",
      "source": [
        "r.json()"
      ],
      "metadata": {
        "colab": {
          "base_uri": "https://localhost:8080/"
        },
        "id": "0hZaq3tzs9m-",
        "outputId": "995e294e-8cb1-4c0a-c68d-f62135437f37"
      },
      "execution_count": 114,
      "outputs": [
        {
          "output_type": "execute_result",
          "data": {
            "text/plain": [
              "{'args': {'ID': '123', 'name': 'Joseph'},\n",
              " 'headers': {'Accept': '*/*',\n",
              "  'Accept-Encoding': 'gzip, deflate',\n",
              "  'Host': 'httpbin.org',\n",
              "  'User-Agent': 'python-requests/2.23.0',\n",
              "  'X-Amzn-Trace-Id': 'Root=1-634c3624-3a0f95f24ee6f768796a1e86'},\n",
              " 'origin': '35.192.55.162',\n",
              " 'url': 'http://httpbin.org/get?name=Joseph&ID=123'}"
            ]
          },
          "metadata": {},
          "execution_count": 114
        }
      ]
    },
    {
      "cell_type": "code",
      "source": [
        "r.json()['args']"
      ],
      "metadata": {
        "colab": {
          "base_uri": "https://localhost:8080/"
        },
        "id": "THFO7EAMs-l8",
        "outputId": "91f544e3-9743-4a22-9c18-a3ad260b9f8b"
      },
      "execution_count": 108,
      "outputs": [
        {
          "output_type": "execute_result",
          "data": {
            "text/plain": [
              "{'ID': '123', 'name': 'Joseph'}"
            ]
          },
          "metadata": {},
          "execution_count": 108
        }
      ]
    },
    {
      "cell_type": "markdown",
      "source": [
        "POST REQUESTS"
      ],
      "metadata": {
        "id": "aod-NT76uYBL"
      }
    },
    {
      "cell_type": "markdown",
      "source": [
        "Like a <code>GET</code> request, a <code>POST</code> is used to send data to a server, but the <code>POST</code> request sends the data in a request body. In order to send the Post Request in Python, in the <code>URL</code> we change the route to <code>POST</code>:"
      ],
      "metadata": {
        "id": "09IfkKfTuWmY"
      }
    },
    {
      "cell_type": "code",
      "source": [
        "url_post='http://httpbin.org/post'"
      ],
      "metadata": {
        "id": "c-1sdWrMs_sQ"
      },
      "execution_count": 109,
      "outputs": []
    },
    {
      "cell_type": "markdown",
      "source": [
        "This endpoint will expect data as a file or as a form. A form is convenient way to configure an HTTP request to send data to a server.\n",
        "To make a <code>POST</code> request we use the <code>post()</code> function, the variable <code>payload</code> is passed to the parameter <code> data </code>:\n"
      ],
      "metadata": {
        "id": "SFTJgBDjudN_"
      }
    },
    {
      "cell_type": "code",
      "source": [
        "r_post=requests.post(url_post,data=payload)"
      ],
      "metadata": {
        "id": "vpAeZdlLtA5A"
      },
      "execution_count": 110,
      "outputs": []
    },
    {
      "cell_type": "markdown",
      "source": [
        "Comparing the URL from the response object of the <code>GET</code> and <code>POST</code> request we see the <code>POST</code> request has no name or value pairs.\n"
      ],
      "metadata": {
        "id": "7QmUBKH-ugxb"
      }
    },
    {
      "cell_type": "code",
      "source": [
        "print(\"POST request URL:\",r_post.url )\n",
        "print(\"GET request URL:\",r.url)"
      ],
      "metadata": {
        "colab": {
          "base_uri": "https://localhost:8080/"
        },
        "id": "cvjAjwoetB-N",
        "outputId": "cda87891-6a35-4eb1-d020-dae5b3a8fe2f"
      },
      "execution_count": 111,
      "outputs": [
        {
          "output_type": "stream",
          "name": "stdout",
          "text": [
            "POST request URL: http://httpbin.org/post\n",
            "GET request URL: http://httpbin.org/get?name=Joseph&ID=123\n"
          ]
        }
      ]
    },
    {
      "cell_type": "markdown",
      "source": [
        "We can compare the <code>POST</code> and <code>GET</code> request body, we see only the <code>POST</code> request has a body:\n"
      ],
      "metadata": {
        "id": "pKTWW4sZujLD"
      }
    },
    {
      "cell_type": "code",
      "source": [
        "print(\"POST request body:\",r_post.request.body)\n",
        "print(\"GET request body:\",r.request.body)"
      ],
      "metadata": {
        "colab": {
          "base_uri": "https://localhost:8080/"
        },
        "id": "r58NDH69tDD9",
        "outputId": "776941bf-8ea0-4f20-e2f3-a166109e67e0"
      },
      "execution_count": 112,
      "outputs": [
        {
          "output_type": "stream",
          "name": "stdout",
          "text": [
            "POST request body: name=Joseph&ID=123\n",
            "GET request body: None\n"
          ]
        }
      ]
    },
    {
      "cell_type": "markdown",
      "source": [
        "We can view the form as well:"
      ],
      "metadata": {
        "id": "OwyPViR-ulE9"
      }
    },
    {
      "cell_type": "code",
      "source": [
        "r_post.json()['form']"
      ],
      "metadata": {
        "colab": {
          "base_uri": "https://localhost:8080/"
        },
        "id": "ok3XJEVttEcX",
        "outputId": "40e74c60-a4c5-4f0b-baa4-dd8089d5ec70"
      },
      "execution_count": 113,
      "outputs": [
        {
          "output_type": "execute_result",
          "data": {
            "text/plain": [
              "{'ID': '123', 'name': 'Joseph'}"
            ]
          },
          "metadata": {},
          "execution_count": 113
        }
      ]
    },
    {
      "cell_type": "markdown",
      "source": [
        "## Simple APIs"
      ],
      "metadata": {
        "id": "uOYvA5a5u6V8"
      }
    },
    {
      "cell_type": "code",
      "source": [
        "!pip install randomuser"
      ],
      "metadata": {
        "colab": {
          "base_uri": "https://localhost:8080/"
        },
        "id": "kYfDZQ81u7ii",
        "outputId": "4274732f-002e-4b80-d8f2-700d604deda0"
      },
      "execution_count": 115,
      "outputs": [
        {
          "output_type": "stream",
          "name": "stdout",
          "text": [
            "Looking in indexes: https://pypi.org/simple, https://us-python.pkg.dev/colab-wheels/public/simple/\n",
            "Collecting randomuser\n",
            "  Downloading randomuser-1.6.tar.gz (5.0 kB)\n",
            "Building wheels for collected packages: randomuser\n",
            "  Building wheel for randomuser (setup.py) ... \u001b[?25l\u001b[?25hdone\n",
            "  Created wheel for randomuser: filename=randomuser-1.6-py3-none-any.whl size=5084 sha256=39ab80a37ba2aa4edc4c677c1f4c80e5468996dd2d08284910e65086b0b340fa\n",
            "  Stored in directory: /root/.cache/pip/wheels/21/10/7b/c13bc3e24a3c1000a34554802ad8aa0ff27df56366998a0473\n",
            "Successfully built randomuser\n",
            "Installing collected packages: randomuser\n",
            "Successfully installed randomuser-1.6\n"
          ]
        }
      ]
    },
    {
      "cell_type": "code",
      "source": [
        "from randomuser import RandomUser\n",
        "import pandas as pd"
      ],
      "metadata": {
        "id": "Y2FJp9L45dpv"
      },
      "execution_count": 116,
      "outputs": []
    },
    {
      "cell_type": "code",
      "source": [
        "r = RandomUser()"
      ],
      "metadata": {
        "id": "VQAhKeQy5fs0"
      },
      "execution_count": 117,
      "outputs": []
    },
    {
      "cell_type": "code",
      "source": [
        "some_list = r.generate_users(10)\n",
        "some_list"
      ],
      "metadata": {
        "colab": {
          "base_uri": "https://localhost:8080/"
        },
        "id": "Ed00wqep5gny",
        "outputId": "5b183516-89c0-4e74-cc79-dbf871bcfaab"
      },
      "execution_count": 118,
      "outputs": [
        {
          "output_type": "execute_result",
          "data": {
            "text/plain": [
              "[<randomuser.RandomUser at 0x7f6fcb065f90>,\n",
              " <randomuser.RandomUser at 0x7f6fcb065fd0>,\n",
              " <randomuser.RandomUser at 0x7f6fcb067050>,\n",
              " <randomuser.RandomUser at 0x7f6fcb067090>,\n",
              " <randomuser.RandomUser at 0x7f6fcb0670d0>,\n",
              " <randomuser.RandomUser at 0x7f6fcb067150>,\n",
              " <randomuser.RandomUser at 0x7f6fcb067190>,\n",
              " <randomuser.RandomUser at 0x7f6fcb0671d0>,\n",
              " <randomuser.RandomUser at 0x7f6fcb067210>,\n",
              " <randomuser.RandomUser at 0x7f6fcb067110>]"
            ]
          },
          "metadata": {},
          "execution_count": 118
        }
      ]
    },
    {
      "cell_type": "code",
      "source": [
        "name = r.get_full_name()"
      ],
      "metadata": {
        "id": "E616tJkt5jh1"
      },
      "execution_count": 119,
      "outputs": []
    },
    {
      "cell_type": "code",
      "source": [
        "for user in some_list:\n",
        "    print (user.get_full_name(),\" \",user.get_email())"
      ],
      "metadata": {
        "colab": {
          "base_uri": "https://localhost:8080/"
        },
        "id": "NRzio7qB5k9c",
        "outputId": "41c02de3-1f75-4967-f44b-d72962931bee"
      },
      "execution_count": 120,
      "outputs": [
        {
          "output_type": "stream",
          "name": "stdout",
          "text": [
            "Cecilie Christiansen   cecilie.christiansen@example.com\n",
            "Brynjar Lindgren   brynjar.lindgren@example.com\n",
            "Elya Aubert   elya.aubert@example.com\n",
            "Lea Hansen   lea.hansen@example.com\n",
            "Austin Hall   austin.hall@example.com\n",
            "Baran Van de Streek   baran.vandestreek@example.com\n",
            "Erique Vieira   erique.vieira@example.com\n",
            "Antonina Bohlen   antonina.bohlen@example.com\n",
            "Jamie Clark   jamie.clark@example.com\n",
            "Leon King   leon.king@example.com\n"
          ]
        }
      ]
    },
    {
      "cell_type": "code",
      "source": [
        "## Write your code here\n",
        "for user in some_list:\n",
        "    print (user.get_picture())"
      ],
      "metadata": {
        "colab": {
          "base_uri": "https://localhost:8080/"
        },
        "id": "D3VQWVtP5mBn",
        "outputId": "4a9d5537-bda6-421c-b116-b4664a312441"
      },
      "execution_count": 121,
      "outputs": [
        {
          "output_type": "stream",
          "name": "stdout",
          "text": [
            "https://randomuser.me/api/portraits/women/38.jpg\n",
            "https://randomuser.me/api/portraits/men/65.jpg\n",
            "https://randomuser.me/api/portraits/women/21.jpg\n",
            "https://randomuser.me/api/portraits/women/64.jpg\n",
            "https://randomuser.me/api/portraits/men/71.jpg\n",
            "https://randomuser.me/api/portraits/men/73.jpg\n",
            "https://randomuser.me/api/portraits/men/96.jpg\n",
            "https://randomuser.me/api/portraits/women/2.jpg\n",
            "https://randomuser.me/api/portraits/men/11.jpg\n",
            "https://randomuser.me/api/portraits/men/32.jpg\n"
          ]
        }
      ]
    },
    {
      "cell_type": "code",
      "source": [
        "def get_users():\n",
        "    users =[]\n",
        "     \n",
        "    for user in RandomUser.generate_users(10):\n",
        "        users.append({\"Name\":user.get_full_name(),\"Gender\":user.get_gender(),\"City\":user.get_city(),\"State\":user.get_state(),\"Email\":user.get_email(), \"DOB\":user.get_dob(),\"Picture\":user.get_picture()})\n",
        "      \n",
        "    return pd.DataFrame(users) "
      ],
      "metadata": {
        "id": "_8men7N65n1z"
      },
      "execution_count": 122,
      "outputs": []
    },
    {
      "cell_type": "code",
      "source": [
        "get_users()"
      ],
      "metadata": {
        "colab": {
          "base_uri": "https://localhost:8080/",
          "height": 363
        },
        "id": "6PlIjV1e5pRZ",
        "outputId": "f3ec54e3-cd47-4ada-b148-5ac34d669809"
      },
      "execution_count": 123,
      "outputs": [
        {
          "output_type": "execute_result",
          "data": {
            "text/plain": [
              "               Name  Gender                      City  \\\n",
              "0       Jeff Gibson    male               Duncanville   \n",
              "1     Méline Dufour  female                  Nanterre   \n",
              "2         احسان صدر    male                       کرج   \n",
              "3     Alma Johansen  female               Stokkemarke   \n",
              "4          Avery Ma  female                     Elgin   \n",
              "5      Morris Baker    male                 Melbourne   \n",
              "6     Jesus Lambert    male                 Stevenage   \n",
              "7  Loretta Liebmann  female  Geislingen an der Steige   \n",
              "8       Ronja Tuomi  female                Hämeenkyrö   \n",
              "9    Eiril Ulleberg  female                     Tanem   \n",
              "\n",
              "                       State                         Email  \\\n",
              "0                   New York       jeff.gibson@example.com   \n",
              "1                      Paris     meline.dufour@example.com   \n",
              "2                خراسان رضوی           hsn.sdr@example.com   \n",
              "3                 Syddanmark     alma.johansen@example.com   \n",
              "4  Newfoundland and Labrador          avery.ma@example.com   \n",
              "5         Northern Territory      morris.baker@example.com   \n",
              "6              Herefordshire     jesus.lambert@example.com   \n",
              "7            Rheinland-Pfalz  loretta.liebmann@example.com   \n",
              "8               Ostrobothnia       ronja.tuomi@example.com   \n",
              "9       Finnmark - Finnmárku    eiril.ulleberg@example.com   \n",
              "\n",
              "                        DOB                                           Picture  \n",
              "0  1956-09-10T21:02:55.784Z    https://randomuser.me/api/portraits/men/87.jpg  \n",
              "1  1997-12-26T01:53:47.775Z  https://randomuser.me/api/portraits/women/18.jpg  \n",
              "2  1997-01-24T00:09:45.884Z    https://randomuser.me/api/portraits/men/98.jpg  \n",
              "3  1984-10-13T08:43:07.922Z  https://randomuser.me/api/portraits/women/63.jpg  \n",
              "4  1974-05-31T10:41:06.139Z  https://randomuser.me/api/portraits/women/68.jpg  \n",
              "5  1950-08-23T03:52:46.678Z    https://randomuser.me/api/portraits/men/58.jpg  \n",
              "6  1953-10-06T13:37:44.544Z    https://randomuser.me/api/portraits/men/88.jpg  \n",
              "7  1985-06-26T09:06:11.388Z  https://randomuser.me/api/portraits/women/27.jpg  \n",
              "8  1955-04-29T18:07:22.147Z  https://randomuser.me/api/portraits/women/38.jpg  \n",
              "9  1968-08-26T04:06:50.039Z  https://randomuser.me/api/portraits/women/48.jpg  "
            ],
            "text/html": [
              "\n",
              "  <div id=\"df-c200dbdb-d26f-4a7b-b206-90a0ddcc8f86\">\n",
              "    <div class=\"colab-df-container\">\n",
              "      <div>\n",
              "<style scoped>\n",
              "    .dataframe tbody tr th:only-of-type {\n",
              "        vertical-align: middle;\n",
              "    }\n",
              "\n",
              "    .dataframe tbody tr th {\n",
              "        vertical-align: top;\n",
              "    }\n",
              "\n",
              "    .dataframe thead th {\n",
              "        text-align: right;\n",
              "    }\n",
              "</style>\n",
              "<table border=\"1\" class=\"dataframe\">\n",
              "  <thead>\n",
              "    <tr style=\"text-align: right;\">\n",
              "      <th></th>\n",
              "      <th>Name</th>\n",
              "      <th>Gender</th>\n",
              "      <th>City</th>\n",
              "      <th>State</th>\n",
              "      <th>Email</th>\n",
              "      <th>DOB</th>\n",
              "      <th>Picture</th>\n",
              "    </tr>\n",
              "  </thead>\n",
              "  <tbody>\n",
              "    <tr>\n",
              "      <th>0</th>\n",
              "      <td>Jeff Gibson</td>\n",
              "      <td>male</td>\n",
              "      <td>Duncanville</td>\n",
              "      <td>New York</td>\n",
              "      <td>jeff.gibson@example.com</td>\n",
              "      <td>1956-09-10T21:02:55.784Z</td>\n",
              "      <td>https://randomuser.me/api/portraits/men/87.jpg</td>\n",
              "    </tr>\n",
              "    <tr>\n",
              "      <th>1</th>\n",
              "      <td>Méline Dufour</td>\n",
              "      <td>female</td>\n",
              "      <td>Nanterre</td>\n",
              "      <td>Paris</td>\n",
              "      <td>meline.dufour@example.com</td>\n",
              "      <td>1997-12-26T01:53:47.775Z</td>\n",
              "      <td>https://randomuser.me/api/portraits/women/18.jpg</td>\n",
              "    </tr>\n",
              "    <tr>\n",
              "      <th>2</th>\n",
              "      <td>احسان صدر</td>\n",
              "      <td>male</td>\n",
              "      <td>کرج</td>\n",
              "      <td>خراسان رضوی</td>\n",
              "      <td>hsn.sdr@example.com</td>\n",
              "      <td>1997-01-24T00:09:45.884Z</td>\n",
              "      <td>https://randomuser.me/api/portraits/men/98.jpg</td>\n",
              "    </tr>\n",
              "    <tr>\n",
              "      <th>3</th>\n",
              "      <td>Alma Johansen</td>\n",
              "      <td>female</td>\n",
              "      <td>Stokkemarke</td>\n",
              "      <td>Syddanmark</td>\n",
              "      <td>alma.johansen@example.com</td>\n",
              "      <td>1984-10-13T08:43:07.922Z</td>\n",
              "      <td>https://randomuser.me/api/portraits/women/63.jpg</td>\n",
              "    </tr>\n",
              "    <tr>\n",
              "      <th>4</th>\n",
              "      <td>Avery Ma</td>\n",
              "      <td>female</td>\n",
              "      <td>Elgin</td>\n",
              "      <td>Newfoundland and Labrador</td>\n",
              "      <td>avery.ma@example.com</td>\n",
              "      <td>1974-05-31T10:41:06.139Z</td>\n",
              "      <td>https://randomuser.me/api/portraits/women/68.jpg</td>\n",
              "    </tr>\n",
              "    <tr>\n",
              "      <th>5</th>\n",
              "      <td>Morris Baker</td>\n",
              "      <td>male</td>\n",
              "      <td>Melbourne</td>\n",
              "      <td>Northern Territory</td>\n",
              "      <td>morris.baker@example.com</td>\n",
              "      <td>1950-08-23T03:52:46.678Z</td>\n",
              "      <td>https://randomuser.me/api/portraits/men/58.jpg</td>\n",
              "    </tr>\n",
              "    <tr>\n",
              "      <th>6</th>\n",
              "      <td>Jesus Lambert</td>\n",
              "      <td>male</td>\n",
              "      <td>Stevenage</td>\n",
              "      <td>Herefordshire</td>\n",
              "      <td>jesus.lambert@example.com</td>\n",
              "      <td>1953-10-06T13:37:44.544Z</td>\n",
              "      <td>https://randomuser.me/api/portraits/men/88.jpg</td>\n",
              "    </tr>\n",
              "    <tr>\n",
              "      <th>7</th>\n",
              "      <td>Loretta Liebmann</td>\n",
              "      <td>female</td>\n",
              "      <td>Geislingen an der Steige</td>\n",
              "      <td>Rheinland-Pfalz</td>\n",
              "      <td>loretta.liebmann@example.com</td>\n",
              "      <td>1985-06-26T09:06:11.388Z</td>\n",
              "      <td>https://randomuser.me/api/portraits/women/27.jpg</td>\n",
              "    </tr>\n",
              "    <tr>\n",
              "      <th>8</th>\n",
              "      <td>Ronja Tuomi</td>\n",
              "      <td>female</td>\n",
              "      <td>Hämeenkyrö</td>\n",
              "      <td>Ostrobothnia</td>\n",
              "      <td>ronja.tuomi@example.com</td>\n",
              "      <td>1955-04-29T18:07:22.147Z</td>\n",
              "      <td>https://randomuser.me/api/portraits/women/38.jpg</td>\n",
              "    </tr>\n",
              "    <tr>\n",
              "      <th>9</th>\n",
              "      <td>Eiril Ulleberg</td>\n",
              "      <td>female</td>\n",
              "      <td>Tanem</td>\n",
              "      <td>Finnmark - Finnmárku</td>\n",
              "      <td>eiril.ulleberg@example.com</td>\n",
              "      <td>1968-08-26T04:06:50.039Z</td>\n",
              "      <td>https://randomuser.me/api/portraits/women/48.jpg</td>\n",
              "    </tr>\n",
              "  </tbody>\n",
              "</table>\n",
              "</div>\n",
              "      <button class=\"colab-df-convert\" onclick=\"convertToInteractive('df-c200dbdb-d26f-4a7b-b206-90a0ddcc8f86')\"\n",
              "              title=\"Convert this dataframe to an interactive table.\"\n",
              "              style=\"display:none;\">\n",
              "        \n",
              "  <svg xmlns=\"http://www.w3.org/2000/svg\" height=\"24px\"viewBox=\"0 0 24 24\"\n",
              "       width=\"24px\">\n",
              "    <path d=\"M0 0h24v24H0V0z\" fill=\"none\"/>\n",
              "    <path d=\"M18.56 5.44l.94 2.06.94-2.06 2.06-.94-2.06-.94-.94-2.06-.94 2.06-2.06.94zm-11 1L8.5 8.5l.94-2.06 2.06-.94-2.06-.94L8.5 2.5l-.94 2.06-2.06.94zm10 10l.94 2.06.94-2.06 2.06-.94-2.06-.94-.94-2.06-.94 2.06-2.06.94z\"/><path d=\"M17.41 7.96l-1.37-1.37c-.4-.4-.92-.59-1.43-.59-.52 0-1.04.2-1.43.59L10.3 9.45l-7.72 7.72c-.78.78-.78 2.05 0 2.83L4 21.41c.39.39.9.59 1.41.59.51 0 1.02-.2 1.41-.59l7.78-7.78 2.81-2.81c.8-.78.8-2.07 0-2.86zM5.41 20L4 18.59l7.72-7.72 1.47 1.35L5.41 20z\"/>\n",
              "  </svg>\n",
              "      </button>\n",
              "      \n",
              "  <style>\n",
              "    .colab-df-container {\n",
              "      display:flex;\n",
              "      flex-wrap:wrap;\n",
              "      gap: 12px;\n",
              "    }\n",
              "\n",
              "    .colab-df-convert {\n",
              "      background-color: #E8F0FE;\n",
              "      border: none;\n",
              "      border-radius: 50%;\n",
              "      cursor: pointer;\n",
              "      display: none;\n",
              "      fill: #1967D2;\n",
              "      height: 32px;\n",
              "      padding: 0 0 0 0;\n",
              "      width: 32px;\n",
              "    }\n",
              "\n",
              "    .colab-df-convert:hover {\n",
              "      background-color: #E2EBFA;\n",
              "      box-shadow: 0px 1px 2px rgba(60, 64, 67, 0.3), 0px 1px 3px 1px rgba(60, 64, 67, 0.15);\n",
              "      fill: #174EA6;\n",
              "    }\n",
              "\n",
              "    [theme=dark] .colab-df-convert {\n",
              "      background-color: #3B4455;\n",
              "      fill: #D2E3FC;\n",
              "    }\n",
              "\n",
              "    [theme=dark] .colab-df-convert:hover {\n",
              "      background-color: #434B5C;\n",
              "      box-shadow: 0px 1px 3px 1px rgba(0, 0, 0, 0.15);\n",
              "      filter: drop-shadow(0px 1px 2px rgba(0, 0, 0, 0.3));\n",
              "      fill: #FFFFFF;\n",
              "    }\n",
              "  </style>\n",
              "\n",
              "      <script>\n",
              "        const buttonEl =\n",
              "          document.querySelector('#df-c200dbdb-d26f-4a7b-b206-90a0ddcc8f86 button.colab-df-convert');\n",
              "        buttonEl.style.display =\n",
              "          google.colab.kernel.accessAllowed ? 'block' : 'none';\n",
              "\n",
              "        async function convertToInteractive(key) {\n",
              "          const element = document.querySelector('#df-c200dbdb-d26f-4a7b-b206-90a0ddcc8f86');\n",
              "          const dataTable =\n",
              "            await google.colab.kernel.invokeFunction('convertToInteractive',\n",
              "                                                     [key], {});\n",
              "          if (!dataTable) return;\n",
              "\n",
              "          const docLinkHtml = 'Like what you see? Visit the ' +\n",
              "            '<a target=\"_blank\" href=https://colab.research.google.com/notebooks/data_table.ipynb>data table notebook</a>'\n",
              "            + ' to learn more about interactive tables.';\n",
              "          element.innerHTML = '';\n",
              "          dataTable['output_type'] = 'display_data';\n",
              "          await google.colab.output.renderOutput(dataTable, element);\n",
              "          const docLink = document.createElement('div');\n",
              "          docLink.innerHTML = docLinkHtml;\n",
              "          element.appendChild(docLink);\n",
              "        }\n",
              "      </script>\n",
              "    </div>\n",
              "  </div>\n",
              "  "
            ]
          },
          "metadata": {},
          "execution_count": 123
        }
      ]
    },
    {
      "cell_type": "code",
      "source": [
        "df1 = pd.DataFrame(get_users())\n",
        "df1"
      ],
      "metadata": {
        "colab": {
          "base_uri": "https://localhost:8080/",
          "height": 363
        },
        "id": "q-qkfD9X5qkA",
        "outputId": "f4995d74-70c8-4a48-a19f-00b55de67ebe"
      },
      "execution_count": 125,
      "outputs": [
        {
          "output_type": "execute_result",
          "data": {
            "text/plain": [
              "               Name  Gender          City                   State  \\\n",
              "0  Buse Kurutluoğlu  female        Yozgat                    Ordu   \n",
              "1    Ariana Pereira  female       Beltrum            Zuid-Holland   \n",
              "2     Enni Hokkanen  female     Mariehamn           South Karelia   \n",
              "3       Amelia Ross  female    Greystones  Dún Laoghaire–Rathdown   \n",
              "4   Martin Martinez    male       Bunbury      Northern Territory   \n",
              "5     Roope Seppala    male  Lappeenranta   Southern Ostrobothnia   \n",
              "6    Chantal Nguyen  female        Bühler            Schaffhausen   \n",
              "7   Mikkel Sørensen    male    Juelsminde                 Danmark   \n",
              "8      Alexia Lopez  female    Courbevoie                  Creuse   \n",
              "9       Eléa Girard  female     Montreuil                 Gironde   \n",
              "\n",
              "                          Email                       DOB  \\\n",
              "0  buse.kurutluoglu@example.com  1993-08-24T15:38:43.455Z   \n",
              "1    ariana.pereira@example.com  1961-05-19T13:17:27.108Z   \n",
              "2     enni.hokkanen@example.com  1977-08-24T01:09:15.748Z   \n",
              "3       amelia.ross@example.com  1967-08-06T18:01:20.657Z   \n",
              "4   martin.martinez@example.com  1952-05-11T07:50:00.280Z   \n",
              "5     roope.seppala@example.com  1950-06-19T04:36:33.965Z   \n",
              "6    chantal.nguyen@example.com  1953-02-03T19:40:38.312Z   \n",
              "7   mikkel.sorensen@example.com  1979-02-12T20:16:48.594Z   \n",
              "8      alexia.lopez@example.com  1988-11-17T07:40:37.738Z   \n",
              "9       elea.girard@example.com  1962-03-25T16:06:34.824Z   \n",
              "\n",
              "                                            Picture  \n",
              "0  https://randomuser.me/api/portraits/women/10.jpg  \n",
              "1  https://randomuser.me/api/portraits/women/19.jpg  \n",
              "2  https://randomuser.me/api/portraits/women/33.jpg  \n",
              "3  https://randomuser.me/api/portraits/women/58.jpg  \n",
              "4    https://randomuser.me/api/portraits/men/44.jpg  \n",
              "5    https://randomuser.me/api/portraits/men/78.jpg  \n",
              "6  https://randomuser.me/api/portraits/women/50.jpg  \n",
              "7    https://randomuser.me/api/portraits/men/26.jpg  \n",
              "8  https://randomuser.me/api/portraits/women/75.jpg  \n",
              "9  https://randomuser.me/api/portraits/women/79.jpg  "
            ],
            "text/html": [
              "\n",
              "  <div id=\"df-b734cc27-3b66-45fb-8c24-5e3123e6ed53\">\n",
              "    <div class=\"colab-df-container\">\n",
              "      <div>\n",
              "<style scoped>\n",
              "    .dataframe tbody tr th:only-of-type {\n",
              "        vertical-align: middle;\n",
              "    }\n",
              "\n",
              "    .dataframe tbody tr th {\n",
              "        vertical-align: top;\n",
              "    }\n",
              "\n",
              "    .dataframe thead th {\n",
              "        text-align: right;\n",
              "    }\n",
              "</style>\n",
              "<table border=\"1\" class=\"dataframe\">\n",
              "  <thead>\n",
              "    <tr style=\"text-align: right;\">\n",
              "      <th></th>\n",
              "      <th>Name</th>\n",
              "      <th>Gender</th>\n",
              "      <th>City</th>\n",
              "      <th>State</th>\n",
              "      <th>Email</th>\n",
              "      <th>DOB</th>\n",
              "      <th>Picture</th>\n",
              "    </tr>\n",
              "  </thead>\n",
              "  <tbody>\n",
              "    <tr>\n",
              "      <th>0</th>\n",
              "      <td>Buse Kurutluoğlu</td>\n",
              "      <td>female</td>\n",
              "      <td>Yozgat</td>\n",
              "      <td>Ordu</td>\n",
              "      <td>buse.kurutluoglu@example.com</td>\n",
              "      <td>1993-08-24T15:38:43.455Z</td>\n",
              "      <td>https://randomuser.me/api/portraits/women/10.jpg</td>\n",
              "    </tr>\n",
              "    <tr>\n",
              "      <th>1</th>\n",
              "      <td>Ariana Pereira</td>\n",
              "      <td>female</td>\n",
              "      <td>Beltrum</td>\n",
              "      <td>Zuid-Holland</td>\n",
              "      <td>ariana.pereira@example.com</td>\n",
              "      <td>1961-05-19T13:17:27.108Z</td>\n",
              "      <td>https://randomuser.me/api/portraits/women/19.jpg</td>\n",
              "    </tr>\n",
              "    <tr>\n",
              "      <th>2</th>\n",
              "      <td>Enni Hokkanen</td>\n",
              "      <td>female</td>\n",
              "      <td>Mariehamn</td>\n",
              "      <td>South Karelia</td>\n",
              "      <td>enni.hokkanen@example.com</td>\n",
              "      <td>1977-08-24T01:09:15.748Z</td>\n",
              "      <td>https://randomuser.me/api/portraits/women/33.jpg</td>\n",
              "    </tr>\n",
              "    <tr>\n",
              "      <th>3</th>\n",
              "      <td>Amelia Ross</td>\n",
              "      <td>female</td>\n",
              "      <td>Greystones</td>\n",
              "      <td>Dún Laoghaire–Rathdown</td>\n",
              "      <td>amelia.ross@example.com</td>\n",
              "      <td>1967-08-06T18:01:20.657Z</td>\n",
              "      <td>https://randomuser.me/api/portraits/women/58.jpg</td>\n",
              "    </tr>\n",
              "    <tr>\n",
              "      <th>4</th>\n",
              "      <td>Martin Martinez</td>\n",
              "      <td>male</td>\n",
              "      <td>Bunbury</td>\n",
              "      <td>Northern Territory</td>\n",
              "      <td>martin.martinez@example.com</td>\n",
              "      <td>1952-05-11T07:50:00.280Z</td>\n",
              "      <td>https://randomuser.me/api/portraits/men/44.jpg</td>\n",
              "    </tr>\n",
              "    <tr>\n",
              "      <th>5</th>\n",
              "      <td>Roope Seppala</td>\n",
              "      <td>male</td>\n",
              "      <td>Lappeenranta</td>\n",
              "      <td>Southern Ostrobothnia</td>\n",
              "      <td>roope.seppala@example.com</td>\n",
              "      <td>1950-06-19T04:36:33.965Z</td>\n",
              "      <td>https://randomuser.me/api/portraits/men/78.jpg</td>\n",
              "    </tr>\n",
              "    <tr>\n",
              "      <th>6</th>\n",
              "      <td>Chantal Nguyen</td>\n",
              "      <td>female</td>\n",
              "      <td>Bühler</td>\n",
              "      <td>Schaffhausen</td>\n",
              "      <td>chantal.nguyen@example.com</td>\n",
              "      <td>1953-02-03T19:40:38.312Z</td>\n",
              "      <td>https://randomuser.me/api/portraits/women/50.jpg</td>\n",
              "    </tr>\n",
              "    <tr>\n",
              "      <th>7</th>\n",
              "      <td>Mikkel Sørensen</td>\n",
              "      <td>male</td>\n",
              "      <td>Juelsminde</td>\n",
              "      <td>Danmark</td>\n",
              "      <td>mikkel.sorensen@example.com</td>\n",
              "      <td>1979-02-12T20:16:48.594Z</td>\n",
              "      <td>https://randomuser.me/api/portraits/men/26.jpg</td>\n",
              "    </tr>\n",
              "    <tr>\n",
              "      <th>8</th>\n",
              "      <td>Alexia Lopez</td>\n",
              "      <td>female</td>\n",
              "      <td>Courbevoie</td>\n",
              "      <td>Creuse</td>\n",
              "      <td>alexia.lopez@example.com</td>\n",
              "      <td>1988-11-17T07:40:37.738Z</td>\n",
              "      <td>https://randomuser.me/api/portraits/women/75.jpg</td>\n",
              "    </tr>\n",
              "    <tr>\n",
              "      <th>9</th>\n",
              "      <td>Eléa Girard</td>\n",
              "      <td>female</td>\n",
              "      <td>Montreuil</td>\n",
              "      <td>Gironde</td>\n",
              "      <td>elea.girard@example.com</td>\n",
              "      <td>1962-03-25T16:06:34.824Z</td>\n",
              "      <td>https://randomuser.me/api/portraits/women/79.jpg</td>\n",
              "    </tr>\n",
              "  </tbody>\n",
              "</table>\n",
              "</div>\n",
              "      <button class=\"colab-df-convert\" onclick=\"convertToInteractive('df-b734cc27-3b66-45fb-8c24-5e3123e6ed53')\"\n",
              "              title=\"Convert this dataframe to an interactive table.\"\n",
              "              style=\"display:none;\">\n",
              "        \n",
              "  <svg xmlns=\"http://www.w3.org/2000/svg\" height=\"24px\"viewBox=\"0 0 24 24\"\n",
              "       width=\"24px\">\n",
              "    <path d=\"M0 0h24v24H0V0z\" fill=\"none\"/>\n",
              "    <path d=\"M18.56 5.44l.94 2.06.94-2.06 2.06-.94-2.06-.94-.94-2.06-.94 2.06-2.06.94zm-11 1L8.5 8.5l.94-2.06 2.06-.94-2.06-.94L8.5 2.5l-.94 2.06-2.06.94zm10 10l.94 2.06.94-2.06 2.06-.94-2.06-.94-.94-2.06-.94 2.06-2.06.94z\"/><path d=\"M17.41 7.96l-1.37-1.37c-.4-.4-.92-.59-1.43-.59-.52 0-1.04.2-1.43.59L10.3 9.45l-7.72 7.72c-.78.78-.78 2.05 0 2.83L4 21.41c.39.39.9.59 1.41.59.51 0 1.02-.2 1.41-.59l7.78-7.78 2.81-2.81c.8-.78.8-2.07 0-2.86zM5.41 20L4 18.59l7.72-7.72 1.47 1.35L5.41 20z\"/>\n",
              "  </svg>\n",
              "      </button>\n",
              "      \n",
              "  <style>\n",
              "    .colab-df-container {\n",
              "      display:flex;\n",
              "      flex-wrap:wrap;\n",
              "      gap: 12px;\n",
              "    }\n",
              "\n",
              "    .colab-df-convert {\n",
              "      background-color: #E8F0FE;\n",
              "      border: none;\n",
              "      border-radius: 50%;\n",
              "      cursor: pointer;\n",
              "      display: none;\n",
              "      fill: #1967D2;\n",
              "      height: 32px;\n",
              "      padding: 0 0 0 0;\n",
              "      width: 32px;\n",
              "    }\n",
              "\n",
              "    .colab-df-convert:hover {\n",
              "      background-color: #E2EBFA;\n",
              "      box-shadow: 0px 1px 2px rgba(60, 64, 67, 0.3), 0px 1px 3px 1px rgba(60, 64, 67, 0.15);\n",
              "      fill: #174EA6;\n",
              "    }\n",
              "\n",
              "    [theme=dark] .colab-df-convert {\n",
              "      background-color: #3B4455;\n",
              "      fill: #D2E3FC;\n",
              "    }\n",
              "\n",
              "    [theme=dark] .colab-df-convert:hover {\n",
              "      background-color: #434B5C;\n",
              "      box-shadow: 0px 1px 3px 1px rgba(0, 0, 0, 0.15);\n",
              "      filter: drop-shadow(0px 1px 2px rgba(0, 0, 0, 0.3));\n",
              "      fill: #FFFFFF;\n",
              "    }\n",
              "  </style>\n",
              "\n",
              "      <script>\n",
              "        const buttonEl =\n",
              "          document.querySelector('#df-b734cc27-3b66-45fb-8c24-5e3123e6ed53 button.colab-df-convert');\n",
              "        buttonEl.style.display =\n",
              "          google.colab.kernel.accessAllowed ? 'block' : 'none';\n",
              "\n",
              "        async function convertToInteractive(key) {\n",
              "          const element = document.querySelector('#df-b734cc27-3b66-45fb-8c24-5e3123e6ed53');\n",
              "          const dataTable =\n",
              "            await google.colab.kernel.invokeFunction('convertToInteractive',\n",
              "                                                     [key], {});\n",
              "          if (!dataTable) return;\n",
              "\n",
              "          const docLinkHtml = 'Like what you see? Visit the ' +\n",
              "            '<a target=\"_blank\" href=https://colab.research.google.com/notebooks/data_table.ipynb>data table notebook</a>'\n",
              "            + ' to learn more about interactive tables.';\n",
              "          element.innerHTML = '';\n",
              "          dataTable['output_type'] = 'display_data';\n",
              "          await google.colab.output.renderOutput(dataTable, element);\n",
              "          const docLink = document.createElement('div');\n",
              "          docLink.innerHTML = docLinkHtml;\n",
              "          element.appendChild(docLink);\n",
              "        }\n",
              "      </script>\n",
              "    </div>\n",
              "  </div>\n",
              "  "
            ]
          },
          "metadata": {},
          "execution_count": 125
        }
      ]
    },
    {
      "cell_type": "code",
      "source": [
        "import requests\n",
        "import json"
      ],
      "metadata": {
        "id": "ui3o_0ZE5sah"
      },
      "execution_count": 126,
      "outputs": []
    },
    {
      "cell_type": "code",
      "source": [
        "data = requests.get(\"https://www.fruityvice.com/api/fruit/all\")\n",
        "results = json.loads(data.text)\n",
        "pd.DataFrame(results)\n",
        "df2 = pd.json_normalize(results)\n",
        "df2"
      ],
      "metadata": {
        "colab": {
          "base_uri": "https://localhost:8080/",
          "height": 1000
        },
        "id": "ZzxSL-KN5zAT",
        "outputId": "0881599e-8a7c-4448-ab8d-34c8c1318205"
      },
      "execution_count": 128,
      "outputs": [
        {
          "output_type": "execute_result",
          "data": {
            "text/plain": [
              "         genus          name  id           family             order  \\\n",
              "0        Malus         Apple   6         Rosaceae           Rosales   \n",
              "1       Prunus       Apricot  35         Rosaceae           Rosales   \n",
              "2         Musa        Banana   1         Musaceae      Zingiberales   \n",
              "3        Rubus    Blackberry  64         Rosaceae           Rosales   \n",
              "4     Fragaria     Blueberry  33         Rosaceae           Rosales   \n",
              "5       Prunus        Cherry   9         Rosaceae              None   \n",
              "6        Durio        Durian  60        Malvaceae          Malvales   \n",
              "7        Ficus           Fig  68         Moraceae           Rosales   \n",
              "8        Ribes    Gooseberry  69  Grossulariaceae      Saxifragales   \n",
              "9        Vitis        Grapes  47         Vitaceae           Vitales   \n",
              "10       Malus    GreenApple  72         Rosaceae           Rosales   \n",
              "11     Psidium         Guava  37        Myrtaceae          Myrtales   \n",
              "12     Apteryx          Kiwi  66    Actinidiaceae  Struthioniformes   \n",
              "13      Citrus         Lemon  26         Rutaceae        Sapindales   \n",
              "14      Citrus          Lime  44         Rutaceae        Sapindales   \n",
              "15   Vaccinium   Lingonberry  65        Ericaceae          Ericales   \n",
              "16      Litchi        Lychee  67      Sapindaceae        Sapindales   \n",
              "17   Mangifera         Mango  27    Anacardiaceae        Sapindales   \n",
              "18     Cucumis         Melon  41    Cucurbitaceae     Cucurbitaceae   \n",
              "19      Citrus        Orange   2         Rutaceae        Sapindales   \n",
              "20      Carica        Papaya  42       Caricaceae         Caricacea   \n",
              "21  Passiflora  Passionfruit  70   Passifloraceae      Malpighiales   \n",
              "22       Pyrus          Pear   4         Rosaceae           Rosales   \n",
              "23   Diospyros     Persimmon  52        Ebenaceae           Rosales   \n",
              "24      Ananas     Pineapple  10     Bromeliaceae            Poales   \n",
              "25      Prunus          Plum  71         Rosaceae           Rosales   \n",
              "26       Rubus     Raspberry  23         Rosaceae           Rosales   \n",
              "27    Fragaria    Strawberry   3         Rosaceae           Rosales   \n",
              "28     Solanum        Tomato   5       Solanaceae         Solanales   \n",
              "29    Spondias          Umbu  73    Anacardiaceae                 0   \n",
              "30   Citrullus    Watermelon  25    Cucurbitaceae      Cucurbitales   \n",
              "\n",
              "    nutritions.carbohydrates  nutritions.protein  nutritions.fat  \\\n",
              "0                      11.40                0.30            0.40   \n",
              "1                       3.90                0.50            0.10   \n",
              "2                      22.00                1.00            0.20   \n",
              "3                       9.00                1.30            0.40   \n",
              "4                       5.50                0.00            0.40   \n",
              "5                      12.00                1.00            0.30   \n",
              "6                      27.10                1.50            5.30   \n",
              "7                      19.00                0.80            0.30   \n",
              "8                      10.00                0.90            0.60   \n",
              "9                      18.10                0.72            0.16   \n",
              "10                      3.10                0.40            0.10   \n",
              "11                     14.00                2.60            1.00   \n",
              "12                     15.00                1.10            0.50   \n",
              "13                      9.00                1.10            0.30   \n",
              "14                      8.40                0.30            0.10   \n",
              "15                     11.30                0.75            0.34   \n",
              "16                     17.00                0.80            0.44   \n",
              "17                     15.00                0.82            0.38   \n",
              "18                      8.00                0.00            0.00   \n",
              "19                      8.30                1.00            0.20   \n",
              "20                     11.00                0.00            0.40   \n",
              "21                     22.40                2.20            0.70   \n",
              "22                     15.00                0.40            0.10   \n",
              "23                     18.00                0.00            0.00   \n",
              "24                     13.12                0.54            0.12   \n",
              "25                     11.40                0.70            0.28   \n",
              "26                     12.00                1.20            0.70   \n",
              "27                      5.50                0.80            0.40   \n",
              "28                      3.90                0.90            0.20   \n",
              "29                      0.00                0.00            0.00   \n",
              "30                      8.00                0.60            0.20   \n",
              "\n",
              "    nutritions.calories  nutritions.sugar  \n",
              "0                    52             10.30  \n",
              "1                    15              3.20  \n",
              "2                    96             17.20  \n",
              "3                    40              4.50  \n",
              "4                    29              5.40  \n",
              "5                    50              8.00  \n",
              "6                   147              6.75  \n",
              "7                    74             16.00  \n",
              "8                    44              0.00  \n",
              "9                    69             15.48  \n",
              "10                   21              6.40  \n",
              "11                   68              9.00  \n",
              "12                   61              9.00  \n",
              "13                   29              2.50  \n",
              "14                   25              1.70  \n",
              "15                   50              5.74  \n",
              "16                   66             15.00  \n",
              "17                   60             13.70  \n",
              "18                   34              8.00  \n",
              "19                   43              8.20  \n",
              "20                   43              1.00  \n",
              "21                   97             11.20  \n",
              "22                   57             10.00  \n",
              "23                   81             18.00  \n",
              "24                   50              9.85  \n",
              "25                   46              9.92  \n",
              "26                   53              4.40  \n",
              "27                   29              5.40  \n",
              "28                   74              2.60  \n",
              "29                    0              0.00  \n",
              "30                   30              6.00  "
            ],
            "text/html": [
              "\n",
              "  <div id=\"df-bc407d84-f273-4dd1-b83f-47da45ec461e\">\n",
              "    <div class=\"colab-df-container\">\n",
              "      <div>\n",
              "<style scoped>\n",
              "    .dataframe tbody tr th:only-of-type {\n",
              "        vertical-align: middle;\n",
              "    }\n",
              "\n",
              "    .dataframe tbody tr th {\n",
              "        vertical-align: top;\n",
              "    }\n",
              "\n",
              "    .dataframe thead th {\n",
              "        text-align: right;\n",
              "    }\n",
              "</style>\n",
              "<table border=\"1\" class=\"dataframe\">\n",
              "  <thead>\n",
              "    <tr style=\"text-align: right;\">\n",
              "      <th></th>\n",
              "      <th>genus</th>\n",
              "      <th>name</th>\n",
              "      <th>id</th>\n",
              "      <th>family</th>\n",
              "      <th>order</th>\n",
              "      <th>nutritions.carbohydrates</th>\n",
              "      <th>nutritions.protein</th>\n",
              "      <th>nutritions.fat</th>\n",
              "      <th>nutritions.calories</th>\n",
              "      <th>nutritions.sugar</th>\n",
              "    </tr>\n",
              "  </thead>\n",
              "  <tbody>\n",
              "    <tr>\n",
              "      <th>0</th>\n",
              "      <td>Malus</td>\n",
              "      <td>Apple</td>\n",
              "      <td>6</td>\n",
              "      <td>Rosaceae</td>\n",
              "      <td>Rosales</td>\n",
              "      <td>11.40</td>\n",
              "      <td>0.30</td>\n",
              "      <td>0.40</td>\n",
              "      <td>52</td>\n",
              "      <td>10.30</td>\n",
              "    </tr>\n",
              "    <tr>\n",
              "      <th>1</th>\n",
              "      <td>Prunus</td>\n",
              "      <td>Apricot</td>\n",
              "      <td>35</td>\n",
              "      <td>Rosaceae</td>\n",
              "      <td>Rosales</td>\n",
              "      <td>3.90</td>\n",
              "      <td>0.50</td>\n",
              "      <td>0.10</td>\n",
              "      <td>15</td>\n",
              "      <td>3.20</td>\n",
              "    </tr>\n",
              "    <tr>\n",
              "      <th>2</th>\n",
              "      <td>Musa</td>\n",
              "      <td>Banana</td>\n",
              "      <td>1</td>\n",
              "      <td>Musaceae</td>\n",
              "      <td>Zingiberales</td>\n",
              "      <td>22.00</td>\n",
              "      <td>1.00</td>\n",
              "      <td>0.20</td>\n",
              "      <td>96</td>\n",
              "      <td>17.20</td>\n",
              "    </tr>\n",
              "    <tr>\n",
              "      <th>3</th>\n",
              "      <td>Rubus</td>\n",
              "      <td>Blackberry</td>\n",
              "      <td>64</td>\n",
              "      <td>Rosaceae</td>\n",
              "      <td>Rosales</td>\n",
              "      <td>9.00</td>\n",
              "      <td>1.30</td>\n",
              "      <td>0.40</td>\n",
              "      <td>40</td>\n",
              "      <td>4.50</td>\n",
              "    </tr>\n",
              "    <tr>\n",
              "      <th>4</th>\n",
              "      <td>Fragaria</td>\n",
              "      <td>Blueberry</td>\n",
              "      <td>33</td>\n",
              "      <td>Rosaceae</td>\n",
              "      <td>Rosales</td>\n",
              "      <td>5.50</td>\n",
              "      <td>0.00</td>\n",
              "      <td>0.40</td>\n",
              "      <td>29</td>\n",
              "      <td>5.40</td>\n",
              "    </tr>\n",
              "    <tr>\n",
              "      <th>5</th>\n",
              "      <td>Prunus</td>\n",
              "      <td>Cherry</td>\n",
              "      <td>9</td>\n",
              "      <td>Rosaceae</td>\n",
              "      <td>None</td>\n",
              "      <td>12.00</td>\n",
              "      <td>1.00</td>\n",
              "      <td>0.30</td>\n",
              "      <td>50</td>\n",
              "      <td>8.00</td>\n",
              "    </tr>\n",
              "    <tr>\n",
              "      <th>6</th>\n",
              "      <td>Durio</td>\n",
              "      <td>Durian</td>\n",
              "      <td>60</td>\n",
              "      <td>Malvaceae</td>\n",
              "      <td>Malvales</td>\n",
              "      <td>27.10</td>\n",
              "      <td>1.50</td>\n",
              "      <td>5.30</td>\n",
              "      <td>147</td>\n",
              "      <td>6.75</td>\n",
              "    </tr>\n",
              "    <tr>\n",
              "      <th>7</th>\n",
              "      <td>Ficus</td>\n",
              "      <td>Fig</td>\n",
              "      <td>68</td>\n",
              "      <td>Moraceae</td>\n",
              "      <td>Rosales</td>\n",
              "      <td>19.00</td>\n",
              "      <td>0.80</td>\n",
              "      <td>0.30</td>\n",
              "      <td>74</td>\n",
              "      <td>16.00</td>\n",
              "    </tr>\n",
              "    <tr>\n",
              "      <th>8</th>\n",
              "      <td>Ribes</td>\n",
              "      <td>Gooseberry</td>\n",
              "      <td>69</td>\n",
              "      <td>Grossulariaceae</td>\n",
              "      <td>Saxifragales</td>\n",
              "      <td>10.00</td>\n",
              "      <td>0.90</td>\n",
              "      <td>0.60</td>\n",
              "      <td>44</td>\n",
              "      <td>0.00</td>\n",
              "    </tr>\n",
              "    <tr>\n",
              "      <th>9</th>\n",
              "      <td>Vitis</td>\n",
              "      <td>Grapes</td>\n",
              "      <td>47</td>\n",
              "      <td>Vitaceae</td>\n",
              "      <td>Vitales</td>\n",
              "      <td>18.10</td>\n",
              "      <td>0.72</td>\n",
              "      <td>0.16</td>\n",
              "      <td>69</td>\n",
              "      <td>15.48</td>\n",
              "    </tr>\n",
              "    <tr>\n",
              "      <th>10</th>\n",
              "      <td>Malus</td>\n",
              "      <td>GreenApple</td>\n",
              "      <td>72</td>\n",
              "      <td>Rosaceae</td>\n",
              "      <td>Rosales</td>\n",
              "      <td>3.10</td>\n",
              "      <td>0.40</td>\n",
              "      <td>0.10</td>\n",
              "      <td>21</td>\n",
              "      <td>6.40</td>\n",
              "    </tr>\n",
              "    <tr>\n",
              "      <th>11</th>\n",
              "      <td>Psidium</td>\n",
              "      <td>Guava</td>\n",
              "      <td>37</td>\n",
              "      <td>Myrtaceae</td>\n",
              "      <td>Myrtales</td>\n",
              "      <td>14.00</td>\n",
              "      <td>2.60</td>\n",
              "      <td>1.00</td>\n",
              "      <td>68</td>\n",
              "      <td>9.00</td>\n",
              "    </tr>\n",
              "    <tr>\n",
              "      <th>12</th>\n",
              "      <td>Apteryx</td>\n",
              "      <td>Kiwi</td>\n",
              "      <td>66</td>\n",
              "      <td>Actinidiaceae</td>\n",
              "      <td>Struthioniformes</td>\n",
              "      <td>15.00</td>\n",
              "      <td>1.10</td>\n",
              "      <td>0.50</td>\n",
              "      <td>61</td>\n",
              "      <td>9.00</td>\n",
              "    </tr>\n",
              "    <tr>\n",
              "      <th>13</th>\n",
              "      <td>Citrus</td>\n",
              "      <td>Lemon</td>\n",
              "      <td>26</td>\n",
              "      <td>Rutaceae</td>\n",
              "      <td>Sapindales</td>\n",
              "      <td>9.00</td>\n",
              "      <td>1.10</td>\n",
              "      <td>0.30</td>\n",
              "      <td>29</td>\n",
              "      <td>2.50</td>\n",
              "    </tr>\n",
              "    <tr>\n",
              "      <th>14</th>\n",
              "      <td>Citrus</td>\n",
              "      <td>Lime</td>\n",
              "      <td>44</td>\n",
              "      <td>Rutaceae</td>\n",
              "      <td>Sapindales</td>\n",
              "      <td>8.40</td>\n",
              "      <td>0.30</td>\n",
              "      <td>0.10</td>\n",
              "      <td>25</td>\n",
              "      <td>1.70</td>\n",
              "    </tr>\n",
              "    <tr>\n",
              "      <th>15</th>\n",
              "      <td>Vaccinium</td>\n",
              "      <td>Lingonberry</td>\n",
              "      <td>65</td>\n",
              "      <td>Ericaceae</td>\n",
              "      <td>Ericales</td>\n",
              "      <td>11.30</td>\n",
              "      <td>0.75</td>\n",
              "      <td>0.34</td>\n",
              "      <td>50</td>\n",
              "      <td>5.74</td>\n",
              "    </tr>\n",
              "    <tr>\n",
              "      <th>16</th>\n",
              "      <td>Litchi</td>\n",
              "      <td>Lychee</td>\n",
              "      <td>67</td>\n",
              "      <td>Sapindaceae</td>\n",
              "      <td>Sapindales</td>\n",
              "      <td>17.00</td>\n",
              "      <td>0.80</td>\n",
              "      <td>0.44</td>\n",
              "      <td>66</td>\n",
              "      <td>15.00</td>\n",
              "    </tr>\n",
              "    <tr>\n",
              "      <th>17</th>\n",
              "      <td>Mangifera</td>\n",
              "      <td>Mango</td>\n",
              "      <td>27</td>\n",
              "      <td>Anacardiaceae</td>\n",
              "      <td>Sapindales</td>\n",
              "      <td>15.00</td>\n",
              "      <td>0.82</td>\n",
              "      <td>0.38</td>\n",
              "      <td>60</td>\n",
              "      <td>13.70</td>\n",
              "    </tr>\n",
              "    <tr>\n",
              "      <th>18</th>\n",
              "      <td>Cucumis</td>\n",
              "      <td>Melon</td>\n",
              "      <td>41</td>\n",
              "      <td>Cucurbitaceae</td>\n",
              "      <td>Cucurbitaceae</td>\n",
              "      <td>8.00</td>\n",
              "      <td>0.00</td>\n",
              "      <td>0.00</td>\n",
              "      <td>34</td>\n",
              "      <td>8.00</td>\n",
              "    </tr>\n",
              "    <tr>\n",
              "      <th>19</th>\n",
              "      <td>Citrus</td>\n",
              "      <td>Orange</td>\n",
              "      <td>2</td>\n",
              "      <td>Rutaceae</td>\n",
              "      <td>Sapindales</td>\n",
              "      <td>8.30</td>\n",
              "      <td>1.00</td>\n",
              "      <td>0.20</td>\n",
              "      <td>43</td>\n",
              "      <td>8.20</td>\n",
              "    </tr>\n",
              "    <tr>\n",
              "      <th>20</th>\n",
              "      <td>Carica</td>\n",
              "      <td>Papaya</td>\n",
              "      <td>42</td>\n",
              "      <td>Caricaceae</td>\n",
              "      <td>Caricacea</td>\n",
              "      <td>11.00</td>\n",
              "      <td>0.00</td>\n",
              "      <td>0.40</td>\n",
              "      <td>43</td>\n",
              "      <td>1.00</td>\n",
              "    </tr>\n",
              "    <tr>\n",
              "      <th>21</th>\n",
              "      <td>Passiflora</td>\n",
              "      <td>Passionfruit</td>\n",
              "      <td>70</td>\n",
              "      <td>Passifloraceae</td>\n",
              "      <td>Malpighiales</td>\n",
              "      <td>22.40</td>\n",
              "      <td>2.20</td>\n",
              "      <td>0.70</td>\n",
              "      <td>97</td>\n",
              "      <td>11.20</td>\n",
              "    </tr>\n",
              "    <tr>\n",
              "      <th>22</th>\n",
              "      <td>Pyrus</td>\n",
              "      <td>Pear</td>\n",
              "      <td>4</td>\n",
              "      <td>Rosaceae</td>\n",
              "      <td>Rosales</td>\n",
              "      <td>15.00</td>\n",
              "      <td>0.40</td>\n",
              "      <td>0.10</td>\n",
              "      <td>57</td>\n",
              "      <td>10.00</td>\n",
              "    </tr>\n",
              "    <tr>\n",
              "      <th>23</th>\n",
              "      <td>Diospyros</td>\n",
              "      <td>Persimmon</td>\n",
              "      <td>52</td>\n",
              "      <td>Ebenaceae</td>\n",
              "      <td>Rosales</td>\n",
              "      <td>18.00</td>\n",
              "      <td>0.00</td>\n",
              "      <td>0.00</td>\n",
              "      <td>81</td>\n",
              "      <td>18.00</td>\n",
              "    </tr>\n",
              "    <tr>\n",
              "      <th>24</th>\n",
              "      <td>Ananas</td>\n",
              "      <td>Pineapple</td>\n",
              "      <td>10</td>\n",
              "      <td>Bromeliaceae</td>\n",
              "      <td>Poales</td>\n",
              "      <td>13.12</td>\n",
              "      <td>0.54</td>\n",
              "      <td>0.12</td>\n",
              "      <td>50</td>\n",
              "      <td>9.85</td>\n",
              "    </tr>\n",
              "    <tr>\n",
              "      <th>25</th>\n",
              "      <td>Prunus</td>\n",
              "      <td>Plum</td>\n",
              "      <td>71</td>\n",
              "      <td>Rosaceae</td>\n",
              "      <td>Rosales</td>\n",
              "      <td>11.40</td>\n",
              "      <td>0.70</td>\n",
              "      <td>0.28</td>\n",
              "      <td>46</td>\n",
              "      <td>9.92</td>\n",
              "    </tr>\n",
              "    <tr>\n",
              "      <th>26</th>\n",
              "      <td>Rubus</td>\n",
              "      <td>Raspberry</td>\n",
              "      <td>23</td>\n",
              "      <td>Rosaceae</td>\n",
              "      <td>Rosales</td>\n",
              "      <td>12.00</td>\n",
              "      <td>1.20</td>\n",
              "      <td>0.70</td>\n",
              "      <td>53</td>\n",
              "      <td>4.40</td>\n",
              "    </tr>\n",
              "    <tr>\n",
              "      <th>27</th>\n",
              "      <td>Fragaria</td>\n",
              "      <td>Strawberry</td>\n",
              "      <td>3</td>\n",
              "      <td>Rosaceae</td>\n",
              "      <td>Rosales</td>\n",
              "      <td>5.50</td>\n",
              "      <td>0.80</td>\n",
              "      <td>0.40</td>\n",
              "      <td>29</td>\n",
              "      <td>5.40</td>\n",
              "    </tr>\n",
              "    <tr>\n",
              "      <th>28</th>\n",
              "      <td>Solanum</td>\n",
              "      <td>Tomato</td>\n",
              "      <td>5</td>\n",
              "      <td>Solanaceae</td>\n",
              "      <td>Solanales</td>\n",
              "      <td>3.90</td>\n",
              "      <td>0.90</td>\n",
              "      <td>0.20</td>\n",
              "      <td>74</td>\n",
              "      <td>2.60</td>\n",
              "    </tr>\n",
              "    <tr>\n",
              "      <th>29</th>\n",
              "      <td>Spondias</td>\n",
              "      <td>Umbu</td>\n",
              "      <td>73</td>\n",
              "      <td>Anacardiaceae</td>\n",
              "      <td>0</td>\n",
              "      <td>0.00</td>\n",
              "      <td>0.00</td>\n",
              "      <td>0.00</td>\n",
              "      <td>0</td>\n",
              "      <td>0.00</td>\n",
              "    </tr>\n",
              "    <tr>\n",
              "      <th>30</th>\n",
              "      <td>Citrullus</td>\n",
              "      <td>Watermelon</td>\n",
              "      <td>25</td>\n",
              "      <td>Cucurbitaceae</td>\n",
              "      <td>Cucurbitales</td>\n",
              "      <td>8.00</td>\n",
              "      <td>0.60</td>\n",
              "      <td>0.20</td>\n",
              "      <td>30</td>\n",
              "      <td>6.00</td>\n",
              "    </tr>\n",
              "  </tbody>\n",
              "</table>\n",
              "</div>\n",
              "      <button class=\"colab-df-convert\" onclick=\"convertToInteractive('df-bc407d84-f273-4dd1-b83f-47da45ec461e')\"\n",
              "              title=\"Convert this dataframe to an interactive table.\"\n",
              "              style=\"display:none;\">\n",
              "        \n",
              "  <svg xmlns=\"http://www.w3.org/2000/svg\" height=\"24px\"viewBox=\"0 0 24 24\"\n",
              "       width=\"24px\">\n",
              "    <path d=\"M0 0h24v24H0V0z\" fill=\"none\"/>\n",
              "    <path d=\"M18.56 5.44l.94 2.06.94-2.06 2.06-.94-2.06-.94-.94-2.06-.94 2.06-2.06.94zm-11 1L8.5 8.5l.94-2.06 2.06-.94-2.06-.94L8.5 2.5l-.94 2.06-2.06.94zm10 10l.94 2.06.94-2.06 2.06-.94-2.06-.94-.94-2.06-.94 2.06-2.06.94z\"/><path d=\"M17.41 7.96l-1.37-1.37c-.4-.4-.92-.59-1.43-.59-.52 0-1.04.2-1.43.59L10.3 9.45l-7.72 7.72c-.78.78-.78 2.05 0 2.83L4 21.41c.39.39.9.59 1.41.59.51 0 1.02-.2 1.41-.59l7.78-7.78 2.81-2.81c.8-.78.8-2.07 0-2.86zM5.41 20L4 18.59l7.72-7.72 1.47 1.35L5.41 20z\"/>\n",
              "  </svg>\n",
              "      </button>\n",
              "      \n",
              "  <style>\n",
              "    .colab-df-container {\n",
              "      display:flex;\n",
              "      flex-wrap:wrap;\n",
              "      gap: 12px;\n",
              "    }\n",
              "\n",
              "    .colab-df-convert {\n",
              "      background-color: #E8F0FE;\n",
              "      border: none;\n",
              "      border-radius: 50%;\n",
              "      cursor: pointer;\n",
              "      display: none;\n",
              "      fill: #1967D2;\n",
              "      height: 32px;\n",
              "      padding: 0 0 0 0;\n",
              "      width: 32px;\n",
              "    }\n",
              "\n",
              "    .colab-df-convert:hover {\n",
              "      background-color: #E2EBFA;\n",
              "      box-shadow: 0px 1px 2px rgba(60, 64, 67, 0.3), 0px 1px 3px 1px rgba(60, 64, 67, 0.15);\n",
              "      fill: #174EA6;\n",
              "    }\n",
              "\n",
              "    [theme=dark] .colab-df-convert {\n",
              "      background-color: #3B4455;\n",
              "      fill: #D2E3FC;\n",
              "    }\n",
              "\n",
              "    [theme=dark] .colab-df-convert:hover {\n",
              "      background-color: #434B5C;\n",
              "      box-shadow: 0px 1px 3px 1px rgba(0, 0, 0, 0.15);\n",
              "      filter: drop-shadow(0px 1px 2px rgba(0, 0, 0, 0.3));\n",
              "      fill: #FFFFFF;\n",
              "    }\n",
              "  </style>\n",
              "\n",
              "      <script>\n",
              "        const buttonEl =\n",
              "          document.querySelector('#df-bc407d84-f273-4dd1-b83f-47da45ec461e button.colab-df-convert');\n",
              "        buttonEl.style.display =\n",
              "          google.colab.kernel.accessAllowed ? 'block' : 'none';\n",
              "\n",
              "        async function convertToInteractive(key) {\n",
              "          const element = document.querySelector('#df-bc407d84-f273-4dd1-b83f-47da45ec461e');\n",
              "          const dataTable =\n",
              "            await google.colab.kernel.invokeFunction('convertToInteractive',\n",
              "                                                     [key], {});\n",
              "          if (!dataTable) return;\n",
              "\n",
              "          const docLinkHtml = 'Like what you see? Visit the ' +\n",
              "            '<a target=\"_blank\" href=https://colab.research.google.com/notebooks/data_table.ipynb>data table notebook</a>'\n",
              "            + ' to learn more about interactive tables.';\n",
              "          element.innerHTML = '';\n",
              "          dataTable['output_type'] = 'display_data';\n",
              "          await google.colab.output.renderOutput(dataTable, element);\n",
              "          const docLink = document.createElement('div');\n",
              "          docLink.innerHTML = docLinkHtml;\n",
              "          element.appendChild(docLink);\n",
              "        }\n",
              "      </script>\n",
              "    </div>\n",
              "  </div>\n",
              "  "
            ]
          },
          "metadata": {},
          "execution_count": 128
        }
      ]
    },
    {
      "cell_type": "code",
      "source": [
        "cherry = df2.loc[df2[\"name\"] == 'Cherry']\n",
        "(cherry.iloc[0]['family']) , (cherry.iloc[0]['genus'])"
      ],
      "metadata": {
        "colab": {
          "base_uri": "https://localhost:8080/"
        },
        "id": "yD0D9Ftl50Wf",
        "outputId": "31891015-d4a7-4f49-97d9-56790ef04cd1"
      },
      "execution_count": 129,
      "outputs": [
        {
          "output_type": "execute_result",
          "data": {
            "text/plain": [
              "('Rosaceae', 'Prunus')"
            ]
          },
          "metadata": {},
          "execution_count": 129
        }
      ]
    },
    {
      "cell_type": "code",
      "source": [
        "# Write your code here\n",
        "cal_banana = df2.loc[df2[\"name\"]=='Banana']\n",
        "(cal_banana.iloc[0]['nutritions.calories'])"
      ],
      "metadata": {
        "colab": {
          "base_uri": "https://localhost:8080/"
        },
        "id": "9sLAKjjc57xA",
        "outputId": "be89bf3d-ed68-413e-b2dd-6d240a501215"
      },
      "execution_count": 130,
      "outputs": [
        {
          "output_type": "execute_result",
          "data": {
            "text/plain": [
              "96"
            ]
          },
          "metadata": {},
          "execution_count": 130
        }
      ]
    },
    {
      "cell_type": "code",
      "source": [
        "# Write your code here\n",
        "datafish= requests.get('https://www.fishwatch.gov/api/species')\n",
        "# Write your code here\n",
        "rest_fish = json.loads(datafish.text)\n",
        "pd.DataFrame(rest_fish)"
      ],
      "metadata": {
        "colab": {
          "base_uri": "https://localhost:8080/",
          "height": 1000
        },
        "id": "CyeQsgFi59vo",
        "outputId": "37580857-174f-444d-ead0-825dd899e811"
      },
      "execution_count": 133,
      "outputs": [
        {
          "output_type": "execute_result",
          "data": {
            "text/plain": [
              "                                    Fishery Management  \\\n",
              "0    <ul>\\n<li><a href=\"https://www.fisheries.noaa....   \n",
              "1    <ul>\\n<li><a href=\"https://www.fisheries.noaa....   \n",
              "2    <ul>\\n<li>\\n<p><a href=\"https://archive.fisher...   \n",
              "3    <ul>\\n<li><a href=\"https://www.fisheries.noaa....   \n",
              "4    <ul>\\n<li>The states and <a href=\"https://www....   \n",
              "..                                                 ...   \n",
              "111  <ul>\\n<li><a href=\"https://www.fisheries.noaa....   \n",
              "112  <ul>\\n<li><a href=\"https://www.greateratlantic...   \n",
              "113  <ul>\\n<li><a href=\"http://sero.nmfs.noaa.gov/\"...   \n",
              "114  <ul>\\n<li><a href=\"https://sero.nmfs.noaa.gov/...   \n",
              "115  <ul>\\n<li>There are two stocks of Atlantic cod...   \n",
              "\n",
              "                                               Habitat  \\\n",
              "0                                                 None   \n",
              "1    <ul>\\n<li>White hake are groundfish, meaning t...   \n",
              "2    <ul>\\n<li>Atlantic chub mackerel are a schooli...   \n",
              "3    <ul>\\n<li>Shortfin squid live in deep and shal...   \n",
              "4    <ul>\\n<li>American lobsters live on the ocean ...   \n",
              "..                                                 ...   \n",
              "111  <ul>\\n<li>Younger pollock live in the mid-wate...   \n",
              "112  <ul>\\n<li>Monkfish live on the ocean floor, ty...   \n",
              "113  <ul>\\n<li>Mahi mahi live near the surface in t...   \n",
              "114  <ul>\\n<li>Cobia are found near structures in t...   \n",
              "115  <ul>\\n<li>Atlantic cod live near the ocean flo...   \n",
              "\n",
              "                                       Habitat Impacts  \\\n",
              "0    Bottomfish fishing operations, typically using...   \n",
              "1    Area closures and gear restrictions protect ha...   \n",
              "2    Area closures and gear restrictions protect ha...   \n",
              "3    Fishing gears used to harvest shortfin squid h...   \n",
              "4    Fishing gears used to harvest American lobster...   \n",
              "..                                                 ...   \n",
              "111  The Alaska pollock fishery uses midwater trawl...   \n",
              "112  Area closures and gear restrictions protect ha...   \n",
              "113  Fishing gear used to catch mahi mahi rarely co...   \n",
              "114  Fishing gear used to catch cobia rarely contac...   \n",
              "115  Area closures and gear restrictions protect ha...   \n",
              "\n",
              "                                         Image Gallery  \\\n",
              "0    [{'src': 'https://origin-east-01-drupal-fishwa...   \n",
              "1    [{'src': 'https://origin-east-01-drupal-fishwa...   \n",
              "2    [{'src': 'https://origin-east-01-drupal-fishwa...   \n",
              "3                                                 None   \n",
              "4    [{'src': 'https://origin-east-01-drupal-fishwa...   \n",
              "..                                                 ...   \n",
              "111  [{'src': 'https://origin-east-01-drupal-fishwa...   \n",
              "112  [{'src': 'https://origin-east-01-drupal-fishwa...   \n",
              "113  [{'src': 'https://origin-east-01-drupal-fishwa...   \n",
              "114  [{'src': 'https://origin-east-01-drupal-fishwa...   \n",
              "115  [{'src': 'https://origin-east-01-drupal-fishwa...   \n",
              "\n",
              "                                              Location Management  \\\n",
              "0    <ul>\\n<li>Crimson jobfish are distributed thro...       None   \n",
              "1    <ul>\\n<li>White hake are found in the northwes...       None   \n",
              "2    <ul>\\n<li>Atlantic chub mackerel in the wester...       None   \n",
              "3    <ul>\\n<li>Shortfin squid inhabits the continen...       None   \n",
              "4    <ul>\\n<li>American lobsters are found in the n...       None   \n",
              "..                                                 ...        ...   \n",
              "111  <ul>\\n<li>Alaska pollock are found throughout ...       None   \n",
              "112  <ul>\\n<li>Monkfish are found in the Northwest ...       None   \n",
              "113  <ul>\\n<li>Mahi mahi are found in the Atlantic,...       None   \n",
              "114  <ul>\\n<li>In U.S. waters, cobia are most abund...       None   \n",
              "115  <ul>\\n<li>In the Northwest Atlantic, cod range...       None   \n",
              "\n",
              "           NOAA Fisheries Region  \\\n",
              "0                Pacific Islands   \n",
              "1               Greater Atlantic   \n",
              "2               Greater Atlantic   \n",
              "3               Greater Atlantic   \n",
              "4               Greater Atlantic   \n",
              "..                           ...   \n",
              "111                       Alaska   \n",
              "112  Greater Atlantic, Southeast   \n",
              "113  Greater Atlantic, Southeast   \n",
              "114  Greater Atlantic, Southeast   \n",
              "115             Greater Atlantic   \n",
              "\n",
              "                                            Population  \\\n",
              "0    The population level is unknown, but the stock...   \n",
              "1    Significantly below target population level. A...   \n",
              "2     The stock has never been assessed. The popula...   \n",
              "3    The population level is unknown. The species h...   \n",
              "4    Above target population levels in the Gulf of ...   \n",
              "..                                                 ...   \n",
              "111  Above target population levels for the Aleutia...   \n",
              "112                    Above target population levels.   \n",
              "113                    Above target population levels.   \n",
              "114  Below target level but fishing rate promotes p...   \n",
              "115  Significantly below target population levels. ...   \n",
              "\n",
              "                                     Population Status  \\\n",
              "0    <ul>\\n<li>There are five stocks of crimson job...   \n",
              "1    <ul>\\n<li>According to the 2019 stock assessme...   \n",
              "2    <p>Atlantic chub mackerel has never been asses...   \n",
              "3    <ul>\\n<li>According to the latest assessment (...   \n",
              "4    <ul>\\n<li>According to the 2020&nbsp;<a href=\"...   \n",
              "..                                                 ...   \n",
              "111  <ul>\\n<li>There are five stocks of walleye pol...   \n",
              "112  <ul>\\n<li>There are two stocks of monkfish: Gu...   \n",
              "113  <ul>\\n<li>Scientists assume populations are ab...   \n",
              "114  <ul>\\n<li>\\n<p>According to the 2020 stock ass...   \n",
              "115  <ul>\\n<li>Gulf of Maine stock:\\n<ul>\\n<li>Acco...   \n",
              "\n",
              "                 Scientific Name  ...  Selenium Serving Weight Servings  \\\n",
              "0    Pristipomoides filamentosus  ...  38.2 mcg    100 g (raw)        1   \n",
              "1               Urophycis tenuis  ...  32.1 mcg    100 g (raw)        1   \n",
              "2                 Scomber colias  ...  44.1 mcg    100 g (raw)        1   \n",
              "3             Illex illecebrosus  ...  44.8 mcg          100 g        1   \n",
              "4             Homarus americanus  ...  41.4 mcg    100 g (raw)        1   \n",
              "..                           ...  ...       ...            ...      ...   \n",
              "111          Gadus chalcogrammus  ...  21.9 mcg    100 g (raw)        1   \n",
              "112           Lophius americanus  ...  36.5 mcg    100 g (raw)        1   \n",
              "113          Coryphaena hippurus  ...  36.5 mcg    100 g (raw)        1   \n",
              "114         Rachycentron canadum  ...  36.5 mcg    100 g (raw)        1   \n",
              "115                 Gadus morhua  ...  33.1 mcg          100 g        1   \n",
              "\n",
              "     Sodium                                             Source Sugars, Total  \\\n",
              "0     64 mg  <p>U.S -wild caught around Hawaii and Pacific ...           0 g   \n",
              "1     72 mg  <p>White hake is wild-caught from Maine to sou...           0 g   \n",
              "2     90 mg  <p>U.S. wild caught from Southern New England ...           0 g   \n",
              "3     44 mg  <p>U.S. wild-caught from Maine to North Caroli...           0 g   \n",
              "4    296 mg  <p>U.S. wild-caught from Maine to North Caroli...           0 g   \n",
              "..      ...                                                ...           ...   \n",
              "111   99 mg  <p>U.S. wild-caught, mainly in the Bering Sea ...           0 g   \n",
              "112   18 mg  <p>U.S. wild-caught from Maine to North Caroli...           0 g   \n",
              "113   88 mg  <p>Wild-caught from Massachusetts to Texas.</p>\\n           0 g   \n",
              "114  135 mg  <p>Wild-caught from Virginia to Texas. Cobia i...           0 g   \n",
              "115   54 mg       <p>Wild-caught from Maine to Virginia.</p>\\n           0 g   \n",
              "\n",
              "                                                 Taste  \\\n",
              "0      <p>Crimson jobfish has a delicate flavor.</p>\\n   \n",
              "1    <p>White hake has a mild, almost sweet&nbsp;ta...   \n",
              "2                    <p>Rich, pronounced flavor.</p>\\n   \n",
              "3      <p>Mild, and subtly sweet.</p>\\n<p>&nbsp;</p>\\n   \n",
              "4                             <p>Mild and sweet.</p>\\n   \n",
              "..                                                 ...   \n",
              "111  <p>Pollock has mild-tasting flesh and is simil...   \n",
              "112                                     <p>Mild.</p>\\n   \n",
              "113  <p>Mahi mahi has a sweet, mild flavor. For a m...   \n",
              "114           <p>Cobia has a sweet, rich flavor.</p>\\n   \n",
              "115  <p>Atlantic cod has a mild clean flavor. It is...   \n",
              "\n",
              "                                               Texture  \\\n",
              "0    <p>Crimson jobfish has&nbsp;a firm texture and...   \n",
              "1    <p>White hake has a soft, delicate texture tha...   \n",
              "2                     <p>Soft, flaky, and moist.</p>\\n   \n",
              "3                             <p>Firm and meaty.</p>\\n   \n",
              "4    <p>The meat is firm and somewhat fibrous. The ...   \n",
              "..                                                 ...   \n",
              "111  <p>Pollock has a relatively fine texture and i...   \n",
              "112  <p>The tail meat is firm, dense, and relativel...   \n",
              "113  <p>Mahi mahi is lean and fairly firm with larg...   \n",
              "114  <p>Cobia is lean, moist, and firm with a nice ...   \n",
              "115  <p>Cod has large flakes. It's less firm than h...   \n",
              "\n",
              "                                 Path         last_update  \n",
              "0           /profiles/crimson-jobfish  06/21/2022 - 12:00  \n",
              "1                /profiles/white-hake  10/05/2022 - 16:06  \n",
              "2    /profiles/atlantic-chub-mackerel  08/11/2022 - 16:16  \n",
              "3            /profiles/shortfin-squid  09/02/2022 - 11:08  \n",
              "4          /profiles/american-lobster  10/11/2022 - 13:05  \n",
              "..                                ...                 ...  \n",
              "111          /profiles/alaska-pollock  08/24/2021 - 17:44  \n",
              "112                /profiles/monkfish  08/10/2022 - 17:32  \n",
              "113      /profiles/atlantic-mahi-mahi  08/03/2022 - 16:19  \n",
              "114                   /profiles/cobia  02/17/2022 - 11:28  \n",
              "115            /profiles/atlantic-cod  02/17/2022 - 12:56  \n",
              "\n",
              "[116 rows x 56 columns]"
            ],
            "text/html": [
              "\n",
              "  <div id=\"df-a8a44c54-0665-4f2d-bd96-a47662289043\">\n",
              "    <div class=\"colab-df-container\">\n",
              "      <div>\n",
              "<style scoped>\n",
              "    .dataframe tbody tr th:only-of-type {\n",
              "        vertical-align: middle;\n",
              "    }\n",
              "\n",
              "    .dataframe tbody tr th {\n",
              "        vertical-align: top;\n",
              "    }\n",
              "\n",
              "    .dataframe thead th {\n",
              "        text-align: right;\n",
              "    }\n",
              "</style>\n",
              "<table border=\"1\" class=\"dataframe\">\n",
              "  <thead>\n",
              "    <tr style=\"text-align: right;\">\n",
              "      <th></th>\n",
              "      <th>Fishery Management</th>\n",
              "      <th>Habitat</th>\n",
              "      <th>Habitat Impacts</th>\n",
              "      <th>Image Gallery</th>\n",
              "      <th>Location</th>\n",
              "      <th>Management</th>\n",
              "      <th>NOAA Fisheries Region</th>\n",
              "      <th>Population</th>\n",
              "      <th>Population Status</th>\n",
              "      <th>Scientific Name</th>\n",
              "      <th>...</th>\n",
              "      <th>Selenium</th>\n",
              "      <th>Serving Weight</th>\n",
              "      <th>Servings</th>\n",
              "      <th>Sodium</th>\n",
              "      <th>Source</th>\n",
              "      <th>Sugars, Total</th>\n",
              "      <th>Taste</th>\n",
              "      <th>Texture</th>\n",
              "      <th>Path</th>\n",
              "      <th>last_update</th>\n",
              "    </tr>\n",
              "  </thead>\n",
              "  <tbody>\n",
              "    <tr>\n",
              "      <th>0</th>\n",
              "      <td>&lt;ul&gt;\\n&lt;li&gt;&lt;a href=\"https://www.fisheries.noaa....</td>\n",
              "      <td>None</td>\n",
              "      <td>Bottomfish fishing operations, typically using...</td>\n",
              "      <td>[{'src': 'https://origin-east-01-drupal-fishwa...</td>\n",
              "      <td>&lt;ul&gt;\\n&lt;li&gt;Crimson jobfish are distributed thro...</td>\n",
              "      <td>None</td>\n",
              "      <td>Pacific Islands</td>\n",
              "      <td>The population level is unknown, but the stock...</td>\n",
              "      <td>&lt;ul&gt;\\n&lt;li&gt;There are five stocks of crimson job...</td>\n",
              "      <td>Pristipomoides filamentosus</td>\n",
              "      <td>...</td>\n",
              "      <td>38.2 mcg</td>\n",
              "      <td>100 g (raw)</td>\n",
              "      <td>1</td>\n",
              "      <td>64 mg</td>\n",
              "      <td>&lt;p&gt;U.S -wild caught around Hawaii and Pacific ...</td>\n",
              "      <td>0 g</td>\n",
              "      <td>&lt;p&gt;Crimson jobfish has a delicate flavor.&lt;/p&gt;\\n</td>\n",
              "      <td>&lt;p&gt;Crimson jobfish has&amp;nbsp;a firm texture and...</td>\n",
              "      <td>/profiles/crimson-jobfish</td>\n",
              "      <td>06/21/2022 - 12:00</td>\n",
              "    </tr>\n",
              "    <tr>\n",
              "      <th>1</th>\n",
              "      <td>&lt;ul&gt;\\n&lt;li&gt;&lt;a href=\"https://www.fisheries.noaa....</td>\n",
              "      <td>&lt;ul&gt;\\n&lt;li&gt;White hake are groundfish, meaning t...</td>\n",
              "      <td>Area closures and gear restrictions protect ha...</td>\n",
              "      <td>[{'src': 'https://origin-east-01-drupal-fishwa...</td>\n",
              "      <td>&lt;ul&gt;\\n&lt;li&gt;White hake are found in the northwes...</td>\n",
              "      <td>None</td>\n",
              "      <td>Greater Atlantic</td>\n",
              "      <td>Significantly below target population level. A...</td>\n",
              "      <td>&lt;ul&gt;\\n&lt;li&gt;According to the 2019 stock assessme...</td>\n",
              "      <td>Urophycis tenuis</td>\n",
              "      <td>...</td>\n",
              "      <td>32.1 mcg</td>\n",
              "      <td>100 g (raw)</td>\n",
              "      <td>1</td>\n",
              "      <td>72 mg</td>\n",
              "      <td>&lt;p&gt;White hake is wild-caught from Maine to sou...</td>\n",
              "      <td>0 g</td>\n",
              "      <td>&lt;p&gt;White hake has a mild, almost sweet&amp;nbsp;ta...</td>\n",
              "      <td>&lt;p&gt;White hake has a soft, delicate texture tha...</td>\n",
              "      <td>/profiles/white-hake</td>\n",
              "      <td>10/05/2022 - 16:06</td>\n",
              "    </tr>\n",
              "    <tr>\n",
              "      <th>2</th>\n",
              "      <td>&lt;ul&gt;\\n&lt;li&gt;\\n&lt;p&gt;&lt;a href=\"https://archive.fisher...</td>\n",
              "      <td>&lt;ul&gt;\\n&lt;li&gt;Atlantic chub mackerel are a schooli...</td>\n",
              "      <td>Area closures and gear restrictions protect ha...</td>\n",
              "      <td>[{'src': 'https://origin-east-01-drupal-fishwa...</td>\n",
              "      <td>&lt;ul&gt;\\n&lt;li&gt;Atlantic chub mackerel in the wester...</td>\n",
              "      <td>None</td>\n",
              "      <td>Greater Atlantic</td>\n",
              "      <td>The stock has never been assessed. The popula...</td>\n",
              "      <td>&lt;p&gt;Atlantic chub mackerel has never been asses...</td>\n",
              "      <td>Scomber colias</td>\n",
              "      <td>...</td>\n",
              "      <td>44.1 mcg</td>\n",
              "      <td>100 g (raw)</td>\n",
              "      <td>1</td>\n",
              "      <td>90 mg</td>\n",
              "      <td>&lt;p&gt;U.S. wild caught from Southern New England ...</td>\n",
              "      <td>0 g</td>\n",
              "      <td>&lt;p&gt;Rich, pronounced flavor.&lt;/p&gt;\\n</td>\n",
              "      <td>&lt;p&gt;Soft, flaky, and moist.&lt;/p&gt;\\n</td>\n",
              "      <td>/profiles/atlantic-chub-mackerel</td>\n",
              "      <td>08/11/2022 - 16:16</td>\n",
              "    </tr>\n",
              "    <tr>\n",
              "      <th>3</th>\n",
              "      <td>&lt;ul&gt;\\n&lt;li&gt;&lt;a href=\"https://www.fisheries.noaa....</td>\n",
              "      <td>&lt;ul&gt;\\n&lt;li&gt;Shortfin squid live in deep and shal...</td>\n",
              "      <td>Fishing gears used to harvest shortfin squid h...</td>\n",
              "      <td>None</td>\n",
              "      <td>&lt;ul&gt;\\n&lt;li&gt;Shortfin squid inhabits the continen...</td>\n",
              "      <td>None</td>\n",
              "      <td>Greater Atlantic</td>\n",
              "      <td>The population level is unknown. The species h...</td>\n",
              "      <td>&lt;ul&gt;\\n&lt;li&gt;According to the latest assessment (...</td>\n",
              "      <td>Illex illecebrosus</td>\n",
              "      <td>...</td>\n",
              "      <td>44.8 mcg</td>\n",
              "      <td>100 g</td>\n",
              "      <td>1</td>\n",
              "      <td>44 mg</td>\n",
              "      <td>&lt;p&gt;U.S. wild-caught from Maine to North Caroli...</td>\n",
              "      <td>0 g</td>\n",
              "      <td>&lt;p&gt;Mild, and subtly sweet.&lt;/p&gt;\\n&lt;p&gt;&amp;nbsp;&lt;/p&gt;\\n</td>\n",
              "      <td>&lt;p&gt;Firm and meaty.&lt;/p&gt;\\n</td>\n",
              "      <td>/profiles/shortfin-squid</td>\n",
              "      <td>09/02/2022 - 11:08</td>\n",
              "    </tr>\n",
              "    <tr>\n",
              "      <th>4</th>\n",
              "      <td>&lt;ul&gt;\\n&lt;li&gt;The states and &lt;a href=\"https://www....</td>\n",
              "      <td>&lt;ul&gt;\\n&lt;li&gt;American lobsters live on the ocean ...</td>\n",
              "      <td>Fishing gears used to harvest American lobster...</td>\n",
              "      <td>[{'src': 'https://origin-east-01-drupal-fishwa...</td>\n",
              "      <td>&lt;ul&gt;\\n&lt;li&gt;American lobsters are found in the n...</td>\n",
              "      <td>None</td>\n",
              "      <td>Greater Atlantic</td>\n",
              "      <td>Above target population levels in the Gulf of ...</td>\n",
              "      <td>&lt;ul&gt;\\n&lt;li&gt;According to the 2020&amp;nbsp;&lt;a href=\"...</td>\n",
              "      <td>Homarus americanus</td>\n",
              "      <td>...</td>\n",
              "      <td>41.4 mcg</td>\n",
              "      <td>100 g (raw)</td>\n",
              "      <td>1</td>\n",
              "      <td>296 mg</td>\n",
              "      <td>&lt;p&gt;U.S. wild-caught from Maine to North Caroli...</td>\n",
              "      <td>0 g</td>\n",
              "      <td>&lt;p&gt;Mild and sweet.&lt;/p&gt;\\n</td>\n",
              "      <td>&lt;p&gt;The meat is firm and somewhat fibrous. The ...</td>\n",
              "      <td>/profiles/american-lobster</td>\n",
              "      <td>10/11/2022 - 13:05</td>\n",
              "    </tr>\n",
              "    <tr>\n",
              "      <th>...</th>\n",
              "      <td>...</td>\n",
              "      <td>...</td>\n",
              "      <td>...</td>\n",
              "      <td>...</td>\n",
              "      <td>...</td>\n",
              "      <td>...</td>\n",
              "      <td>...</td>\n",
              "      <td>...</td>\n",
              "      <td>...</td>\n",
              "      <td>...</td>\n",
              "      <td>...</td>\n",
              "      <td>...</td>\n",
              "      <td>...</td>\n",
              "      <td>...</td>\n",
              "      <td>...</td>\n",
              "      <td>...</td>\n",
              "      <td>...</td>\n",
              "      <td>...</td>\n",
              "      <td>...</td>\n",
              "      <td>...</td>\n",
              "      <td>...</td>\n",
              "    </tr>\n",
              "    <tr>\n",
              "      <th>111</th>\n",
              "      <td>&lt;ul&gt;\\n&lt;li&gt;&lt;a href=\"https://www.fisheries.noaa....</td>\n",
              "      <td>&lt;ul&gt;\\n&lt;li&gt;Younger pollock live in the mid-wate...</td>\n",
              "      <td>The Alaska pollock fishery uses midwater trawl...</td>\n",
              "      <td>[{'src': 'https://origin-east-01-drupal-fishwa...</td>\n",
              "      <td>&lt;ul&gt;\\n&lt;li&gt;Alaska pollock are found throughout ...</td>\n",
              "      <td>None</td>\n",
              "      <td>Alaska</td>\n",
              "      <td>Above target population levels for the Aleutia...</td>\n",
              "      <td>&lt;ul&gt;\\n&lt;li&gt;There are five stocks of walleye pol...</td>\n",
              "      <td>Gadus chalcogrammus</td>\n",
              "      <td>...</td>\n",
              "      <td>21.9 mcg</td>\n",
              "      <td>100 g (raw)</td>\n",
              "      <td>1</td>\n",
              "      <td>99 mg</td>\n",
              "      <td>&lt;p&gt;U.S. wild-caught, mainly in the Bering Sea ...</td>\n",
              "      <td>0 g</td>\n",
              "      <td>&lt;p&gt;Pollock has mild-tasting flesh and is simil...</td>\n",
              "      <td>&lt;p&gt;Pollock has a relatively fine texture and i...</td>\n",
              "      <td>/profiles/alaska-pollock</td>\n",
              "      <td>08/24/2021 - 17:44</td>\n",
              "    </tr>\n",
              "    <tr>\n",
              "      <th>112</th>\n",
              "      <td>&lt;ul&gt;\\n&lt;li&gt;&lt;a href=\"https://www.greateratlantic...</td>\n",
              "      <td>&lt;ul&gt;\\n&lt;li&gt;Monkfish live on the ocean floor, ty...</td>\n",
              "      <td>Area closures and gear restrictions protect ha...</td>\n",
              "      <td>[{'src': 'https://origin-east-01-drupal-fishwa...</td>\n",
              "      <td>&lt;ul&gt;\\n&lt;li&gt;Monkfish are found in the Northwest ...</td>\n",
              "      <td>None</td>\n",
              "      <td>Greater Atlantic, Southeast</td>\n",
              "      <td>Above target population levels.</td>\n",
              "      <td>&lt;ul&gt;\\n&lt;li&gt;There are two stocks of monkfish: Gu...</td>\n",
              "      <td>Lophius americanus</td>\n",
              "      <td>...</td>\n",
              "      <td>36.5 mcg</td>\n",
              "      <td>100 g (raw)</td>\n",
              "      <td>1</td>\n",
              "      <td>18 mg</td>\n",
              "      <td>&lt;p&gt;U.S. wild-caught from Maine to North Caroli...</td>\n",
              "      <td>0 g</td>\n",
              "      <td>&lt;p&gt;Mild.&lt;/p&gt;\\n</td>\n",
              "      <td>&lt;p&gt;The tail meat is firm, dense, and relativel...</td>\n",
              "      <td>/profiles/monkfish</td>\n",
              "      <td>08/10/2022 - 17:32</td>\n",
              "    </tr>\n",
              "    <tr>\n",
              "      <th>113</th>\n",
              "      <td>&lt;ul&gt;\\n&lt;li&gt;&lt;a href=\"http://sero.nmfs.noaa.gov/\"...</td>\n",
              "      <td>&lt;ul&gt;\\n&lt;li&gt;Mahi mahi live near the surface in t...</td>\n",
              "      <td>Fishing gear used to catch mahi mahi rarely co...</td>\n",
              "      <td>[{'src': 'https://origin-east-01-drupal-fishwa...</td>\n",
              "      <td>&lt;ul&gt;\\n&lt;li&gt;Mahi mahi are found in the Atlantic,...</td>\n",
              "      <td>None</td>\n",
              "      <td>Greater Atlantic, Southeast</td>\n",
              "      <td>Above target population levels.</td>\n",
              "      <td>&lt;ul&gt;\\n&lt;li&gt;Scientists assume populations are ab...</td>\n",
              "      <td>Coryphaena hippurus</td>\n",
              "      <td>...</td>\n",
              "      <td>36.5 mcg</td>\n",
              "      <td>100 g (raw)</td>\n",
              "      <td>1</td>\n",
              "      <td>88 mg</td>\n",
              "      <td>&lt;p&gt;Wild-caught from Massachusetts to Texas.&lt;/p&gt;\\n</td>\n",
              "      <td>0 g</td>\n",
              "      <td>&lt;p&gt;Mahi mahi has a sweet, mild flavor. For a m...</td>\n",
              "      <td>&lt;p&gt;Mahi mahi is lean and fairly firm with larg...</td>\n",
              "      <td>/profiles/atlantic-mahi-mahi</td>\n",
              "      <td>08/03/2022 - 16:19</td>\n",
              "    </tr>\n",
              "    <tr>\n",
              "      <th>114</th>\n",
              "      <td>&lt;ul&gt;\\n&lt;li&gt;&lt;a href=\"https://sero.nmfs.noaa.gov/...</td>\n",
              "      <td>&lt;ul&gt;\\n&lt;li&gt;Cobia are found near structures in t...</td>\n",
              "      <td>Fishing gear used to catch cobia rarely contac...</td>\n",
              "      <td>[{'src': 'https://origin-east-01-drupal-fishwa...</td>\n",
              "      <td>&lt;ul&gt;\\n&lt;li&gt;In U.S. waters, cobia are most abund...</td>\n",
              "      <td>None</td>\n",
              "      <td>Greater Atlantic, Southeast</td>\n",
              "      <td>Below target level but fishing rate promotes p...</td>\n",
              "      <td>&lt;ul&gt;\\n&lt;li&gt;\\n&lt;p&gt;According to the 2020 stock ass...</td>\n",
              "      <td>Rachycentron canadum</td>\n",
              "      <td>...</td>\n",
              "      <td>36.5 mcg</td>\n",
              "      <td>100 g (raw)</td>\n",
              "      <td>1</td>\n",
              "      <td>135 mg</td>\n",
              "      <td>&lt;p&gt;Wild-caught from Virginia to Texas. Cobia i...</td>\n",
              "      <td>0 g</td>\n",
              "      <td>&lt;p&gt;Cobia has a sweet, rich flavor.&lt;/p&gt;\\n</td>\n",
              "      <td>&lt;p&gt;Cobia is lean, moist, and firm with a nice ...</td>\n",
              "      <td>/profiles/cobia</td>\n",
              "      <td>02/17/2022 - 11:28</td>\n",
              "    </tr>\n",
              "    <tr>\n",
              "      <th>115</th>\n",
              "      <td>&lt;ul&gt;\\n&lt;li&gt;There are two stocks of Atlantic cod...</td>\n",
              "      <td>&lt;ul&gt;\\n&lt;li&gt;Atlantic cod live near the ocean flo...</td>\n",
              "      <td>Area closures and gear restrictions protect ha...</td>\n",
              "      <td>[{'src': 'https://origin-east-01-drupal-fishwa...</td>\n",
              "      <td>&lt;ul&gt;\\n&lt;li&gt;In the Northwest Atlantic, cod range...</td>\n",
              "      <td>None</td>\n",
              "      <td>Greater Atlantic</td>\n",
              "      <td>Significantly below target population levels. ...</td>\n",
              "      <td>&lt;ul&gt;\\n&lt;li&gt;Gulf of Maine stock:\\n&lt;ul&gt;\\n&lt;li&gt;Acco...</td>\n",
              "      <td>Gadus morhua</td>\n",
              "      <td>...</td>\n",
              "      <td>33.1 mcg</td>\n",
              "      <td>100 g</td>\n",
              "      <td>1</td>\n",
              "      <td>54 mg</td>\n",
              "      <td>&lt;p&gt;Wild-caught from Maine to Virginia.&lt;/p&gt;\\n</td>\n",
              "      <td>0 g</td>\n",
              "      <td>&lt;p&gt;Atlantic cod has a mild clean flavor. It is...</td>\n",
              "      <td>&lt;p&gt;Cod has large flakes. It's less firm than h...</td>\n",
              "      <td>/profiles/atlantic-cod</td>\n",
              "      <td>02/17/2022 - 12:56</td>\n",
              "    </tr>\n",
              "  </tbody>\n",
              "</table>\n",
              "<p>116 rows × 56 columns</p>\n",
              "</div>\n",
              "      <button class=\"colab-df-convert\" onclick=\"convertToInteractive('df-a8a44c54-0665-4f2d-bd96-a47662289043')\"\n",
              "              title=\"Convert this dataframe to an interactive table.\"\n",
              "              style=\"display:none;\">\n",
              "        \n",
              "  <svg xmlns=\"http://www.w3.org/2000/svg\" height=\"24px\"viewBox=\"0 0 24 24\"\n",
              "       width=\"24px\">\n",
              "    <path d=\"M0 0h24v24H0V0z\" fill=\"none\"/>\n",
              "    <path d=\"M18.56 5.44l.94 2.06.94-2.06 2.06-.94-2.06-.94-.94-2.06-.94 2.06-2.06.94zm-11 1L8.5 8.5l.94-2.06 2.06-.94-2.06-.94L8.5 2.5l-.94 2.06-2.06.94zm10 10l.94 2.06.94-2.06 2.06-.94-2.06-.94-.94-2.06-.94 2.06-2.06.94z\"/><path d=\"M17.41 7.96l-1.37-1.37c-.4-.4-.92-.59-1.43-.59-.52 0-1.04.2-1.43.59L10.3 9.45l-7.72 7.72c-.78.78-.78 2.05 0 2.83L4 21.41c.39.39.9.59 1.41.59.51 0 1.02-.2 1.41-.59l7.78-7.78 2.81-2.81c.8-.78.8-2.07 0-2.86zM5.41 20L4 18.59l7.72-7.72 1.47 1.35L5.41 20z\"/>\n",
              "  </svg>\n",
              "      </button>\n",
              "      \n",
              "  <style>\n",
              "    .colab-df-container {\n",
              "      display:flex;\n",
              "      flex-wrap:wrap;\n",
              "      gap: 12px;\n",
              "    }\n",
              "\n",
              "    .colab-df-convert {\n",
              "      background-color: #E8F0FE;\n",
              "      border: none;\n",
              "      border-radius: 50%;\n",
              "      cursor: pointer;\n",
              "      display: none;\n",
              "      fill: #1967D2;\n",
              "      height: 32px;\n",
              "      padding: 0 0 0 0;\n",
              "      width: 32px;\n",
              "    }\n",
              "\n",
              "    .colab-df-convert:hover {\n",
              "      background-color: #E2EBFA;\n",
              "      box-shadow: 0px 1px 2px rgba(60, 64, 67, 0.3), 0px 1px 3px 1px rgba(60, 64, 67, 0.15);\n",
              "      fill: #174EA6;\n",
              "    }\n",
              "\n",
              "    [theme=dark] .colab-df-convert {\n",
              "      background-color: #3B4455;\n",
              "      fill: #D2E3FC;\n",
              "    }\n",
              "\n",
              "    [theme=dark] .colab-df-convert:hover {\n",
              "      background-color: #434B5C;\n",
              "      box-shadow: 0px 1px 3px 1px rgba(0, 0, 0, 0.15);\n",
              "      filter: drop-shadow(0px 1px 2px rgba(0, 0, 0, 0.3));\n",
              "      fill: #FFFFFF;\n",
              "    }\n",
              "  </style>\n",
              "\n",
              "      <script>\n",
              "        const buttonEl =\n",
              "          document.querySelector('#df-a8a44c54-0665-4f2d-bd96-a47662289043 button.colab-df-convert');\n",
              "        buttonEl.style.display =\n",
              "          google.colab.kernel.accessAllowed ? 'block' : 'none';\n",
              "\n",
              "        async function convertToInteractive(key) {\n",
              "          const element = document.querySelector('#df-a8a44c54-0665-4f2d-bd96-a47662289043');\n",
              "          const dataTable =\n",
              "            await google.colab.kernel.invokeFunction('convertToInteractive',\n",
              "                                                     [key], {});\n",
              "          if (!dataTable) return;\n",
              "\n",
              "          const docLinkHtml = 'Like what you see? Visit the ' +\n",
              "            '<a target=\"_blank\" href=https://colab.research.google.com/notebooks/data_table.ipynb>data table notebook</a>'\n",
              "            + ' to learn more about interactive tables.';\n",
              "          element.innerHTML = '';\n",
              "          dataTable['output_type'] = 'display_data';\n",
              "          await google.colab.output.renderOutput(dataTable, element);\n",
              "          const docLink = document.createElement('div');\n",
              "          docLink.innerHTML = docLinkHtml;\n",
              "          element.appendChild(docLink);\n",
              "        }\n",
              "      </script>\n",
              "    </div>\n",
              "  </div>\n",
              "  "
            ]
          },
          "metadata": {},
          "execution_count": 133
        }
      ]
    }
  ]
}