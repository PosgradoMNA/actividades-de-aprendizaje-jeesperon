{
  "nbformat": 4,
  "nbformat_minor": 0,
  "metadata": {
    "colab": {
      "provenance": [],
      "authorship_tag": "ABX9TyO61NjXIOQ2QbcRO9ioiwzn",
      "include_colab_link": true
    },
    "kernelspec": {
      "name": "python3",
      "display_name": "Python 3"
    },
    "language_info": {
      "name": "python"
    }
  },
  "cells": [
    {
      "cell_type": "markdown",
      "metadata": {
        "id": "view-in-github",
        "colab_type": "text"
      },
      "source": [
        "<a href=\"https://colab.research.google.com/github/PosgradoMNA/actividades-de-aprendizaje-jeesperon/blob/main/Sem7_Data_Analysis_IBM_Mod4.ipynb\" target=\"_parent\"><img src=\"https://colab.research.google.com/assets/colab-badge.svg\" alt=\"Open In Colab\"/></a>"
      ]
    },
    {
      "cell_type": "markdown",
      "source": [
        "# Modulo 4 Model Development\n",
        "\n",
        "Ciencia y analítica de datos (Gpo 10)\n",
        "\n",
        "Profesora: Maria de la Paz Rico Fernandez\n",
        "\n",
        "Alumno: Jose Eduardo Esperon Carreon\n",
        "\n",
        "Matricula: A01372413"
      ],
      "metadata": {
        "id": "tvgCa251WgDV"
      }
    },
    {
      "cell_type": "markdown",
      "source": [
        "Some questions we want to ask in this module\n",
        "\n",
        "    Do I know if the dealer is offering fair value for my trade-in?\n",
        "    Do I know if I put a fair value on my car?\n"
      ],
      "metadata": {
        "id": "eEyV3RGExkHt"
      }
    },
    {
      "cell_type": "code",
      "execution_count": 1,
      "metadata": {
        "id": "c3tg4oswWV3I"
      },
      "outputs": [],
      "source": [
        "import pandas as pd\n",
        "import numpy as np\n",
        "import matplotlib.pyplot as plt"
      ]
    },
    {
      "cell_type": "code",
      "source": [
        "path = 'https://cf-courses-data.s3.us.cloud-object-storage.appdomain.cloud/IBMDeveloperSkillsNetwork-DA0101EN-SkillsNetwork/labs/Data%20files/automobileEDA.csv'"
      ],
      "metadata": {
        "id": "4ZqcV_V5x2Qf"
      },
      "execution_count": 2,
      "outputs": []
    },
    {
      "cell_type": "code",
      "source": [
        "df = pd.read_csv(path)\n",
        "df.head()"
      ],
      "metadata": {
        "colab": {
          "base_uri": "https://localhost:8080/",
          "height": 386
        },
        "id": "FeJxkuIsx45B",
        "outputId": "1ebc659b-fa4e-451f-cb72-e69d30bb2cf3"
      },
      "execution_count": 4,
      "outputs": [
        {
          "output_type": "execute_result",
          "data": {
            "text/plain": [
              "   symboling  normalized-losses         make aspiration num-of-doors  \\\n",
              "0          3                122  alfa-romero        std          two   \n",
              "1          3                122  alfa-romero        std          two   \n",
              "2          1                122  alfa-romero        std          two   \n",
              "3          2                164         audi        std         four   \n",
              "4          2                164         audi        std         four   \n",
              "\n",
              "    body-style drive-wheels engine-location  wheel-base    length  ...  \\\n",
              "0  convertible          rwd           front        88.6  0.811148  ...   \n",
              "1  convertible          rwd           front        88.6  0.811148  ...   \n",
              "2    hatchback          rwd           front        94.5  0.822681  ...   \n",
              "3        sedan          fwd           front        99.8  0.848630  ...   \n",
              "4        sedan          4wd           front        99.4  0.848630  ...   \n",
              "\n",
              "   compression-ratio  horsepower  peak-rpm city-mpg highway-mpg    price  \\\n",
              "0                9.0       111.0    5000.0       21          27  13495.0   \n",
              "1                9.0       111.0    5000.0       21          27  16500.0   \n",
              "2                9.0       154.0    5000.0       19          26  16500.0   \n",
              "3               10.0       102.0    5500.0       24          30  13950.0   \n",
              "4                8.0       115.0    5500.0       18          22  17450.0   \n",
              "\n",
              "  city-L/100km  horsepower-binned  diesel  gas  \n",
              "0    11.190476             Medium       0    1  \n",
              "1    11.190476             Medium       0    1  \n",
              "2    12.368421             Medium       0    1  \n",
              "3     9.791667             Medium       0    1  \n",
              "4    13.055556             Medium       0    1  \n",
              "\n",
              "[5 rows x 29 columns]"
            ],
            "text/html": [
              "\n",
              "  <div id=\"df-a97c6dfb-2046-42e2-b9a1-1942e888f46b\">\n",
              "    <div class=\"colab-df-container\">\n",
              "      <div>\n",
              "<style scoped>\n",
              "    .dataframe tbody tr th:only-of-type {\n",
              "        vertical-align: middle;\n",
              "    }\n",
              "\n",
              "    .dataframe tbody tr th {\n",
              "        vertical-align: top;\n",
              "    }\n",
              "\n",
              "    .dataframe thead th {\n",
              "        text-align: right;\n",
              "    }\n",
              "</style>\n",
              "<table border=\"1\" class=\"dataframe\">\n",
              "  <thead>\n",
              "    <tr style=\"text-align: right;\">\n",
              "      <th></th>\n",
              "      <th>symboling</th>\n",
              "      <th>normalized-losses</th>\n",
              "      <th>make</th>\n",
              "      <th>aspiration</th>\n",
              "      <th>num-of-doors</th>\n",
              "      <th>body-style</th>\n",
              "      <th>drive-wheels</th>\n",
              "      <th>engine-location</th>\n",
              "      <th>wheel-base</th>\n",
              "      <th>length</th>\n",
              "      <th>...</th>\n",
              "      <th>compression-ratio</th>\n",
              "      <th>horsepower</th>\n",
              "      <th>peak-rpm</th>\n",
              "      <th>city-mpg</th>\n",
              "      <th>highway-mpg</th>\n",
              "      <th>price</th>\n",
              "      <th>city-L/100km</th>\n",
              "      <th>horsepower-binned</th>\n",
              "      <th>diesel</th>\n",
              "      <th>gas</th>\n",
              "    </tr>\n",
              "  </thead>\n",
              "  <tbody>\n",
              "    <tr>\n",
              "      <th>0</th>\n",
              "      <td>3</td>\n",
              "      <td>122</td>\n",
              "      <td>alfa-romero</td>\n",
              "      <td>std</td>\n",
              "      <td>two</td>\n",
              "      <td>convertible</td>\n",
              "      <td>rwd</td>\n",
              "      <td>front</td>\n",
              "      <td>88.6</td>\n",
              "      <td>0.811148</td>\n",
              "      <td>...</td>\n",
              "      <td>9.0</td>\n",
              "      <td>111.0</td>\n",
              "      <td>5000.0</td>\n",
              "      <td>21</td>\n",
              "      <td>27</td>\n",
              "      <td>13495.0</td>\n",
              "      <td>11.190476</td>\n",
              "      <td>Medium</td>\n",
              "      <td>0</td>\n",
              "      <td>1</td>\n",
              "    </tr>\n",
              "    <tr>\n",
              "      <th>1</th>\n",
              "      <td>3</td>\n",
              "      <td>122</td>\n",
              "      <td>alfa-romero</td>\n",
              "      <td>std</td>\n",
              "      <td>two</td>\n",
              "      <td>convertible</td>\n",
              "      <td>rwd</td>\n",
              "      <td>front</td>\n",
              "      <td>88.6</td>\n",
              "      <td>0.811148</td>\n",
              "      <td>...</td>\n",
              "      <td>9.0</td>\n",
              "      <td>111.0</td>\n",
              "      <td>5000.0</td>\n",
              "      <td>21</td>\n",
              "      <td>27</td>\n",
              "      <td>16500.0</td>\n",
              "      <td>11.190476</td>\n",
              "      <td>Medium</td>\n",
              "      <td>0</td>\n",
              "      <td>1</td>\n",
              "    </tr>\n",
              "    <tr>\n",
              "      <th>2</th>\n",
              "      <td>1</td>\n",
              "      <td>122</td>\n",
              "      <td>alfa-romero</td>\n",
              "      <td>std</td>\n",
              "      <td>two</td>\n",
              "      <td>hatchback</td>\n",
              "      <td>rwd</td>\n",
              "      <td>front</td>\n",
              "      <td>94.5</td>\n",
              "      <td>0.822681</td>\n",
              "      <td>...</td>\n",
              "      <td>9.0</td>\n",
              "      <td>154.0</td>\n",
              "      <td>5000.0</td>\n",
              "      <td>19</td>\n",
              "      <td>26</td>\n",
              "      <td>16500.0</td>\n",
              "      <td>12.368421</td>\n",
              "      <td>Medium</td>\n",
              "      <td>0</td>\n",
              "      <td>1</td>\n",
              "    </tr>\n",
              "    <tr>\n",
              "      <th>3</th>\n",
              "      <td>2</td>\n",
              "      <td>164</td>\n",
              "      <td>audi</td>\n",
              "      <td>std</td>\n",
              "      <td>four</td>\n",
              "      <td>sedan</td>\n",
              "      <td>fwd</td>\n",
              "      <td>front</td>\n",
              "      <td>99.8</td>\n",
              "      <td>0.848630</td>\n",
              "      <td>...</td>\n",
              "      <td>10.0</td>\n",
              "      <td>102.0</td>\n",
              "      <td>5500.0</td>\n",
              "      <td>24</td>\n",
              "      <td>30</td>\n",
              "      <td>13950.0</td>\n",
              "      <td>9.791667</td>\n",
              "      <td>Medium</td>\n",
              "      <td>0</td>\n",
              "      <td>1</td>\n",
              "    </tr>\n",
              "    <tr>\n",
              "      <th>4</th>\n",
              "      <td>2</td>\n",
              "      <td>164</td>\n",
              "      <td>audi</td>\n",
              "      <td>std</td>\n",
              "      <td>four</td>\n",
              "      <td>sedan</td>\n",
              "      <td>4wd</td>\n",
              "      <td>front</td>\n",
              "      <td>99.4</td>\n",
              "      <td>0.848630</td>\n",
              "      <td>...</td>\n",
              "      <td>8.0</td>\n",
              "      <td>115.0</td>\n",
              "      <td>5500.0</td>\n",
              "      <td>18</td>\n",
              "      <td>22</td>\n",
              "      <td>17450.0</td>\n",
              "      <td>13.055556</td>\n",
              "      <td>Medium</td>\n",
              "      <td>0</td>\n",
              "      <td>1</td>\n",
              "    </tr>\n",
              "  </tbody>\n",
              "</table>\n",
              "<p>5 rows × 29 columns</p>\n",
              "</div>\n",
              "      <button class=\"colab-df-convert\" onclick=\"convertToInteractive('df-a97c6dfb-2046-42e2-b9a1-1942e888f46b')\"\n",
              "              title=\"Convert this dataframe to an interactive table.\"\n",
              "              style=\"display:none;\">\n",
              "        \n",
              "  <svg xmlns=\"http://www.w3.org/2000/svg\" height=\"24px\"viewBox=\"0 0 24 24\"\n",
              "       width=\"24px\">\n",
              "    <path d=\"M0 0h24v24H0V0z\" fill=\"none\"/>\n",
              "    <path d=\"M18.56 5.44l.94 2.06.94-2.06 2.06-.94-2.06-.94-.94-2.06-.94 2.06-2.06.94zm-11 1L8.5 8.5l.94-2.06 2.06-.94-2.06-.94L8.5 2.5l-.94 2.06-2.06.94zm10 10l.94 2.06.94-2.06 2.06-.94-2.06-.94-.94-2.06-.94 2.06-2.06.94z\"/><path d=\"M17.41 7.96l-1.37-1.37c-.4-.4-.92-.59-1.43-.59-.52 0-1.04.2-1.43.59L10.3 9.45l-7.72 7.72c-.78.78-.78 2.05 0 2.83L4 21.41c.39.39.9.59 1.41.59.51 0 1.02-.2 1.41-.59l7.78-7.78 2.81-2.81c.8-.78.8-2.07 0-2.86zM5.41 20L4 18.59l7.72-7.72 1.47 1.35L5.41 20z\"/>\n",
              "  </svg>\n",
              "      </button>\n",
              "      \n",
              "  <style>\n",
              "    .colab-df-container {\n",
              "      display:flex;\n",
              "      flex-wrap:wrap;\n",
              "      gap: 12px;\n",
              "    }\n",
              "\n",
              "    .colab-df-convert {\n",
              "      background-color: #E8F0FE;\n",
              "      border: none;\n",
              "      border-radius: 50%;\n",
              "      cursor: pointer;\n",
              "      display: none;\n",
              "      fill: #1967D2;\n",
              "      height: 32px;\n",
              "      padding: 0 0 0 0;\n",
              "      width: 32px;\n",
              "    }\n",
              "\n",
              "    .colab-df-convert:hover {\n",
              "      background-color: #E2EBFA;\n",
              "      box-shadow: 0px 1px 2px rgba(60, 64, 67, 0.3), 0px 1px 3px 1px rgba(60, 64, 67, 0.15);\n",
              "      fill: #174EA6;\n",
              "    }\n",
              "\n",
              "    [theme=dark] .colab-df-convert {\n",
              "      background-color: #3B4455;\n",
              "      fill: #D2E3FC;\n",
              "    }\n",
              "\n",
              "    [theme=dark] .colab-df-convert:hover {\n",
              "      background-color: #434B5C;\n",
              "      box-shadow: 0px 1px 3px 1px rgba(0, 0, 0, 0.15);\n",
              "      filter: drop-shadow(0px 1px 2px rgba(0, 0, 0, 0.3));\n",
              "      fill: #FFFFFF;\n",
              "    }\n",
              "  </style>\n",
              "\n",
              "      <script>\n",
              "        const buttonEl =\n",
              "          document.querySelector('#df-a97c6dfb-2046-42e2-b9a1-1942e888f46b button.colab-df-convert');\n",
              "        buttonEl.style.display =\n",
              "          google.colab.kernel.accessAllowed ? 'block' : 'none';\n",
              "\n",
              "        async function convertToInteractive(key) {\n",
              "          const element = document.querySelector('#df-a97c6dfb-2046-42e2-b9a1-1942e888f46b');\n",
              "          const dataTable =\n",
              "            await google.colab.kernel.invokeFunction('convertToInteractive',\n",
              "                                                     [key], {});\n",
              "          if (!dataTable) return;\n",
              "\n",
              "          const docLinkHtml = 'Like what you see? Visit the ' +\n",
              "            '<a target=\"_blank\" href=https://colab.research.google.com/notebooks/data_table.ipynb>data table notebook</a>'\n",
              "            + ' to learn more about interactive tables.';\n",
              "          element.innerHTML = '';\n",
              "          dataTable['output_type'] = 'display_data';\n",
              "          await google.colab.output.renderOutput(dataTable, element);\n",
              "          const docLink = document.createElement('div');\n",
              "          docLink.innerHTML = docLinkHtml;\n",
              "          element.appendChild(docLink);\n",
              "        }\n",
              "      </script>\n",
              "    </div>\n",
              "  </div>\n",
              "  "
            ]
          },
          "metadata": {},
          "execution_count": 4
        }
      ]
    },
    {
      "cell_type": "markdown",
      "source": [
        "### Regresión Lineal"
      ],
      "metadata": {
        "id": "eTTM0i8CyCAP"
      }
    },
    {
      "cell_type": "markdown",
      "source": [
        "<p>One example of a Data  Model that we will be using is:</p>\n",
        "<b>Simple Linear Regression</b>\n",
        "\n",
        "<br>\n",
        "<p>Simple Linear Regression is a method to help us understand the relationship between two variables:</p>\n",
        "<ul>\n",
        "    <li>The predictor/independent variable (X)</li>\n",
        "    <li>The response/dependent variable (that we want to predict)(Y)</li>\n",
        "</ul>\n",
        "\n",
        "<p>The result of Linear Regression is a <b>linear function</b> that predicts the response (dependent) variable as a function of the predictor (independent) variable.</p>"
      ],
      "metadata": {
        "id": "zTed2xazyEV7"
      }
    },
    {
      "cell_type": "markdown",
      "source": [
        "<b>Linear Function</b>\n",
        "$$\n",
        "Yhat = a + b  X\n",
        "$$"
      ],
      "metadata": {
        "id": "hWuINP7ayMMj"
      }
    },
    {
      "cell_type": "markdown",
      "source": [
        "<ul>\n",
        "    <li>a refers to the <b>intercept</b> of the regression line, in other words: the value of Y when X is 0</li>\n",
        "    <li>b refers to the <b>slope</b> of the regression line, in other words: the value with which Y changes when X increases by 1 unit</li>\n",
        "</ul>"
      ],
      "metadata": {
        "id": "d2txqW5syPhx"
      }
    },
    {
      "cell_type": "code",
      "source": [
        "from sklearn.linear_model import LinearRegression"
      ],
      "metadata": {
        "id": "vdAJ7XsZx6jy"
      },
      "execution_count": 5,
      "outputs": []
    },
    {
      "cell_type": "code",
      "source": [
        "lm = LinearRegression()\n",
        "lm"
      ],
      "metadata": {
        "colab": {
          "base_uri": "https://localhost:8080/"
        },
        "id": "GRsk9q_nyU2v",
        "outputId": "ad59b38e-1e45-4e49-b291-57edbb9a8e3a"
      },
      "execution_count": 6,
      "outputs": [
        {
          "output_type": "execute_result",
          "data": {
            "text/plain": [
              "LinearRegression()"
            ]
          },
          "metadata": {},
          "execution_count": 6
        }
      ]
    },
    {
      "cell_type": "markdown",
      "source": [
        "How could \"highway-mpg\" help us predict car price?\n",
        "\n",
        "For this example, we want to look at how highway-mpg can help us predict car price. Using simple linear regression, we will create a linear function with \"highway-mpg\" as the predictor variable and the \"price\" as the response variable."
      ],
      "metadata": {
        "id": "ht7MHaIJyvdH"
      }
    },
    {
      "cell_type": "code",
      "source": [
        "X = df[['highway-mpg']]\n",
        "Y = df['price']"
      ],
      "metadata": {
        "id": "pzFRzeqLyXm-"
      },
      "execution_count": 7,
      "outputs": []
    },
    {
      "cell_type": "code",
      "source": [
        "lm.fit(X,Y)"
      ],
      "metadata": {
        "colab": {
          "base_uri": "https://localhost:8080/"
        },
        "id": "5wXu5Wp-yiyh",
        "outputId": "0b2d8835-f634-4ebd-ec15-e9d1272c1487"
      },
      "execution_count": 8,
      "outputs": [
        {
          "output_type": "execute_result",
          "data": {
            "text/plain": [
              "LinearRegression()"
            ]
          },
          "metadata": {},
          "execution_count": 8
        }
      ]
    },
    {
      "cell_type": "code",
      "source": [
        "Yhat=lm.predict(X)\n",
        "Yhat[0:5] "
      ],
      "metadata": {
        "colab": {
          "base_uri": "https://localhost:8080/"
        },
        "id": "IhL8khRdykQ1",
        "outputId": "73091de1-87e5-4f4d-ce70-88172054ea2e"
      },
      "execution_count": 9,
      "outputs": [
        {
          "output_type": "execute_result",
          "data": {
            "text/plain": [
              "array([16236.50464347, 16236.50464347, 17058.23802179, 13771.3045085 ,\n",
              "       20345.17153508])"
            ]
          },
          "metadata": {},
          "execution_count": 9
        }
      ]
    },
    {
      "cell_type": "markdown",
      "source": [
        "What is the value of the intercept (a)?"
      ],
      "metadata": {
        "id": "4cuJx4Yky00o"
      }
    },
    {
      "cell_type": "code",
      "source": [
        "lm.intercept_"
      ],
      "metadata": {
        "colab": {
          "base_uri": "https://localhost:8080/"
        },
        "id": "1tqiNTbuymF-",
        "outputId": "992b6c08-4723-4b95-dbd9-54b15ee47343"
      },
      "execution_count": 10,
      "outputs": [
        {
          "output_type": "execute_result",
          "data": {
            "text/plain": [
              "38423.3058581574"
            ]
          },
          "metadata": {},
          "execution_count": 10
        }
      ]
    },
    {
      "cell_type": "markdown",
      "source": [
        "What is the value of the slope (b)?"
      ],
      "metadata": {
        "id": "uDf7FE_0y3mk"
      }
    },
    {
      "cell_type": "code",
      "source": [
        "lm.coef_"
      ],
      "metadata": {
        "colab": {
          "base_uri": "https://localhost:8080/"
        },
        "id": "Ee9gsV4cyy9S",
        "outputId": "8b34085e-1fac-439a-9251-22e79712a00b"
      },
      "execution_count": 11,
      "outputs": [
        {
          "output_type": "execute_result",
          "data": {
            "text/plain": [
              "array([-821.73337832])"
            ]
          },
          "metadata": {},
          "execution_count": 11
        }
      ]
    },
    {
      "cell_type": "markdown",
      "source": [
        "Price = 38423.31 - 821.73 x highway-mpg"
      ],
      "metadata": {
        "id": "-e_MJfutzDOQ"
      }
    },
    {
      "cell_type": "markdown",
      "source": [
        "\n",
        "Question #1 a):\n",
        "\n",
        "Create a linear regression object called \"lm1\".\n"
      ],
      "metadata": {
        "id": "tW-GtoQ6zIQ4"
      }
    },
    {
      "cell_type": "code",
      "source": [
        "lm1 = LinearRegression()\n",
        "lm1"
      ],
      "metadata": {
        "colab": {
          "base_uri": "https://localhost:8080/"
        },
        "id": "3QNitVjPy4ur",
        "outputId": "b7c53907-21dd-4a1e-b47c-392d99655f8d"
      },
      "execution_count": 12,
      "outputs": [
        {
          "output_type": "execute_result",
          "data": {
            "text/plain": [
              "LinearRegression()"
            ]
          },
          "metadata": {},
          "execution_count": 12
        }
      ]
    },
    {
      "cell_type": "markdown",
      "source": [
        "\n",
        "Question #1 b):\n",
        "\n",
        "Train the model using \"engine-size\" as the independent variable and \"price\" as the dependent variable?\n"
      ],
      "metadata": {
        "id": "jEBh_vP4zMC4"
      }
    },
    {
      "cell_type": "code",
      "source": [
        "lm1.fit(df[['engine-size']], df[['price']])\n",
        "lm1"
      ],
      "metadata": {
        "colab": {
          "base_uri": "https://localhost:8080/"
        },
        "id": "d_Di8GavzKVS",
        "outputId": "a7aea203-6c6d-4bf5-e37f-96191feced9c"
      },
      "execution_count": 14,
      "outputs": [
        {
          "output_type": "execute_result",
          "data": {
            "text/plain": [
              "LinearRegression()"
            ]
          },
          "metadata": {},
          "execution_count": 14
        }
      ]
    },
    {
      "cell_type": "markdown",
      "source": [
        "\n",
        "Question #1 c):\n",
        "\n",
        "Find the slope and intercept of the model.\n"
      ],
      "metadata": {
        "id": "AtJE-ur4ziaU"
      }
    },
    {
      "cell_type": "code",
      "source": [
        "lm1.intercept_"
      ],
      "metadata": {
        "colab": {
          "base_uri": "https://localhost:8080/"
        },
        "id": "MqWqWWCSzYNU",
        "outputId": "13b46399-1327-4f62-c630-8faa610b7d8f"
      },
      "execution_count": 15,
      "outputs": [
        {
          "output_type": "execute_result",
          "data": {
            "text/plain": [
              "array([-7963.33890628])"
            ]
          },
          "metadata": {},
          "execution_count": 15
        }
      ]
    },
    {
      "cell_type": "code",
      "source": [
        "lm1.coef_"
      ],
      "metadata": {
        "colab": {
          "base_uri": "https://localhost:8080/"
        },
        "id": "N4xzCYBeznr9",
        "outputId": "e4f0e4fd-412a-409c-de6f-747e6b589eb2"
      },
      "execution_count": 16,
      "outputs": [
        {
          "output_type": "execute_result",
          "data": {
            "text/plain": [
              "array([[166.86001569]])"
            ]
          },
          "metadata": {},
          "execution_count": 16
        }
      ]
    },
    {
      "cell_type": "markdown",
      "source": [
        "Price = -7963.3389 + 166.86 x engine-size"
      ],
      "metadata": {
        "id": "HeetpwN_zsin"
      }
    },
    {
      "cell_type": "markdown",
      "source": [
        "### Regresión Lineal Multiple"
      ],
      "metadata": {
        "id": "w1GX6-kLz-pD"
      }
    },
    {
      "cell_type": "markdown",
      "source": [
        "<p>What if we want to predict car price using more than one variable?</p>\n",
        "\n",
        "<p>If we want to use more variables in our model to predict car price, we can use <b>Multiple Linear Regression</b>.\n",
        "Multiple Linear Regression is very similar to Simple Linear Regression, but this method is used to explain the relationship between one continuous response (dependent) variable and <b>two or more</b> predictor (independent) variables.\n",
        "Most of the real-world regression models involve multiple predictors. We will illustrate the structure by using four predictor variables, but these results can generalize to any integer:</p>\n"
      ],
      "metadata": {
        "id": "yp2WEr4R0Bcj"
      }
    },
    {
      "cell_type": "code",
      "source": [
        "Z = df[['horsepower', 'curb-weight', 'engine-size', 'highway-mpg']]"
      ],
      "metadata": {
        "id": "k6YPW7LJ0AkQ"
      },
      "execution_count": 17,
      "outputs": []
    },
    {
      "cell_type": "code",
      "source": [
        "lm.fit(Z, df['price'])"
      ],
      "metadata": {
        "colab": {
          "base_uri": "https://localhost:8080/"
        },
        "id": "yus3va5K0OXQ",
        "outputId": "0dbb8268-6fda-4347-b95d-5d5495ff5b3d"
      },
      "execution_count": 18,
      "outputs": [
        {
          "output_type": "execute_result",
          "data": {
            "text/plain": [
              "LinearRegression()"
            ]
          },
          "metadata": {},
          "execution_count": 18
        }
      ]
    },
    {
      "cell_type": "code",
      "source": [
        "lm.intercept_"
      ],
      "metadata": {
        "colab": {
          "base_uri": "https://localhost:8080/"
        },
        "id": "D75yz9LQ0Put",
        "outputId": "1135bafa-77d1-4062-f696-e2f595a94d67"
      },
      "execution_count": 19,
      "outputs": [
        {
          "output_type": "execute_result",
          "data": {
            "text/plain": [
              "-15806.62462632922"
            ]
          },
          "metadata": {},
          "execution_count": 19
        }
      ]
    },
    {
      "cell_type": "code",
      "source": [
        "lm.coef_"
      ],
      "metadata": {
        "colab": {
          "base_uri": "https://localhost:8080/"
        },
        "id": "raDBQtrh0Qxt",
        "outputId": "4e57be6c-9136-4f61-bbe7-79f038d31677"
      },
      "execution_count": 20,
      "outputs": [
        {
          "output_type": "execute_result",
          "data": {
            "text/plain": [
              "array([53.49574423,  4.70770099, 81.53026382, 36.05748882])"
            ]
          },
          "metadata": {},
          "execution_count": 20
        }
      ]
    },
    {
      "cell_type": "markdown",
      "source": [
        "Price = -15678.742628061467 + 52.65851272 x horsepower + 4.69878948 x curb-weight + 81.95906216 x engine-size + 33.58258185 x highway-mpg\n"
      ],
      "metadata": {
        "id": "5bNldJ7z0UuI"
      }
    },
    {
      "cell_type": "markdown",
      "source": [
        " Question #2 a):\n",
        "Create and train a Multiple Linear Regression model \"lm2\" where the response variable is \"price\", and the predictor variable is \"normalized-losses\" and \"highway-mpg\". "
      ],
      "metadata": {
        "id": "5qHZPMkQ00Ox"
      }
    },
    {
      "cell_type": "code",
      "source": [
        "W = df[['normalized-losses','highway-mpg']]\n",
        "lm2 = LinearRegression()\n",
        "lm2.fit(W,df['price'])\n",
        "lm2"
      ],
      "metadata": {
        "colab": {
          "base_uri": "https://localhost:8080/"
        },
        "id": "ZiMuGxH-0R4n",
        "outputId": "7d4b706a-30c5-43d5-bfd7-f7cb1e4598b1"
      },
      "execution_count": 22,
      "outputs": [
        {
          "output_type": "execute_result",
          "data": {
            "text/plain": [
              "LinearRegression()"
            ]
          },
          "metadata": {},
          "execution_count": 22
        }
      ]
    },
    {
      "cell_type": "markdown",
      "source": [
        "\n",
        "Question #2 b):\n",
        "Find the coefficient of the model.\n"
      ],
      "metadata": {
        "id": "BO-x23z102FT"
      }
    },
    {
      "cell_type": "code",
      "source": [
        "lm2.coef_"
      ],
      "metadata": {
        "colab": {
          "base_uri": "https://localhost:8080/"
        },
        "id": "XsYA-n7201_j",
        "outputId": "f72cad41-695b-4139-dc3e-37f6e509303c"
      },
      "execution_count": 23,
      "outputs": [
        {
          "output_type": "execute_result",
          "data": {
            "text/plain": [
              "array([   1.49789586, -820.45434016])"
            ]
          },
          "metadata": {},
          "execution_count": 23
        }
      ]
    },
    {
      "cell_type": "code",
      "source": [
        "lm2.intercept_"
      ],
      "metadata": {
        "colab": {
          "base_uri": "https://localhost:8080/"
        },
        "id": "ytWNVXxC1Zxg",
        "outputId": "03661c40-8d4b-4cf4-a156-492571d5c974"
      },
      "execution_count": 24,
      "outputs": [
        {
          "output_type": "execute_result",
          "data": {
            "text/plain": [
              "38201.31327245728"
            ]
          },
          "metadata": {},
          "execution_count": 24
        }
      ]
    },
    {
      "cell_type": "markdown",
      "source": [
        "### 2. Model Evaluation Using Visualization"
      ],
      "metadata": {
        "id": "r_-pWu801ilY"
      }
    },
    {
      "cell_type": "markdown",
      "source": [
        "Regression Plot"
      ],
      "metadata": {
        "id": "RAP7PQmx1p9_"
      }
    },
    {
      "cell_type": "code",
      "source": [
        "import seaborn as sns"
      ],
      "metadata": {
        "id": "au5rmXkR1bjc"
      },
      "execution_count": 25,
      "outputs": []
    },
    {
      "cell_type": "markdown",
      "source": [
        "When it comes to simple linear regression, an excellent way to visualize the fit of our model is by using regression plots.\n",
        "\n",
        "This plot will show a combination of a scattered data points (a scatterplot), as well as the fitted linear regression line going through the data. This will give us a reasonable estimate of the relationship between the two variables, the strength of the correlation, as well as the direction (positive or negative correlation).\n",
        "\n",
        "Let's visualize highway-mpg as potential predictor variable of price:\n"
      ],
      "metadata": {
        "id": "Dvx9zeLI1omo"
      }
    },
    {
      "cell_type": "code",
      "source": [
        "width = 12\n",
        "height = 10\n",
        "plt.figure(figsize=(width, height))\n",
        "sns.regplot(x=\"highway-mpg\", y=\"price\", data=df)\n",
        "plt.ylim(0,)"
      ],
      "metadata": {
        "colab": {
          "base_uri": "https://localhost:8080/",
          "height": 623
        },
        "id": "d33NgHpS1mYW",
        "outputId": "17fdbdd7-a125-45f4-b3d1-c2e2f3a42fd0"
      },
      "execution_count": 26,
      "outputs": [
        {
          "output_type": "execute_result",
          "data": {
            "text/plain": [
              "(0.0, 48158.437742195)"
            ]
          },
          "metadata": {},
          "execution_count": 26
        },
        {
          "output_type": "display_data",
          "data": {
            "text/plain": [
              "<Figure size 864x720 with 1 Axes>"
            ],
            "image/png": "[encoded data removed]"
          },
          "metadata": {
            "needs_background": "light"
          }
        }
      ]
    },
    {
      "cell_type": "code",
      "source": [
        "plt.figure(figsize=(width, height))\n",
        "sns.regplot(x=\"peak-rpm\", y=\"price\", data=df)\n",
        "plt.ylim(0,)"
      ],
      "metadata": {
        "colab": {
          "base_uri": "https://localhost:8080/",
          "height": 623
        },
        "id": "ZQpyHlWu1tD0",
        "outputId": "590b8de2-101c-4e73-f330-951b8ec1dc7f"
      },
      "execution_count": 27,
      "outputs": [
        {
          "output_type": "execute_result",
          "data": {
            "text/plain": [
              "(0.0, 47414.1)"
            ]
          },
          "metadata": {},
          "execution_count": 27
        },
        {
          "output_type": "display_data",
          "data": {
            "text/plain": [
              "<Figure size 864x720 with 1 Axes>"
            ],
            "image/png": "[encoded data removed]"
          },
          "metadata": {
            "needs_background": "light"
          }
        }
      ]
    },
    {
      "cell_type": "markdown",
      "source": [
        "\n",
        "Question #3:\n",
        "Given the regression plots above, is \"peak-rpm\" or \"highway-mpg\" more strongly correlated with \"price\"? Use the method \".corr()\" to verify your answer.\n"
      ],
      "metadata": {
        "id": "KfnY5RCn2BBg"
      }
    },
    {
      "cell_type": "code",
      "source": [
        "df[[\"peak-rpm\",\"highway-mpg\",\"price\"]].corr()"
      ],
      "metadata": {
        "colab": {
          "base_uri": "https://localhost:8080/",
          "height": 143
        },
        "id": "fKx_kkZs14ny",
        "outputId": "1924dbc5-fa50-4467-ab79-691ac40008ce"
      },
      "execution_count": 28,
      "outputs": [
        {
          "output_type": "execute_result",
          "data": {
            "text/plain": [
              "             peak-rpm  highway-mpg     price\n",
              "peak-rpm     1.000000    -0.058598 -0.101616\n",
              "highway-mpg -0.058598     1.000000 -0.704692\n",
              "price       -0.101616    -0.704692  1.000000"
            ],
            "text/html": [
              "\n",
              "  <div id=\"df-a926907e-f730-4960-86ea-12c4337b94fd\">\n",
              "    <div class=\"colab-df-container\">\n",
              "      <div>\n",
              "<style scoped>\n",
              "    .dataframe tbody tr th:only-of-type {\n",
              "        vertical-align: middle;\n",
              "    }\n",
              "\n",
              "    .dataframe tbody tr th {\n",
              "        vertical-align: top;\n",
              "    }\n",
              "\n",
              "    .dataframe thead th {\n",
              "        text-align: right;\n",
              "    }\n",
              "</style>\n",
              "<table border=\"1\" class=\"dataframe\">\n",
              "  <thead>\n",
              "    <tr style=\"text-align: right;\">\n",
              "      <th></th>\n",
              "      <th>peak-rpm</th>\n",
              "      <th>highway-mpg</th>\n",
              "      <th>price</th>\n",
              "    </tr>\n",
              "  </thead>\n",
              "  <tbody>\n",
              "    <tr>\n",
              "      <th>peak-rpm</th>\n",
              "      <td>1.000000</td>\n",
              "      <td>-0.058598</td>\n",
              "      <td>-0.101616</td>\n",
              "    </tr>\n",
              "    <tr>\n",
              "      <th>highway-mpg</th>\n",
              "      <td>-0.058598</td>\n",
              "      <td>1.000000</td>\n",
              "      <td>-0.704692</td>\n",
              "    </tr>\n",
              "    <tr>\n",
              "      <th>price</th>\n",
              "      <td>-0.101616</td>\n",
              "      <td>-0.704692</td>\n",
              "      <td>1.000000</td>\n",
              "    </tr>\n",
              "  </tbody>\n",
              "</table>\n",
              "</div>\n",
              "      <button class=\"colab-df-convert\" onclick=\"convertToInteractive('df-a926907e-f730-4960-86ea-12c4337b94fd')\"\n",
              "              title=\"Convert this dataframe to an interactive table.\"\n",
              "              style=\"display:none;\">\n",
              "        \n",
              "  <svg xmlns=\"http://www.w3.org/2000/svg\" height=\"24px\"viewBox=\"0 0 24 24\"\n",
              "       width=\"24px\">\n",
              "    <path d=\"M0 0h24v24H0V0z\" fill=\"none\"/>\n",
              "    <path d=\"M18.56 5.44l.94 2.06.94-2.06 2.06-.94-2.06-.94-.94-2.06-.94 2.06-2.06.94zm-11 1L8.5 8.5l.94-2.06 2.06-.94-2.06-.94L8.5 2.5l-.94 2.06-2.06.94zm10 10l.94 2.06.94-2.06 2.06-.94-2.06-.94-.94-2.06-.94 2.06-2.06.94z\"/><path d=\"M17.41 7.96l-1.37-1.37c-.4-.4-.92-.59-1.43-.59-.52 0-1.04.2-1.43.59L10.3 9.45l-7.72 7.72c-.78.78-.78 2.05 0 2.83L4 21.41c.39.39.9.59 1.41.59.51 0 1.02-.2 1.41-.59l7.78-7.78 2.81-2.81c.8-.78.8-2.07 0-2.86zM5.41 20L4 18.59l7.72-7.72 1.47 1.35L5.41 20z\"/>\n",
              "  </svg>\n",
              "      </button>\n",
              "      \n",
              "  <style>\n",
              "    .colab-df-container {\n",
              "      display:flex;\n",
              "      flex-wrap:wrap;\n",
              "      gap: 12px;\n",
              "    }\n",
              "\n",
              "    .colab-df-convert {\n",
              "      background-color: #E8F0FE;\n",
              "      border: none;\n",
              "      border-radius: 50%;\n",
              "      cursor: pointer;\n",
              "      display: none;\n",
              "      fill: #1967D2;\n",
              "      height: 32px;\n",
              "      padding: 0 0 0 0;\n",
              "      width: 32px;\n",
              "    }\n",
              "\n",
              "    .colab-df-convert:hover {\n",
              "      background-color: #E2EBFA;\n",
              "      box-shadow: 0px 1px 2px rgba(60, 64, 67, 0.3), 0px 1px 3px 1px rgba(60, 64, 67, 0.15);\n",
              "      fill: #174EA6;\n",
              "    }\n",
              "\n",
              "    [theme=dark] .colab-df-convert {\n",
              "      background-color: #3B4455;\n",
              "      fill: #D2E3FC;\n",
              "    }\n",
              "\n",
              "    [theme=dark] .colab-df-convert:hover {\n",
              "      background-color: #434B5C;\n",
              "      box-shadow: 0px 1px 3px 1px rgba(0, 0, 0, 0.15);\n",
              "      filter: drop-shadow(0px 1px 2px rgba(0, 0, 0, 0.3));\n",
              "      fill: #FFFFFF;\n",
              "    }\n",
              "  </style>\n",
              "\n",
              "      <script>\n",
              "        const buttonEl =\n",
              "          document.querySelector('#df-a926907e-f730-4960-86ea-12c4337b94fd button.colab-df-convert');\n",
              "        buttonEl.style.display =\n",
              "          google.colab.kernel.accessAllowed ? 'block' : 'none';\n",
              "\n",
              "        async function convertToInteractive(key) {\n",
              "          const element = document.querySelector('#df-a926907e-f730-4960-86ea-12c4337b94fd');\n",
              "          const dataTable =\n",
              "            await google.colab.kernel.invokeFunction('convertToInteractive',\n",
              "                                                     [key], {});\n",
              "          if (!dataTable) return;\n",
              "\n",
              "          const docLinkHtml = 'Like what you see? Visit the ' +\n",
              "            '<a target=\"_blank\" href=https://colab.research.google.com/notebooks/data_table.ipynb>data table notebook</a>'\n",
              "            + ' to learn more about interactive tables.';\n",
              "          element.innerHTML = '';\n",
              "          dataTable['output_type'] = 'display_data';\n",
              "          await google.colab.output.renderOutput(dataTable, element);\n",
              "          const docLink = document.createElement('div');\n",
              "          docLink.innerHTML = docLinkHtml;\n",
              "          element.appendChild(docLink);\n",
              "        }\n",
              "      </script>\n",
              "    </div>\n",
              "  </div>\n",
              "  "
            ]
          },
          "metadata": {},
          "execution_count": 28
        }
      ]
    },
    {
      "cell_type": "markdown",
      "source": [
        "Residual Plot"
      ],
      "metadata": {
        "id": "RMSSB4t12OGT"
      }
    },
    {
      "cell_type": "markdown",
      "source": [
        "A good way to visualize the variance of the data is to use a residual plot.\n",
        "\n",
        "What is a residual?\n",
        "\n",
        "The difference between the observed value (y) and the predicted value (Yhat) is called the residual (e). When we look at a regression plot, the residual is the distance from the data point to the fitted regression line.\n",
        "\n",
        "So what is a residual plot?\n",
        "\n",
        "A residual plot is a graph that shows the residuals on the vertical y-axis and the independent variable on the horizontal x-axis.\n",
        "\n",
        "What do we pay attention to when looking at a residual plot?\n",
        "\n",
        "We look at the spread of the residuals:\n",
        "\n",
        "- If the points in a residual plot are randomly spread out around the x-axis, then a linear model is appropriate for the data.\n",
        "\n",
        "Why is that? Randomly spread out residuals means that the variance is constant, and thus the linear model is a good fit for this data."
      ],
      "metadata": {
        "id": "T0a-bvzT2rWA"
      }
    },
    {
      "cell_type": "code",
      "source": [
        "width = 12\n",
        "height = 10\n",
        "plt.figure(figsize=(width, height))\n",
        "sns.residplot(x=df['highway-mpg'],y=df['price'])\n",
        "plt.show()"
      ],
      "metadata": {
        "colab": {
          "base_uri": "https://localhost:8080/",
          "height": 606
        },
        "id": "l4qW14Gb2IEC",
        "outputId": "31fd3964-09a1-49b6-f61b-2739119693a0"
      },
      "execution_count": 29,
      "outputs": [
        {
          "output_type": "display_data",
          "data": {
            "text/plain": [
              "<Figure size 864x720 with 1 Axes>"
            ],
            "image/png": "[encoded data removed]"
          },
          "metadata": {
            "needs_background": "light"
          }
        }
      ]
    },
    {
      "cell_type": "markdown",
      "source": [
        "What is this plot telling us?\n",
        "\n",
        "We can see from this residual plot that the residuals are not randomly spread around the x-axis, leading us to believe that maybe a non-linear model is more appropriate for this data.\n"
      ],
      "metadata": {
        "id": "AO69x7Bn2vH8"
      }
    },
    {
      "cell_type": "markdown",
      "source": [
        "Multiple Linear Regression\n",
        "\n",
        "How do we visualize a model for Multiple Linear Regression? This gets a bit more complicated because you can't visualize it with regression or residual plot.\n",
        "\n",
        "One way to look at the fit of the model is by looking at the distribution plot. We can look at the distribution of the fitted values that result from the model and compare it to the distribution of the actual values.\n",
        "\n",
        "\n",
        "First, let's make a prediction:\n"
      ],
      "metadata": {
        "id": "xcP8VPWM20sr"
      }
    },
    {
      "cell_type": "code",
      "source": [
        "Y_hat = lm.predict(Z)"
      ],
      "metadata": {
        "id": "EvPqd2iu2kV1"
      },
      "execution_count": 30,
      "outputs": []
    },
    {
      "cell_type": "code",
      "source": [
        "plt.figure(figsize=(width, height))\n",
        "\n",
        "\n",
        "ax1 = sns.distplot(df['price'], hist=False, color=\"r\", label=\"Actual Value\")\n",
        "sns.distplot(Y_hat, hist=False, color=\"b\", label=\"Fitted Values\" , ax=ax1)\n",
        "\n",
        "\n",
        "plt.title('Actual vs Fitted Values for Price')\n",
        "plt.xlabel('Price (in dollars)')\n",
        "plt.ylabel('Proportion of Cars')\n",
        "\n",
        "plt.show()\n",
        "plt.close()"
      ],
      "metadata": {
        "colab": {
          "base_uri": "https://localhost:8080/",
          "height": 710
        },
        "id": "5Z9Ev51H22yx",
        "outputId": "91b478c0-a62b-4c7d-9730-6d25e393608d"
      },
      "execution_count": 31,
      "outputs": [
        {
          "output_type": "stream",
          "name": "stderr",
          "text": [
            "/usr/local/lib/python3.7/dist-packages/seaborn/distributions.py:2619: FutureWarning: `distplot` is a deprecated function and will be removed in a future version. Please adapt your code to use either `displot` (a figure-level function with similar flexibility) or `kdeplot` (an axes-level function for kernel density plots).\n",
            "  warnings.warn(msg, FutureWarning)\n",
            "/usr/local/lib/python3.7/dist-packages/seaborn/distributions.py:2619: FutureWarning: `distplot` is a deprecated function and will be removed in a future version. Please adapt your code to use either `displot` (a figure-level function with similar flexibility) or `kdeplot` (an axes-level function for kernel density plots).\n",
            "  warnings.warn(msg, FutureWarning)\n"
          ]
        },
        {
          "output_type": "display_data",
          "data": {
            "text/plain": [
              "<Figure size 864x720 with 1 Axes>"
            ],
            "image/png": "[encoded data removed]"
          },
          "metadata": {
            "needs_background": "light"
          }
        }
      ]
    },
    {
      "cell_type": "markdown",
      "source": [
        "We can see that the fitted values are reasonably close to the actual values since the two distributions overlap a bit. However, there is definitely some room for improvement."
      ],
      "metadata": {
        "id": "8Suem0VQ3EGv"
      }
    },
    {
      "cell_type": "markdown",
      "source": [
        "### 3. Polynomial Regression and Pipelines"
      ],
      "metadata": {
        "id": "QF42IQdS3GSn"
      }
    },
    {
      "cell_type": "markdown",
      "source": [
        "Polynomial regression is a particular case of the general linear regression model or multiple linear regression models.\n",
        "\n",
        "We get non-linear relationships by squaring or setting higher-order terms of the predictor variables.\n",
        "\n",
        "There are different orders of polynomial regression:\n"
      ],
      "metadata": {
        "id": "lPXgm2GG3N_r"
      }
    },
    {
      "cell_type": "markdown",
      "source": [
        "<center><b>Quadratic - 2nd Order</b></center>\n",
        "$$\n",
        "Yhat = a + b_1 X +b_2 X^2 \n",
        "$$\n",
        "\n",
        "<center><b>Cubic - 3rd Order</b></center>\n",
        "$$\n",
        "Yhat = a + b_1 X +b_2 X^2 +b_3 X^3\\\\\\\\\\\\\\\\\\\\\n",
        "$$\n",
        "\n",
        "<center><b>Higher-Order</b>:</center>\n",
        "$$\n",
        "Y = a + b_1 X +b_2 X^2 +b_3 X^3 ....\\\\\\\\\n",
        "$$"
      ],
      "metadata": {
        "id": "lDL2nBTm3RFn"
      }
    },
    {
      "cell_type": "markdown",
      "source": [
        "We saw earlier that a linear model did not provide the best fit while using \"highway-mpg\" as the predictor variable. Let's see if we can try fitting a polynomial model to the data instead.\n",
        "\n",
        "We will use the following function to plot the data:\n"
      ],
      "metadata": {
        "id": "a5BWx3jA3UtI"
      }
    },
    {
      "cell_type": "code",
      "source": [
        "def PlotPolly(model, independent_variable, dependent_variabble, Name):\n",
        "    x_new = np.linspace(15, 55, 100)\n",
        "    y_new = model(x_new)\n",
        "\n",
        "    plt.plot(independent_variable, dependent_variabble, '.', x_new, y_new, '-')\n",
        "    plt.title('Polynomial Fit with Matplotlib for Price ~ Length')\n",
        "    ax = plt.gca()\n",
        "    ax.set_facecolor((0.898, 0.898, 0.898))\n",
        "    fig = plt.gcf()\n",
        "    plt.xlabel(Name)\n",
        "    plt.ylabel('Price of Cars')\n",
        "\n",
        "    plt.show()\n",
        "    plt.close()"
      ],
      "metadata": {
        "id": "48P-ENaq24E3"
      },
      "execution_count": 33,
      "outputs": []
    },
    {
      "cell_type": "code",
      "source": [
        "x = df['highway-mpg']\n",
        "y = df['price']"
      ],
      "metadata": {
        "id": "I4xoRXWg3Pz9"
      },
      "execution_count": 34,
      "outputs": []
    },
    {
      "cell_type": "code",
      "source": [
        "# Here we use a polynomial of the 3rd order (cubic) \n",
        "f = np.polyfit(x, y, 3)\n",
        "p = np.poly1d(f)\n",
        "print(p)"
      ],
      "metadata": {
        "colab": {
          "base_uri": "https://localhost:8080/"
        },
        "id": "GFOkQzI83Z_p",
        "outputId": "7bb0463f-3f2b-42a6-9191-d40dddc4f1fb"
      },
      "execution_count": 35,
      "outputs": [
        {
          "output_type": "stream",
          "name": "stdout",
          "text": [
            "        3         2\n",
            "-1.557 x + 204.8 x - 8965 x + 1.379e+05\n"
          ]
        }
      ]
    },
    {
      "cell_type": "code",
      "source": [
        "PlotPolly(p, x, y, 'highway-mpg')"
      ],
      "metadata": {
        "colab": {
          "base_uri": "https://localhost:8080/",
          "height": 295
        },
        "id": "YstjCB4V3aal",
        "outputId": "5b60ff3a-b98d-4f4a-e881-7234269c3089"
      },
      "execution_count": 36,
      "outputs": [
        {
          "output_type": "display_data",
          "data": {
            "text/plain": [
              "<Figure size 432x288 with 1 Axes>"
            ],
            "image/png": "[encoded data removed]"
          },
          "metadata": {
            "needs_background": "light"
          }
        }
      ]
    },
    {
      "cell_type": "code",
      "source": [
        "np.polyfit(x, y, 3)"
      ],
      "metadata": {
        "colab": {
          "base_uri": "https://localhost:8080/"
        },
        "id": "UvD9FIWg3lCX",
        "outputId": "e8fa9d25-4ec5-4f4e-a693-0cba6c43485e"
      },
      "execution_count": 37,
      "outputs": [
        {
          "output_type": "execute_result",
          "data": {
            "text/plain": [
              "array([-1.55663829e+00,  2.04754306e+02, -8.96543312e+03,  1.37923594e+05])"
            ]
          },
          "metadata": {},
          "execution_count": 37
        }
      ]
    },
    {
      "cell_type": "markdown",
      "source": [
        "\n",
        "Question #4:\n",
        "Create 11 order polynomial model with the variables x and y from above.\n"
      ],
      "metadata": {
        "id": "WpIIAZu64VbN"
      }
    },
    {
      "cell_type": "code",
      "source": [
        "f1 = np.polyfit(x, y, 11)\n",
        "p1 = np.poly1d(f1)\n",
        "print(p1)\n",
        "PlotPolly(p1,x,y, 'Highway MPG')"
      ],
      "metadata": {
        "colab": {
          "base_uri": "https://localhost:8080/",
          "height": 364
        },
        "id": "OmjcMmpT3mSo",
        "outputId": "7277b8ea-eae7-427e-bbc2-8776be1d0e5e"
      },
      "execution_count": 40,
      "outputs": [
        {
          "output_type": "stream",
          "name": "stdout",
          "text": [
            "            11             10             9           8         7\n",
            "-1.243e-08 x  + 4.722e-06 x  - 0.0008028 x + 0.08056 x - 5.297 x\n",
            "          6        5             4             3             2\n",
            " + 239.5 x - 7588 x + 1.684e+05 x - 2.565e+06 x + 2.551e+07 x - 1.491e+08 x + 3.879e+08\n"
          ]
        },
        {
          "output_type": "display_data",
          "data": {
            "text/plain": [
              "<Figure size 432x288 with 1 Axes>"
            ],
            "image/png": "[encoded data removed]"
          },
          "metadata": {
            "needs_background": "light"
          }
        }
      ]
    },
    {
      "cell_type": "markdown",
      "source": [
        "Modelo Polinomial de multiples factores"
      ],
      "metadata": {
        "id": "cU3Y_ssG4tt3"
      }
    },
    {
      "cell_type": "code",
      "source": [
        "from sklearn.preprocessing import PolynomialFeatures"
      ],
      "metadata": {
        "id": "feEx-GXD4ZfQ"
      },
      "execution_count": 41,
      "outputs": []
    },
    {
      "cell_type": "code",
      "source": [
        "pr=PolynomialFeatures(degree=2)\n",
        "pr"
      ],
      "metadata": {
        "colab": {
          "base_uri": "https://localhost:8080/"
        },
        "id": "yj7YHfE44xJU",
        "outputId": "a440bbe9-5e5d-4d83-a8e7-3c75070c39db"
      },
      "execution_count": 42,
      "outputs": [
        {
          "output_type": "execute_result",
          "data": {
            "text/plain": [
              "PolynomialFeatures()"
            ]
          },
          "metadata": {},
          "execution_count": 42
        }
      ]
    },
    {
      "cell_type": "code",
      "source": [
        "Z_pr=pr.fit_transform(Z)"
      ],
      "metadata": {
        "id": "a3uWRopf4y7A"
      },
      "execution_count": 43,
      "outputs": []
    },
    {
      "cell_type": "code",
      "source": [
        "Z.shape"
      ],
      "metadata": {
        "colab": {
          "base_uri": "https://localhost:8080/"
        },
        "id": "cMHSUHq_40Qy",
        "outputId": "2383906d-edcd-4728-e59e-15763c97b6af"
      },
      "execution_count": 44,
      "outputs": [
        {
          "output_type": "execute_result",
          "data": {
            "text/plain": [
              "(201, 4)"
            ]
          },
          "metadata": {},
          "execution_count": 44
        }
      ]
    },
    {
      "cell_type": "code",
      "source": [
        "Z_pr.shape"
      ],
      "metadata": {
        "colab": {
          "base_uri": "https://localhost:8080/"
        },
        "id": "NlcGzZrx42GT",
        "outputId": "6eb9489e-2a49-404e-e151-618ee59e806c"
      },
      "execution_count": 45,
      "outputs": [
        {
          "output_type": "execute_result",
          "data": {
            "text/plain": [
              "(201, 15)"
            ]
          },
          "metadata": {},
          "execution_count": 45
        }
      ]
    },
    {
      "cell_type": "markdown",
      "source": [
        "Pipeline\n",
        "\n",
        "Data Pipelines simplify the steps of processing the data. We use the module Pipeline to create a pipeline. We also use StandardScaler as a step in our pipeline."
      ],
      "metadata": {
        "id": "4JyG9GksDCo8"
      }
    },
    {
      "cell_type": "code",
      "source": [
        "from sklearn.pipeline import Pipeline\n",
        "from sklearn.preprocessing import StandardScaler"
      ],
      "metadata": {
        "id": "OsXP1mND433v"
      },
      "execution_count": 46,
      "outputs": []
    },
    {
      "cell_type": "markdown",
      "source": [
        "We create the pipeline by creating a list of tuples including the name of the model or estimator and its corresponding constructor.\n"
      ],
      "metadata": {
        "id": "BBvMj7LvDIc5"
      }
    },
    {
      "cell_type": "code",
      "source": [
        "Input=[('scale',StandardScaler()), ('polynomial', PolynomialFeatures(include_bias=False)), ('model',LinearRegression())]"
      ],
      "metadata": {
        "id": "Q3DvY0Vf5DST"
      },
      "execution_count": 47,
      "outputs": []
    },
    {
      "cell_type": "code",
      "source": [
        "pipe=Pipeline(Input)\n",
        "pipe"
      ],
      "metadata": {
        "colab": {
          "base_uri": "https://localhost:8080/"
        },
        "id": "g6yFpfP-5IR-",
        "outputId": "53977551-d6b2-4078-a255-e17ae8d46384"
      },
      "execution_count": 48,
      "outputs": [
        {
          "output_type": "execute_result",
          "data": {
            "text/plain": [
              "Pipeline(steps=[('scale', StandardScaler()),\n",
              "                ('polynomial', PolynomialFeatures(include_bias=False)),\n",
              "                ('model', LinearRegression())])"
            ]
          },
          "metadata": {},
          "execution_count": 48
        }
      ]
    },
    {
      "cell_type": "markdown",
      "source": [
        "First, we convert the data type Z to type float to avoid conversion warnings that may appear as a result of StandardScaler taking float inputs.\n",
        "\n",
        "Then, we can normalize the data, perform a transform and fit the model simultaneously."
      ],
      "metadata": {
        "id": "7LGE0hLLDMnW"
      }
    },
    {
      "cell_type": "code",
      "source": [
        "Z = Z.astype(float)\n",
        "pipe.fit(Z,y)"
      ],
      "metadata": {
        "colab": {
          "base_uri": "https://localhost:8080/"
        },
        "id": "Jg_pD3Ax5J_v",
        "outputId": "00b6aa29-f473-4f77-ddb5-1570dadde654"
      },
      "execution_count": 49,
      "outputs": [
        {
          "output_type": "execute_result",
          "data": {
            "text/plain": [
              "Pipeline(steps=[('scale', StandardScaler()),\n",
              "                ('polynomial', PolynomialFeatures(include_bias=False)),\n",
              "                ('model', LinearRegression())])"
            ]
          },
          "metadata": {},
          "execution_count": 49
        }
      ]
    },
    {
      "cell_type": "code",
      "source": [
        "ypipe=pipe.predict(Z)\n",
        "ypipe[0:4]"
      ],
      "metadata": {
        "colab": {
          "base_uri": "https://localhost:8080/"
        },
        "id": "CU_27Sdn5Pbu",
        "outputId": "be9b693b-1fd7-420e-92fd-4a05c87d4552"
      },
      "execution_count": 50,
      "outputs": [
        {
          "output_type": "execute_result",
          "data": {
            "text/plain": [
              "array([13102.74784201, 13102.74784201, 18225.54572197, 10390.29636555])"
            ]
          },
          "metadata": {},
          "execution_count": 50
        }
      ]
    },
    {
      "cell_type": "markdown",
      "source": [
        "\n",
        "Question #5:\n",
        "Create a pipeline that standardizes the data, then produce a prediction using a linear regression model using the features Z and target y.\n"
      ],
      "metadata": {
        "id": "jaPiWfBG5VwP"
      }
    },
    {
      "cell_type": "code",
      "source": [
        "Input=[('scale',StandardScaler()),('model',LinearRegression())]\n",
        "\n",
        "pipe=Pipeline(Input)\n",
        "\n",
        "pipe.fit(Z,y)\n",
        "\n",
        "ypipe=pipe.predict(Z)\n",
        "ypipe[0:10]"
      ],
      "metadata": {
        "colab": {
          "base_uri": "https://localhost:8080/"
        },
        "id": "Ag-2FA0U5R62",
        "outputId": "f7fa4fe5-e4e2-4fe0-80c9-ed78a7501dae"
      },
      "execution_count": 51,
      "outputs": [
        {
          "output_type": "execute_result",
          "data": {
            "text/plain": [
              "array([13699.11161184, 13699.11161184, 19051.65470233, 10620.36193015,\n",
              "       15521.31420211, 13869.66673213, 15456.16196732, 15974.00907672,\n",
              "       17612.35917161, 10722.32509097])"
            ]
          },
          "metadata": {},
          "execution_count": 51
        }
      ]
    },
    {
      "cell_type": "markdown",
      "source": [
        "### 4. Measures for In-Sample Evaluation"
      ],
      "metadata": {
        "id": "R362pXTGDX-4"
      }
    },
    {
      "cell_type": "markdown",
      "source": [
        "When evaluating our models, not only do we want to visualize the results, but we also want a quantitative measure to determine how accurate the model is.\n",
        "\n",
        "Two very important measures that are often used in Statistics to determine the accuracy of a model are:\n",
        "\n",
        "    R^2 / R-squared\n",
        "    Mean Squared Error (MSE)\n",
        "\n",
        "R-squared\n",
        "\n",
        "R squared, also known as the coefficient of determination, is a measure to indicate how close the data is to the fitted regression line.\n",
        "\n",
        "The value of the R-squared is the percentage of variation of the response variable (y) that is explained by a linear model.\n",
        "\n",
        "Mean Squared Error (MSE)\n",
        "\n",
        "The Mean Squared Error measures the average of the squares of errors. That is, the difference between actual value (y) and the estimated value (ŷ).\n"
      ],
      "metadata": {
        "id": "lVqOj38YDiYM"
      }
    },
    {
      "cell_type": "code",
      "source": [
        "#highway_mpg_fit\n",
        "lm.fit(X, Y)\n",
        "# Find the R^2\n",
        "print('The R-square is: ', lm.score(X, Y))"
      ],
      "metadata": {
        "colab": {
          "base_uri": "https://localhost:8080/"
        },
        "id": "RS7zUong5Xjn",
        "outputId": "3bb8a0eb-1f48-4868-d0fb-369ae839fe6f"
      },
      "execution_count": 52,
      "outputs": [
        {
          "output_type": "stream",
          "name": "stdout",
          "text": [
            "The R-square is:  0.4965911884339176\n"
          ]
        }
      ]
    },
    {
      "cell_type": "code",
      "source": [
        "Yhat=lm.predict(X)\n",
        "print('The output of the first four predicted value is: ', Yhat[0:4])"
      ],
      "metadata": {
        "colab": {
          "base_uri": "https://localhost:8080/"
        },
        "id": "-xVxohZQDrau",
        "outputId": "56d7e8c0-1191-42d2-f95f-6b4e50ea45df"
      },
      "execution_count": 53,
      "outputs": [
        {
          "output_type": "stream",
          "name": "stdout",
          "text": [
            "The output of the first four predicted value is:  [16236.50464347 16236.50464347 17058.23802179 13771.3045085 ]\n"
          ]
        }
      ]
    },
    {
      "cell_type": "code",
      "source": [
        "from sklearn.metrics import mean_squared_error"
      ],
      "metadata": {
        "id": "-BFWuxgLDzSy"
      },
      "execution_count": 54,
      "outputs": []
    },
    {
      "cell_type": "code",
      "source": [
        "mse = mean_squared_error(df['price'], Yhat)\n",
        "print('The mean square error of price and predicted value is: ', mse)"
      ],
      "metadata": {
        "colab": {
          "base_uri": "https://localhost:8080/"
        },
        "id": "63W8NCGFD3ST",
        "outputId": "f63d0a7b-bc1e-43d1-8189-08cdc9bfc10c"
      },
      "execution_count": 55,
      "outputs": [
        {
          "output_type": "stream",
          "name": "stdout",
          "text": [
            "The mean square error of price and predicted value is:  31635042.944639888\n"
          ]
        }
      ]
    },
    {
      "cell_type": "code",
      "source": [
        "# fit the model \n",
        "lm.fit(Z, df['price'])\n",
        "# Find the R^2\n",
        "print('The R-square is: ', lm.score(Z, df['price']))"
      ],
      "metadata": {
        "colab": {
          "base_uri": "https://localhost:8080/"
        },
        "id": "KKJL2RlHD5_C",
        "outputId": "7afb7400-c6f5-4b42-9407-34b997d54eba"
      },
      "execution_count": 56,
      "outputs": [
        {
          "output_type": "stream",
          "name": "stdout",
          "text": [
            "The R-square is:  0.8093562806577457\n"
          ]
        }
      ]
    },
    {
      "cell_type": "code",
      "source": [
        "Y_predict_multifit = lm.predict(Z)\n",
        "print('The mean square error of price and predicted value using multifit is: ', \\\n",
        "      mean_squared_error(df['price'], Y_predict_multifit))"
      ],
      "metadata": {
        "colab": {
          "base_uri": "https://localhost:8080/"
        },
        "id": "LFD5JaNcD8oS",
        "outputId": "d8851ffa-4940-47d8-eb0f-514b019febbc"
      },
      "execution_count": 57,
      "outputs": [
        {
          "output_type": "stream",
          "name": "stdout",
          "text": [
            "The mean square error of price and predicted value using multifit is:  11980366.87072649\n"
          ]
        }
      ]
    },
    {
      "cell_type": "markdown",
      "source": [
        "Model 3: Polynomial Fit\n",
        "\n",
        "Let's calculate the R^2.\n",
        "\n",
        "Let’s import the function r2_score from the module metrics as we are using a different function.\n"
      ],
      "metadata": {
        "id": "gLkwJQiwFrfl"
      }
    },
    {
      "cell_type": "code",
      "source": [
        "from sklearn.metrics import r2_score"
      ],
      "metadata": {
        "id": "YszEPimiFm_j"
      },
      "execution_count": 58,
      "outputs": []
    },
    {
      "cell_type": "code",
      "source": [
        "r_squared = r2_score(y, p(x))\n",
        "print('The R-square value is: ', r_squared)"
      ],
      "metadata": {
        "colab": {
          "base_uri": "https://localhost:8080/"
        },
        "id": "wDddGB3QFp08",
        "outputId": "aa7b4a47-2169-437c-c910-43d71659afa5"
      },
      "execution_count": 59,
      "outputs": [
        {
          "output_type": "stream",
          "name": "stdout",
          "text": [
            "The R-square value is:  0.7023769093756598\n"
          ]
        }
      ]
    },
    {
      "cell_type": "markdown",
      "source": [
        "MSE\n",
        "\n",
        "We can also calculate the MSE:\n"
      ],
      "metadata": {
        "id": "YuVCHh5LFyV_"
      }
    },
    {
      "cell_type": "code",
      "source": [
        "mean_squared_error(df['price'], p(x))"
      ],
      "metadata": {
        "colab": {
          "base_uri": "https://localhost:8080/"
        },
        "id": "PqHHZgebFtVB",
        "outputId": "7936eea6-489b-46e4-9604-c45937f0a9f6"
      },
      "execution_count": 60,
      "outputs": [
        {
          "output_type": "execute_result",
          "data": {
            "text/plain": [
              "18703127.63085496"
            ]
          },
          "metadata": {},
          "execution_count": 60
        }
      ]
    },
    {
      "cell_type": "markdown",
      "source": [
        "### 5. Prediction and Decision Making\n"
      ],
      "metadata": {
        "id": "YMYCd-r6F0ay"
      }
    },
    {
      "cell_type": "markdown",
      "source": [
        "Prediction¶\n",
        "\n",
        "In the previous section, we trained the model using the method fit. Now we will use the method predict to produce a prediction. Lets import pyplot for plotting; we will also be using some functions from numpy."
      ],
      "metadata": {
        "id": "RoeVRN-GF4i5"
      }
    },
    {
      "cell_type": "code",
      "source": [
        "import matplotlib.pyplot as plt\n",
        "import numpy as np"
      ],
      "metadata": {
        "id": "XrKJQF7VFwer"
      },
      "execution_count": 66,
      "outputs": []
    },
    {
      "cell_type": "code",
      "source": [
        "new_input=np.arange(1, 100, 1).reshape(-1, 1)"
      ],
      "metadata": {
        "id": "8qNpFetsF6s1"
      },
      "execution_count": 67,
      "outputs": []
    },
    {
      "cell_type": "code",
      "source": [
        "lm.fit(X, Y)\n",
        "lm"
      ],
      "metadata": {
        "colab": {
          "base_uri": "https://localhost:8080/"
        },
        "id": "_zAnMd1_F7v8",
        "outputId": "5612669d-f1de-4c66-d9fd-ef1085651dc9"
      },
      "execution_count": 68,
      "outputs": [
        {
          "output_type": "execute_result",
          "data": {
            "text/plain": [
              "LinearRegression()"
            ]
          },
          "metadata": {},
          "execution_count": 68
        }
      ]
    },
    {
      "cell_type": "code",
      "source": [
        "yhat=lm.predict(new_input)\n",
        "yhat[0:5]"
      ],
      "metadata": {
        "colab": {
          "base_uri": "https://localhost:8080/"
        },
        "id": "LYR6ClojF82S",
        "outputId": "eaa1b468-15e0-4eb6-95aa-7c8c42449571"
      },
      "execution_count": 69,
      "outputs": [
        {
          "output_type": "stream",
          "name": "stderr",
          "text": [
            "/usr/local/lib/python3.7/dist-packages/sklearn/base.py:451: UserWarning: X does not have valid feature names, but LinearRegression was fitted with feature names\n",
            "  \"X does not have valid feature names, but\"\n"
          ]
        },
        {
          "output_type": "execute_result",
          "data": {
            "text/plain": [
              "array([37601.57247984, 36779.83910151, 35958.10572319, 35136.37234487,\n",
              "       34314.63896655])"
            ]
          },
          "metadata": {},
          "execution_count": 69
        }
      ]
    },
    {
      "cell_type": "code",
      "source": [
        "plt.plot(new_input, yhat)\n",
        "plt.show()"
      ],
      "metadata": {
        "colab": {
          "base_uri": "https://localhost:8080/",
          "height": 265
        },
        "id": "Ab4712tFF9sX",
        "outputId": "86c3ff97-6f0d-4757-fb1b-7a97d09d7c16"
      },
      "execution_count": 65,
      "outputs": [
        {
          "output_type": "display_data",
          "data": {
            "text/plain": [
              "<Figure size 432x288 with 1 Axes>"
            ],
            "image/png": "[encoded data removed]"
          },
          "metadata": {
            "needs_background": "light"
          }
        }
      ]
    },
    {
      "cell_type": "markdown",
      "source": [
        "Decision Making: Determining a Good Model Fit"
      ],
      "metadata": {
        "id": "NQIs7gwGGoBP"
      }
    },
    {
      "cell_type": "markdown",
      "source": [
        "Now that we have visualized the different models, and generated the R-squared and MSE values for the fits, how do we determine a good model fit?\n",
        "\n",
        "    What is a good R-squared value?\n",
        "\n",
        "When comparing models, the model with the higher R-squared value is a better fit for the data.\n",
        "\n",
        "    What is a good MSE?\n",
        "\n",
        "When comparing models, the model with the smallest MSE value is a better fit for the data.\n",
        "Let's take a look at the values for the different models.\n",
        "\n",
        "Simple Linear Regression: Using Highway-mpg as a Predictor Variable of Price.\n",
        "\n",
        "    R-squared: 0.49659118843391759\n",
        "    MSE: 3.16 x10^7\n",
        "\n",
        "Multiple Linear Regression: Using Horsepower, Curb-weight, Engine-size, and Highway-mpg as Predictor Variables of Price.\n",
        "\n",
        "    R-squared: 0.80896354913783497\n",
        "    MSE: 1.2 x10^7\n",
        "\n",
        "Polynomial Fit: Using Highway-mpg as a Predictor Variable of Price.\n",
        "\n",
        "    R-squared: 0.6741946663906514\n",
        "    MSE: 2.05 x 10^7\n",
        "\n",
        "Simple Linear Regression Model (SLR) vs Multiple Linear Regression Model (MLR)\n",
        "\n",
        "Usually, the more variables you have, the better your model is at predicting, but this is not always true. Sometimes you may not have enough data, you may run into numerical problems, or many of the variables may not be useful and even act as noise. As a result, you should always check the MSE and R^2.\n",
        "\n",
        "In order to compare the results of the MLR vs SLR models, we look at a combination of both the R-squared and MSE to make the best conclusion about the fit of the model.\n",
        "\n",
        "    MSE: The MSE of SLR is 3.16x10^7 while MLR has an MSE of 1.2 x10^7. The MSE of MLR is much smaller.\n",
        "    R-squared: In this case, we can also see that there is a big difference between the R-squared of the SLR and the R-squared of the MLR. The R-squared for the SLR (~0.497) is very small compared to the R-squared for the MLR (~0.809).\n",
        "\n",
        "This R-squared in combination with the MSE show that MLR seems like the better model fit in this case compared to SLR.\n",
        "Simple Linear Model (SLR) vs. Polynomial Fit\n",
        "\n",
        "    MSE: We can see that Polynomial Fit brought down the MSE, since this MSE is smaller than the one from the SLR.\n",
        "    R-squared: The R-squared for the Polynomial Fit is larger than the R-squared for the SLR, so the Polynomial Fit also brought up the R-squared quite a bit.\n",
        "\n",
        "Since the Polynomial Fit resulted in a lower MSE and a higher R-squared, we can conclude that this was a better fit model than the simple linear regression for predicting \"price\" with \"highway-mpg\" as a predictor variable.\n",
        "Multiple Linear Regression (MLR) vs. Polynomial Fit\n",
        "\n",
        "    MSE: The MSE for the MLR is smaller than the MSE for the Polynomial Fit.\n",
        "    R-squared: The R-squared for the MLR is also much larger than for the Polynomial Fit.\n",
        "\n",
        "Conclusion\n",
        "\n",
        "Comparing these three models, we conclude that the MLR model is the best model to be able to predict price from our dataset. This result makes sense since we have 27 variables in total and we know that more than one of those variables are potential predictors of the final car price.\n"
      ],
      "metadata": {
        "id": "Q1EZ3gqrGyIX"
      }
    },
    {
      "cell_type": "markdown",
      "source": [
        "![IBM_Modulo4_Data_Analysis.JPG](data:image/jpeg;base64,/9j/4AAQSkZJRgABAQEAeAB4AAD/4RDcRXhpZgAATU0AKgAAAAgABAE7AAIAAAAGAAAISodpAAQAAAABAAAIUJydAAEAAAAMAAAQyOocAAcAAAgMAAAAPgAAAAAc6gAAAAgAAAAAAAAAAAAAAAAAAAAAAAAAAAAAAAAAAAAAAAAAAAAAAAAAAAAAAAAAAAAAAAAAAAAAAAAAAAAAAAAAAAAAAAAAAAAAAAAAAAAAAAAAAAAAAAAAAAAAAAAAAAAAAAAAAAAAAAAAAAAAAAAAAAAAAAAAAAAAAAAAAAAAAAAAAAAAAAAAAAAAAAAAAAAAAAAAAAAAAAAAAAAAAAAAAAAAAAAAAAAAAAAAAAAAAAAAAAAAAAAAAAAAAAAAAAAAAAAAAAAAAAAAAAAAAAAAAAAAAAAAAAAAAAAAAAAAAAAAAAAAAAAAAAAAAAAAAAAAAAAAAAAAAAAAAAAAAAAAAAAAAAAAAAAAAAAAAAAAAAAAAAAAAAAAAAAAAAAAAAAAAAAAAAAAAAAAAAAAAAAAAAAAAAAAAAAAAAAAAAAAAAAAAAAAAAAAAAAAAAAAAAAAAAAAAAAAAAAAAAAAAAAAAAAAAAAAAAAAAAAAAAAAAAAAAAAAAAAAAAAAAAAAAAAAAAAAAAAAAAAAAAAAAAAAAAAAAAAAAAAAAAAAAAAAAAAAAAAAAAAAAAAAAAAAAAAAAAAAAAAAAAAAAAAAAAAAAAAAAAAAAAAAAAAAAAAAAAAAAAAAAAAAAAAAAAAAAAAAAAAAAAAAAAAAAAAAAAAAAAAAAAAAAAAAAAAAAAAAAAAAAAAAAAAAAAAAAAAAAAAAAAAAAAAAAAAAAAAAAAAAAAAAAAAAAAAAAAAAAAAAAAAAAAAAAAAAAAAAAAAAAAAAAAAAAAAAAAAAAAAAAAAAAAAAAAAAAAAAAAAAAAAAAAAAAAAAAAAAAAAAAAAAAAAAAAAAAAAAAAAAAAAAAAAAAAAAAAAAAAAAAAAAAAAAAAAAAAAAAAAAAAAAAAAAAAAAAAAAAAAAAAAAAAAAAAAAAAAAAAAAAAAAAAAAAAAAAAAAAAAAAAAAAAAAAAAAAAAAAAAAAAAAAAAAAAAAAAAAAAAAAAAAAAAAAAAAAAAAAAAAAAAAAAAAAAAAAAAAAAAAAAAAAAAAAAAAAAAAAAAAAAAAAAAAAAAAAAAAAAAAAAAAAAAAAAAAAAAAAAAAAAAAAAAAAAAAAAAAAAAAAAAAAAAAAAAAAAAAAAAAAAAAAAAAAAAAAAAAAAAAAAAAAAAAAAAAAAAAAAAAAAAAAAAAAAAAAAAAAAAAAAAAAAAAAAAAAAAAAAAAAAAAAAAAAAAAAAAAAAAAAAAAAAAAAAAAAAAAAAAAAAAAAAAAAAAAAAAAAAAAAAAAAAAAAAAAAAAAAAAAAAAAAAAAAAAAAAAAAAAAAAAAAAAAAAAAAAAAAAAAAAAAAAAAAAAAAAAAAAAAAAAAAAAAAAAAAAAAAAAAAAAAAAAAAAAAAAAAAAAAAAAAAAAAAAAAAAAAAAAAAAAAAAAAAAAAAAAAAAAAAAAAAAAAAAAAAAAAAAAAAAAAAAAAAAAAAAAAAAAAAAAAAAAAAAAAAAAAAAAAAAAAAAAAAAAAAAAAAAAAAAAAAAAAAAAAAAAAAAAAAAAAAAAAAAAAAAAAAAAAAAAAAAAAAAAAAAAAAAAAAAAAAAAAAAAAAAAAAAAAAAAAAAAAAAAAAAAAAAAAAAAAAAAAAAAAAAAAAAAAAAAAAAAAAAAAAAAAAAAAAAAAAAAAAAAAAAAAAAAAAAAAAAAAAAAAAAAAAAAAAAAAAAAAAAAAAAAAAAAAAAAAAAAAAAAAAAAAAAAAAAAAAAAAAAAAAAAAAAAAAAAAAAAAAAAAAAAAAAAAAAAAAAAAAAAAAAAAAAAAAAAAAAAAAAAAAAAAAAAAAAAAAAAAAAAAAAAAAAAAAAAAAAAAAAAAAAAAAAAAAAAAAAAAAAAAAAAAAAAAAAAAAAAAAAAAAAAAAAAAAAAAAAAAAAAAAAAAAAAAAAAAAAAAAAAAAAAAAAAAAAAAAAAAAAAAAAAAAAAAAAAAAAAAAAAAAAAAAAAAAAAAAAAAAAAAAAAAAAAAAAAAAAAAAAAAAAAAAAAAAAAAAAAAAAAAAAAAAAAAAAAAAAAAAAAAAAAAAAAAAAAAAAAAAAAAAAAAAAAAAAAAAAAAAAAAAAAAAAAAAAAAAAAAAAAAAAAAAAAAAAAAAAAAAAAAAAAAAAAAAAAAAAAAAAAAAAAAAAAAAAAAAAAAAAAAAAAAAAAAAAAAAAAAAAAAAAAAAAAAAAAAAAAAAAAAAAAAAAAAAAAAAAAAAAAAAAAAAAAAAAAAAAAAAAAAAAAAAAAAAAAAAAAAAAAAAAAAAAAAAAAAAAAAAAAAAAAAAAAAAAAAAAAAAAAAAAAAAAAAAAAAAAAAAAAAAAAAAAAAAAAAAAAAAAAAAAAAAAAAAAAAAAAAAAAAAAAAAAAAAAAAAAAAAAAAAAAAAAAAAAAAAAAAAAAAAAAAAAAAAAAAAAAAAAAAAAAAAAAAAAAAAAAAAAAAAAAAAAAAAAAAAAAAAAAAAAAAAAAAAAAAAAAAAAAAAAAAAAAAAAAAAAAAAAAAAAAAAAAAAAAAAAAAAAAAAAAAAAAAAAAAAAAAAAAAAAAAAAAAAAAAAAAAAAAAAAAAAAAAAAAAAAAAAAAAAAAAAAAAAAAAAAAAAAAAAAAAAAAAAAAAAAAAAAAAAAAAAAAAAAAAAAAAAAAAAAAAAAAAAAAAAAAAAAAAAAAAAAAAAAAAAAAAAAAAAAAAAAAAAAAAAAAAAAAAAAAAAAAAAAAAAAAAAAAAAAAAAAAAAAAAAAAAAAAAAAAAAGFuYWxpAAAFkAMAAgAAABQAABCekAQAAgAAABQAABCykpEAAgAAAAMxMQAAkpIAAgAAAAMxMQAA6hwABwAACAwAAAiSAAAAABzqAAAACAAAAAAAAAAAAAAAAAAAAAAAAAAAAAAAAAAAAAAAAAAAAAAAAAAAAAAAAAAAAAAAAAAAAAAAAAAAAAAAAAAAAAAAAAAAAAAAAAAAAAAAAAAAAAAAAAAAAAAAAAAAAAAAAAAAAAAAAAAAAAAAAAAAAAAAAAAAAAAAAAAAAAAAAAAAAAAAAAAAAAAAAAAAAAAAAAAAAAAAAAAAAAAAAAAAAAAAAAAAAAAAAAAAAAAAAAAAAAAAAAAAAAAAAAAAAAAAAAAAAAAAAAAAAAAAAAAAAAAAAAAAAAAAAAAAAAAAAAAAAAAAAAAAAAAAAAAAAAAAAAAAAAAAAAAAAAAAAAAAAAAAAAAAAAAAAAAAAAAAAAAAAAAAAAAAAAAAAAAAAAAAAAAAAAAAAAAAAAAAAAAAAAAAAAAAAAAAAAAAAAAAAAAAAAAAAAAAAAAAAAAAAAAAAAAAAAAAAAAAAAAAAAAAAAAAAAAAAAAAAAAAAAAAAAAAAAAAAAAAAAAAAAAAAAAAAAAAAAAAAAAAAAAAAAAAAAAAAAAAAAAAAAAAAAAAAAAAAAAAAAAAAAAAAAAAAAAAAAAAAAAAAAAAAAAAAAAAAAAAAAAAAAAAAAAAAAAAAAAAAAAAAAAAAAAAAAAAAAAAAAAAAAAAAAAAAAAAAAAAAAAAAAAAAAAAAAAAAAAAAAAAAAAAAAAAAAAAAAAAAAAAAAAAAAAAAAAAAAAAAAAAAAAAAAAAAAAAAAAAAAAAAAAAAAAAAAAAAAAAAAAAAAAAAAAAAAAAAAAAAAAAAAAAAAAAAAAAAAAAAAAAAAAAAAAAAAAAAAAAAAAAAAAAAAAAAAAAAAAAAAAAAAAAAAAAAAAAAAAAAAAAAAAAAAAAAAAAAAAAAAAAAAAAAAAAAAAAAAAAAAAAAAAAAAAAAAAAAAAAAAAAAAAAAAAAAAAAAAAAAAAAAAAAAAAAAAAAAAAAAAAAAAAAAAAAAAAAAAAAAAAAAAAAAAAAAAAAAAAAAAAAAAAAAAAAAAAAAAAAAAAAAAAAAAAAAAAAAAAAAAAAAAAAAAAAAAAAAAAAAAAAAAAAAAAAAAAAAAAAAAAAAAAAAAAAAAAAAAAAAAAAAAAAAAAAAAAAAAAAAAAAAAAAAAAAAAAAAAAAAAAAAAAAAAAAAAAAAAAAAAAAAAAAAAAAAAAAAAAAAAAAAAAAAAAAAAAAAAAAAAAAAAAAAAAAAAAAAAAAAAAAAAAAAAAAAAAAAAAAAAAAAAAAAAAAAAAAAAAAAAAAAAAAAAAAAAAAAAAAAAAAAAAAAAAAAAAAAAAAAAAAAAAAAAAAAAAAAAAAAAAAAAAAAAAAAAAAAAAAAAAAAAAAAAAAAAAAAAAAAAAAAAAAAAAAAAAAAAAAAAAAAAAAAAAAAAAAAAAAAAAAAAAAAAAAAAAAAAAAAAAAAAAAAAAAAAAAAAAAAAAAAAAAAAAAAAAAAAAAAAAAAAAAAAAAAAAAAAAAAAAAAAAAAAAAAAAAAAAAAAAAAAAAAAAAAAAAAAAAAAAAAAAAAAAAAAAAAAAAAAAAAAAAAAAAAAAAAAAAAAAAAAAAAAAAAAAAAAAAAAAAAAAAAAAAAAAAAAAAAAAAAAAAAAAAAAAAAAAAAAAAAAAAAAAAAAAAAAAAAAAAAAAAAAAAAAAAAAAAAAAAAAAAAAAAAAAAAAAAAAAAAAAAAAAAAAAAAAAAAAAAAAAAAAAAAAAAAAAAAAAAAAAAAAAAAAAAAAAAAAAAAAAAAAAAAAAAAAAAAAAAAAAAAAAAAAAAAAAAAAAAAAAAAAAAAAAAAAAAAAAAAAAAAAAAAAAAAAAAAAAAAAAAAAAAAAAAAAAAAAAAAAAAAAAAAAAAAAAAAAAAAAAAAAAAAAAAAAAAAAAAAAAAAAAAAAAAAAAAAAAAAAAAAAAAAAAAAAAAAAAAAAAAAAAAAAAAAAAAAAAAAAAAAAAAAAAAAAAAAAAAAAAAAAAAAAAAAAAAAAAAAAAAAAAAAAAAAAAAAAAAAAAAAAAAAAAAAAAAAAAAAAAAAAAAAAAAAAAAAAAAAAAAAAAAAAAAAAAAAAAAAAAAAAAAAAAAAAAAAAAAAAAAAAAAAAAAAAAAAAAAAAAAAAAAAAAAAAAAAAAAAAAAAAAAAAAAAAAAAAAAAAAAAAAAAAAAAAAAAAAAAAAAAAAAAAAAAAAAAAAAAAAAAAAAAAAAAAAAAAAAAAAAAAAAAAAAAAAAAAAAAAAAAAAAAAAAAAAAAAAAAAAAAAAAAAAAAAAAAAAAAAAAAAAAAAAAAAAAAAAAAAAAAAAAAAAAAAAAAAAAAAAAAAAAAAAAAAAAAAAAAAAAAAAAAAAAAAAAAAAAAAAAAAAAAAAAAAAAAAAAAAAAAAAAAAAAAAAAAAAAAAAAAAAAAAAAAAAAAAAAAAAAAAAAAAAAAAAAAAAAAAAAAAAAAAAAAAAAAAAAAAAAAAAAAAAAAAAAAAAAAAAAAAAAAAAAAAAAAAAAAAAAAAAAAAAAAAAAAAAAAAAAAAAAAAAAAAAAAAAAAAAAAAAAAAAAAAAAAAAAAAAAAAAAAAAAAAAAAAAAAAAAAAAAAAAAAAAAAAAAAAAAAAAAAAAAAAAAAAAAAAAAAAAAAAAAAAAAAAAAAAAAAAAAAAAAAAAAAAAAAAAAAAAAAAAAAAAAAAAAAAAAAAAAAAAAAAAAAAAAAAAAAAAAAAAAAAAAAAAAAAAAAAAAAAAAAAAAAAAAAAAAAAAAAAAAAAAAMjAyMjoxMDozMSAxNjoxOTozNAAyMDIyOjEwOjMxIDE2OjE5OjM0AAAAYQBuAGEAbABpAAAA/+ELGGh0dHA6Ly9ucy5hZG9iZS5jb20veGFwLzEuMC8APD94cGFja2V0IGJlZ2luPSfvu78nIGlkPSdXNU0wTXBDZWhpSHpyZVN6TlRjemtjOWQnPz4NCjx4OnhtcG1ldGEgeG1sbnM6eD0iYWRvYmU6bnM6bWV0YS8iPjxyZGY6UkRGIHhtbG5zOnJkZj0iaHR0cDovL3d3dy53My5vcmcvMTk5OS8wMi8yMi1yZGYtc3ludGF4LW5zIyI+PHJkZjpEZXNjcmlwdGlvbiByZGY6YWJvdXQ9InV1aWQ6ZmFmNWJkZDUtYmEzZC0xMWRhLWFkMzEtZDMzZDc1MTgyZjFiIiB4bWxuczpkYz0iaHR0cDovL3B1cmwub3JnL2RjL2VsZW1lbnRzLzEuMS8iLz48cmRmOkRlc2NyaXB0aW9uIHJkZjphYm91dD0idXVpZDpmYWY1YmRkNS1iYTNkLTExZGEtYWQzMS1kMzNkNzUxODJmMWIiIHhtbG5zOnhtcD0iaHR0cDovL25zLmFkb2JlLmNvbS94YXAvMS4wLyI+PHhtcDpDcmVhdGVEYXRlPjIwMjItMTAtMzFUMTY6MTk6MzQuMTEyPC94bXA6Q3JlYXRlRGF0ZT48L3JkZjpEZXNjcmlwdGlvbj48cmRmOkRlc2NyaXB0aW9uIHJkZjphYm91dD0idXVpZDpmYWY1YmRkNS1iYTNkLTExZGEtYWQzMS1kMzNkNzUxODJmMWIiIHhtbG5zOmRjPSJodHRwOi8vcHVybC5vcmcvZGMvZWxlbWVudHMvMS4xLyI+PGRjOmNyZWF0b3I+PHJkZjpTZXEgeG1sbnM6cmRmPSJodHRwOi8vd3d3LnczLm9yZy8xOTk5LzAyLzIyLXJkZi1zeW50YXgtbnMjIj48cmRmOmxpPmFuYWxpPC9yZGY6bGk+PC9yZGY6U2VxPg0KCQkJPC9kYzpjcmVhdG9yPjwvcmRmOkRlc2NyaXB0aW9uPjwvcmRmOlJERj48L3g6eG1wbWV0YT4NCiAgICAgICAgICAgICAgICAgICAgICAgICAgICAgICAgICAgICAgICAgICAgICAgICAgICAgICAgICAgICAgICAgICAgICAgICAgICAgICAgICAgICAgICAgICAgICAgICAgICAKICAgICAgICAgICAgICAgICAgICAgICAgICAgICAgICAgICAgICAgICAgICAgICAgICAgICAgICAgICAgICAgICAgICAgICAgICAgICAgICAgICAgICAgICAgICAgICAgICAgIAogICAgICAgICAgICAgICAgICAgICAgICAgICAgICAgICAgICAgICAgICAgICAgICAgICAgICAgICAgICAgICAgICAgICAgICAgICAgICAgICAgICAgICAgICAgICAgICAgICAgCiAgICAgICAgICAgICAgICAgICAgICAgICAgICAgICAgICAgICAgICAgICAgICAgICAgICAgICAgICAgICAgICAgICAgICAgICAgICAgICAgICAgICAgICAgICAgICAgICAgICAKICAgICAgICAgICAgICAgICAgICAgICAgICAgICAgICAgICAgICAgICAgICAgICAgICAgICAgICAgICAgICAgICAgICAgICAgICAgICAgICAgICAgICAgICAgICAgICAgICAgIAogICAgICAgICAgICAgICAgICAgICAgICAgICAgICAgICAgICAgICAgICAgICAgICAgICAgICAgICAgICAgICAgICAgICAgICAgICAgICAgICAgICAgICAgICAgICAgICAgICAgCiAgICAgICAgICAgICAgICAgICAgICAgICAgICAgICAgICAgICAgICAgICAgICAgICAgICAgICAgICAgICAgICAgICAgICAgICAgICAgICAgICAgICAgICAgICAgICAgICAgICAKICAgICAgICAgICAgICAgICAgICAgICAgICAgICAgICAgICAgICAgICAgICAgICAgICAgICAgICAgICAgICAgICAgICAgICAgICAgICAgICAgICAgICAgICAgICAgICAgICAgIAogICAgICAgICAgICAgICAgICAgICAgICAgICAgICAgICAgICAgICAgICAgICAgICAgICAgICAgICAgICAgICAgICAgICAgICAgICAgICAgICAgICAgICAgICAgICAgICAgICAgCiAgICAgICAgICAgICAgICAgICAgICAgICAgICAgICAgICAgICAgICAgICAgICAgICAgICAgICAgICAgICAgICAgICAgICAgICAgICAgICAgICAgICAgICAgICAgICAgICAgICAKICAgICAgICAgICAgICAgICAgICAgICAgICAgICAgICAgICAgICAgICAgICAgICAgICAgICAgICAgICAgICAgICAgICAgICAgICAgICAgICAgICAgICAgICAgICAgICAgICAgIAogICAgICAgICAgICAgICAgICAgICAgICAgICAgICAgICAgICAgICAgICAgICAgICAgICAgICAgICAgICAgICAgICAgICAgICAgICAgICAgICAgICAgICAgICAgICAgICAgICAgCiAgICAgICAgICAgICAgICAgICAgICAgICAgICAgICAgICAgICAgICAgICAgICAgICAgICAgICAgICAgICAgICAgICAgICAgICAgICAgICAgICAgICAgICAgICAgICAgICAgICAKICAgICAgICAgICAgICAgICAgICAgICAgICAgICAgICAgICAgICAgICAgICAgICAgICAgICAgICAgICAgICAgICAgICAgICAgICAgICAgICAgICAgICAgICAgICAgICAgICAgIAogICAgICAgICAgICAgICAgICAgICAgICAgICAgICAgICAgICAgICAgICAgICAgICAgICAgICAgICAgICAgICAgICAgICAgICAgICAgICAgICAgICAgICAgICAgICAgICAgICAgCiAgICAgICAgICAgICAgICAgICAgICAgICAgICAgICAgICAgICAgICAgICAgICAgICAgICAgICAgICAgICAgICAgICAgICAgICAgICAgICAgICAgICAgICAgICAgICAgICAgICAKICAgICAgICAgICAgICAgICAgICAgICAgICAgICAgICAgICAgICAgICAgICAgICAgICAgICAgICAgICAgICAgICAgICAgICAgICAgICAgICAgICAgICAgICAgICAgICAgICAgIAogICAgICAgICAgICAgICAgICAgICAgICAgICAgICAgICAgICAgICAgICAgICAgICAgICAgICAgICAgICAgICAgICAgICAgICAgICAgICAgICAgICAgICAgICAgICAgICAgICAgCiAgICAgICAgICAgICAgICAgICAgICAgICAgICAgICAgICAgICAgICAgICAgICAgICAgICAgICAgICAgICAgICAgICAgICAgICAgICAgICAgICAgICAgICAgICAgICAgICAgICAKICAgICAgICAgICAgICAgICAgICAgICAgICAgICAgICAgICAgICAgICAgICAgICAgICAgICAgICAgICAgICAgICAgICAgICAgICAgICAgICAgICAgICAgICAgICAgICAgICAgIAogICAgICAgICAgICAgICAgICAgICAgICAgICAgPD94cGFja2V0IGVuZD0ndyc/Pv/bAEMABwUFBgUEBwYFBggHBwgKEQsKCQkKFQ8QDBEYFRoZGBUYFxseJyEbHSUdFxgiLiIlKCkrLCsaIC8zLyoyJyorKv/bAEMBBwgICgkKFAsLFCocGBwqKioqKioqKioqKioqKioqKioqKioqKioqKioqKioqKioqKioqKioqKioqKioqKioqKv/AABEIAmQG+QMBIgACEQEDEQH/xAAfAAABBQEBAQEBAQAAAAAAAAAAAQIDBAUGBwgJCgv/xAC1EAACAQMDAgQDBQUEBAAAAX0BAgMABBEFEiExQQYTUWEHInEUMoGRoQgjQrHBFVLR8CQzYnKCCQoWFxgZGiUmJygpKjQ1Njc4OTpDREVGR0hJSlNUVVZXWFlaY2RlZmdoaWpzdHV2d3h5eoOEhYaHiImKkpOUlZaXmJmaoqOkpaanqKmqsrO0tba3uLm6wsPExcbHyMnK0tPU1dbX2Nna4eLj5OXm5+jp6vHy8/T19vf4+fr/xAAfAQADAQEBAQEBAQEBAAAAAAAAAQIDBAUGBwgJCgv/xAC1EQACAQIEBAMEBwUEBAABAncAAQIDEQQFITEGEkFRB2FxEyIygQgUQpGhscEJIzNS8BVictEKFiQ04SXxFxgZGiYnKCkqNTY3ODk6Q0RFRkdISUpTVFVWV1hZWmNkZWZnaGlqc3R1dnd4eXqCg4SFhoeIiYqSk5SVlpeYmZqio6Slpqeoqaqys7S1tre4ubrCw8TFxsfIycrS09TV1tfY2dri4+Tl5ufo6ery8/T19vf4+fr/2gAMAwEAAhEDEQA/APpGiiigAooooAKKKKACiiigAooooAKKKKACiiigAooooAKKKKACiiigAooooAKKKKACiiigAooooAKKKKACiiigAooooAKKKKACiiigAooooAKKKKACiiigAooooAKKKKACiiigAooooAKKKKACiiigAooooAKKKKACiiigAooooAKKKKACiiigAooooAKKKKACiiigAooooAKKKKACiiigAooooAKKKKACiiigAooooAKKKKACiiigAooooAKKKKACiiigAooooAKKKKACiiigAooooAKKKKACiiigAooooAKKKKACiiigAooooAKKKKACiiigAooooAKKKKACiiigAooooAKKKKACiiigAooooAKKKKACiiigAooooAKKKKACiiigAooooAKKKKACiiigAooooAKKKKACiiigAooooAKKKKACiiigAooooAKKKKACiiigAooooAKKKKACiiigAooooAKKKKACiiigAooooAKKKKACiiigAooooAKKKKACiiigAooooAKKKKACiiigAooooAKKKKACiiigAooooAKKKKACiiigAooooAKKKKACiiigAooooAKKKKACiiigAooooAKKKKACiiigAooooAKKKKACiiigAooooAKKKKACiiigAooooAKKKKACiiigAooooAKKKKACiiigAooooAKKKKACiiigAooooAKKKKACiiigAooooAKKKKACiiigAooooAKKKKACiiigAooooAKKKKACiiigAooooAKKKKACiiigAooooAKKKKACiiigAooooAKKKKACiiigAooooAKKKKACiiigAooooAKKKKACiiigAooooAKKKKACiiigAooooAKKKKACiiigAooooAKKKKACiiigAooooAKKKKACiiigAooooAKKKKACiiigAooooAKKKKACiiigAooooAKKKKACiiigAooooAKKKKACiiigAooooAKKKKACiiigAooooAKKKKACiiigAooooAKKKKACiiigAooooAKKKKACiiigAooooAKKKKACiiigAooooAKKKKACiiigAooooAKKKKACiiigAooooAKKKKACiiigAooooAKKKKACiiigAooooAKKKKACiiigAooooAKKKKACiiigAooooAKKKKACiiigAooooAKKKKACiiigAooooAKKKKACiiigAooooAKjnnhtbeSe5lSGGNSzySMFVQOpJPAFSVg+Of8AkQdc/wCvCb/0A1MnaLY4q7SJB4z8Lnp4k0j/AMDov/iq14Z4rmFJreVJYnGVeNgysPUEda8c+GPw88MeJPAsV9q+nGa7eWRDKLiRSADgcBgP0p/woMujfEfxD4bsrl7jSoBIybjnayuFB9M4JBx1xWlve5fK5N9Ob5HsdFecXHxjsLK81m0u9Ok+1afdfZbaCGXe922WGcbRtHyjPXqOtb2jeNftXhK717xFpk2gxWsjK8U5ZmKgDBwVU8lsAYqLpq4+tjqaK8tHxkvriKS903wTqd1paE5vNxA2jqThCox/vV2/hnxbpfirQ/7U02UrEhImSXAaEjkhvw5zT6XDrY26K86h+KV9rE903hLwleaxZWrFXuftAh3Ef3VKnPrjr7CpPBvxMvvGGsm0h8MS29vGxW5uTdBhAcEgFdg5JGP/ANVC1B6HoNFebS/GWwtptWtrjTJTeWV2bW2toZd7XRyw3fdG0fL79R1roNK8aibwfca/4j02bQo7d2V4JyWfAxggFVOSTgDFK+lx21sdTRXmH/C37+S2bUbbwTqUujqSftu8j5B1bGwjj/ex7110fjfRZfBb+KI5nOnom5ht+dWzjYR/eyQOuOeuOaeyuLrY6GivMIvi1rN1bi9sfAWp3GnMcpcq7Hcv97AjI/XHvXbt4msrfwkniHUllsbUwLMyTKN6g9BgZ5ORx70bK7Dd2NiivLR8ZL6aF76x8E6ncaUpJ+27iBtHUnCFRj/e/Gu68MeJ9O8W6Mmo6TIxjJKvG4w8bD+Fh607AbFFIzBFLMQFAyST0rzOX4xNeatPbeFvC9/rlvbnElxAWHfqFCNwccZIzS62Dpc6tfGunP46fwoIbr7csfmGTYvlY27uu7PQ+ldFXinhvWrfxB+0D/aNoksSSWpVopk2vGyxBWVh6gg13ni/4h2fha9g0y2srjVdWuADHZW3XB6ZODjPOAATxRslfr/mw3bt/WiOvrnPE3jfTfCmoadZ6jBdSSai5SIwIpCnKj5ssP7w6ZrD0j4o+br0GkeJ9Au/D9xdEC3adiySE8AZKrjnjoRn0rA+M3/I1eEP+vhv/Q46aXvRXRsHtLyR69RRXPeMPGml+C9NS61Mu8kxKw28QBeQjr16AcZNS3YaVzoaK84034o6xeajZw3fgXU7W2u5VjS5LMV+Y4B5jUY/GtjUPHf2H4k2XhP+zvM+1xh/tXn42ZDHGzbz93171Vtl3Jvo32Ovorn/ABt4p/4Q7w2+rfY/tm2VI/K83y87j1zg/wAqq6t42/sv4cw+Kv7P83zIIZfsvnbceZt437T03enNTdWuVbVLudVRXm0nxgS6ure38O+H7vV2aONrl4WIS3LAHGQpzjOCSAOK0PE3xLXR/ER0HRdFu9b1NFDSwwHaEBGeoDHoQTxgZ609hHc0Vx/hTxvf6/q8unap4X1DRp0iMoafJQqCB1Kqep7A1V8T/E+20TXP7E0fSrrXNUX/AFlvbZATjOMgMScc4A49aNg3O6orgvD3xTg1PXk0XX9HutA1Gb/Ux3JJV89BkhSCe3GD613tOwBRXHeLviHbeD/EGm2F/abra8UvJdCXHkgHH3dp3fmKwLr4x3OnypPqXg3VLTSpHAS8lypYHoQpUDJHON1Jag9D1CiqCaxbXGgf2xZb7u2aAzxiEZaRcZwAcc9sHHNcBL8WdYW3e+i8Bao2mqN/2mR2X5Ou7HlkYx3zj3o2dmG6uenUVhaL4ssfEHhR9d0xXaJEctFJ8rKyjJU9f69a4uH42W11pFs9jodxeatcMw/s63kLlFU9SwXPPoFNHWwdLnqNFcze+MJdO8FWuvXWi3rTXAQGxgG+SNm6A5weuB0zkjiuXl+LuoaY0U3iPwTqWmWMjbftDOTg/RkXn2zR1sHS56dRUVtcw3lpFc2ziSGZBJG46MpGQfyqvrGr2ehaTPqWpy+TbW67nbGT6AAdyTxQ9NwWuxdqtqV/FpelXWoXCu0VrC8zqgBYqoJOM454rzn/AIW/fyWzajbeCdSl0dST9t3kfIOrY2Ecf72Peuk1HXrDxL8LdV1TSpC9vNp1xwwwyERtlWHYipldRbXQcbOSTNHwr4osvF+ijU9NiuIoPMaPbcKqtkYz0JHf1rarzv4H/wDJOR/19y/0r0KSRIYnllYJGilmZjgKB1JrSaUWTG7HUV5q/wAXLi/upx4U8J6hrdpAdr3SEoCfYBG+ozg+1dN4S8caZ4t0qe7tg9tJacXVvPw0Jx19xwefbtU9Lj62OkorzMfF281Kad/C/g3UdXsoW2m5ViuT9AjfXGc+1bDePL2bwJPrlt4b1BbqORojaSAAoVGS5PXYO5xnI6d6TdlcdtbHaUV4b8KvFeuWGkPa2Xhi61WC5vy8t9HKVWMsFDZGw9OvXvXoerePP7L+ImneFv7O837civ8AavP27M7v4NvP3fUdaq2qXcm+77HX0Vg+NPE3/CIeGJtX+yfbPKdF8rzfLzuYDrg+vpSQ+LbNPA0PifU1+yWz2yzvGG3ld3RQcDJyQO1TfRvsVbVLub9c94V8aad4va/XTYbqI2Mgjl+0Iq5Jz0wx/unriuRsfjHcXmbz/hD9U/sZWO7UIsyBVHViAmOO/wA3FU/gVIsreJZIzuR7qNlPqDvqktfl+qE9vn/mej6Z4l0fWdQvLLTL+O4ubJts8a5yhzjuOeeMjNaleefD/UNGvPGXieLS9ATTbqCcrcXIuWk8872GdpGE5GcD19qt6/8AEHUdN16fStG8Ialq0tvjzZU+SMZGRhgrdj3xU30T7oOrXY7iiuM8H/EW38T6pcaRe6bcaRqtupdrW4OcjjOCQDnkcEDr3qDxD8UbLw14vl0XUbGUxpbCZJ4n3NI56RhMdT67qb0t5hvc7qivL3+Mk+nX0C+I/CGo6TZzNhbiUnP12si598Gr/wAWvEdzp3giaLTrKa4h1CHY96h/dwoxA5PcsDgfWk3ZXGtXY9BorzL4YeJ9Zm0vRtHl8LXMWnrBtGqGUlCACQduzueOvetPxF8TYtM19tD0HR7rXtTj5mitztWP2JAJyOM8YGeueKqSs7Exd1c7qiuK8LfEeHXdbfRNW0q50TVgCy21wchxjPBIBzjnp06E12tAyourac+ptpqX9q18g3NaiZTKoxnJTOehB6d6t15/Y6Ldx/HjUtUe0nWzk01QlwYz5bP8g2hsYzgHirfin4k2+ha0uiaVplzrerkAta23GwYzyQCc45wAeOuKXReYdWdrRXDeHfiYmp+IF0PX9GutB1KUZgiuDuWX2BIXk4OOMHHXPFO8UfElND8QDQtI0a61vVNod4IDtCAjPUAnOMHpjB60AdvRXHeFvHOoa7rL6ZqvhXUNGmERlDzZKFQQOpVe5HQGs68+LNvY+JdV0WTSLia5s2Edqls5ke7fj5Qu35euep4FHWweZ6FRXnGlfFwSeIINJ8T+HrzQJbkgQvcMSCScDIKqQCeM811Xizxdpvg7SRfaozsXbZDDEMvK3oP6k/4UPRXBauxu0V5l/wALdvbLybnxD4N1LTNNmYAXZYtjPTgov8/pmuo8W+MofDXhBdftbddRgkaPy1WXYHV+jbsH+VD0VwWrsdLRXnX/AAttL7WILLw7oN3q0TNGlxdRsRHCWxnkKcgZ6nHT8a1fGPxFsfCd5Dp0VpPqeq3ABjs7frgnAycHr2ABND0BanYUV5xp/wAXFXV4LDxX4dvfDxuTiGW4JKH3O5VIHuM++K6Dx14zXwTpNrfPZfbFnuBCVEuzaCCd3Q56dKPMPI6egkAEk4A6k15nqHxfniWW70jwlqWoaRGTnUTujjYA4LD5CMe5I/Cuy8MeJrDxd4fTU9ODCJiUkikA3Iw6qf8APQ0n8LYdSbRfEuj+IYZ5dGv4rpLd9kpXI2H8QOPfoatWGq6fqsTS6XfW17GjbWe2mWQKfQlSea4f4S3+janpWqPoegpo6C4CyoLlpvNO3rlgMDnp0p/we0e80Xwpew6haz2sr6hIwSeMoxXaoBwQODjrVW1t5Jh/nb8zv6KbLKkMLyzOqRopZmY4CgdSa80l+MT3t7NH4T8K6jrkEBw88W5R9cKjHB7ZwfapvrYfmem0Vz2jeLor/wAIvr+rWc2jww7/ADY7nkqFOCemTzx0Bz2rj/8Ahcd7drLc6L4L1O/02MkG7DMBgdSQqMBj/ep7Owt1c9RorC8JeL9M8ZaSb3S2dSjbJoJQA8Te4HY9j3/OuQh+MsVw15a22gXd1qkNw0MNlasZTKq9XJC/KOOmDQ9HYFqrnplFef8Ahv4qR6t4kXQdc0S60O/l/wBUk7FgxxnByqkEjpxzXoFO3UPIKK5nxl4507wbbQ/ao5bq8uSRb2kI+aQ+vsMkD154BrnYfi1NZ31vF4s8LX+hW1ydsdzKxdQfcFFx74yR6UlrsD0Op8XeMNP8F6ZDfapDcyxTSiFRbKrMDgnncw44rbt51ubWKeMELKgdQ3UAjNeYfHpg3gvT2Ugg3ykEd/3b16RpP/IFsv8Ar3j/APQRRHVSv0f6A9GrdV+pborI8TeJ9O8J6O2patIyxhgiIgy8jHoqj14NcND8XdVmWO5XwJqh0+QjbdKzEFSeCP3e3/x7HvQtXZA9Fc9QornPGHjfTfBmmxXOpLJJPPkQW0eC7kdfYAZGT/OuTHxiurKSKTxJ4O1PSrGVgoumLMMnpwyLn14OfrQtQ6Hp9FYHiTxXBofgubxHaRLqECJHJGqS7BIrsoBDYOPvZ6VycvxijuHtovD3h+71iZoUkuvIY7LcsAdu4Ic4zgnAHFC1dg6XPS6K4zxJ8R7Pwt4uttI1S22W01o1y935v3Mb8KE28klMDnqaPB3j258W6pNF/wAI9d6fYLCZYLydjiYbgAANoGec8MelC12B6bnZ0V51d/FlrjVZ7Pwj4bvfEC2xxNPCxRAfbCtkcHk4zjjNbng3x3ZeLxcQLbzWGo2hxcWVwPmTnGR6jPHQEHqOlC12B6bnU0VwfiX4o2+ka8dE0TSbrXdTT/Ww22QE4zjIDEkd8DA9aPDfxRt9W11dE1zSbrQdSk/1UNySQ/oMkKQT24wfWha7A9NzvKhu7210+1e5v7mG1gTG6WaQIq5OOSeBU1eWfESR/E/xD0HwYjkWhIurwKfvAZOD9FU/99Cjql3Do32PT4J4bq3jntpUmhkUMkkbBlYHoQRwRVV9c0mPUxpsmp2aXzEAWrXCCUkjI+TOenPSp55rfTdPkmk2w21tEWbAwERRn9AK+cp7PUtU0nUfiRGXS4i1ZHiH91AevuATGv4Gi65rdP8Ag2Cz5fM+lKpahrOl6Ts/tXUrSy3/AHPtM6x7vpuIzSaXq1vqug22qwEeRcQLMOfugjJH4dK8f8A+HbP4l6zrfiLxWkl4nnCOGHzWVV74ypBwBtAGfWiz5nHsF1y83c9otbu2vrZbiyuIriF/uywuHVvoRxUksqQxPLM6xxoCzO5wFA6kntXkHhiI+BfjTP4ZspJP7J1GLzIonYnYdhYH6jay57jGa2PH/hvxL4kvL1LnUI7Tw1aWxnWOA4kuHCk7W+hHU8YxgE5wpPRNDS97lZ6BYanYarbmfS723vYVbaZLeVZFB9MqTzyKL7UrHTIRNqV7b2cROA9xKsa5+pNed/Af/kQ7n/r/AH/9ASt/XPhpoHiPxIdY1kXNyxiEf2czssfHfjkfQED25qpKzsTF3VzodP1rS9W3/wBlalZ3uz732adZNv12k4qK+8R6JplybfUtZ0+0nABMVxdJG2D0OCc1474x8O6b4T+InhyPwLut9QllHm2sUzPtG5cE5JIDAtkE4wK9Q1v4feGPEepG/wBZ0z7TdFQhk+0SpwOgwrAUt4poezsy1/wmfhf/AKGTSP8AwOi/+KrVgu7e6tEura4imt3Xcs0bhkYeoI4Irw/4m+D/AA1o8ulaL4Y0kJrGozDaftErlEzjozEck9cfwmvRtW+H1vqngrTvDY1G6tbezEYdoW/1yqPmDA8c9R6HH0o3jdd/+H+4NnZm3B4n0G6ultbbW9NmuGO1Yo7uNnJ9MA5rUryLx98MfCmg+Ary/sLeS1u7VVKTm4djI24DBBOOc9gK7X4b3l7f/DvSbjVGZ7hoiC7nllDEKT/wEDmmrNPyE9LeZ0V3e2un2r3N/cw2sCY3SzSBFXJxyTwKLW7tr+1S5sbiK5gkGUlhcOrduCODXi3xE1e68cR6r/ZkjL4e0BC0syni6uM4AHqBn8snuK7/AOF+/wD4VZpHlbQ/kybdw4z5jYzSWsW/66/5DejsdNf6nYaVAJtUvrayiZtoe4mWNSfTLEc1YjkSWNZInV0cBlZTkMD0INfPvxJ8N+Io9D/4SPxjfrJey3gt4LOA5igjIY8fXaOB+JJ6e6aCM+GdNB72cX/oAoWsW+wPRpBfeING0uYRanq1jZyEZCXFykZI+hIq1aXltf263FjcRXMLfdkhcOp+hHFcTbfBzwjHLcTX1tcahJNI0he4uXyuTnA2kZ+pyfeuV+G9sumfF7W9O8NzvPoUcZ3kPvQH5dvPcg7gD1wDRHV2YS0V0ezVl3XifQbG4aC91vTraZeGjmu40YfgTmuN8SX+o+MPGr+D9HvZLDT7OISardwnDsDj92p7cEfrngYOAlz8MtNaez0zwvfa6lqMXF3bWpuFUjqS7MPTqOPSknpcfWx7BbXVveW6z2c8c8L8rJE4ZW+hHFS14o72XhnTLXx58PmuYdHecRahpsxO1lzt3AEnBzx1OCRjjIrX+M/iW5i8IpYWNjO9nqKxu9/0jAJ3BB6sdue3HrmnLRXEtXY9Uorg/h94n1nUrew06+8LXOn2cNimy/klLLLtVQMDYOo5603Wviiltr8ujeGtDu/EF5bki4FuSqRkcEZCtnB4PAHvTkrOwlqrnfUVx/hH4h23iXUp9JvdPuNI1eAbns7nqR7HAOeQcEDr3qLxb8TLLw1qqaRZWFxq+rOAfstt/DnkAnBOSOcAH8KT0t5jWp2tFcZ4T8c6l4h1mTTtU8K32jOsJlDzklSAQP4lX17Zrs6dgCivOJPi/DHq+q6Umh3VzqFndNb21vasZGutpYFuF+UDaP73X2qGy+NNnFfXFn4p0S80OeKMusbkuWOMhcFVIJ7cY9xUp3Vwemh6bRXl0/xln068hOueENS02wmfCXMxIYj1ClAD64DV1fjDxZceGvDcet6fpg1W1O1pCtx5ZRGHyv8AdbI59sZFPZXDd2Omqtf6lY6XbifU723s4S20SXEqxqT6ZJHPFc7e/ELSbTwCnilT5sMqDyoN2GeU/wDLP2IIOfYE02ASfET4dzDV9LGnLqERMETTeYVHVJM7VxzyB6Y9aJXV/IFZ28zrFYOoZSGUjIIPBFLXnvwc12fUvCUum35Y3WkzG3O45Oz+H8sEfQCvQqbVnoJX6hRRRSGFFFFABRRRQAUUUUAFFFFABRRRQAUUUUAFFFFABRRRQAUUUUAFFFFABRRRQAUUUUAFFFFABRRRQAUUUUAFFFFABRRRQAUUUUAFFFFABRRRQAUUUUAFFFFABRRRQAUUUUAFFFFABRRRQAUUUUAFFFFABRRRQAUUUUAFFFFABRRRQAUUUUAFFFFABRRRQAVg+Of+RB1z/rwm/wDQDW9VDXNM/trQL7TPN8n7XA8Pmbd2zcMZxkZ/Opmm4tIqLtJNni3w+8B6x4i8HR3dn4xv9LtZJXQ2cIcpwcE8SAc/SvU/BvgXSvBVnLHp3mTXE+POuZiNz46AY4A68fnmpfBXhb/hD/DUek/bPtmyR383yvLzuOcYyf510FaNq+hmlpqeOfDm1gm+NHiyeWJXlglnMTEZ2EzYJHvjitz45iY/D1fJzsF7H5uP7uGxn/gW2tjw14E/4R3xhrOu/wBo/aP7UZ28jyNnlbn3fe3HPp0FdJqmmWms6XPp+owia2uE2SIe4/oR1zWbX7uK6pL8zRO05PuUPCP2X/hCdH+xbfs/2KLbjp90Zz75zn3rzP4RW0d5rnjK1t/+QXMxjXYeMFpAuP8AgOa1f+FOXtvHJZaX411O00pyc2W0kbT1Bw4U5/3a6EWOl/CvwBez6XbPOtuvmvvb555CQoLHHA5HQcCqk025vs/xJinZQXl+BwPgC88U6DBrGl+EdLtvEOnwXjBLwzCACTAH8RG4YAyB+eCK7T4a+DNR8Mrqeoa5LEdQ1WUSyRQnKx4LHr65Y9OPrXHeEvh1rGs6KNc0zxXLoEepsZ/smnLIUXk8Z8wcj0OcetX/AAhqHiDQfiw/hS+16XXrRoS7yzMWaM7NwPJJU54xkjmqV72e9vy3/ITta62v/wAMQfC61gl+K3iy4kjVpYJpRG5HKbpWzj8q1/juZv8AhA7fys+X9uTzcem18Z9s4/St3wp4D/4RjxNrOr/2j9q/tRy/leRs8rLluu45646Cuj1bSbPXNKn07U4RNbTrtdD+hB7EHkGs2r04rqkvzLT9+T7/AOR51pGn/Ee48MWcVhf+Gjp8loixKVk5jKAAH5PSrfhL4aXOn+AtU8NeI7iGSO+m8xWs3Y7OFwfmUc5UH0qtH8I9UsAYNC8d6rp9iCSluAx2591kUfoK6VPA6J4Hm8Otq987zP5rX7PmXzN4fdn6gd8+9XKzu+/+ZCurLscPLB49+FmnGS2ubbXNAteqOuGiTPp95evYsB6U74pa5/wk3wf0zV7GN4re5u0aWMnJTAcYJ7gMOv0rTl+E+s30AtNY8e6ne2DEeZbmNhvGc4JMh/UGu0HhTSB4THhtrbdpoi8ry2PPruz/AHs859amV3HXfQqNlIf4a+yf8Ifpf2TZ9k+xR7OmNuwda82+B/8AyFvFH2T/AI8PPTysdPvPjH/AcfpV3/hTd7DC9jYeNdTt9JYkfYtpI2nqDhwpz/u/hXdeGPC+m+EtHXTtJRhHu3vJIcvI395j+HarveTl3ItaKj/WgeL/ADR4J1r7PnzfsM23HX7hrjvgYLb/AIQBzBt843knneucLj9MV6Qyq6lXAZWGCCOCK8zk+Dr2WqT3HhfxTf6Hb3By9vAGPfoGDrwM8ZBxUx0b80U9UvIzrMQD9pq5+zY/49z5m3+/5IzWRPHr0vx/1VdFnsYdS2nyW1AMUKeWvC4BOdv6Zru9C+F9p4f8Zw67ZajNIEgaOSKdd7zOwO6QyZ6nPTFXPGHw7sPFd1DqCXU+marbgCK8tj83HTI4zjsQQfehacvkmh7387HJeJPAnxB8WGz/ALYv9A/0OTzImhMqsCcZ52ewpnxlz/wlPhDPX7Q3/ocdbem/DPVodTtrjWfHGq6nBbzJMLZtyq7KQRnc7AjI9K1PGfgP/hLtV0i9/tH7H/ZshfZ5HmeZllOM7hj7vv1prSUX2dyXqn6HX1498SvLPxk8KDUcfYcRff8Au5805z/47mvYa5zxl4J0zxrp0dvqO+KaEloLiLG6MnqOeoOBke3ap2kpdmVumu50deQ+IWCftIaIWIUGBACf92QVr6Z8LdUtdRs5dS8b6nf2lpKkq2jBgpKEFQcyMMcDtWr43+HVp4xuLa+S+m03UrUbY7mJd3AORkZByDkggjrT2lGXZi3jKPdGZ8cJ44vh2Y3YB5buNUHqRkn9BVDxX/yblaf9eVn/ADSprn4NvqenTR674p1DVL3aFtri4DMlvyCSELnJIGPvDr0rpNW8E/2p8OYfCv8AaHleXBDF9q8ndny9vOzcOu314qWvda7tMafvJ9kxPhjawWvw30cW8ax+bB5r4H3mJySfesfxX8PNUuPFDeKPBurDT9VZQJI5R8kmAB1wewHBBB9q7Dw5o/8Awj/hux0rz/tH2SIR+bs278d8ZOPzrmNd+H2qah4guNU0XxhqGj/aSGkgjUum4KFyAHUdB3zVzd53RMNI2ZU8G+PdauPFT+FPGOnx22qIhZJoT8r4XPIBI5GTkHHbArE+EwQfEjxcL7H9o+a2N3Xb5rb/ANdldb4T+HMHh3WZda1HVLnWdWkUp9quONo6cDJOcDGSTx6VD4o+GNtrmtf23pGqXOh6qRh7i26PxjJAIOccZBo2afkx7przRzHxx2f2r4Z+yY/tHzn2bfvY3Jt9/vdPxr2AZxz1rgfD3wsg03Xo9a1/WLvX9RhIMMlzkKhHQ4LMSR25wPSu+oWkbA9Xc8c+LhgHxI8JG72+R5iebv6bfNXOfbFdx8TjbD4a6z9rxs8j5c/39w2/+PYrhvi9aQah8RPClndoXguGWKRQ2CVaUA8/jWpcfBue/ljg1Pxjql5pUTgpZy5YqBwAGLEA44ztqEuanbzZTdql/JFTw54rm8GfAax1NoPtEzSvFbI5wuTI+Ce+Bgn36VZW38f6v4Rn1nU/E9lptrPaNcfZYbFJAIyhOCzcjI9zXZ6z4N0nWfCI8OyRGCzjRVg8o8xFfukZ/r1ya5bTvhLcxRRWWteLdR1LSIsY08Boo2A6KfnPy+wx7Yqpe85fgTH3UjN+EH/JJtY/67T/APopaf8AAK1gXwtqN2Il+0PeeW0mOSqopA+mWP511nhLwOvhXwtfaKl/9pW6kkcSmHZsDKFxjcc4x6in+AfBn/CD6JPp/wBv+3edcGbzPJ8vGVUYxuP93r71V/eb8kK3upebMr4ieOdR8PajpmieH7aGXU9TYBJJ/uRgttHHqT68DHQ1yXxJ0vxdZ+BJJ/E3im3vImmjU2UVkiBmzkYkwG4wT07V3vjjwBaeNEtZTdy2F/aHMF1Eu7aMg4IyM8jIwRg1h3Hwil1TTZ4vEPim/wBVuim21mnB2WxyMsE3nJ4x171nb3fMu+vkdb4J/wCRC0L/ALB8H/oArj/juZv+EDt/Kz5f25PNx6bXxn2zj9K77RNN/sbQbDTfN877HbpD5m3bv2qBnGTjp0zTtW0mz1zSp9O1OETW067XQ/oQexB5BqqvvN27k0/dSuedaRp/xHuPDFnFYX/ho6fJaIsSlZOYygAB+T0qTQvCGpeDPhT4msNVntpmlguJk+zOzKAYcfxKOeKbH8I9UsAYNC8d6rp9iCSluAx2591kUfoK6yx8Iiy8E3fh/wDtK4uXu4pUkvLn53LSAgtjPPXpn8aJ6qVuqCOjjfoc98D/APknI/6+5f6V0HxEM4+HWt/Zc+Z9kbOP7v8AF/47mneB/Cn/AAhnhwaV9t+24maXzfK8vrjjGT6etdBJGksTRyoro4KsrDIYHqCKdT3lZdv0Cn7ru+/6njHw3tvHUngq3bwve6DHY+ZJ8lyr+aG3c7sKRnp+GK6PwR4D1zRvE+s6p4in0+aPVYmWWOzZ8F2bJOCowPvd+9RTfCCSzvJpfCXirUdCgnbc9vFuZc+xDrwPfJ966Lwz4Lk0Oz1BNR1y+1e51BBHLcXDcqoDAbQSSPvHuaG73fkJK2nmcb/whPjPwA9xP4F1GPUNNZzK2nXKjcfw6E4A5BUnHSug0Dxqvjb4davdvbfZbm3t5Yp4wcru8snKn0Pp2/Ws7/hVmvxxNbW3xC1SOzI2iFkZiF9M+YP0ArrfC/g3S/Cvh99JsleaKYkzyTHLSkjBzjtjjH/66lq8Wn20KTtJPzOR+A//ACIdz/1/v/6AlZ3i0hf2h/DhYgAwxgE/WQVo2PwgutH1Fn0PxhqFhYNMJGtI1YbgD0LBwDxxnbW744+Hdn4zktroXkun6hajEVzEu7jOcEZHQ8ggjGapv3oz7f5Epe7KPf8AzM741zxxfDaeN2Aaa4iRB6kNu/kDXLeNvN/4Z88PeXnZ/o/mY9Njf1xW5P8AByTUtPmj1/xVqGq3ezbazXAZktzkEkIXOSQMdR1rr4vCNm/gWHwxqbfa7ZLZYGkC7C23owGTg5APeoa91rzT+4q/vJ+TRL4TFp/wg+ki1CfZvsMWOmMbBnP65rz34E+UG8S/Zv8AU/aY/L/3fnx+lXrD4PXNkfsh8Y6odGJO7T4t0YZT1UkPjnv8vNdF4I8CQ+CZdV+y3nnw30wkjiMW3yVG7C53Hdw3XjpWjd5OXf8AzRKVoqPb/JnI/CtgnxA8bM3AW5JP/fySn6H4p8Z/EXUL2Tw5e2ehaXayBA7wCaVs9MhsgnAz2HPeuq8KeBv+EZ8Qa3qZ1D7UNVlMnleRs8r5mbGdx3fex0HSsH/hUM9hqt1ceGPFd9otrdNue2hQn8AwcdMnGQSPWojtFPt+JT3k13Of8NwX1t+0NLDquprql2luwluVhWLcfKGBtXgYGB+FXNVt47n9pbTlmUMqQLIARnlY3IP4EA102ifDCy8P+MLbXLC/mby7do5o513vPI2cyM+epz0x2q5P4G874mQeLv7R2+TF5f2TyOvyFc793+1npVLTl8r/AKkvVS8/+AYvxzRW+HiswyVvYyp9OGFReO/+SBQ/9edn/NK6nxz4T/4TPw7/AGV9t+xfvll83yvM6Z4xkevrVi78L2mo+C18Oag7SwC1SBpEG1soBhx1wcgHvUW92S80/uLv70X5FT4c/wDJOND/AOvVa8n8BxeK5vGHiT/hHbnS4L8Tt9p/tEMWI8xs7cA8Z6/hXf8AhP4bal4X1S2l/wCEuvrrT7Ytt08oyRnII5G8jqc9OtS+JfhhbaxrZ1rRdVutC1R/9ZPa9H7EkAg5PfB59KuTvPm9fxIirQ5fQxv+EF8a6l460jxBr17oxNg6BvsjSKzRhiSMFOTye/evU64fw58PtQ0nXINS1nxbqWstbbvJhmLBAWUqSQzNng9sV3FGysHW4V4LoEfiWb4u+J/+EeuNOg1ESzb/AO0AxzH5n8OAf9n8K96rivFfw1s/EOrLrGn6hc6Nq6gD7Xa/xcYyQCDnHGQRx61O0k/UreNjntQ8C+Ote8S6Rqmt32hk6bOrg2xkViocMR9znpx9a1fF3w81K98TDxR4R1b+ztX2hXWUZSTAx1wccADBBB46VJofw51Ow1q2v9a8Zanq62r+ZHbyFlTdjGSGds9fapfEHw/1PU/EM+q6L4u1DRjcbTLBEpZCVULkAOvYDrmn0VvMXV3KHhDx7rj+Lf8AhE/GmnxwalsLRzw9Hwu7kAkcgE5HHbFYfhYwf8NGa7523f5cvk7uu75M499u78M113hX4cQ6Brj63qmq3WtasylBc3HG0EY4BJOcccnpXn9v4di8TfG7xJZvdXFlNGrzW91bOVeGQFACPXgmmvjXowfwP1RsfH0w/wBm6IB/x+faH8vHXbgZ/XbVH4wC+bxX4TUvCnyjY1znyhLvXJb2+7n2rpdI+Eiw+IINX8TeILzX5rYgwrcKQAQcjOWYkA844Ga6vxX4S0zxhpP2HVkYBW3xTRkB4m9QT+oqdkn53/Qb108rHF654Z+JfiHRbjS9Sv8Aw41tcABwglB4IIwdnqKo+OtHu/D/AMBrXStQljluLWWNHeJiVPzsRgkA9CO1aEfwp11FWD/hYWrCzUbRCocYT+7nzMdPauk8S+CE1/wPB4bhv3to4BEq3EkfmsQgwMjK5J9aJL3bLugi7S18yfwBawWfw+0RLaJY1ezjkYKOrMoZj9SSa4HRQg/aT1X+0sed5LfZd3rsTGP+Abq9S0TTf7G0Gw03zfO+x26Q+Zt279qgZxk46dM1z3jH4d2Hiy6h1CO6n0zVbcARXlv14ORkcZx2IIPvVyf7zmXn+JMV7nK/I5/48fZv+EJtPN2/aPtq+T/extbdj26fpWV8WfOPwl8N/a8+fvg8zPXd5Jzn8a3bD4RK+rQX3izxFfeITbnMMVxkKPrlmJHsCPfNb3j3wX/wm+jW9h9v+w+TOJt/k+ZnCkYxuHrUNe7bu0/uKT95PsmacVpDD4NWzVF8lLDywgGBt8vGK4P4Df8AIjX/AP1/v/6LSvSza5037Lv/AOWXl7se2M4rm/A/g9PAXh26spNRF4jzNcNMYvKCDaBjG4/3c5zRN6zfdfqSk+WC7f5HJfAT/kBax/1+D/0GvWK8n+AfOg6wR0N4MH/gNesVpLdei/IFu/V/mc18RTMPhzrf2bO/7K2cf3f4v0zWR8Gfsv8AwrOz+y7d/my+fjrv3nr/AMB2/hiu5mhjuIJIZ0WSKRSjowyGBGCDXmb/AAclsb2aTwr4s1HRLeY5aCMM34bldcgds5PvWa0b8ynql5Gh8aROfhrc+RnYJ4vNx/d3f47a3fAH2b/hXuifYtvlfY0zt/vY+b8d2c+9O0bwjbad4Tk0LULiXVYp95uJbn70pbr7j88+9cefg5d2glttD8Z6np+myEk2gDEc9eVdQc/SmtLrvYT1s+xn/Cnb/wALO8Xf2dj+z/Mfbs+7nzTsx26bsUvwXt4z4m8WXJUGRZxGrY5ALyEj8cD8q9B8JeD9M8G6UbLSldjI2+aaU5eVvf2HYD/GqHgrwN/wh99q9x/aP2z+0pRJt8jy/LwWOPvHP3vbpTWll2VvyB6p+bucj8QEUfGzwe4GGYxAn1xKf8a9brkvEPgb+3vGmjeIP7R8j+yyp8jyN3m4fd97cMenQ11tKOkLebCWsr+SPEviAupyfHPSVsJbWK58iP7G95nyg2X64B/izjA64rX8S+DviN4r0n+ztXv/AA80AkEg8vzVYMM99nua7Hxj4G0zxpaRJfmSC5tyTBdQkB09ueo6cfliuYX4Va3NiHUviDq9zZtxJAN6719MmRh+YNKK05X3G3rdGX8YbObT/hboNndusk9vNFFI6EkMywsCQT24r1XSf+QLZf8AXvH/AOgisDx54J/4TbQ7bThf/YRBOJfM8nzN2FK4xuHrXSWkH2Wygt92/wAqNU3YxnAxmqT+K/V/oTb4fJHk3x0P+meGRdZ+xefJ5vp1TP6Z/WvXY9nlJ5W3y9o27emO2KyPFPhbTvF2jNp2qo2zdvjkjOHjb1B/GuIg+EOpxxpaS+OtUfTF4+xqrKuz+7/rCv8A47+FKO3K+43vcz/iAEHxx8LHUcfY9sWzd93d5jf1212nxQ+zf8K11n7Zt2+SNm7+/uG3HvnFWvF/grTPGemR2uo745YSWguIiA8Z79eoOBke1ckPg7dXskUfiPxjqeq2MTbltWDKMjpyztj04GfpU2vDk83+I72lz+n4GMPP/wCGXn+0Z6DZn+79pGK7j4VWsFr8NdJMESoZo2kkIHLsWOSfXoPyrR8R+FINb8FTeHLOVdPgZI442WPeI1RlIG3Iz93HWrXhjRP+Ec8M2WkfaPtP2WPZ5uzZv5JzjJx19a0vrJ92QlZJep5j8QbWG9+Ovhm3uo1lheKHcjDIYea5wRXqHiTzh4U1X7JnzhZTeXt67thxisPW/An9s+P9K8Tf2j5P9nqi/ZvI3eZtZm+9uGPveh6V19Z2vT5fX8S72qc3oeE/CuDxnL4XnPhK80SK3+0t5q3gcy79q9cKeMYx+Ndd4U8D+J9P+Ilx4m1+60xzcwtHKlkzjccKAcFQP4QetO1D4Rqmqz33hPxDfeHjcnM0VvkofYBWUgexJ9sVt+EfBdz4cvJ73U/EN9rd1NH5Qe5J2ouc8Alj1960Tu7+X6EtaWOK+DoQeNfFgvsf2l53O772PMff+u3P4Unxp2/8JR4V+xY/tLzjt2/exvTZ/wCPZx+NdP4m+GFtrOuHW9F1W60LVH/1k9tyH4wTgFSCe+Dz6U3w58LbfStdXW9d1e617Uo/9VNc5AT0OCWJI7ZOB6VMfs36foOX2rdTvK8ps/8Ak5a+8/r9hHlf9+0/+yr1avK/iHE/hf4i6D4zVD9jyLW8ZR90HIyf+Asf++aFpNfd96B/C/62dzR+M+utpngr+zrcn7TqkggUDrsHLf0H/Aq5e0074m2ngs+GY/CemNYNA0JLzJvIbJLE+djdk56da7nXfAq+J/GWleILjVQ1lYhGis1g3K+Duzv3dzjt0FdlSS0d+o76q3Q8q+DepzXHhrVPC97mO802R1VGPKq2QR+DhvzFR/AaURaRrOnyfLcQXYZ0PUArt6fVTXUWXgE6b8SLnxTZan5cd2pE9j5GQ2QMnfu/vAN0qhr3wqS+8QTaz4d1278P3lxk3BtgSshPUjDKRk8nkgntVXd7vqrMVlay6O6MG/I1L9paxW2O77FbgSkc4xGx/wDZgK9N8Q/8ixqn/XnL/wCgGsLwX8PbLwfJcXZuptR1O6GJrycYJGckAZOMnk5JJrptRtPt+l3Vnv8AL+0QvFvxnbuUjOO/Wpkvc5V5/iVF+/zPy/A86+A//Ih3P/X+/wD6Aldj4s8J2PjHSY9P1Ke5hijmEwa2dVbIBGMkHj5jVXwH4O/4QnQZdN+3fbvMuGm8zyfLxlVGMbj/AHfWsfXfhpd6hr11quh+K9S0aW8YPPHCSUYgAcBWXsO+aqdm/uIjojivEWkP8GtUsNU8PXq3UN5IyS295DG0pUYJxIACAc9sc4617d9oRbT7RKfLjCeYxfjaMZOa890z4QwjWItS8U69e+IJoCDEtxkLxyAcsxIzzjIH1rsPFGjXHiDw3daVa3/2Brpdjz+V5hCZ+YYyOo4696Tvy+Y1bm8jznwAj+N/iXqvjG6Um0sz5FiGHQ4wPyXk+716pqGoWmlafNfajOlvbQLukkc4AH+e3es7wl4at/CXhq30m2k87ystJMV2mRyclsZOPTr0ArK+IHgaXxzZ2lsurtp8Vu7O6iHzBKSABkbl6c+vWiWiUY9AWrbkcnHbaj8YNZS6u1lsfCNnKTDEfle8YcZ/pntyBzk10XxOn1jTvBKaf4T064la4YWzCzhZ2hi2nOAo46Bc+9Y0Pwm8R20CQ2/xG1SKKNQqRokiqoHQACbgV2/hPQ77w9ozWep61cazMZWkFzcbtwBA+XlmOBj170NJx5V/w4JtS5v6R49qHiHUNO+GNz4di8Bapptn5IWS8nD4DbgS7ZjAySPX0rsfg5r99eeHbXSJtEuba0tbdmi1B93l3B8w8L8oHc9CehrtvFGif8JJ4ZvdI+0fZvtSBPN2b9vIPTIz09ab4V0L/hGfC9lo/wBo+1fZVK+d5ezdli3TJx19ad9W3/W/5Ctokv62OI+PP/Ih2n/YQT/0XJXfaB/yLWmf9ekX/oArI8e+Dv8AhN9Bi037d9h8u4WfzPJ8zOFYYxuH97rntW1Dpyx6FHpkkhdFthbs6jBI27c98VMdIy9f0G9ZR/rqc14t+GWkeMdUXUNRvL+GZYRCFt5ECYBJyQVJzz61yXgy+vPBnxObwKJ4L3T5F3JIlukciN5e8FivU4GDnPY8dK0R8JtZtF8nR/H+rWdovEcHznYPT5ZFH5AVueDvhtp3hO8l1F7mfUtUmBD3dx2z12jnBPckk1UdH5ClqvM5PQIrme5+KFva5/tCSSQRKPvEHzduP6fWk8K+MPD2k/Bs2UV1EmpiCWI2aj99JOxIHy9TnK8+n0rofEvhjW9L8Wf8Jb4KWKe6lQR32nyttW4UY5B4APA7jp35BzE8WGK+N8/wq1FNUySZ4rEMd3r5uzP41CV42fZJ/L/Mt6Suu9/vOTh1izb4Hw+FrZ/N1y7uzbmxAPmI3nbuR2GAB9T7Gup+MNodP+E+m2bNuNvPBET67Y2H9K63wrFJqMk+s6v4UtdEv3kxG2Eed0IGSzgA5zkYOKveKvDNn4t8PzaVfs6I5DpIn3o3HRh/noTVTu15uz+4mFk/LX8R/hzd/wAIbpWz732CHGfXyxXivwth8XTPrB8MXWkwz+cv2sagHMhPzYIwp4zu/GvSfB3gHU/C2oRy3Piy91KziiMUVk6ssaehwXYcduKg174VwX2uS6z4d1m88P385Jme1yVfPU4BUgk8nnB9Kcn77l3/AMxR+Hl7Gdp3gbxhL8R7DxR4gvNIY26lJRZtIGddrAcFACfm9elZvgTyz8dvFH27H2rM3kb+uPMHT/gOPwzXXeF/Ad9omsDUtX8U6hrc0cbJEk5IRA3U4LNzx2IqLxb8MbPxHrCazp+o3Gj6quM3NuM7sDAJAIOccZBFJe6015/iPdO/l+B3FNSWORmVHVihwwBztPoa4/wn4FvfD+sPqWreJr7W5zCYYxcZCopIJ4ZmOflHcUeDvh5H4R17VNSTU5bv7eTiNo9uwbi3Jydx9+O/rT6h0OT+GsCP8X/GM7AF45pVU46Bpjn/ANBFJ4/torj45eFElRWVliLAjriViM12fhnwN/wjnivW9a/tD7T/AGrIz+T5GzysuWxu3HPXHQUmueBv7a8d6T4j/tHyf7NCj7P5G7zMMT97cMdfQ0oaezv03/EJa8/n/wAAxvjkoPw7BIBK3kZB9OGrpdCktE+G2nPqhT7GNLjNwZeV2eUN2fbFN8c+E/8AhM/Dv9lfbfsX75ZfN8rzOmeMZHr61Q8Q+BbzW/Bmn+HLfXPsVtbRRxzuLXcbgIoA/jG0ZGcc9vTla8sl3f6D05ovsv1PC9NFiniCzudQgvf+EPOpv5SyHKjp17Zxsz3IBr6kjZHiRoipjKgqV6EdsVzl94F0m88CjwusflWscYWGQDLRuORJ7nOSfXJ9aqWccvw3+Htx/a+rDUo7CMm3dofKbH8Ef3mz83A9Afam2oxa7fiJJykn3/A5r4U/8j5438n/AFH2zj6+ZJj+teq1558G9DuNO8Jzanfgi61eb7Qdw52fwk/XLH6EV6HTtypR7JCvduXdhRRRSGFFFFABRRRQAUUUUAFFFFABRRRQAUUUUAFFFFABRRRQAUUUUAFFFFABRRRQAUUUUAFFFFABRRRQAUUUUAFFFFABRRRQAUUUUAFFFFABRRRQAUUUUAFFFFABRRRQAUUUUAFFFFABRRRQAUUUUAFFFFABRRRQAUUUUAFFFFABRRRQAUUUUAFFFFABRRRQAUUUUAFFFFABRRRQAVDeWdvqFlNaXsKzW8yFJI3GQwPapqKNwPPf+FM6DG0gstS1qyhkOTb292An05Uk/iTXR+GPBOh+EY3/ALHtSs0gxJcSsXkcehJ6D2GBW/RRsG4UUUUAFFFFABRRRQAUUUUAFFFFABRRRQAUUUUAFFFFABRRRQAUUUUAFFFFABRRRQAUUUUAc5r/AII03xFr+mavez3Udxprh4VhdQjEMG+YFSTyOxFdHRRRsrB1uFFFFABRRRQAUUUUAFFFFABRRRQAUUUUAFFFFABRRRQAUUUUAFFFFABRRRQAUUUUAFFFFABRRRQAUUUUAFFFFABRRRQAUUUUAFc5pvgjTdL8ZX3iW3numvL1GSSN3UxgEqeAFB/hHc10dFHW4dLBRRRQAUUUUAFFFFABRRRQAVy3jD4faV42ltZNVnvIWtlZU+zSKuQ2M53KfSupopWHcyvDnhvTfCukLp2jxGOEMWZmbc0jHqzH14FatFFU3cWwUUUUgCiiigAooooAKKKKACiiigAooooAKKKKACiiigAooooAKKKKACiiigAooooAKhu7K11C1e2v7aG6gfG6KaMOrYOeQeDU1FAEcEEVrbpBbRJDDGoVI41CqoHQADgCpKKKACiiigAooooAKKKKACiiigAooooAKKKKACiiigAooooAKKKKACiiigAooooAKKKKACiiigAooooAKKKKACiiigAqtf6bY6pbiDU7K3vIQ24R3ESyKD64IIzzVmigBFUIoVQFUDAAHAFLRRQAUUUUAFFFFABRRRQAUUUUAFFFFABRRRQAUUUUAFFFFABRRRQAUUUUAFFFFABRRRQAUUUUAFFFFABRRRQAUUUUAFFFFABRRRQAUUUUAFFFFABRRRQAUUUUAFFFFABRRRQAUUUUAFFFFABRRRQAUUUUAFFFFABRRRQAUUUUAFFFFABRRRQAUUUUAFFFFABRRRQAUUUUAFFFFABRRRQAUUUUAFFFFABRRRQAUVnW+v6Xd61NpNreRzX0EZkliTJ2AEA5PTOSOM59qg1DxXo2l3klre3hSWIKZdsLusIb7u9lBVM/7RFAGxRWbqXiDTdJeFL2dhJOC0ccMLzOyjq21ATgeuMUyfxNpEGm21+135ltdZMLQxvKXwCThVBPABzxxjnFAGrRVQ6pZCSyQTqzXwJttgLeYAu4njoMdzxyPUVboAKKKKACiiigAooooAKKKKACiiigAooooAKKKKACiiigAooooAKKKKACiiigAooooAKKKKACiiigAooooAKKKKACiiigAooooAKKKKACiiigAooooAKKKKACiiigAooooAKKKKACiiigAooooAKKKKACiiigAooooAKKKKACiiigAooooAKKKKACiiigAooooAKKKKACiiigAooooAKKKKACiiigAooooAKKKKACiiigAooooAKKKKACiiigAooooAKKKKACiiigAooooAKKKKACiiigAooooAKKKKACiiigAooooAKKKKACiiigAooooAKKKKACiiigAooooAKKKKACiiigAooooAKKKKACiiigAooooAKKKKACiiigAooooAKKKKACiiigAooooAKKKKACiiigAooooAKKKKACiiigAooooAKKKKACiiigAooooAKKKKACiiigAooooAKKKKACiiigAooooAKKKKACiiigAooooAKKKKACiiigAooooAKKKKACiiigAooooAKKKKACiiigAooooAKKKKACiiigAooooAKKKKACiiigAooooAKKKKAOYjt4bb4lwx20UcMf9kSttjUKMmdCTgepOag0UQjS/Fn23GP7QuvtG7+5sGM+2zFdKdPtjqi6iYv9LWEwCTcfuFgxGM46gc9ao6h4V0bVLx7q9s98kgUS7ZXRZgv3Q6qQr4/2gaAOa8CeZ/akBvs/aD4esfJ3ddmX3frtz+FQaXBeJPLqum2ZvoLPVNRjWBZET5XI+ZSxC4DqQeejHGeldlqWgabqzQvewN5kAKxyQyvC6qeq7kIOD6ZxUg0awXRTpEduI7ExGHyY2KfIeoyDnnuc85oA800g6tBbwXMN8bVrTQXe1YRq4kii2AfeH3XbLHGDt8vkYr0a5vZH8LTX0WYpWs2mX/YOzI/Kl1Hw/pmqxwpfW29YVKIEdo/kOModpGVOBlTwcDina2APDuoADAFrJgf8ANAGTZ6TfXFjBM/iHUg0kauQPKxkjP8Acqb+xLz/AKGHU/zi/wDiKvaZ/wAgmz/64J/6CKtUxGP/AGJef9DDqf5xf/EUf2Jef9DDqf5xf/EVsUUAY/8AYl5/0MOp/nF/8RR/Yl5/0MOp/nF/8RWxRQBj/wBiXn/Qw6n+cX/xFH9iXn/Qw6n+cX/xFbFFAGP/AGJef9DDqf5xf/EUf2Jef9DDqf5xf/EVsUUAY/8AYl5/0MOp/nF/8RR/Yl5/0MOp/nF/8RWxRQBj/wBiXn/Qw6n+cX/xFH9iXn/Qw6n+cX/xFbFFAGP/AGJef9DDqf5xf/EUf2Jef9DDqf5xf/EVsUUAY/8AYl5/0MOp/nF/8RR/Yl5/0MOp/nF/8RWxRQBj/wBiXn/Qw6n+cX/xFH9iXn/Qw6n+cX/xFbFFAGP/AGJef9DDqf5xf/EUf2Jef9DDqf5xf/EVsUUAY/8AYl5/0MOp/nF/8RR/Yl5/0MOp/nF/8RWxRQBj/wBiXn/Qw6n+cX/xFH9iXn/Qw6n+cX/xFbFFAGP/AGJef9DDqf5xf/EUf2Jef9DDqf5xf/EVsUUAY/8AYl5/0MOp/nF/8RR/Yl5/0MOp/nF/8RWxRQBj/wBiXn/Qw6n+cX/xFcd481LWvDBtPsGuXknnBt3miM4x9FFek15h8YPvab9H/pWVZtQbR3ZfTjUxMYzV1/wDlP8AhP8AxR/0F5f++E/wo/4T/wAUf9BeX/vhP8K52iuD2s+59X9Qwv8AIjov+E/8Uf8AQXl/74T/AAo/4T/xR/0F5f8AvhP8K52ij2s+4fUML/Ijov8AhP8AxR/0F5f++E/wo/4T/wAUf9BeX/vhP8K52ij2s+4fUML/ACI6L/hP/FH/AEF5f++E/wAKP+E/8Uf9BeX/AL4T/Cudoo9rPuH1DC/yI6L/AIT/AMUf9BeX/vhP8KP+E/8AFH/QXl/74T/Cudoo9rPuH1DC/wAiOi/4T/xR/wBBeX/vhP8ACj/hP/FH/QXl/wC+E/wrnaKPaz7h9Qwv8iOi/wCE/wDFH/QXl/74T/Cj/hP/ABR/0F5f++E/wrnaKPaz7h9Qwv8AIjov+E/8Uf8AQXl/74T/AAr0zwxBqWs+HbW/udf1BZZgSwTywBgkd09q8Rr3rwD/AMiTYf7rf+hGuihOUpWbPJzXDUaNFSpxs7lr+xLz/oYdT/OL/wCIo/sS8/6GHU/zi/8AiK2KK7D5wx/7EvP+hh1P84v/AIivLdd8Y+JNM169soNZnaO3mZFLqmSAe/y17VXz34u/5HDVf+vl/wCdc9eTilY9jKqNOtUkqivoWv8AhP8AxR/0F5f++E/wo/4T/wAUf9BeX/vhP8K52iuP2s+59D9Qwv8AIjov+E/8Uf8AQXl/74T/AAo/4T/xR/0F5f8AvhP8K52ij2s+4fUML/Ijov8AhP8AxR/0F5f++E/wo/4T/wAUf9BeX/vhP8K52ij2s+4fUML/ACI6L/hP/FH/AEF5f++E/wAKP+E/8Uf9BeX/AL4T/Cudoo9rPuH1DC/yI6L/AIT/AMUf9BeX/vhP8KP+E/8AFH/QXl/74T/Cudoo9rPuH1DC/wAiOi/4T/xR/wBBeX/vhP8ACj/hP/FH/QXl/wC+E/wrnaKPaz7h9Qwv8iOi/wCE/wDFH/QXl/74T/Cj/hP/ABR/0F5f++E/wrnaKPaz7h9Qwv8AIjr9I8aeJb/WLa1m1mcJLIFYqqZA/KvVf7EvP+hh1P8AOL/4ivD/AA1/yM1h/wBdhX0RXXh5OSdz5/NqNOjOKpq2hj/2Jef9DDqf5xf/ABFH9iXn/Qw6n+cX/wARWxRXSeMcn4kttS0fw/dX1tr+oNLChZQ/lkH/AMcrzH/hP/FH/QXl/wC+E/wr1rxz/wAiXqH/AFyNeB1x15yjKyZ9FlWGo1qTdSN9Tov+E/8AFH/QXl/74T/Cj/hP/FH/AEF5f++E/wAK52iuf2s+56/1DC/yI6L/AIT/AMUf9BeX/vhP8KP+E/8AFH/QXl/74T/Cudoo9rPuH1DC/wAiOi/4T/xR/wBBeX/vhP8ACj/hP/FH/QXl/wC+E/wrnaKPaz7h9Qwv8iOi/wCE/wDFH/QXl/74T/Cj/hP/ABR/0F5f++E/wrnaKPaz7h9Qwv8AIjov+E/8Uf8AQXl/74T/AAo/4T/xR/0F5f8AvhP8K52ij2s+4fUML/Ijov8AhP8AxR/0F5f++E/wo/4T/wAUf9BeX/vhP8K52ij2s+4fUML/ACI6L/hP/FH/AEF5f++E/wAKP+E/8Uf9BeX/AL4T/Cudoo9rPuH1DC/yI9S8Canrfid7oX+uXkfkgbfKEYzn6qa7L+xLz/oYdT/OL/4iuG+EH+t1D6LXqNd9FtwTZ8rmFONPESjBWRj/ANiXn/Qw6n+cX/xFH9iXn/Qw6n+cX/xFbFFanAY/9iXn/Qw6n+cX/wARR/Yl5/0MOp/nF/8AEVsUUAY/9iXn/Qw6n+cX/wARR/Yl5/0MOp/nF/8AEVsUUAY/9iXn/Qw6n+cX/wARR/Yl5/0MOp/nF/8AEVsUUAY/9iXn/Qw6n+cX/wARR/Yl5/0MOp/nF/8AEVsUUAY/9iXn/Qw6n+cX/wARR/Yl5/0MOp/nF/8AEVsUUAY/9iXn/Qw6n+cX/wARR/Yl5/0MOp/nF/8AEVsUUAY/9iXn/Qw6n+cX/wARR/Yl5/0MOp/nF/8AEVsUUAY/9iXn/Qw6n+cX/wARR/Yl5/0MOp/nF/8AEVsUUAY/9iXn/Qw6n+cX/wARR/Yl5/0MOp/nF/8AEVsUUAY/9iXn/Qw6n+cX/wARR/Yl5/0MOp/nF/8AEVsUUAY/9iXn/Qw6n+cX/wARR/Yl5/0MOp/nF/8AEVsUUAY/9iXn/Qw6n+cX/wARR/Yl5/0MOp/nF/8AEVsUUAY/9iXn/Qw6n+cX/wARR/Yl5/0MOp/nF/8AEVsUUAY/9iXn/Qw6n+cX/wARR/Yl5/0MOp/nF/8AEVsUUAY/9iXn/Qw6n+cX/wARR/Yl5/0MOp/nF/8AEVsUUAY/9iXn/Qw6n+cX/wARR/Yl5/0MOp/nF/8AEVsUUAY/9iXn/Qw6n+cX/wARR/Yl5/0MOp/nF/8AEVsUUAY/9iXn/Qw6n+cX/wARR/Yl5/0MOp/nF/8AEVsUUAY/9iXn/Qw6n+cX/wARR/Yl5/0MOp/nF/8AEVsUUAY/9iXn/Qw6n+cX/wARR/Yl5/0MOp/nF/8AEVsUUAY/9iXn/Qw6n+cX/wARR/Yl5/0MOp/nF/8AEVsUUAY/9iXn/Qw6n+cX/wARR/Yl5/0MOp/nF/8AEVsUUAY/9iXn/Qw6n+cX/wARR/Yl5/0MOp/nF/8AEVsUUAY/9iXn/Qw6n+cX/wARR/Yl5/0MOp/nF/8AEVsUUAY/9iXn/Qw6n+cX/wARR/Yl5/0MOp/nF/8AEVsUUAY/9iXn/Qw6n+cX/wARR/Yl5/0MOp/nF/8AEVsUUAY/9iXn/Qw6n+cX/wARR/Yl5/0MOp/nF/8AEVsUUAY/9iXn/Qw6n+cX/wARR/Yl5/0MOp/nF/8AEVsUUAY/9iXn/Qw6n+cX/wARR/Yl5/0MOp/nF/8AEVsUUAY/9iXn/Qw6n+cX/wARR/Yl5/0MOp/nF/8AEVsUUAY/9iXn/Qw6n+cX/wARR/Yl5/0MOp/nF/8AEVsUUAY/9iXn/Qw6n+cX/wARR/Yl5/0MOp/nF/8AEVsUUAY/9iXn/Qw6n+cX/wARR/Yl5/0MOp/nF/8AEVsUUAY/9iXn/Qw6n+cX/wARR/Yl5/0MOp/nF/8AEVsUUAY/9iXn/Qw6n+cX/wARR/Yl5/0MOp/nF/8AEVsUUAY/9iXn/Qw6n+cX/wARR/Yl5/0MOp/nF/8AEVsUUAY/9iXn/Qw6n+cX/wARR/Yl5/0MOp/nF/8AEVsUUAY/9iXn/Qw6n+cX/wARR/Yl5/0MOp/nF/8AEVsUUAY/9iXn/Qw6n+cX/wARR/Yl5/0MOp/nF/8AEVsUUAY/9iXn/Qw6n+cX/wARR/Yl5/0MOp/nF/8AEVsUUAY/9iXn/Qw6n+cX/wARR/Yl5/0MOp/nF/8AEVsUUAY/9iXn/Qw6n+cX/wARR/Yl5/0MOp/nF/8AEVsUUAY/9iXn/Qw6n+cX/wARR/Yl5/0MOp/nF/8AEVsUUAY/9iXn/Qw6n+cX/wARR/Yl5/0MOp/nF/8AEVsUUAY/9iXn/Qw6n+cX/wARR/Yl5/0MOp/nF/8AEVsUUAY/9iXn/Qw6n+cX/wARR/Yl5/0MOp/nF/8AEVsUUAY/9iXn/Qw6n+cX/wARR/Yl5/0MOp/nF/8AEVsUUAY/9iXn/Qw6n+cX/wARR/Yl5/0MOp/nF/8AEVsUUAY/9iXn/Qw6n+cX/wARR/Yl5/0MOp/nF/8AEVsUUAY/9iXn/Qw6n+cX/wARR/Yl5/0MOp/nF/8AEVsUUAY/9iXn/Qw6n+cX/wARR/Yl5/0MOp/nF/8AEVsUUAY/9iXn/Qw6n+cX/wARR/Yl5/0MOp/nF/8AEVsUUAY/9iXn/Qw6n+cX/wARR/Yl5/0MOp/nF/8AEVsUUAY/9iXn/Qw6n+cX/wARR/Yl5/0MOp/nF/8AEVsUUAY/9iXn/Qw6n+cX/wARR/Yl5/0MOp/nF/8AEVsUUAY/9iXn/Qw6n+cX/wARUdit5Y+K4bOXU7q8hls5JCs+zhldACNqj1NblZD/API9Wn/YPm/9GR0Ab1FFFIYUUUUAFFFFABRRRQAUUUUAFFFFABRRRQAUUUUAFFFFABRRRQAVR1z/AJF7Uf8Ar1l/9ANXqo65/wAi9qP/AF6y/wDoBoAZpn/IJs/+uCf+girVVdM/5BNn/wBcE/8AQRVqmIKKKKACiiigAooooAKKKKACiiigAooooAKKKKACiiigAooooAKKKKACiiigAooooAKKKKACiiigArzD4wfe036P/SvT68w+MH3tN+j/ANKxr/w2ejln+9x+f5HmVFFFeafahRRRQAUUUUAFFFFABRRRQAUUUUAFFFFABXvXgH/kSbD/AHW/9CNeC1714B/5Emw/3W/9CNdOG+Jnh51/Aj6/ozoqKKK7z5UK+e/F3/I4ar/18v8Azr6Er578Xf8AI4ar/wBfL/zrlxPwo93Jf4svQx6KKK4T6kKKKKACiiigAooooAKKKKACiiigAooooA1PDX/IzWH/AF2FfRFfO/hr/kZrD/rsK+iK7sNsz5fO/wCJD0Ciiiuo8E5/xz/yJeof9cjXgde+eOf+RL1D/rka8DrhxPxI+qyX+DL1CiiiuU9wKKKKACiiigAooooAKKKKACiiigAooooA9L+EH+t1D6LXqNeXfCD/AFuofRa9Rr0qH8NHxeaf71L5fkFFFFbHmhRRRQAUUUUAFFFFABRRRQAUUUUAFFFFABRRRQAUUUUAFFFFABRRRQAUUUUAFFFFABRRRQAUUUUAFFFFABRRRQAUUUUAFFFFABRRRQAUUUUAFFFFABRRRQAUUUUAFFFFABRRRQAUUUUAFFFFABRRRQAUUUUAFFFFABRRRQAUUUUAFFFFABRRRQAUUUUAFFFFABRRRQAUUUUAFFFFABRRRQAUUUUAFFFFABRRRQAUUUUAFFFFABRRRQAUUUUAFFFFABRRRQAUUUUAFFFFABRRRQAUUUUAFFFFABRRRQAVkP8A8j1af9g+b/0ZHWvWQ/8AyPVp/wBg+b/0ZHQBvUUUUhhRRRQAUUUUAFFFFABRRRQAUUUUAFFFFABRRRQAUUUUAFFFFABVHXP+Re1H/r1l/wDQDV6qOuf8i9qP/XrL/wCgGgBmmf8AIJs/+uCf+girVVdM/wCQTZ/9cE/9BFWqYgooooAKKKKACiiigAooooAKKKKACiiigAooooAKKKKACiiigAooooAKKKKACiiigAooooAKKKKACvMPjB97Tfo/9K9PrzD4wfe036P/AErGv/DZ6OWf73H5/keZUUUV5p9qFFFFABRRRQAUUUUAFFFFABRRRQAUUUUAFe9eAf8AkSbD/db/ANCNeC1714B/5Emw/wB1v/QjXThviZ4edfwI+v6M6Kiiiu8+VCvnvxd/yOGq/wDXy/8AOvoSvnvxd/yOGq/9fL/zrlxPwo93Jf4svQx6KKK4T6kKKKKACiiigAooooAKKKKACiiigAooooA1PDX/ACM1h/12FfRFfO/hr/kZrD/rsK+iK7sNsz5fO/4kPQKKKK6jwTn/ABz/AMiXqH/XI14HXvnjn/kS9Q/65GvA64cT8SPqsl/gy9QooorlPcCiiigAooooAKKKKACiiigAooooAKKKKAPS/hB/rdQ+i16jXl3wg/1uofRa9Rr0qH8NHxeaf71L5fkFFFFbHmhRRRQAUUUUAFFFFABRRRQAUUUUAFFFFABRRRQAUUUUAFFFFABRRRQAUUUUAFFFFABRRRQAUUUUAFFFFABRRRQAUUUUAFFFFABRRRQAUUUUAFFFFABRRRQAUUUUAFFFFABRRRQAUUUUAFFFFABRRRQAUUUUAFFFFABRRRQAUUUUAFFFFABRRRQAUUUUAFFFFABRRRQAUUUUAFFFFABRRRQAUUUUAFFFFABRRRQAUUUUAFFFFABRRRQAUUUUAFFFFABRRRQAUUUUAFFFFABRRRQAUUUUAFFFFABRRRQAVkP/AMj1af8AYPm/9GR1r1kP/wAj1af9g+b/ANGR0Ab1FFFIYUUUUAFFFFABRRRQAUUUUAFFFFABRRRQAUUUUAFFFFABRRRQAVR1z/kXtR/69Zf/AEA1eqjrn/Ivaj/16y/+gGgBmmf8gmz/AOuCf+girVVdM/5BNn/1wT/0EVapiCiiigAooooAKKKKACiiigAoorK8TyPF4ZvnidkdYshlOCOaTdlcqEeaSj3NXNGa+cP7a1T/AKCV5/3/AG/xo/trVP8AoJXn/f8Ab/GuX6yux739iT/n/A+j80Zr5w/trVP+glef9/2/xo/trVP+glef9/2/xo+srsH9iT/n/A+j80Zr5w/trVP+glef9/2/xo/trVP+glef9/2/xo+srsH9iT/n/A+j80Zr5w/trVP+glef9/2/xo/trVP+glef9/2/xo+srsH9iT/n/A+j80Zr5w/trVP+glef9/2/xo/trVP+glef9/2/xo+srsH9iT/n/A+j80Zr5w/trVP+glef9/2/xo/trVP+glef9/2/xo+srsH9iT/n/A+j80Zr5w/trVP+glef9/2/xo/trVP+glef9/2/xo+srsH9iT/n/A+j80V84f21qn/QSvP+/wC3+Nd78Kb+7u9Wvlu7qedVhUgSSFsc+9XCupStYwxGVSoUnUcr2PUqKKK6DxgrzD4wfe036P8A0r0+vMPjB97Tfo/9Kxr/AMNno5Z/vcfn+R5lRRRXmn2oUUUUAFFFFABRRRQAUUUUAFFFFABRRRQAV714B/5Emw/3W/8AQjXgte9eAf8AkSbD/db/ANCNdOG+Jnh51/Aj6/ozoqKKK7z5UK+e/F3/ACOGq/8AXy/86+hK+e/F3/I4ar/18v8AzrlxPwo93Jf4svQx6KKK4T6kKKKKACiiigAooooAKKKKACiiigAooooA1PDX/IzWH/XYV9EV87+Gv+RmsP8ArsK+iK7sNsz5fO/4kPQKKKK6jwTn/HP/ACJeof8AXI14HXvnjn/kS9Q/65GvA64cT8SPqsl/gy9QooorlPcCiiigAooooAKKKKACiiigAooooAKKKKAPS/hB/rdQ+i16jXl3wg/1uofRa9Rr0qH8NHxeaf71L5fkFFFFbHmhRRRQAUUUUAFFFFABRRRQAUUUUAFFFFABRRRQAUUUUAFFFFABRRRQAUUUUAFFFFABRRRQAUUUUAFFFFABRRRQAUUUUAFFFFABRRRQAUUUUAFFFFABRRRQAUUUUAFFFFABRRRQAUUUUAFFFFABRRRQAUUUUAFFFFABRRRQAUUUUAFFFFABRRRQAUUUUAFFFFABRRRQAUUUUAFFFFABRRRQAUUUUAFFFFABRRRQAUUUUAFFFFABRRRQAUUUUAFFFFABRRRQAUUUUAFFFFABRRRQAUUUUAFFFFABRRRQAVkP/wAj1af9g+b/ANGR1r1kP/yPVp/2D5v/AEZHQBvUUUUhhRRRQAUUUUAFFFFABRRRQAUUUUAFFFFABRRRQAUUUUAFFFFABVHXP+Re1H/r1l/9ANXqo65/yL2o/wDXrL/6AaAGaZ/yCbP/AK4J/wCgirVVdM/5BNn/ANcE/wDQRVqmIKKKKACiiigAooooAKKKKACsjxV/yKuof9cv61r1keKv+RV1D/rl/Wpl8LNaP8WPqj56oooryT9BCiiigAooooAKKKKACiiigAooooAKKKKACvQ/hD/yGdQ/64L/AOhV55Xofwh/5DOof9cF/wDQq1o/xEcGY/7rP+up6zRRRXpnxAV5h8YPvab9H/pXp9eYfGD72m/R/wClY1/4bPRyz/e4/P8AI8yooorzT7UKKKKACiiigAooooAKKKKACiiigAooooAK968A/wDIk2H+63/oRrwWvevAP/Ik2H+63/oRrpw3xM8POv4EfX9GdFRRRXefKhXz34u/5HDVf+vl/wCdfQlfPfi7/kcNV/6+X/nXLifhR7uS/wAWXoY9FFFcJ9SFFFFABRRRQAUUUUAFFFFABRRRQAUUUUAanhr/AJGaw/67Cvoivnfw1/yM1h/12FfRFd2G2Z8vnf8AEh6BRRRXUeCc/wCOf+RL1D/rka8Dr3zxz/yJeof9cjXgdcOJ+JH1WS/wZeoUUUVynuBRRRQAUUUUAFFFFABRRRQAUUUUAFFFFAHpfwg/1uofRa9Rry74Qf63UPoteo16VD+Gj4vNP96l8vyCiiitjzQooooAKKKKACiiigAooooAKKKKACiiigAooooAKKKKACiiigAooooAKKKKACiiigAooooAKKKKACiiigAooooAKKKKACiiigAooooAKKKKACiiigAooooAKKKKACiiigAooooAKKKKACiiigAooooAKKKKACiiigAooooAKKKKACiiigAooooAKKKKACiiigAooooAKKKKACiiigAooooAKKKKACiiigAooooAKKKKACiiigAooooAKKKKACiiigAooooAKKKKACiiigAooooAKKKKACiiigAooooAKyH/AOR6tP8AsHzf+jI616yH/wCR6tP+wfN/6MjoA3qKKKQwooooAKKKKACiiigAooooAKKKKACiiigAooooAKKKKACiiigAqjrn/Ivaj/16y/8AoBq9VHXP+Re1H/r1l/8AQDQAzTP+QTZ/9cE/9BFWqq6Z/wAgmz/64J/6CKtUxBRRRQAUUUUAFFFFABRRRQAVkeKv+RV1D/rl/WtesjxV/wAirqH/AFy/rUy+FmtH+LH1R89UUUV5J+ghRRRQAUUUUAFFFFABRRRQAUUUUAFFFFABXofwh/5DOof9cF/9CrzyvQ/hD/yGdQ/64L/6FWtH+IjgzH/dZ/11PWaKKK9M+ICvMPjB97Tfo/8ASvT68w+MH3tN+j/0rGv/AA2ejln+9x+f5HmVFFFeafahRRRQAUUUUAFFFFABRRRQAUUUUAFFFFABXvXgH/kSbD/db/0I14LXvXgH/kSbD/db/wBCNdOG+Jnh51/Aj6/ozoqKKK7z5UK+e/F3/I4ar/18v/OvoSvnvxd/yOGq/wDXy/8AOuXE/Cj3cl/iy9DHooorhPqQooooAKKKKACiiigAooooAKKKKACiiigDU8Nf8jNYf9dhX0RXzv4a/wCRmsP+uwr6Iruw2zPl87/iQ9AooorqPBOf8c/8iXqH/XI14HXvnjn/AJEvUP8Arka8DrhxPxI+qyX+DL1CiiiuU9wKKKKACiiigAooooAKKKKACiiigAooooA9L+EH+t1D6LXqNeXfCD/W6h9Fr1GvSofw0fF5p/vUvl+QUUUVseaFFFFABRRRQAUUUUAFFFFABRRRQAUUUUAFFFFABRRRQAUUUUAFFFFABRRRQAUUUUAFFMmYpBIy9VUkflXjdz8TfEUV1LGktvtVyo/cjoDWc6kYbnZhsHUxN+S2h7PRXif/AAtHxJ/z1t/+/Io/4Wj4k/562/8A35FZ/WIHZ/Y+J8vv/wCAe2UV4n/wtHxJ/wA9bf8A78ij/haPiT/nrb/9+RR9YgH9j4ny+/8A4B7ZRXif/C0fEn/PW3/78ij/AIWj4k/562//AH5FH1iAf2PifL7/APgHtlFeJ/8AC0fEn/PW3/78ij/haPiT/nrb/wDfkUfWIB/Y+J8vv/4B7ZRXif8AwtHxJ/z1t/8AvyKP+Fo+JP8Anrb/APfkUfWIB/Y+J8vv/wCAe2UV4n/wtHxJ/wA9bf8A78ij/haPiT/nrb/9+RR9YgH9j4ny+/8A4B7ZRXif/C0fEn/PW3/78ij/AIWj4k/562//AH5FH1iAf2PifL7/APgHtlFeYeDvHeta14khsr6SEwuCSFiAP516fWsJqaujgxGGnhp8k9woooqzmCiiigAooooAKKKKACiiigAooooAKKKKACiiigAooooAKKKKACiiigAooooAKKKKACiiigAooooAKKKKACiiigAooooAKKKKACiiigAooooAKKKKACiiigAooooAKKKKACiiigAooooAKKKKACiiigAooooAKKKKACiiigAooooAKKKKACsh/wDkerT/ALB83/oyOtesh/8AkerT/sHzf+jI6AN6iiikMKKKKACiiigAooooAKKKKACiiigAooooAKKKKACiiigAooooAKo65/yL2o/9esv/AKAavVR1z/kXtR/69Zf/AEA0AM0z/kE2f/XBP/QRVqqumf8AIJs/+uCf+girVMQUUUUAFFFFABRRRQAUUUUAFZHir/kVdQ/65f1rXrI8Vf8AIq6h/wBcv61MvhZrR/ix9UfPVFFFeSfoIUUUUAFFFFABRRRQAUUUUAFFFFABRRRQAV6H8If+QzqH/XBf/Qq88r0P4Q/8hnUP+uC/+hVrR/iI4Mx/3Wf9dT1miiivTPiArzD4wfe036P/AEr0+vMPjB97Tfo/9Kxr/wANno5Z/vcfn+R5lRRRXmn2oUUUUAFFFFABRRRQAUUUUAFFFFABRRRQAV714B/5Emw/3W/9CNeC1714B/5Emw/3W/8AQjXThviZ4edfwI+v6M6Kiiiu8+VCvnvxd/yOGq/9fL/zr6Er578Xf8jhqv8A18v/ADrlxPwo93Jf4svQx6KKK4T6kKKKKACiiigAooooAKKKKACiiigAooooA1PDX/IzWH/XYV9EV87+Gv8AkZrD/rsK+iK7sNsz5fO/4kPQKKKK6jwTn/HP/Il6h/1yNeB17545/wCRL1D/AK5GvA64cT8SPqsl/gy9QooorlPcCiiigAooooAKKKKACiiigAooooAKKKKAPS/hB/rdQ+i16jXl3wg/1uofRa9Rr0qH8NHxeaf71L5fkFFFFbHmhRRRQAUUUUAFFFFABRRRQAUUUUAFFFFABRRRQAUUUUAFFFFABRRRQAUUUUAFFFFAEdz/AMesv+4f5V823v8Ax/3H/XVv519JXP8Ax6y/7h/lXzbe/wDH/cf9dW/nXHieh9Fkn2/kQ0UUVxn0gUUUUAFFFFABRRRQAUUUUAFFFFABRRRQB1Xw4/5HW2/3Wr3KvDfhx/yOtt/utXuVd+G+A+Szn/eF6BRRRXSeMFFFFABRRRQAUUUUAFFFFABRRRQAUUUUAFFFFABRRRQAUUUUAFFFFABRRRQAUUUUAFFFFABRRRQAUUUUAFFFFABRRRQAUUUUAFFFFABRRRQAUUUUAFFFFABRRRQAUUUUAFFFFABRRRQAUUUUAFFFFABRRRQAUUUUAFFFFABRRRQAUUUUAFZD/wDI9Wn/AGD5v/Rkda9ZD/8AI9Wn/YPm/wDRkdAG9RRRSGFFFFABRRRQAUUUUAFFFFABRRRQAUUUUAFFFFABRRRQAUUUUAFUdc/5F7Uf+vWX/wBANXqo65/yL2o/9esv/oBoAZpn/IJs/wDrgn/oIq1VXTP+QTZ/9cE/9BFWqYgooooAKKKKACiiigAooooAKyPFX/Iq6h/1y/rWvWR4q/5FXUP+uX9amXws1o/xY+qPnqiiivJP0EKKKKACiiigAooooAKKKKACiiigAooooAK9D+EP/IZ1D/rgv/oVeeV6H8If+QzqH/XBf/Qq1o/xEcGY/wC6z/rqes0UUV6Z8QFeYfGD72m/R/6V6fXmHxg+9pv0f+lY1/4bPRyz/e4/P8jzKiiivNPtQooooAKKKKACiiigAooooAKKKKACiiigAr3rwD/yJNh/ut/6Ea8Fr3rwD/yJNh/ut/6Ea6cN8TPDzr+BH1/RnRUUUV3nyoV89+Lv+Rw1X/r5f+dfQlfPfi7/AJHDVf8Ar5f+dcuJ+FHu5L/Fl6GPRRRXCfUhRRRQAUUUUAFFFFABRRRQAUUUUAFFFFAGp4a/5Gaw/wCuwr6Ir538Nf8AIzWH/XYV9EV3YbZny+d/xIegUUUV1HgnP+Of+RL1D/rka8Dr3zxz/wAiXqH/AFyNeB1w4n4kfVZL/Bl6hRRRXKe4FFFFABRRRQAUUUUAFFFFABRRRQAUUUUAel/CD/W6h9Fr1GvLvhB/rdQ+i16jXpUP4aPi80/3qXy/IKKKK2PNCiiigAooooAKKKKACiiigAooooAKKKKACiiigAooooAKKKKACiiigAooooAKKKKAI7n/AI9Zf9w/yr5tvf8Aj/uP+urfzr6Suf8Aj1l/3D/Kvm29/wCP+4/66t/OuPE9D6LJPt/IhooorjPpAooooAKKKKACiiigAooooAKKKKACiiigDqvhx/yOtt/utXuVeG/Dj/kdbb/davcq78N8B8lnP+8L0Ciiiuk8YKKKKACiiigAooooAKKKKACiiigAooooAKKKKACiiigAooooAKKKKACiiigAooooAKKKKACiiigAooooAKKKKACiiigAooooAKKKKACiiigAooooAKKKKACiiigAooooAKKKKACiiigAooooAKKKKACiiigAooooAKKKKACiiigAooooAKyH/wCR6tP+wfN/6MjrXrIf/kerT/sHzf8AoyOgDeooopDCiiigAooooAKKKKACiiigAooooAKKKKACiiigAooooAKKKKACqOuf8i9qP/XrL/6AavVR1z/kXtR/69Zf/QDQAzTP+QTZ/wDXBP8A0EVaqrpn/IJs/wDrgn/oIq1TEFFFFABRRRQAUUUUAFFFFABWR4q/5FXUP+uX9a16yPFX/Iq6h/1y/rUy+FmtH+LH1R89UUUV5J+ghRRRQAUUUUAFFFFABRRRQAUUUUAFFFFABXofwh/5DOof9cF/9CrzyvQ/hD/yGdQ/64L/AOhVrR/iI4Mx/wB1n/XU9Zooor0z4gK8w+MH3tN+j/0r0+vMPjB97Tfo/wDSsa/8Nno5Z/vcfn+R5lRRRXmn2oUUUUAFFFFABRRRQAUUUUAFFFFABRRRQAV714B/5Emw/wB1v/QjXgte9eAf+RJsP91v/QjXThviZ4edfwI+v6M6Kiiiu8+VCvnvxd/yOGq/9fL/AM6+hK+e/F3/ACOGq/8AXy/865cT8KPdyX+LL0MeiiiuE+pCiiigAooooAKKKKACiiigAooooAKKKKANTw1/yM1h/wBdhX0RXzv4a/5Gaw/67Cvoiu7DbM+Xzv8AiQ9AooorqPBOf8c/8iXqH/XI14HXvnjn/kS9Q/65GvA64cT8SPqsl/gy9QooorlPcCiiigAooooAKKKKACiiigAooooAKKKKAPS/hB/rdQ+i16jXl3wg/wBbqH0WvUa9Kh/DR8Xmn+9S+X5BRRRWx5oUUUUAFFFFABRRRQAUUUUAFFFFABRRRQAUUUUAFFFFABRRRQAUUUUAFFFFABRRRQBHc/8AHrL/ALh/lXzbe/8AH/cf9dW/nX0lc/8AHrL/ALh/lXzbe/8AH/cf9dW/nXHieh9Fkn2/kQ0UUVxn0gUUUUAFFFFABRRRQAUUUUAFFFFABRRRQB1Xw4/5HW2/3Wr3KvDfhx/yOtt/utXuVd+G+A+Szn/eF6BRRRXSeMFFFFABRRRQAUUUUAFFFFABRRRQAUUUUAFFFFABRRRQAUUUUAFFFFABRRRQAUUUUAFFFFABRRRQAUUUUAFFFFABRRRQAUUUUAFFFFABRRRQAUUUUAFFFFABRRRQAUUUUAFFFFABRRRQAUUUUAFFFFABRRRQAUUUUAFFFFABRRRQAUUUUAFZD/8AI9Wn/YPm/wDRkda9ZD/8j1af9g+b/wBGR0Ab1FFFIYUUUUAFFFFABRRRQAUUUUAFFFFABRRRQAUUUUAFFFFABRRRQAVR1z/kXtR/69Zf/QDV6qOuf8i9qP8A16y/+gGgBmmf8gmz/wCuCf8AoIq1VXTP+QTZ/wDXBP8A0EVapiCiiigAooooAKKKKACiiigArI8Vf8irqH/XL+ta9ZHir/kVdQ/65f1qZfCzWj/Fj6o+eqKKK8k/QQooooAKKKKACiiigAooooAKKKKACiiigAr0P4Q/8hnUP+uC/wDoVeeV6H8If+QzqH/XBf8A0KtaP8RHBmP+6z/rqes0UUV6Z8QFeYfGD72m/R/6V6fXmHxg+9pv0f8ApWNf+Gz0cs/3uPz/ACPMqKKK80+1CiiigAooooAKKKKACiiigAooooAKKKKACvevAP8AyJNh/ut/6Ea8Fr3rwD/yJNh/ut/6Ea6cN8TPDzr+BH1/RnRUUUV3nyoV89+Lv+Rw1X/r5f8AnX0JXz34u/5HDVf+vl/51y4n4Ue7kv8AFl6GPRRRXCfUhRRRQAUUUUAFFFFABRRRQAUUUUAFFFFAGp4a/wCRmsP+uwr6Ir538Nf8jNYf9dhX0RXdhtmfL53/ABIegUUUV1HgnP8Ajn/kS9Q/65GvA6988c/8iXqH/XI14HXDifiR9Vkv8GXqFFFFcp7gUUUUAFFFFABRRRQAUUUUAFFFFABRRRQB6X8IP9bqH0WvUa8u+EH+t1D6LXqNelQ/ho+LzT/epfL8gooorY80KKKKACiiigAooooAKKKKACiiigAooooAKKKKACiiigAooooAKKKKACiiigAooooAjuf+PWX/AHD/ACr5tvf+P+4/66t/OvpK5/49Zf8AcP8AKvm29/4/7j/rq38648T0Posk+38iGiiiuM+kCiiigAooooAKKKKACiiigAooooAKKKKAOq+HH/I623+61e5V4b8OP+R1tv8Adavcq78N8B8lnP8AvC9AooorpPGCiiigAooooAKKKKACiiigAooooAKKKKACiiigAooooAKKKKACiiigAooooAKKKKACiiigAooooAKKKKACiiigAooooAKKKKACiiigAooooAKKKKACiiigAooooAKKKKACiiigAooooAKKKKACiiigAooooAKKKKACiiigAooooAKKKKACsh/+R6tP+wfN/wCjI616yH/5Hq0/7B83/oyOgDeooopDCiiigAooooAKKKKACiiigAooooAKKKKACiiigAooooAKKKKACqOuf8i9qP8A16y/+gGr1Udc/wCRe1H/AK9Zf/QDQAzTP+QTZ/8AXBP/AEEVaqrpn/IJs/8Argn/AKCKtUxBRRRQAUUUUAFFFFABRRRQAVkeKv8AkVdQ/wCuX9a16yPFX/Iq6h/1y/rUy+FmtH+LH1R89UUUV5J+ghRRRQAUUUUAFFFFABRRRQAUUUUAFFFFABXofwh/5DOof9cF/wDQq88r0P4Q/wDIZ1D/AK4L/wChVrR/iI4Mx/3Wf9dT1miiivTPiArzD4wfe036P/SvT68w+MH3tN+j/wBKxr/w2ejln+9x+f5HmVFFFeafahRRRQAUUUUAFFFFABRRRQAUUUUAFFFFABXvXgH/AJEmw/3W/wDQjXgte9eAf+RJsP8Adb/0I104b4meHnX8CPr+jOiooorvPlQr578Xf8jhqv8A18v/ADr6Er578Xf8jhqv/Xy/865cT8KPdyX+LL0MeiiiuE+pCiiigAooooAKKKKACiiigAooooAKKKKANTw1/wAjNYf9dhX0RXzv4a/5Gaw/67Cvoiu7DbM+Xzv+JD0Ciiiuo8E5/wAc/wDIl6h/1yNeB17545/5EvUP+uRrwOuHE/Ej6rJf4MvUKKKK5T3AooooAKKKKACiiigAooooAKKKKACiiigD0v4Qf63UPoteo15d8IP9bqH0WvUa9Kh/DR8Xmn+9S+X5BRRRWx5oUUUUAFFFFABRRRQAUUUUAFFFFABRRRQAUUUUAFFFFABRRRQAUUUUAFFFFABRRRQBHc/8esv+4f5V823v/H/cf9dW/nX0lc/8esv+4f5V823v/H/cf9dW/nXHieh9Fkn2/kQ0UUVxn0gUUUUAFFFFABRRRQAUUUUAFFFFABRRRQB1Xw4/5HW2/wB1q9yrw34cf8jrbf7rV7lXfhvgPks5/wB4XoFFFFdJ4wUUUUAFFFFABRRRQAUUUUAFFFFABRRRQAUUUUAFFFFABRRRQAUUUUAFFFFABRRRQAUUUUAFFFFABRRRQAUUUUAFFFFABRRRQAUUUUAFFFFABRRRQAUUUUAFFFFABRRRQAUUUUAFFFFABRRRQAUUUUAFFFFABRRRQAUUUUAFFFFABRRRQAVkP/yPVp/2D5v/AEZHWvWQ/wDyPVp/2D5v/RkdAG9RRRSGFFFFABRRRQAUUUUAFFFFABRRRQAUVj33irSdOvprS5luDNbqryiGzmlEYYZBLIhA6Hv2rRs7221Gziu7GZJ7eVdySIchhQBPRRRQAUUVj3XinS7TUJ7KRruSe3KiVYLGeYISoYAlEI6EHrQBsUVm6l4g03SHhS+mdZJwWjiiheV2A6nagJwPXGKZP4m0iDTba/a78y2usmFoY3lL4BJwqgngA544xzigDVqjrn/Ivaj/ANesv/oBp51SyElkgnVmvgTbbAW8wBdxPHQY7njkeopmuf8AIvaj/wBesv8A6AaAGaZ/yCbP/rgn/oIq1VXTP+QTZ/8AXBP/AEEVapiCiiigAooooAKKKKACiiigArI8Vf8AIq6h/wBcv61r1keKv+RV1D/rl/Wpl8LNaP8AFj6o+eqKKK8k/QQooooAKKKKACiiigAooooAKKKKACiiigAr0P4Q/wDIZ1D/AK4L/wChV55Xofwh/wCQzqH/AFwX/wBCrWj/ABEcGY/7rP8Arqes0UUV6Z8QFeYfGD72m/R/6V6fXmHxg+9pv0f+lY1/4bPRyz/e4/P8jzKiiivNPtQooooAKKKKACiiigAooooAKKKKACiiigAr3rwD/wAiTYf7rf8AoRrwWvevAP8AyJNh/ut/6Ea6cN8TPDzr+BH1/RnRUUUV3nyoV89+Lv8AkcNV/wCvl/519CV89+Lv+Rw1X/r5f+dcuJ+FHu5L/Fl6GPRRRXCfUhRRRQAUUUUAFFFFABRRRQAUUUUAFFFFAGp4a/5Gaw/67Cvoivnfw1/yM1h/12FfRFd2G2Z8vnf8SHoFFFFdR4Jz/jn/AJEvUP8Arka8Dr3zxz/yJeof9cjXgdcOJ+JH1WS/wZeoUUUVynuBRRRQAUUUUAFFFFABRRRQAUUUUAFFFFAHpfwg/wBbqH0WvUa8u+EH+t1D6LXqNelQ/ho+LzT/AHqXy/IKKKK2PNCiiigAooooAKKKKACiiigAooooAKKKKACiiigAooooAKKKKACiiigAooooAKKKKAI7n/j1l/3D/Kvm29/4/wC4/wCurfzr6Suf+PWX/cP8q+bb3/j/ALj/AK6t/OuPE9D6LJPt/IhooorjPpAooooAKKKKACiiigAooooAKKKKACiiigDqvhx/yOtt/utXuVeG/Dj/AJHW2/3Wr3Ku/DfAfJZz/vC9AooorpPGCiiigAooooAKKKKACiiigAooooAKKKKACiiigAooooAKKKKACiiigAooooAKKKKACiiigAooooAKKKKACiiigAooooAKKKKACiiigAooooAKKKKACiiigAooooAKKKKACiiigAooooAKKKKACiiigAooooAKKKKACiiigAooooAKKKKACsh/+R6tP+wfN/6MjrXrIf8A5Hq0/wCwfN/6MjoA3qKKKQwooooAKKKKACiiigAooooAKKKKAONR9YXx54hGi29jKTDab2u53TYdr4wFRt3fuKT7BBomk6foEs2pXl9I8tyYtLkMDSZYs5LblCIGkAGWGeOvNdVDp9tBqFzexRbbi6CLM+4ncEBC8ZwMZPSq+p6Dp+rzQzXsUhmgyI5YZ3hdQeo3IQcHHTOKAOQ0/wDtzU/D15BZyXrfYdYeN7ea8CXMkAUHyvPUnDBmHO7kDG4VZ23WoaHJb6C+qLNaXw+32N7eslzt2Z8tZiWwDlWBDYIz8wzW/wD8Ipoy2ZtorV4IvO8/9xcSRMJNoXduVgeQOeeep5oHhTRxZC1S3lRPOM5dLqVZWkIwWMgbeTjjk0AR+Frm2ltLqG3OopLbzlJ7fUpWklhbaCF3EtlSMEEEjnrVK7sNd0a61nVtMutOkiuHFy0FzA4YhIlXb5gfA4TrtPWt3TdJstIt3h0+ExrI5kkZnZ2dj/EzMSWPA5Jqjd+EdGvriWW6tpZPOffLF9qlEUh9TGG2H8RQBmaBfJqfjKbUJIzG13otnPboxyVjZpCw/Mrn8KydLgvEnl1XTbM30FnqmoxrAsiJ8rkfMpYhcB1IPPRjjPSux1Hw/pmqmE3lu2+BSsTwyvC6KeqhkIOD6ZxUo0awXRTpEduI7ExGHyY2KfIeoyDnnuc85oA800g6tBbwXMN8bVrTQXe1YRq4kii2AfeH3XbLHGDt8vkYr0O/uDd+D7m4K7DNYO5X0zGTipNR8P6ZqscKX1tvWFSiBHaP5DjKHaRlTgZU8HA4p2tgDw7qAAwBayYH/ADQAzTLeU6TaYuCP3CfwD+6Ks/Zpf8An5P/AHwKTS/+QRZ/9cE/9BFWqAK32aX/AJ+T/wB8Cj7NL/z8n/vgVZooArfZpf8An5P/AHwKPs0v/Pyf++BVmigCt9ml/wCfk/8AfAo+zS/8/J/74FWaKAK32aX/AJ+T/wB8Cj7NL/z8n/vgVZooArfZpf8An5P/AHwKyfFVvKPCuoE3BI8o8bB61v1keK/+RU1D/rif50pfCzWj/Fj6o+ctp/vfpRtP979KdRXkn6AN2n+9+lG0/wB79KdRQA3af736UbT/AHv0p1FADdp/vfpRtP8Ae/SnUUAN2n+9+lG0/wB79KdRQA3af736UbT/AHv0p1FADdp/vfpRtP8Ae/SnUUAN2n+9+leh/CKJ31i/2ylP3C/wg/xV59Xovwd/5DOof9cF/wDQq1o/GjgzH/dZ/wBdT1T7NL/z8n/vgUfZpf8An5P/AHwKs0V6R8SVvs0v/Pyf++BXmPxfidG03dKX4f8AhA9K9Xry34x/e036P/Ssa38Nno5Z/vUfn+R5btP979KNp/vfpTqK84+0G7T/AHv0o2n+9+lOooAbtP8Ae/Sjaf736U6igBu0/wB79KNp/vfpTqKAG7T/AHv0o2n+9+lOooAbtP8Ae/Sjaf736U6igBu0/wB79KNp/vfpTqKAG7T/AHv0r3nwFBI3gmwKzlRtbjaP7xrwivfvh/8A8iPp/wDut/6Ea6cP8TPEzn+BH1/Rm39ml/5+T/3wKPs0v/Pyf++BVmiu4+VK32aX/n5P/fAr588Woy+MNUBfJFy/OPevoyvnbxh/yOWq/wDX0/8AOuXE/Cj3cl/iy9DE2n+9+lG0/wB79KdRXEfUDdp/vfpRtP8Ae/SnUUAN2n+9+lG0/wB79KdRQA3af736UbT/AHv0p1FADdp/vfpRtP8Ae/SnUUAN2n+9+lG0/wB79KdRQA3af736UbT/AHv0p1FAGl4bRj4lsAHx++HOK+h/s0v/AD8n/vgV89eGf+RnsP8ArsK+jq7cNsz5jOv4kPQrfZpf+fk/98Cj7NL/AM/J/wC+BVmiuo8E5bxzbyL4M1AmcsPKPG0V4JtP979K+g/Hf/Ilaj/1yNfP1cOI+JH1OTfwZeo3af736UbT/e/SnUVzHuDdp/vfpRtP979KdRQA3af736UbT/e/SnUUAN2n+9+lG0/3v0p1FADdp/vfpRtP979KdRQA3af736UbT/e/SnUUAN2n+9+lG0/3v0p1FAHpPwhid5dQ2ylOF/hBr1D7NL/z8n/vgV5p8Hf9bqP0WvVK9Gh8CPjMz/3qXy/IrfZpf+fk/wDfAo+zS/8APyf++BVmitjzSt9ml/5+T/3wKPs0v/Pyf++BVmigCt9ml/5+T/3wKPs0v/Pyf++BVmigCt9ml/5+T/3wKPs0v/Pyf++BVmigCt9ml/5+T/3wKPs0v/Pyf++BVmigCt9ml/5+T/3wKPs0v/Pyf++BVmigCt9ml/5+T/3wKPs0v/Pyf++BVmigCt9ml/5+T/3wKPs0v/Pyf++BVmigCt9ml/5+T/3wKPs0v/Pyf++BVmigCt9ml/5+T/3wKPs0v/Pyf++BVmigCt9ml/5+T/3wKPs0v/Pyf++BVmigCt9ml/5+T/3wKPs0v/Pyf++BVmigCt9ml/5+T/3wKPs0v/Pyf++BVmigClc20v2WX/SD9w/wD0r5vvVP2+4+b/lq3b3r6Zuf+PWX/cP8q+aL3/kIXH/XVv51yYnofRZJ9v5Fbaf736UbT/e/SnUVxn0Y3af736UbT/e/SnUUAN2n+9+lG0/3v0p1FADdp/vfpRtP979KdRQA3af736UbT/e/SnUUAN2n+9+lG0/3v0p1FADdp/vfpRtP979KdRQB1Hw4jZvGlsFk2na3OM17j9ml/wCfk/8AfArxL4a/8jvbf7rV7tXfh/gPk84/3hehW+zS/wDPyf8AvgUfZpf+fk/98CrNFdB4xW+zS/8APyf++BR9ml/5+T/3wKs0UAVvs0v/AD8n/vgUfZpf+fk/98CrNFAFb7NL/wA/J/74FH2aX/n5P/fAqzRQBW+zS/8APyf++BR9ml/5+T/3wKs0UAVvs0v/AD8n/vgUfZpf+fk/98CrNFAFb7NL/wA/J/74FH2aX/n5P/fAqzRQBW+zS/8APyf++BR9ml/5+T/3wKs0UAVvs0v/AD8n/vgUfZpf+fk/98CrNFAFb7NL/wA/J/74FH2aX/n5P/fAqzRQBW+zS/8APyf++BR9ml/5+T/3wKs0UAVvs0v/AD8n/vgUfZpf+fk/98CrNFAFb7NL/wA/J/74FH2aX/n5P/fAqzRQBW+zS/8APyf++BR9ml/5+T/3wKs0UAVvs0v/AD8n/vgUfZpf+fk/98CrNFAFb7NL/wA/J/74FH2aX/n5P/fAqzRQBW+zS/8APyf++BR9ml/5+T/3wKs0UAVvs0v/AD8n/vgUfZpf+fk/98CrNFAFb7NL/wA/J/74FH2aX/n5P/fAqzRQBW+zS/8APyf++BR9ml/5+T/3wKs0UAVvs0v/AD8n/vgUfZpf+fk/98CrNFAFb7NL/wA/J/74FH2aX/n5P/fAqzRQBW+zS/8APyf++BR9ml/5+T/3wKs0UAVvs0v/AD8n/vgUfZpf+fk/98CrNFAFb7NL/wA/J/74FH2aX/n5P/fAqzRQBW+zS/8APyf++BR9ml/5+T/3wKs0UAVvs0v/AD8n/vgUfZpf+fk/98CrNFAFb7NL/wA/J/74FH2aX/n5P/fAqzRQBW+zS/8APyf++BR9ml/5+T/3wKs0UAVvs0v/AD8n/vgUfZpf+fk/98CrNFAFb7NL/wA/J/74FH2aX/n5P/fAqzRQBW+zS/8APyf++BR9ml/5+T/3wKs0UAVvs0v/AD8n/vgUfZpf+fk/98CrNFAFb7NL/wA/J/74FH2aX/n5P/fAqzRQBW+zS/8APyf++BWSY2j8dWm+TfnT5uwGP3kdb9Ys/wDyPVn/ANg+b/0ZHQBtUUUUAFFFFABRRRQAUUUUAFFFFABRRRQAUUUUAFFFFABRRRQAUUUUAFUdc/5F7Uf+vWX/ANANXqo65/yL2o/9esv/AKAaAJNL/wCQRZ/9cE/9BFWqq6X/AMgiz/64J/6CKtUAFFFFABRRRQAUUUUAFFFFABWR4r/5FTUP+uJ/nWvWR4r/AORU1D/rif51MvhZrR/ix9UfOlFFFeUfoAUUUUAFFFFABRRRQAUUUUAFFFFABRRRQAV6L8Hf+QzqH/XBf/Qq86r0X4O/8hnUP+uC/wDoVa0fjRwZj/us/wCup67RRRXpHxIV5b8Y/vab9H/pXqVeW/GP72m/R/6VjW/hs9HLP96j8/yPL6KKK84+0CiiigAooooAKKKKACiiigAooooAKKKKACvfvh//AMiPp/8Aut/6Ea8Br374f/8AIj6f/ut/6Ea6cP8AEzxM5/gR9f0Z0lFFFdx8qFfO3jD/AJHLVf8Ar6f+dfRNfO3jD/kctV/6+n/nXLifhR7uS/xZehjUUUVxH1AUUUUAFFFFABRRRQAUUUUAFFFFABRRRQBqeGf+RnsP+uwr6Or5x8M/8jPYf9dhX0dXbhtmfMZ1/Eh6BRRRXUeCc947/wCRK1H/AK5Gvn6voHx3/wAiVqP/AFyNfP1cOI+JH1OTfwZeoUUUVzHuBRRRQAUUUUAFFFFABRRRQAUUUUAFFFFAHp3wd/1uo/Ra9Uryv4O/63UfoteqV6NH4EfGZn/vUvl+QUUUVseaFFFFABRRRQAUUUUAFFFFABRRRQAUUUUAFFFFABRRRQAUUUUAFFFFABRRRQAUUUUAR3P/AB6y/wC4f5V80Xv/ACELj/rq386+l7n/AI9Zf9w/yr5ovf8AkIXH/XVv51yYnofRZJ9v5EFFFFcZ9GFFFFABRRRQAUUUUAFFFFABRRRQAUUUUAdZ8Nf+R3tv91q92rwn4a/8jvbf7rV7tXfh/gPk84/3hegUUUV0HjBRRRQAUUUUAFFFFABRRRQAUUUUAFFFFABRRRQAUUUUAFFFFABRRRQAUUUUAFFFFABRRRQAUUUUAFFFFABRRRQAUUUUAFFFFABRRRQAUUUUAFFFFABRRRQAUUUUAY934v8ADWn6l/Z1/wCIdKtr3IX7NNexpJk9BtLZ5rQv9QstKspLzU7uCztY/vz3EqxonbliQBXmPj/Tl0jQNZ07QvhnbXVncxO0uoqIPLVnBLSmNczMVJzgLnjgjis/Vv7Jsbf4Z32r3Y1bwfY2bpLqE0JeEz+SiwTSqQdo4cAt91jzg80Aet6Zq2na1Zi70fULXULYsVE1rMsqEjqNykjNM07XNJ1eS4j0nU7O+e1fZOttcJIYW54YKTtPB4PpXkttqWnah8VdYg+HeFg1PwxO8strGY4J7qOQLHIhwAzDzNpcZHOM5BrM0vxPZ6XceHpfCFvHNqVv4aGky2qpt/06SSIQwS+jqyTuwOCFVz35APdLe9tbx51tLmGdreQxTCKQMYnABKtjo2CDg88ip68w+GfiUW1homlSaY0dprK3E9nqjXAeS/mVi8skqbR5bPlnUbm4GOMYr0+gAooooAKKKKACiiigAooooAKKKKACiiigAooooAKxZ/8AkerP/sHzf+jI62qxZ/8AkerP/sHzf+jI6ANqiiigAooooAKKKKACiiigAooooAKKKKACiiigAooooAKKKKACiiigAqjrn/Ivaj/16y/+gGr1Udc/5F7Uf+vWX/0A0ASaX/yCLP8A64J/6CKtVV0v/kEWf/XBP/QRVqgAooooAKKKKACiiigAooooAKyPFf8AyKmof9cT/OtesjxX/wAipqH/AFxP86mXws1o/wAWPqj50oooryj9ACiiigAooooAKKKKACiiigAooooAKKKKACvRfg7/AMhnUP8Argv/AKFXnVei/B3/AJDOof8AXBf/AEKtaPxo4Mx/3Wf9dT12iiivSPiQry34x/e036P/AEr1KvLfjH97Tfo/9Kxrfw2ejln+9R+f5Hl9FFFecfaBRRRQAUUUUAFFFFABRRRQAUUUUAFFFFABXv3w/wD+RH0//db/ANCNeA1798P/APkR9P8A91v/AEI104f4meJnP8CPr+jOkoooruPlQr528Yf8jlqv/X0/86+ia+dvGH/I5ar/ANfT/wA65cT8KPdyX+LL0MaiiiuI+oCiiigAooooAKKKKACiiigAooooAKKKKANTwz/yM9h/12FfR1fOPhn/AJGew/67Cvo6u3DbM+Yzr+JD0Ciiiuo8E57x3/yJWo/9cjXz9X0D47/5ErUf+uRr5+rhxHxI+pyb+DL1CiiiuY9wKKKKACiiigAooooAKKKKACiiigAooooA9O+Dv+t1H6LXqleV/B3/AFuo/Ra9Ur0aPwI+MzP/AHqXy/IKKKK2PNCiiigAooooAKKKKACiiigAooooAKKKKACiiigAooooAKKKKACiiigAooooAKKKKAI7n/j1l/3D/Kvmi9/5CFx/11b+dfS9z/x6y/7h/lXzRe/8hC4/66t/OuTE9D6LJPt/IgooorjPowooooAKKKKACiiigAooooAKKKKACiiigDrPhr/yO9t/utXu1eE/DX/kd7b/AHWr3au/D/AfJ5x/vC9AoooroPGCiiigAooooAKKKKACiiigAooooAKKKKACiiigAooooAKKKKACiiigAooooAKKKKACiiigAooooAKKKKACiiigAooooAKKKKACiiigAoopGYIhZjhVGSfSgBaKxP8AhMvD/wD0E4fzo/4TLw//ANBOH86nmj3NvYVf5X9xt0Vif8Jl4f8A+gnD+dH/AAmXh/8A6CcP50c0e4ewq/yv7jborE/4TLw//wBBOH86P+Ey8P8A/QTh/Ojmj3D2FX+V/cYF1D8Ubq0nsd3hSIS7oxfo1xvRDxuEJUjcB2L4zV+00LWPCPgnSdD8GJYXj2Mawu2qTSRK6gHLAorHJbnGMYPWtD/hMvD/AP0E4fzo/wCEy8P/APQTh/Ojmj3D2FX+V/cZ/hjwxqdtr154l8V3ltda1dwJapHZoywWkCkt5abvmbLHcWOMnGAAKsnw/dXvj9dc1OSFrPT7bydLt0JJSR/9dM+QAGwAi4Jwu7+9ip/+Ey8P/wDQTh/Oj/hMvD//AEE4fzo5o9w9hV/lf3HL+F/Aes6TqWgQalcWLaV4ZS4TT3gdzNceYNiGRSoCbYyRwzZPPHSvQ6xP+Ey8P/8AQTh/Oj/hMvD/AP0E4fzo5o9w9hV/lf3G3RWJ/wAJl4f/AOgnD+dH/CZeH/8AoJw/nRzR7h7Cr/K/uNuisT/hMvD/AP0E4fzqxY+ItK1K48ixvY5pcZ2qaOZdxOjUSu4v7jToooqjIKKKKACiiigAooooAKKKKACsWf8A5Hqz/wCwfN/6MjrarFn/AOR6s/8AsHzf+jI6ANqiiigAooooAKKKKACiiigAooooAKKKKACiiigAooooAKKKKACiiigAqjrn/Ivaj/16y/8AoBq9VHXP+Re1H/r1l/8AQDQBJpf/ACCLP/rgn/oIq1VXS/8AkEWf/XBP/QRVqgAooooAKKKKACiiigAooooAKyPFf/Iqah/1xP8AOtesjxX/AMipqH/XE/zqZfCzWj/Fj6o+dKKKK8o/QAooooAKKKKACiiigAooooAKKKKACiiigAr0X4O/8hnUP+uC/wDoVedV6L8Hf+QzqH/XBf8A0KtaPxo4Mx/3Wf8AXU9dooor0j4kK8t+Mf3tN+j/ANK9Sry34x/e036P/Ssa38Nno5Z/vUfn+R5fRRRXnH2gUUUUAFFFFABRRRQAUUUUAFFFFABRRRQAV798P/8AkR9P/wB1v/QjXgNe/fD/AP5EfT/91v8A0I104f4meJnP8CPr+jOkoooruPlQr528Yf8AI5ar/wBfT/zr6Jr528Yf8jlqv/X0/wDOuXE/Cj3cl/iy9DGoooriPqAooooAKKKKACiiigAooooAKKKKACiiigDU8M/8jPYf9dhX0dXzj4Z/5Gew/wCuwr6Ortw2zPmM6/iQ9AooorqPBOe8d/8AIlaj/wBcjXz9X0D47/5ErUf+uRr5+rhxHxI+pyb+DL1CiiiuY9wKKKKACiiigAooooAKKKKACiiigAooooA9O+Dv+t1H6LXqleV/B3/W6j9Fr1SvRo/Aj4zM/wDepfL8gooorY80KKKKACiiigAooooAKKKKACiiigAooooAKKKKACiiigAooooAKKKKACiiigAooooAjuf+PWX/AHD/ACr5ovf+Qhcf9dW/nX0vc/8AHrL/ALh/lXzRe/8AIQuP+urfzrkxPQ+iyT7fyIKKKK4z6MKKKKACiiigAooooAKKKKACiiigAooooA6z4a/8jvbf7rV7tXhPw1/5He2/3Wr3au/D/AfJ5x/vC9AoooroPGCiiigAooooAKKKKACiiigAooooAKKKKACiiigAooooAKKKKACiiigAooooAKKKKACiiigAooooAKKKKACiiigAooooAKKKKACiiigAqC+/5B9x/wBc2/lU9QX3/IPuP+ubfypPYqPxI+ZKKKK8k/QwooooAKKKKACiiigAooooAKKKKACiiigArtPhZ/yOC/8AXJv5Vxddp8LP+RwX/rk38q0p/Gjkxv8Au0/Q9uooor0z4UKKKKACiiigAooooAKKKKACsWf/AJHqz/7B83/oyOtqsWf/AJHqz/7B83/oyOgDaooooAKKKKACiiigAooooAKKKKACiiigAooooAKKKKACiiigAooooAKo65/yL2o/9esv/oBq9VHXP+Re1H/r1l/9ANAEml/8giz/AOuCf+girVVdL/5BFn/1wT/0EVaoAKKKKACiiigAooooAKKKKACsjxX/AMipqH/XE/zrXrI8V/8AIqah/wBcT/Opl8LNaP8AFj6o+dKKKK8o/QAooooAKKKKACiiigAooooAKKKKACiiigAr0X4O/wDIZ1D/AK4L/wChV51Xovwd/wCQzqH/AFwX/wBCrWj8aODMf91n/XU9dooor0j4kK8t+Mf3tN+j/wBK9Sry34x/e036P/Ssa38Nno5Z/vUfn+R5fRRRXnH2gUUUUAFFFFABRRRQAUUUUAFFFFABRRRQAV798P8A/kR9P/3W/wDQjXgNe/fD/wD5EfT/APdb/wBCNdOH+JniZz/Aj6/ozpKKKK7j5UK+dvGH/I5ar/19P/Ovomvnbxh/yOWq/wDX0/8AOuXE/Cj3cl/iy9DGoooriPqAooooAKKKKACiiigAooooAKKKKACiiigDU8M/8jPYf9dhX0dXzj4Z/wCRnsP+uwr6Ortw2zPmM6/iQ9AooorqPBOe8d/8iVqP/XI18/V9A+O/+RK1H/rka+fq4cR8SPqcm/gy9QooormPcCiiigAooooAKKKKACiiigAooooAKKKKAPTvg7/rdR+i16pXlfwd/wBbqP0WvVK9Gj8CPjMz/wB6l8vyCiiitjzQooooAKKKKACiiigAooooAKKKKACiiigAooooAKKKKACiiigAooooAKKKKACiiigCO5/49Zf9w/yr5ovf+Qhcf9dW/nX0vc/8esv+4f5V80Xv/IQuP+urfzrkxPQ+iyT7fyIKKKK4z6MKKKKACiiigAooooAKKKKACiiigAooooA6z4a/8jvbf7rV7tXhPw1/5He2/wB1q92rvw/wHyecf7wvQKKKK6DxgooooAKKKKACiiigAooooAKKKKACiiigAooooAKKKKACiiigAooooAKKKKACiiigAooooAKKKKACiiigAooooAKKKKACiiigAooooAKgvv8AkH3H/XNv5VPUF9/yD7j/AK5t/Kk9io/Ej5koooryT9DCiiigAooooAKKKKACiiigAooooAKKKKACu0+Fn/I4L/1yb+VcXXafCz/kcF/65N/KtKfxo5Mb/u0/Q9uooor0z4UKKKKACiiigAooooAKKKKACsWf/kerP/sHzf8AoyOtqsWf/kerP/sHzf8AoyOgDaooooAKKKKACiiigAooooAKKKKACiiigAooooAKKKKACiiigAooooAKo65/yL2o/wDXrL/6AavVR1z/AJF7Uf8Ar1l/9ANAEml/8giz/wCuCf8AoIq1VXS/+QRZ/wDXBP8A0EVaoAKKKKACiiigAooooAKKKKACsjxX/wAipqH/AFxP8616yPFf/Iqah/1xP86mXws1o/xY+qPnSiiivKP0AKKKKACiiigAooooAKKKKACiiigAooooAK9F+Dv/ACGdQ/64L/6FXnVei/B3/kM6h/1wX/0KtaPxo4Mx/wB1n/XU9dooor0j4kK8t+Mf3tN+j/0r1KvLfjH97Tfo/wDSsa38Nno5Z/vUfn+R5fRRRXnH2gUUUUAFFFFABRRRQAUUUUAFFFFABRRRQAV798P/APkR9P8A91v/AEI14DXv3w//AORH0/8A3W/9CNdOH+JniZz/AAI+v6M6Siiiu4+VCvnbxh/yOWq/9fT/AM6+ia+dvGH/ACOWq/8AX0/865cT8KPdyX+LL0MaiiiuI+oCiiigAooooAKKKKACiiigAooooAKKKKANTwz/AMjPYf8AXYV9HV84+Gf+RnsP+uwr6Ortw2zPmM6/iQ9AooorqPBOe8d/8iVqP/XI18/V9A+O/wDkStR/65Gvn6uHEfEj6nJv4MvUKKKK5j3AooooAKKKKACiiigAooooAKKKKACiiigD074O/wCt1H6LXqleV/B3/W6j9Fr1SvRo/Aj4zM/96l8vyCiiitjzQooooAKKKKACiiigAooooAKKKKACiiigAooooAKKKKACiiigAooooAKKKKACiiigCO5/49Zf9w/yr5ovf+Qhcf8AXVv519L3P/HrL/uH+VfNF7/yELj/AK6t/OuTE9D6LJPt/IgooorjPowooooAKKKKACiiigAooooAKKKKACiiigDrPhr/AMjvbf7rV7tXhPw1/wCR3tv91q92rvw/wHyecf7wvQKKKK6DxgooooAKKKKACiiigAooooAKKKKACiiigAooooAKKKKACiiigAooooAKKKKACiiigAooooAKKKKACiiigAooooAKKKKACiiigAooooAKgvv+Qfcf9c2/lU9QX3/IPuP+ubfypPYqPxI+ZKKKK8k/QwooooAKKKKACiiigAooooAKKKKACiiigArtPhZ/yOC/9cm/lXF12nws/wCRwX/rk38q0p/Gjkxv+7T9D26iiivTPhQooooAKKKKACiiigAooooAKxZ/+R6s/wDsHzf+jI62qxZ/+R6s/wDsHzf+jI6ANqiiigAooooAKKKKACiiigAooooAKKKKACiiigAooooAKKKKACiiigAqjrn/ACL2o/8AXrL/AOgGr1Udc/5F7Uf+vWX/ANANAEml/wDIIs/+uCf+girVVdL/AOQRZ/8AXBP/AEEVaoAKKKKACiiigAooooAKKKKACsjxX/yKmof9cT/OtesjxX/yKmof9cT/ADqZfCzWj/Fj6o+dKKKK8o/QAooooAKKKKACiiigAooooAKKKKACiiigAr0X4O/8hnUP+uC/+hV51Xovwd/5DOof9cF/9CrWj8aODMf91n/XU9dooor0j4kK8t+Mf3tN+j/0r1KvLfjH97Tfo/8ASsa38Nno5Z/vUfn+R5fRRRXnH2gUUUUAFFFFABRRRQAUUUUAFFFFABRRRQAV798P/wDkR9P/AN1v/QjXgNe/fD//AJEfT/8Adb/0I104f4meJnP8CPr+jOkoooruPlQr528Yf8jlqv8A19P/ADr6Jr528Yf8jlqv/X0/865cT8KPdyX+LL0MaiiiuI+oCiiigAooooAKKKKACiiigAooooAKKKKANTwz/wAjPYf9dhX0dXzj4Z/5Gew/67Cvo6u3DbM+Yzr+JD0Ciiiuo8E57x3/AMiVqP8A1yNfP1fQPjv/AJErUf8Arka+fq4cR8SPqcm/gy9QooormPcCiiigAooooAKKKKACiiigAooooAKKKKAPTvg7/rdR+i16pXlfwd/1uo/Ra9Ur0aPwI+MzP/epfL8gooorY80KKKKACiiigAooooAKKKKACiiigAooooAKKKKACiiigAooooAKKKKACiiigAooooAjuf8Aj1l/3D/Kvmi9/wCQhcf9dW/nX0vc/wDHrL/uH+VfNF7/AMhC4/66t/OuTE9D6LJPt/IgooorjPowooooAKKKKACiiigAooooAKKKKACiiigDrPhr/wAjvbf7rV7tXhPw1/5He2/3Wr3au/D/AAHyecf7wvQKKKK6DxgooooAKKKKACiiigAooooAKKKKACiiigAooooAKKKKACiiigAooooAKKKKACiiigAooooAKKKKACiiigAooooAKKKKACiiigAooooAKgvv+Qfcf9c2/lU9QX3/ACD7j/rm38qT2Kj8SPmSiiivJP0MKKKKACiiigAooooAKKKKACiiigAooooAK7T4Wf8AI4L/ANcm/lXF12nws/5HBf8Ark38q0p/Gjkxv+7T9D26iiivTPhQooooAKKKKACiiigAooooAKxZ/wDkerP/ALB83/oyOtqsWf8A5Hqz/wCwfN/6MjoA2qKKKACiiigAooooAKKKKACiiigAooooAKKKKACiiigAooooAKKKKACqOuf8i9qP/XrL/wCgGr1Udc/5F7Uf+vWX/wBANAEml/8AIIs/+uCf+girVVdL/wCQRZ/9cE/9BFWqACiiigAooooAKKKKACiiigArI8V/8ipqH/XE/wA616yPFf8AyKmof9cT/Opl8LNaP8WPqj50oooryj9ACiiigAooooAKKKKACiiigAooooAKKKKACvRfg7/yGdQ/64L/AOhV51Xovwd/5DOof9cF/wDQq1o/GjgzH/dZ/wBdT12iiivSPiQry34x/e036P8A0r1KvLfjH97Tfo/9Kxrfw2ejln+9R+f5Hl9FFFecfaBRRRQAUUUUAFFFFABRRRQAUUUUAFFFFABXv3w//wCRH0//AHW/9CNeA1798P8A/kR9P/3W/wDQjXTh/iZ4mc/wI+v6M6Siiiu4+VCvnbxh/wAjlqv/AF9P/Ovomvnbxh/yOWq/9fT/AM65cT8KPdyX+LL0MaiiiuI+oCiiigAooooAKKKKACiiigAooooAKKKKANTwz/yM9h/12FfR1fOPhn/kZ7D/AK7Cvo6u3DbM+Yzr+JD0Ciiiuo8E57x3/wAiVqP/AFyNfP1fQPjv/kStR/65Gvn6uHEfEj6nJv4MvUKKKK5j3AooooAKKKKACiiigAooooAKKKKACiiigD074O/63UfoteqV5X8Hf9bqP0WvVK9Gj8CPjMz/AN6l8vyCiiitjzQooooAKKKKACiiigAooooAKKKKACiiigAooooAKKKKACiiigAooooAKKKKACiiigCO5/49Zf8AcP8AKvmi9/5CFx/11b+dfS9z/wAesv8AuH+VfNF7/wAhC4/66t/OuTE9D6LJPt/IgooorjPowooooAKKKKACiiigAooooAKKKKACiiigDrPhr/yO9t/utXu1eE/DX/kd7b/davdq78P8B8nnH+8L0Ciiiug8YKKKKACiiigAooooAKKKKACiiigAooooAKKKKACiiigAooooAKKKKACiiigAooooAKKKKACiiigAooooAKKKKACiiigAooooAKKKKACoL7/kH3H/AFzb+VT1Bff8g+4/65t/Kk9io/Ej5koooryT9DCiiigAooooAKKKKACiiigAooooAKKKKACu0+Fn/I4L/wBcm/lXF12nws/5HBf+uTfyrSn8aOTG/wC7T9D26iiivTPhQooooAKKKKACiiigAooooAKxZ/8AkerP/sHzf+jI62qxZ/8AkerP/sHzf+jI6ANqiiigAooooAKKKKACiiigAooooAKKKKACiiigAooooAKKKKACiiigAqjrn/Ivaj/16y/+gGr1Udc/5F7Uf+vWX/0A0ASaX/yCLP8A64J/6CKtVV0v/kEWf/XBP/QRVqgAooooAKKKKACiiigAooooAKyPFf8AyKmof9cT/OtesjxX/wAipqH/AFxP86mXws1o/wAWPqj50oooryj9ACiiigAooooAKKKKACiiigAooooAKKKKACvRfg7/AMhnUP8Argv/AKFXnVei/B3/AJDOof8AXBf/AEKtaPxo4Mx/3Wf9dT12iiivSPiQry34x/e036P/AEr1KvLfjH97Tfo/9Kxrfw2ejln+9R+f5Hl9FFFecfaBRRRQAUUUUAFFFFABRRRQAUUUUAFFFFABXv3w/wD+RH0//db/ANCNeA1798P/APkR9P8A91v/AEI104f4meJnP8CPr+jOkoooruPlQr528Yf8jlqv/X0/86+ia+dvGH/I5ar/ANfT/wA65cT8KPdyX+LL0MaiiiuI+oCiiigAooooAKKKKACiiigAooooAKKKKANTwz/yM9h/12FfR1fOPhn/AJGew/67Cvo6u3DbM+Yzr+JD0Ciiiuo8E57x3/yJWo/9cjXz9X0D47/5ErUf+uRr5+rhxHxI+pyb+DL1CiiiuY9wKKKKACiiigAooooAKKKKACiiigAooooA9O+Dv+t1H6LXqleV/B3/AFuo/Ra9Ur0aPwI+MzP/AHqXy/IKKKK2PNCiiigAooooAKKKKACiiigAooooAKKKKACiiigAooooAKKKKACiiigAooooAKKKKAI7n/j1l/3D/Kvmi9/5CFx/11b+dfS9z/x6y/7h/lXzRe/8hC4/66t/OuTE9D6LJPt/IgooorjPowooooAKKKKACiiigAooooAKKKKACiiigDrPhr/yO9t/utXu1eE/DX/kd7b/AHWr3au/D/AfJ5x/vC9AoooroPGCiiigAooooAKKKKACiiigAooooAKKKKACiiigAooooAKKKKACiiigAooooAKKKKACiiigAooooAKKKKACiiigAooooAKKKKACiiigAqC+/wCQfcf9c2/lU9QX3/IPuP8Arm38qT2Kj8SPmSiiivJP0MKKKKACiiigAooooAKKKKACiiigAooooAK7T4Wf8jgv/XJv5Vxddp8LP+RwX/rk38q0p/Gjkxv+7T9D26iiivTPhQooooAKKKKACiiigAooooAKxZ/+R6s/+wfN/wCjI62qxZ/+R6s/+wfN/wCjI6ANqiiigAooooAKKKKACiiigAooooAKKKKACiiigAooooAKKKKACiiigAqjrn/Ivaj/ANesv/oBq9VHXP8AkXtR/wCvWX/0A0ASaX/yCLP/AK4J/wCgirVVdL/5BFn/ANcE/wDQRVqgAooooAKKKKACiiigAooooAKyPFf/ACKmof8AXE/zrXrI8V/8ipqH/XE/zqZfCzWj/Fj6o+dKKKK8o/QAooooAKKKKACiiigAooooAKKKKACiiigAr0X4O/8AIZ1D/rgv/oVedV6L8Hf+QzqH/XBf/Qq1o/GjgzH/AHWf9dT12iiivSPiQry34x/e036P/SvUq8t+Mf3tN+j/ANKxrfw2ejln+9R+f5Hl9FFFecfaBRRRQAUUUUAFFFFABRRRQAUUUUAFFFFABXv3w/8A+RH0/wD3W/8AQjXgNe/fD/8A5EfT/wDdb/0I104f4meJnP8AAj6/ozpKKKK7j5UK+dvGH/I5ar/19P8Azr6Jr528Yf8AI5ar/wBfT/zrlxPwo93Jf4svQxqKKK4j6gKKKKACiiigAooooAKKKKACiiigAooooA1PDP8AyM9h/wBdhX0dXzj4Z/5Gew/67Cvo6u3DbM+Yzr+JD0Ciiiuo8E57x3/yJWo/9cjXz9X0D47/AORK1H/rka+fq4cR8SPqcm/gy9QooormPcCiiigAooooAKKKKACiiigAooooAKKKKAPTvg7/AK3UfoteqV5X8Hf9bqP0WvVK9Gj8CPjMz/3qXy/IKKKK2PNCiiigAooooAKKKKACiiigAooooAKKKKACiiigAooooAKKKKACiiigAooooAKKKKAI7n/j1l/3D/Kvmi9/5CFx/wBdW/nX0vc/8esv+4f5V80Xv/IQuP8Arq3865MT0Posk+38iCiiiuM+jCiiigAooooAKKKKACiiigAooooAKKKKAOs+Gv8AyO9t/utXu1eE/DX/AJHe2/3Wr3au/D/AfJ5x/vC9AoooroPGCiiigAooooAKKKKACiiigAooooAKKKKACiiigAooooAKKKKACiiigAooooAKKKKACiiigAooooAKKKKACiiigAooooAKKKKACiiigAqC+/5B9x/1zb+VT1Bff8g+4/65t/Kk9io/Ej5koooryT9DCiiigAooooAKKKKACiiigAooooAKKKKACu0+Fn/I4L/1yb+VcXXafCz/AJHBf+uTfyrSn8aOTG/7tP0PbqKKK9M+FCiiigAooooAKKKKACiiigArFn/5Hqz/AOwfN/6MjrarFn/5Hqz/AOwfN/6MjoA2qKKKACiiigAooooAKKKKACiiigAooooAKKKKACiiigAooooAKKKKACqOuf8AIvaj/wBesv8A6AavVR1z/kXtR/69Zf8A0A0ASaX/AMgiz/64J/6CKtVV0v8A5BFn/wBcE/8AQRVqgAooooAKKKKACiiigAooooAKyPFf/Iqah/1xP8616yPFf/Iqah/1xP8AOpl8LNaP8WPqj50oooryj9ACiiigAooooAKKKKACiiigAooooAKKKKACvRfg7/yGdQ/64L/6FXnVei/B3/kM6h/1wX/0KtaPxo4Mx/3Wf9dT12iiivSPiQry34x/e036P/SvUq8t+Mf3tN+j/wBKxrfw2ejln+9R+f5Hl9FFFecfaBRRRQAUUUUAFFFFABRRRQAUUUUAFFFFABXv3w//AORH0/8A3W/9CNeA1798P/8AkR9P/wB1v/QjXTh/iZ4mc/wI+v6M6Siiiu4+VCvnbxh/yOWq/wDX0/8AOvomvnbxh/yOWq/9fT/zrlxPwo93Jf4svQxqKKK4j6gKKKKACiiigAooooAKKKKACiiigAooooA1PDP/ACM9h/12FfR1fOPhn/kZ7D/rsK+jq7cNsz5jOv4kPQKKKK6jwTnvHf8AyJWo/wDXI18/V9A+O/8AkStR/wCuRr5+rhxHxI+pyb+DL1CiiiuY9wKKKKACiiigAooooAKKKKACiiigAooooA9O+Dv+t1H6LXqleV/B3/W6j9Fr1SvRo/Aj4zM/96l8vyCiiitjzQooooAKKKKACiiigAooooAKKKKACiiigAooooAKKKKACiiigAooooAKKKKACiiigCO5/wCPWX/cP8q+aL3/AJCFx/11b+dfS9z/AMesv+4f5V80Xv8AyELj/rq3865MT0Posk+38iCiiiuM+jCiiigAooooAKKKKACiiigAooooAKKKKAOs+Gv/ACO9t/utXu1eE/DX/kd7b/davdq78P8AAfJ5x/vC9AoooroPGCiiigAooooAKKKKACiiigAooooAKKKKACiiigAooooAKKKKACiiigAooooAKKKKACiiigAooooAKKKKACiiigAooooAKKKKACiiigAqC+/5B9x/1zb+VT1Bff8AIPuP+ubfypPYqPxI+ZKKKK8k/QwooooAKKKKACiiigAooooAKKKKACiiigArtPhZ/wAjgv8A1yb+VcXXafCz/kcF/wCuTfyrSn8aOTG/7tP0PbqKKK9M+FCiiigAooooAKKKKACiiigArFn/AOR6s/8AsHzf+jI62qxZ/wDkerP/ALB83/oyOgDaooooAKKKKACiiigAooooAKKKKACiiigAooooAKKKKACiiigAorJ1PxBFp1/FYxWd3f3kkZm8i0VSyRg43MWZQBngc5J6VXfxdZHTrO6tLe7vHvC4jtoYwJVMYPmBgxABXGCM5zgDOaAN6qOuf8i9qP8A16y/+gGo4tes7ibTY7XfOdRiM8RReFiCg72z0HzKPXLD3xJrn/Ivaj/16y/+gGgCTS/+QRZ/9cE/9BFWqq6X/wAgiz/64J/6CKtUAFFFFABRRRQAUUUUAFFFFABWR4r/AORU1D/rif51r1keK/8AkVNQ/wCuJ/nUy+FmtH+LH1R86UUUV5R+gBRRRQAUUUUAFFFFABRRRQAUUUUAFFFFABXovwd/5DOof9cF/wDQq86r0X4O/wDIZ1D/AK4L/wChVrR+NHBmP+6z/rqeu0UUV6R8SFeW/GP72m/R/wClepV5b8Y/vab9H/pWNb+Gz0cs/wB6j8/yPL6KKK84+0CiiigAooooAKKKKACiiigAooooAKKKKACvfvh//wAiPp/+63/oRrwGvfvh/wD8iPp/+63/AKEa6cP8TPEzn+BH1/RnSUUUV3HyoV87eMP+Ry1X/r6f+dfRNfO3jD/kctV/6+n/AJ1y4n4Ue7kv8WXoY1FFFcR9QFFFFABRRRQAUUUUAFFFFABRRRQAUUUUAanhn/kZ7D/rsK+jq+cfDP8AyM9h/wBdhX0dXbhtmfMZ1/Eh6BRRRXUeCc947/5ErUf+uRr5+r6B8d/8iVqP/XI18/Vw4j4kfU5N/Bl6hRRRXMe4FFFFABRRRQAUUUUAFFFFABRRRQAUUUUAenfB3/W6j9Fr1SvK/g7/AK3UfoteqV6NH4EfGZn/AL1L5fkFFFFbHmhRRRQAUUUUAFFFFABRRRQAUUUUAFFFFABRRRQAUUUUAFFFFABRRRQAUUUUAFFFFAEdz/x6y/7h/lXzRe/8hC4/66t/Ovpe5/49Zf8AcP8AKvmi9/5CFx/11b+dcmJ6H0WSfb+RBRRRXGfRhRRRQAUUUUAFFFFABRRRQAUUUUAFFFFAHWfDX/kd7b/davdq8J+Gv/I723+61e7V34f4D5POP94XoFFFFdB4wUUUUAFFFFABRRRQAUUUUAFFFFABRRRQAUUUUAFFFFABRRRQAUUUUAFFFFABRRRQAUUUUAFFFFABRRRQAUUUUAFFFFABRRRQAUUUUAFQX3/IPuP+ubfyqeoL7/kH3H/XNv5UnsVH4kfMlFFFeSfoYUUUUAFFFFABRRRQAUUUUAFFFFABRRRQAV2nws/5HBf+uTfyri67T4Wf8jgv/XJv5VpT+NHJjf8Adp+h7dRRRXpnwoUUUUAFFFFABRRRQAUUUUAFYs//ACPVn/2D5v8A0ZHW1WLP/wAj1Z/9g+b/ANGR0AbVFFFABRRRQAUUUUAFFFFABRRRQAUUUUAFFFFABRRRQAUUUUAc1DLFZ/Ei/wDtciobvToGt2c4BEbyb1HrjcpP1rD0q1upLa48RaVJahIdRv5YmupGSJ4H4Mm4A8bo93TkZ5Gc1299plhqkax6nZW14incq3ESyAH1AINSPZ20ln9kkt4ntimzyWQFNvpt6Y9qAPK7OwubGySe7vbqzK6DJNatHK0RCw7BGDg88EuUORmXBB2ivTPLk1Pw/wCVP+6lurXa/H3GZOePYmprvTrLUBGL+zt7oRNvj86JX2N6jI4PvVigDBg0zxDb28cMes2e2NQi5sT0Ax/z0qT7F4j/AOgzZ/8AgAf/AI5W1RQBi/YvEf8A0GbP/wAAD/8AHKPsXiP/AKDNn/4AH/45W1RQBi/YvEf/AEGbP/wAP/xyj7F4j/6DNn/4AH/45W1RQBi/YvEf/QZs/wDwAP8A8co+xeI/+gzZ/wDgAf8A45W1RQBi/YvEf/QZs/8AwAP/AMco+xeI/wDoM2f/AIAH/wCOVtUUAYv2LxH/ANBmz/8AAA//AByq9/ouvajYTWlxrNp5Uy7W22JBx/33XRUUDTad0eXf8KZ/6jf/AJLf/ZUf8KZ/6jf/AJLf/ZV6jRWfs4djr+vYn+dnl3/Cmf8AqN/+S3/2VH/Cmf8AqN/+S3/2Veo0Uezh2D69if52eXf8KZ/6jf8A5Lf/AGVH/Cmf+o3/AOS3/wBlXqNFHs4dg+vYn+dnl3/Cmf8AqN/+S3/2VH/Cmf8AqN/+S3/2Veo1gt4z0kXNxAi38z20zQymHTp5FV1OCMqhFHs4dg+vYn+dnGf8KZ/6jf8A5Lf/AGVH/Cmf+o3/AOS3/wBlXfabr9pqty0FtFeo6oXJuLKaFcZA+86gZ56da06PZw7B9exP87PLv+FM/wDUb/8AJb/7Kj/hTP8A1G//ACW/+yr1Gij2cOwfXsT/ADs8u/4Uz/1G/wDyW/8AsqP+FM/9Rv8A8lv/ALKvUaKPZw7B9exP87PLv+FM/wDUb/8AJb/7Ktfw98P7/wAM3Es2m61EXmUK3m2m4Yzn+/XdUU1TindIieLrzjyym2jF+xeI/wDoM2f/AIAH/wCOUfYvEf8A0GbP/wAAD/8AHK2qKs5jF+xeI/8AoM2f/gAf/jlYfiHwLqPifyf7S1qEeTnb5Vnt6/8AAzXbUUmk1ZlwnKnLmg7M8u/4Uz/1G/8AyW/+yo/4Uz/1G/8AyW/+yr1Gio9nDsdP17E/zs8u/wCFM/8AUb/8lv8A7Kj/AIUz/wBRv/yW/wDsq9Roo9nDsH17E/zs8u/4Uz/1G/8AyW/+yo/4Uz/1G/8AyW/+yr1Gij2cOwfXsT/Ozy7/AIUz/wBRv/yW/wDsqP8AhTP/AFG//Jb/AOyr0jUb6PTNLu7+cExWsLzOF6kKpJx+VYUfiPVbBIbnxLplvaWE+P8ASLa4Mv2YnoJQVGBzjcMgHrgc0ezh2D69if52cp/wpn/qN/8Akt/9lR/wpn/qN/8Akt/9lXeaJqk2pXGrJMsYWyvzbRFAfmURxtk89cuentWrR7OHYPr2J/nZ5d/wpn/qN/8Akt/9lR/wpn/qN/8Akt/9lXqNFHs4dg+vYn+dnl3/AApn/qN/+S3/ANlR/wAKZ/6jf/kt/wDZV6jRR7OHYPr2J/nZ5d/wpn/qN/8Akt/9lXV6V4e1vRtMisLPWbXyYQQu+yJPJz13+9dNRVKEY7IyqYitVVpybRi/YvEf/QZs/wDwAP8A8co+xeI/+gzZ/wDgAf8A45W1RVGBi/YvEf8A0GbP/wAAD/8AHK5DUPhPNqeoz3tzrS+bO5d9trgZPp81ek0VMoqW5rTrVKTvTdjy7/hTP/Ub/wDJb/7Kj/hTP/Ub/wDJb/7KvUaKn2cOxv8AXsT/ADs8u/4Uz/1G/wDyW/8AsqP+FM/9Rv8A8lv/ALKvUaKPZw7B9exP87PLv+FM/wDUb/8AJb/7Kj/hTP8A1G//ACW/+yr1Gij2cOwfXsT/ADs8u/4Uz/1G/wDyW/8AsqP+FM/9Rv8A8lv/ALKuw1nXNTttXax0bT4Lo21qLy5M0xQlCzKETAOXOxuvHHvVG08Sa432DVLu0sRomozRxwrGz/aI1lOInbPynJK5A6bu+KPZw7B9exP87Od/4Uz/ANRv/wAlv/sqP+FM/wDUb/8AJb/7KvUaKPZw7B9exP8AOzy7/hTP/Ub/APJb/wCyo/4Uz/1G/wDyW/8Asq9Roo9nDsH17E/zs8u/4Uz/ANRv/wAlv/sqP+FM/wDUb/8AJb/7KvUaKPZw7B9exP8AOzzWy+EsthexXUGtr5kTbl3WuRn/AL6rsPsXiP8A6DNn/wCAB/8AjlbVFVGKjsYVK1Sq71HcxfsXiP8A6DNn/wCAB/8AjlH2LxH/ANBmz/8AAA//ABytqiqMjmdU0DXNX02axu9ZtfJmXa2yxIOP++65T/hTP/Ub/wDJb/7KvUaKlwjLdG9PEVaStCTR5d/wpn/qN/8Akt/9lR/wpn/qN/8Akt/9lXqNFT7OHY1+vYn+dnl3/Cmf+o3/AOS3/wBlR/wpn/qN/wDkt/8AZV6jRR7OHYPr2J/nZ5d/wpn/AKjf/kt/9lR/wpn/AKjf/kt/9lXqNFHs4dg+vYn+dnl3/Cmf+o3/AOS3/wBlR/wpn/qN/wDkt/8AZVsR+NfEN0L2GHwtHFc2inzYpdSUPHxw20p8y+hGQexrZ8Hatq+saHb3Os6elt5ltDJHOs6v9o3LkttAGzscc9faj2cOwfXsT/Ozjv8AhTP/AFG//Jb/AOyo/wCFM/8AUb/8lv8A7KvUaKPZw7B9exP87PLv+FM/9Rv/AMlv/sqP+FM/9Rv/AMlv/sq9Roo9nDsH17E/zs8u/wCFM/8AUb/8lv8A7Kj/AIUz/wBRv/yW/wDsq9Roo9nDsH17E/zs4jw94E1Hwy0x03WoSZsbvNs93T/gYrd+xeI/+gzZ/wDgAf8A45W1RVpJKyOadSVSXNN3Zi/YvEf/AEGbP/wAP/xyj7F4j/6DNn/4AH/45W1RTIMX7F4j/wCgzZ/+AB/+OUfYvEf/AEGbP/wAP/xytqigDF+xeI/+gzZ/+AB/+OUfYvEf/QZs/wDwAP8A8craooAxfsXiP/oM2f8A4AH/AOOUfYvEf/QZs/8AwAP/AMcraooAxfsXiP8A6DNn/wCAB/8AjlH2LxH/ANBmz/8AAA//ABytqs7XdV/sXSWvfJ8/bLFHs37f9ZIqZzg9N2fwoArfYvEf/QZs/wDwAP8A8co+xeI/+gzZ/wDgAf8A45UOranrL66NK8PR2QljthczzXu8qAzMqKAuDklGyewHQ1oaDqh1nRYL14fIkYuksWc7HRyjDPcblPNAFX7F4j/6DNn/AOAB/wDjlH2LxH/0GbP/AMAD/wDHK2qKAMX7F4j/AOgzZ/8AgAf/AI5R9i8R/wDQZs//AAAP/wAcraooAxfsXiP/AKDNn/4AH/45R9i8R/8AQZs//AA//HK2qKAMX7F4j/6DNn/4AH/45R9i8R/9Bmz/APAA/wDxytqigDF+xeI/+gzZ/wDgAf8A45R9i8R/9Bmz/wDAA/8AxytqigDF+xeI/wDoM2f/AIAH/wCOUfYvEf8A0GbP/wAAD/8AHK2qKAMX7F4j/wCgzZ/+AB/+OUfYvEf/AEGbP/wAP/xytqigDDfT/ETxsjazZ4YYP+gH/wCOVxkvwdaWV5G1v5nYscW3c/8AAq9PoqZRjLdG1OvUpX9nKx5d/wAKZ/6jf/kt/wDZUf8ACmf+o3/5Lf8A2Veo0VPs4djb69if52eXf8KZ/wCo3/5Lf/ZUf8KZ/wCo3/5Lf/ZV6jRR7OHYPr2J/nZ5d/wpn/qN/wDkt/8AZUf8KZ/6jf8A5Lf/AGVeo0Uezh2D69if52eXf8KZ/wCo3/5Lf/ZUf8KZ/wCo3/5Lf/ZV3mv6nc6da20enQxy3t7cC2txMxEasVZizY5wFRjgcnpVK11HXbDW7Oy18afPDflo4JrJHjKSKhfDKzHIKq3IPUdOaPZw7B9exP8AOzkP+FM/9Rv/AMlv/sqP+FM/9Rv/AMlv/sq9Roo9nDsH17E/zs8u/wCFM/8AUb/8lv8A7Kj/AIUz/wBRv/yW/wDsq9Roo9nDsH17E/zs8u/4Uz/1G/8AyW/+yo/4Uz/1G/8AyW/+yr1Gij2cOwfXsT/Ozz3RvhjdaFqSX1jrSGZAQPMtMjn/AIHXUfYvEf8A0GbP/wAAD/8AHK2qKtRUdEc9SrOq+abuzF+xeI/+gzZ/+AB/+OUfYvEf/QZs/wDwAP8A8craopmZi/YvEf8A0GbP/wAAD/8AHKPsXiP/AKDNn/4AH/45W1RQBi/YvEf/AEGbP/wAP/xyj7F4j/6DNn/4AH/45W1RQBi/YvEf/QZs/wDwAP8A8co+xeI/+gzZ/wDgAf8A45W1RQBi/YvEf/QZs/8AwAP/AMco+xeI/wDoM2f/AIAH/wCOVtUUAYv2LxH/ANBmz/8AAA//AByj7F4j/wCgzZ/+AB/+OVtUUAYv2LxH/wBBmz/8AD/8co+xeI/+gzZ/+AB/+OVtUUAYv2LxH/0GbP8A8AD/APHKPsXiP/oM2f8A4AH/AOOVtUUAYv2LxH/0GbP/AMAD/wDHKPsXiP8A6DNn/wCAB/8AjlbVFAGL9i8R/wDQZs//AAAP/wAco+xeI/8AoM2f/gAf/jlbVVNSk1CK2U6TbW9zNvAZLicxKFwechW5zjjFAFD7F4j/AOgzZ/8AgAf/AI5R9i8R/wDQZs//AAAP/wAcqFr/AMUqcNpOkA+h1N//AIzWxYSXU1jG9/FDDcHO9IJTIg5OMMQM8Y7UAZv2LxH/ANBmz/8AAA//AByj7F4j/wCgzZ/+AB/+OVtUUAYv2LxH/wBBmz/8AD/8co+xeI/+gzZ/+AB/+OVtUUAYv2LxH/0GbP8A8AD/APHKPsXiP/oM2f8A4AH/AOOVtUUAYv2LxH/0GbP/AMAD/wDHKPsXiP8A6DNn/wCAB/8AjlbVFAGL9i8R/wDQZs//AAAP/wAco+xeI/8AoM2f/gAf/jlbVFAGL9i8R/8AQZs//AA//HKPsXiP/oM2f/gAf/jlbVFAGL9i8R/9Bmz/APAA/wDxyj7F4j/6DNn/AOAB/wDjlbVFAGL9i8R/9Bmz/wDAA/8Axyj7F4j/AOgzZ/8AgAf/AI5W1RQBi/YvEf8A0GbP/wAAD/8AHKPsXiP/AKDNn/4AH/45W1RQBi/YvEf/AEGbP/wAP/xymS6d4hmheN9Zs9rqVOLE9/8AtpW7RQB5d/wpn/qN/wDkt/8AZUf8KZ/6jf8A5Lf/AGVeo0Vn7OHY7Pr2J/nZ5d/wpn/qN/8Akt/9lR/wpn/qN/8Akt/9lXqNFHs4dg+vYn+dnl3/AApn/qN/+S3/ANlR/wAKZ/6jf/kt/wDZV6jRR7OHYPr2J/nZ5d/wpn/qN/8Akt/9lR/wpn/qN/8Akt/9lXqNYBvfFSjLaRpIHqdTf/4zR7OHYPr2J/nZxv8Awpn/AKjf/kt/9lR/wpn/AKjf/kt/9lXeaXd6xPdMuqWVhBEEJDW140zFsjjBjXjGec1q0ezh2D69if52eXf8KZ/6jf8A5Lf/AGVH/Cmf+o3/AOS3/wBlXqNFHs4dg+vYn+dnl3/Cmf8AqN/+S3/2VH/Cmf8AqN/+S3/2Veo0Uezh2D69if52eXf8KZ/6jf8A5Lf/AGVaOh/Da78P6gLyw1qMyhSv7y0yP/Q69AopqnBO6RMsXiJpxlN2MX7F4j/6DNn/AOAB/wDjlH2LxH/0GbP/AMAD/wDHK2qKs5TF+xeI/wDoM2f/AIAH/wCOUfYvEf8A0GbP/wAAD/8AHK2qKAMX7F4j/wCgzZ/+AB/+OUfYvEf/AEGbP/wAP/xytqigDF+xeI/+gzZ/+AB/+OUfYvEf/QZs/wDwAP8A8craooAxfsXiP/oM2f8A4AH/AOOUfYvEf/QZs/8AwAP/AMcraooAxfsXiP8A6DNn/wCAB/8AjlLZaRqCa2mo6nqENy0cDQokVv5eNzKST8x/u1s0UAFFFFABRRRQAUUUUAFFFFABRRRQAUUUUAFFFFABRRRQAUUUUAFFFFABRRRQAUUUUAFFFFABRRRQAUUUUAFFFFABRRRQAUUUUAFFFFABRRRQAVyh1d49X1GXwz4cudRkaYRXlwLhIY2kQbcLvbkj7pIHbGTiurrnTomtaddXT6BqlqtvczNP9lvrVpBG7nLlWV1OCSTg55NAFnSdfe+vm0/UdNuNMv1i87yZmV1dM4LK6kg4JAPQjI4rZrG0zRryLVn1TWNQW8u/JMESwweVFChIZgBliSSoySewrZoAKKKKACiiigAooooAKKKKACiiigAooooAKKKKACiiigCtqRtV0q7OpbfsYhcz7unl7Tuz7YzXM2usat/Zdvb2HhG+u9P8hY0kvLuFJJE24yyM2eR64z3xXUX1nFqGn3FlcgmG5iaKQA4yrAg/oaw4dN8V2kKW0GuafPCg2ia5sGMoHbO2QKx98CgBPBNrplrpd4ukR3durXjme1uz89tIFVfLHX5QoXHJ4I5rpKzdE0k6TazLNdPeXNzMZ7i4dQvmOQBkKOAAFUAegrSoAKKKKACiiigAooooAKKKKACiiigAooooAKKKKACiiigDm9YvIrPxMjafp11qWrPZFHt4XRI/J35BkZyAPmDAY55biqLXzSjS7DXvD93olql3CLVoZopYd6H93G23JUbgoHGMgcitjU9FvZdXTVNG1FLO68kQSrNB5scyAllBAZSCCzcg96rjRNZ1G5tX8Qanavb28yzi1sbVow7ocoWZnYkAgHAxyKAOiooooAKKKKACiiigAooooAKKKKACiiigAooooAKKKKACiiigDhdYvJvFNuk+j+G726jXcLbU47qK2f0JTcclD6MMEdjW54SvYjpcejm3ubS60mCKCWC5C7sbMKwKkqwO08g9jVe10PxBo1utlour2T2MZ2wx3tmzvCnZQyOu7HbI/GtDRtHn0+4u7zUL77dfXewSSiIRoqJnairk4A3N1JJJNAGtRRRQAUUUUAFFFFABRRRQAUUUUAFFFFABRRRQAUUUUAFZXicab/wjtydcjkksl2MyRMwdmDqUClSDu37cYPWtWqWsaZHrGlTWUsjw+ZtZZY/vRurBlYZ9GUH8KAOT0z+0tJ1Ca9tvCOrSJLGsbSXOrpNII1JIAR5Dg/MeM10Xhb7D/wAI1anS2ma3Yu2bgYk3l2LhhgYbeWB96qfYfF2zyf7c0zbtx9o/s1vMz67fN25/D8K1dI0yPR9LisoZHlEZZmkkPzOzMWZjjuWYn8aALtFFFABRRRQAUUUUAFFFFABRRRQAUUUUAFFFFABRRRQAUUUUAFFFFABRRRQBz2vz6bqGkyLfJqcQgu/LjltbWXzY5VGQ6bVJI6jdgqc4rP0M2E/iCCee817UbxVZbdtQsZIoocg7iMRIoJAxk89h1p3iO21SzuLT7J4mvrc6hfiBA0UDRwBgzYwY8nhdoyepHJqQQ6lo/irSIbnxBeX8F6ZYzbyxwr8yxs28lUB2jGMDHJXnsQDq6KKKACiiigAooooAKKKKACiiigAooooAKKKKACiiigAooooAKKKKACiiigAooooAKKKKACiiigDz/UPC8EKvqeqaCuozLrEs05WFZ5Z7Zw6pgckhQ6fL/sZxXSeDbaS08JWcMlo1mFMnlwOgRkjMjFAwH8W0rnvnOea5uKbSb3UtUOv+LbmzvIr6WMW6asbZI4w37sBQwH3cZPrnNdloy2i6RCNOvnv7b5tlw9yZy/zHPzknODkdeMY7UAXqKKKACiiigAooooAKKKKACiiigAooooAKKKKACiiigAooooAKKKKACiiigAooooAKKKKACsHXNDXWNe0lr2zjvdPgWfzYpsMiyELsYqfvYAcdDjdW9XJeIxqdhr0OsHWtL0/T4beWFXvLcnYXMR2n94NxPlkgjGMEYOc0AZ3gjShp+txJDocmntbab9lvrh7YRrPMrqFZG/i3AOxI65XPIGO+rlvDT/2xqzaw3iCx1XybdrZY7GHy1j3MGJbLscnYMdOM11NABRRRQAUUUUAFFFFABRRRQAUUUUAFFFFABRRRQAUUUUAFFFFABRRRQAUUUUAFFFFABRRRQAUUUUAFFFFABRRRQAUUUUAFFFFABRRRQAUUUUAFFFFABRRRQAUUUUAFFFFABRRRQAUUUUAFFFFABRRRQAUUUUAFcsbrxB4hvL0aLfWuk2NpcNbLM9t58s0iHDnBYKqg8DqTgniuprkzDrnh3Ub1NFtbPVbS8ma6S2kuvImidzl+SpDLnnsRkigCKbxFr2j3raNeWKavqM0fmWE1ohiSUA4Yygk+XtOCSCQdwAwa7Guc0m1v5fEj6lr8lpBeNamK1sLeXf5UW5S7MSAWJbYCQABgetdHQAUUUUAFFFFABRRRQAUUUUAFFFFABRRRQAUUUUAFFFFAFe/vItO025vbjPlW0LzPjrtUEn9BXOW0PjDU7eHUDq1hpolUSLYiyMwVTyFeQuCTjrgAeldHf2cWo6bc2VxnybmJ4ZMddrAg/oa5qzuvF2n28enJpum6qYB5QvlvjEMAYBePYSGxgkAmgCXRfE2palqi6ZNpJSe0kePU7lGxBGQpK+WTyxbKnH8IPNdRWL4ZsWsrO7+1XkN3fz3TTXrQH5ElKr8gHUAKEAzzjB71tUAFFFFABRRRQAUUUUAFFFFABRRRQAUUUUAFFFFABRRRQBgavqOqT65HomgtbwTfZ/tNxd3CGQRRliqhUBG5iQepAAU+tZ91qWveElhuNcuota0+SQRO1tZmK4jduEwoYhwThccHLDrV3W7LULTW4dc0ZrWSYwi1uLW7kMazJuLLtcA7WBJ6gghvaqkqa3rN1YP4ht7LRNPt7qOXyRd+dJcShv3a7toUDdg45JIAoA6HSbm8u9LiuNSs/sVxJuLW+8MUG47QSO+3GffNXKKKACiiigAooooAKKKKACiiigAooooAKKKKACiiigAooooA5Gyn8S+J7VdT07U7TSLCVibWM2f2iSSPOAzksAM4zgdARzTrTxLrK6x/YV1pi3OpRTIZrm3yluLZj/rTuOQ2Aw2ZOSpwcVHYx+IvDUP9kaZYWWsWcDYt2N75EsMZOQsilSDjoCOoHStLw9Z3MOo6jd6vc2smqXXlmW3tmJW3iXcI155OcuckDJJx0oA3qKKKACiiigAooooAKKKKACiiigAooooAKKKKACiiigArP17VRomiXF/5JnaMKscQbHmOzBVXPbLMBmtCs/XtKGt6HcWHnGBpArRygZ8t1YMrY74ZQcUAZAsPGu37Sdc0vztufsX2BvJ3enmb9+PfH4VL4c8TXXiKfK6TNa2sUTLPNMePtAYAxp/eAw2W6ZGKrx6l4yli8iLSNJeXbt+3rfsYd3r5ezd+GfxrW8N2UOneH7e1t7tb0Rl/MuFIIkkLsZDx0+ctx26UAalFFFABRRRQAUUUUAFFFFABRRRQAUUUUAFFFFABRRRQAUUUUAFFFFABRRRQBh+LJIm0mKxk0+HUZNQnW2iguG2xlsFtzHBIACMeBnIGK57wjDp+lf2VNHo9tDe6lcXNlLNHM8nlmEyfdMhLbT5XqO1b/i99OXRUXVFu3LzqtsLEE3HnclTHjowAJ9MZzxXP+E7W1tdagB0zxQ8g83yZ9WjTyrcuS7kbSACxzzgnnHSgDvqKKKACiiigAooooAKKKKACiiigAooooAKKKKACiiigAooooAKKKKACiiigAooooAKKKKACqGsXsun2sNxHJbRRC4iSdrjdgIzBcLt/iJIAzxzzV+sfxVpt1q3h2W00/wAo3BlhkQTOVU7JUcgkA44U9qAMK/0zWJNamjh0vwi7StJLELhH854w33mG3k/MuT6mun0a3uLXSIYb2Czt513bo7EEQr8xI25APTGffNYMkHit/EFvqn9maUDDay2/l/2hJzveNs58nt5fT3rpbF7uSzRtRhiguTnfHDKZFHJxhiqk8Y7CgCeiiigAooooAKKKKACiiigAooooAKKKKACiiigAooooAKKKKACiiigAooooAKKKKACiiigArnPEiSwatpWsJp82pW9j5yyw26h5EZwoWRVJ+YjaRgc4c10dcL4ek8SquqjSbbSpLb+1rza11cSI+fObPCoR+tAGno7zav4sfWk0q6022SyNsxvIxHJcOXVgdmc4UKeT/fOOldPWVpcniFrphrVvpkUGw7TaXEjtuyMZDIoxjPf0rVoAKKKKACiiigAooooAKKKKACiiigAooooAKKKKACiiigAooooAKKKKACiiigAooooAKKKKACiiigAooooAKKKKACiiigAooooAKKKKACiiigAooooAKKKKACiiigAooooAKKKKACiiigAooooAKKKKACiiigArynU5NISy16ea2uT4lW+uJLW4WxmaRWSQiELIEI27VXjOME5r1aigDlfCj+HjfT/2W95d6lJHvuL29tpllkUEDG90AA6YVcDjpxXVUUUAFFFFABRRRQAUUUUAFFFFABRRRQAUUUUAFFFFABRRRQBm+JJJ4fCurSWe/wC0JZTNFsB3bwhxjHfNedzP4atJNITQTqOmDBg1C4srCeOR4vLJ+Y+XkkuqDI5GTyOterUUAY/hc6KNI2eHIDBaRyFSrW8kRL4BJO8BmOCPmOc+vFbFFFABRRRQAUUUUAFFFFABRRRQAUUUUAFFFFABRRRQAUUUUAcP4kOinxt/xVFrJdWiacgtkazkuIw7SPvOFUgNhU561neFJtBae0bVZdSvL+KdobGO8tJ2jtk8wrFt+TapKhCWPI7kYr0migAooooAKKKKACiiigAooooAKKKKACiiigAooooAKKKKACiiigDyCGbRofDemT2631p4i86J7y9h0+bzhvf9+S5jIbCs/HPQYrvvCR0EQXKeH0nLhla5nuYJUlmY5wzPIoLnr649s10NFABRRRQAUUUUAFFFFABRRRQAUUUUAFFFFABRRRQAUUUUAFc/44yfB92v73y5JIY5vJVmbymmQSYC8n5C3SugooA8tuJfC/8AbyRaf/aOn6NPasL2GysLiFJ3Vl2KwEe7BVpMlcZwATXoeiPp76NbnRYRDY4IijEDQ7QCQfkYAjnPUc9e9X6KACiiigAooooAKKKKACiiigAooooAKKKKACiiigAooooAKKKKACiiigAooooA5zxn9pNvpKad5aXz6lGLeaU/JE2xySw7gqGXHH3hyKs2Efidb6M6pdaTJa8+YttbSo54OMFpCOuO3SovGKafNoscGp291dia4RILW1laN5peSq5DDgYLcnA257CsnQESz161h1PS9X0y5lD/AGX7Rqz3UMpC/MpG8gNtyQCOxI5FAHa0UUUAFFFFABRRRQAUUUUAFFFFABRRRQAUUUUAFFFFABRRRQAUUUUAFFFFABRRRQAUUUUAFFFFABRRRQAUUUUAFFFFABRRRQAUUUUAFFFFABRRRQAUUUUAFFFFABRRRQAUUUUAFFFFABRRRQAUUUUAFRwwQ26sLeJIg7l2CKF3MTkscdyeSakooAKKKKACiiigAooooAKKKKACiiigAooooAKKKKACiiigAooooAKKKKACiiigAooooAKKKKACiiigAooooAKKKKACiiigAooooAKKKKACiiigAooooAKKKKACiiigAooooAKKKKACiiigAooooAKKKKACiiigAooooAKKKKACiiigAooooAKKKKACiiigAooooAKKKKACiiigAooooAKKKKACiiigAooooAKKKKACiiigAooooAKKKKACiiigAooooAKKKKACiiigAooooAKKKKACiiigAooooAKKKKACiiigAooooAKKKKACiiigAooooAKKKKACiiigAooooAKKKKACiiigAooooAKKKKACiiigAooooAKKKKACiiigAooooAKKKKACiiigAooooAKKKKACiiigAooooAKKKKACiiigAooooAKKKKAMLxTGssOmql19kvftymylMXmJ5ux+HGR8pTeOo61FY6Trd1q1rfeJLuxIsi7W9vYROql2UrvZnJJwrMABjrWd4z1KxvRLpMsOsutmyXN1caWif6PwSuWbnPRvlGRgGtLRvDq209tqEPiLWb+HZvSO5uleORWXgkbQT1yOeuKAOhooooAKKKKACiiigAooooAKKKKACiiigAooooAKKKKACiiigAooooAKKKKACiiigAooooAKKKKACiiigAooooAKKKKACiiigAooooAKKKKACiiigAooooAKKKKACiiigAooooAKKKKACiiigAooooAKKKKACiiigAooooAKKKKACiiigAooooAKKKKACiiigAooooAKKKKACiiigAooooAKKKKACiiigAooooAKKKKACiiigAooooAKKKKACiiigAooooAKKKKACiiigAooooAKKKKACiiigAooooAKKKKACiiigAooooAKKKKACiiigAooooAKKKKACiiigAooooAKKKKACiiigAooooAKKKKACiiigAooooAKKKKACiiigAooooAKKKKACiiigAooooAKKKKACiiigAooooAKKKKACiiigAooooAKKKKACiiigAooooAKKKKACiiigAooooAKKKKACiiigAooooAKKKKACiiigAooooAKKKKACiiigAooooAKKKKACiiigAooooAKKKKACiiigAooooAKKKKACiiigAooooAKKKKACiiigAooooAKKKKACiiigDlLvSPE0OsatNo0ukfZdRdHK3iSFxiJIyPlIGPlz+NSeG9P8U6XFYWGoTaRJp9pAsJMCS+cwVNqnJOM5Azx61PqOt6pNq82leG7G3uJ7ZFa5ubyUxwwlhlUwoLMxHPGABjnmqkni670GRYfGNnDbtKhNvPYO0yXDj/lmFKhg/IwOQeeeKAOroqGzne6sLe4kge3eWJXaGT70ZIyVPuOlTUAFFFFABRRRQAUUUUAFFFFABRRRQAUUUUAFFFFABRRRQAUUUUAFFFFABRRRQAUUUUAFFFFABRRRQAUUUUAFFFFABRRRQAUUUUAFFFFABRRRQAUUUUAFFFFABRRRQAUUUUAFFFFABRRRQAUUUUAFFFFABRRRQAUUUUAFFFFABRRRQAUUUUAFFFFABRRRQAUUUUAFFFFABRRRQAUUUUAFFFFABRRRQAUUUUAFFFFABRRRQAUUUUAFFFFABRRRQAUUUUAFFFFABRRRQAUUUUAFFFFABRRRQAUUUUAFFFFABRRRQAUUUUAFFFFABRRRQAUUUUAFFFFABRRRQAUUUUAFFFFABRRRQAUUUUAFFFFABRRRQAUUUUAFFFFABRRRQAUUUUAFFFFABRRRQAUUUUAFFFFABRRRQAUUUUAFFFFABRRRQAUUUUAFFFFABRRRQAUUUUAFFFFABRRRQAUUUUAFFFFABRRRQAUUUUAFFFFABRRRQAUUUUAFFFFABRRRQAUUUUAFFFFABRRRQAUUUUAFFFFABRRRQAUUUUAFFFFABRRRQAUUUUAFFFFABRRRQAUUUUAFFFFABRRRQBy1ydR8O+ItR1CDS59UsNREckn2QqZoZEQJjYxG5SAp4OQQeKW2Oo+IvEGn31xpU+mafp++VBeFfOnlZCg+RSdoAZjyckkcVkatcaZd+I9cXWfEbabPZGOKwjGo/Z/LzCrmQJuAYlnI5B6Yqfwneafrdxp2qar4jttQ1mSESQ2MVwqLbFozuAiDZLgFgS2T16YoA7iiiigAooooAKKKKACiiigAooooAKKKKACiiigAooooAKKKKACiiigAooooAKKKKACiiigAooooAKKKKACiiigAooooAKKKKACiiigAooooAKKKKACiiigAooooAKKKKACiiigAooooAKKKKACiiigAooooAKKKKACiiigAooooAKKKKACiiigAooooAKKKKACiiigAooooAKKKKACiiigAooooAKKKKACiiigAooooAKKKKACiiigAooooAKKKKACiiigAooooAKKKKACiiigAooooAKKKKACiiigAooooAKKKKACiiigAooooAKKKKACiiigAooooAKKKKACiiigAooooAKKKKACiiigAooooAKKKKACiiigAooooAKKKKACiiigAooooAKKKKACiiigAooooAKKKKACiiigAooooAKKKKACiiigAooooAKKKKACiiigAooooAKKKKACiiigAooooAKKKKACiiigAooooAKKKKACiiigAooooAKKKKACiiigAooooAKKKKACiiigAooooAKKKKACiiigAooooAKKKKACiiigAooooAKKKKACiiigAooooAKKKKAIJLG0mkMk1rDI56s0YJP40R2NpDIJIbWGNx0ZYwCPxqeigAooooAKKKKACiiigAooooAKKKKACiiigAooooAKKKKACiiigAooooAKKKKACiiigAooooAKKKKACiiigAooooAKKKKACiiigAooooAKKKKACiiigAooooAKKKKACiiigAooooAKKKKACiiigAooooAKKKKACiiigAooooAKKKKACiiigAooooAKKKKACiiigAooooAKKKKACiiigAooooAKKKKACiiigAooooAKKKKACiiigAooooAKKKKACiiigAooooAKKKKACiiigAooooAKKKKACiiigAooooAKKKKACiiigAooooAKKKKACiiigAooooAKKKKACiiigAooooAKKKKACiiigAooooAKKKKACiiigAooooAKKKKACiiigAooooAKKKKACiiigAooooAKKKKACiiigAooooAKKKKACiiigAooooAKKKKACiiigAooooAKKKKACiiigAooooAKKKKACiiigAooooAKKKKACiiigAooooAKKKKACiiigAooooAKKKKACiiigAooooAKKKKACiiigAooooAKKKKACiiigAooooAKKKKACiiigAooooAKKKKACiiigAooooAKKKKACiiigAooooAKKKKACiiigAooooAKKKKACiiigAooooAKKKKACiiigAooooAKKKKACiiigAooooAKKKKACiiigAooooAKKKKACiiigAooooAKKKKACiiigAooooAKKKKACiiigAooooAKKKKACiiigAooooAKKKKACiiigAooooAKKKKACiiigAooooAKKKKACiiigAooooAKKKKACiiigD//2Q==)"
      ],
      "metadata": {
        "id": "B3yGVRcOIVGQ"
      }
    },
    {
      "cell_type": "code",
      "source": [],
      "metadata": {
        "id": "yw8X8BLdIXuP"
      },
      "execution_count": null,
      "outputs": []
    }
  ]
}