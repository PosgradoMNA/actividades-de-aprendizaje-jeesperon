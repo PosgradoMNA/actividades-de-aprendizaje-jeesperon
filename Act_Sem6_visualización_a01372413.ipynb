{
  "nbformat": 4,
  "nbformat_minor": 0,
  "metadata": {
    "colab": {
      "provenance": [],
      "authorship_tag": "ABX9TyNdnyQ5d/b9QF2H+FPhodc6",
      "include_colab_link": true
    },
    "kernelspec": {
      "name": "python3",
      "display_name": "Python 3"
    },
    "language_info": {
      "name": "python"
    }
  },
  "cells": [
    {
      "cell_type": "markdown",
      "metadata": {
        "id": "view-in-github",
        "colab_type": "text"
      },
      "source": [
        "<a href=\"https://colab.research.google.com/github/PosgradoMNA/actividades-de-aprendizaje-jeesperon/blob/main/Act_Sem6_visualizaci%C3%B3n_a01372413.ipynb\" target=\"_parent\"><img src=\"https://colab.research.google.com/assets/colab-badge.svg\" alt=\"Open In Colab\"/></a>"
      ]
    },
    {
      "cell_type": "markdown",
      "source": [
        "# Actividad Semanal -- 6, visualización\n",
        "\n",
        "Ciencia y analítica de datos (Gpo 10)\n",
        "\n",
        "Profesora: Maria de la Paz Rico Fernandez\n",
        "\n",
        "Alumno: Jose Eduardo Esperon Carreon\n",
        "\n",
        "Matricula: A01372413"
      ],
      "metadata": {
        "id": "8M6WkoQaAmj1"
      }
    },
    {
      "cell_type": "code",
      "source": [
        "import pandas as pd\n",
        "import numpy as np\n",
        "\n",
        "import seaborn as sns\n",
        "\n",
        "import matplotlib.pyplot as plt\n",
        "from sklearn.decomposition import PCA\n",
        "import matplotlib as mpl\n",
        "import matplotlib.pyplot as plt\n",
        "from sklearn import preprocessing"
      ],
      "metadata": {
        "id": "Jj1OTLqTA8bR"
      },
      "execution_count": 1,
      "outputs": []
    },
    {
      "cell_type": "markdown",
      "source": [
        "## 1. Descarga los datos y carga el dataset en tu libreta"
      ],
      "metadata": {
        "id": "o-QSsy9tAzc9"
      }
    },
    {
      "cell_type": "code",
      "execution_count": null,
      "metadata": {
        "id": "7XY35SpsAT-y"
      },
      "outputs": [],
      "source": []
    }
  ]
}